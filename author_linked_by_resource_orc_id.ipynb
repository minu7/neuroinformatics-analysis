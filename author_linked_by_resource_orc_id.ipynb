{
 "metadata": {
  "language_info": {
   "codemirror_mode": {
    "name": "ipython",
    "version": 3
   },
   "file_extension": ".py",
   "mimetype": "text/x-python",
   "name": "python",
   "nbconvert_exporter": "python",
   "pygments_lexer": "ipython3",
   "version": "3.8.7-final"
  },
  "orig_nbformat": 2,
  "kernelspec": {
   "name": "python3",
   "display_name": "Python 3.8.7 64-bit ('3.8.7')",
   "metadata": {
    "interpreter": {
     "hash": "1d6699aa86f2602ea533c86e4d7a2e97a146b603848a19e03a1edb8b897b9b3d"
    }
   }
  }
 },
 "nbformat": 4,
 "nbformat_minor": 2,
 "cells": [
  {
   "cell_type": "code",
   "execution_count": 1,
   "metadata": {},
   "outputs": [
    {
     "output_type": "stream",
     "name": "stderr",
     "text": [
      "/Users/filippo/.pyenv/versions/3.8.7/lib/python3.8/site-packages/pandas/compat/__init__.py:97: UserWarning: Could not import the lzma module. Your installed Python is incomplete. Attempting to use lzma compression will result in a RuntimeError.\n  warnings.warn(msg)\n"
     ]
    }
   ],
   "source": [
    "from neo4j import GraphDatabase\n",
    "import pandas as pd\n",
    "\n",
    "# Init the connection to the database\n",
    "uri = \"bolt://localhost:7687\"\n",
    "driver = GraphDatabase.driver(uri, auth=(\"neo4j\", \"neuroinformatics_orc_id\"), encrypted=False)\n",
    "pd.set_option('display.max_columns', None)\n",
    "\n",
    "def cyperQueryToDataFrame(query):\n",
    "  with driver.session() as session:\n",
    "    result = session.run(query)\n",
    "    return pd.DataFrame(result.data(), columns=result.keys())"
   ]
  },
  {
   "source": [
    "## WCC "
   ],
   "cell_type": "markdown",
   "metadata": {}
  },
  {
   "cell_type": "code",
   "execution_count": 2,
   "metadata": {},
   "outputs": [],
   "source": [
    "wcc = cyperQueryToDataFrame(\"MATCH (n:Author) RETURN id(n), n.__wcc\")"
   ]
  },
  {
   "cell_type": "code",
   "execution_count": 3,
   "metadata": {},
   "outputs": [
    {
     "output_type": "execute_result",
     "data": {
      "text/plain": [
       "       id(n)  n.__wcc\n",
       "0       2730        0\n",
       "1       2731        0\n",
       "2       2732        2\n",
       "3       2733        3\n",
       "4       2734        4\n",
       "...      ...      ...\n",
       "13030  26680    13030\n",
       "13031  26681    13031\n",
       "13032  26682    13032\n",
       "13033  26683    13033\n",
       "13034  26684    13034\n",
       "\n",
       "[13035 rows x 2 columns]"
      ],
      "text/html": "<div>\n<style scoped>\n    .dataframe tbody tr th:only-of-type {\n        vertical-align: middle;\n    }\n\n    .dataframe tbody tr th {\n        vertical-align: top;\n    }\n\n    .dataframe thead th {\n        text-align: right;\n    }\n</style>\n<table border=\"1\" class=\"dataframe\">\n  <thead>\n    <tr style=\"text-align: right;\">\n      <th></th>\n      <th>id(n)</th>\n      <th>n.__wcc</th>\n    </tr>\n  </thead>\n  <tbody>\n    <tr>\n      <th>0</th>\n      <td>2730</td>\n      <td>0</td>\n    </tr>\n    <tr>\n      <th>1</th>\n      <td>2731</td>\n      <td>0</td>\n    </tr>\n    <tr>\n      <th>2</th>\n      <td>2732</td>\n      <td>2</td>\n    </tr>\n    <tr>\n      <th>3</th>\n      <td>2733</td>\n      <td>3</td>\n    </tr>\n    <tr>\n      <th>4</th>\n      <td>2734</td>\n      <td>4</td>\n    </tr>\n    <tr>\n      <th>...</th>\n      <td>...</td>\n      <td>...</td>\n    </tr>\n    <tr>\n      <th>13030</th>\n      <td>26680</td>\n      <td>13030</td>\n    </tr>\n    <tr>\n      <th>13031</th>\n      <td>26681</td>\n      <td>13031</td>\n    </tr>\n    <tr>\n      <th>13032</th>\n      <td>26682</td>\n      <td>13032</td>\n    </tr>\n    <tr>\n      <th>13033</th>\n      <td>26683</td>\n      <td>13033</td>\n    </tr>\n    <tr>\n      <th>13034</th>\n      <td>26684</td>\n      <td>13034</td>\n    </tr>\n  </tbody>\n</table>\n<p>13035 rows × 2 columns</p>\n</div>"
     },
     "metadata": {},
     "execution_count": 3
    }
   ],
   "source": [
    "wcc"
   ]
  },
  {
   "cell_type": "code",
   "execution_count": 4,
   "metadata": {},
   "outputs": [
    {
     "output_type": "execute_result",
     "data": {
      "text/plain": [
       "        id(n)  n.__wcc\n",
       "count   13035    13035\n",
       "unique  13035     6253\n",
       "top      2730        3\n",
       "freq        1     4749"
      ],
      "text/html": "<div>\n<style scoped>\n    .dataframe tbody tr th:only-of-type {\n        vertical-align: middle;\n    }\n\n    .dataframe tbody tr th {\n        vertical-align: top;\n    }\n\n    .dataframe thead th {\n        text-align: right;\n    }\n</style>\n<table border=\"1\" class=\"dataframe\">\n  <thead>\n    <tr style=\"text-align: right;\">\n      <th></th>\n      <th>id(n)</th>\n      <th>n.__wcc</th>\n    </tr>\n  </thead>\n  <tbody>\n    <tr>\n      <th>count</th>\n      <td>13035</td>\n      <td>13035</td>\n    </tr>\n    <tr>\n      <th>unique</th>\n      <td>13035</td>\n      <td>6253</td>\n    </tr>\n    <tr>\n      <th>top</th>\n      <td>2730</td>\n      <td>3</td>\n    </tr>\n    <tr>\n      <th>freq</th>\n      <td>1</td>\n      <td>4749</td>\n    </tr>\n  </tbody>\n</table>\n</div>"
     },
     "metadata": {},
     "execution_count": 4
    }
   ],
   "source": [
    "wcc.astype(object).describe()"
   ]
  },
  {
   "cell_type": "code",
   "execution_count": 5,
   "metadata": {},
   "outputs": [],
   "source": [
    "wcc_grouped = wcc.groupby(['n.__wcc']).count()"
   ]
  },
  {
   "cell_type": "code",
   "execution_count": 6,
   "metadata": {},
   "outputs": [
    {
     "output_type": "execute_result",
     "data": {
      "text/plain": [
       "         id(n)\n",
       "n.__wcc       \n",
       "0           48\n",
       "2            1\n",
       "3         4749\n",
       "4            1\n",
       "10           2\n",
       "...        ...\n",
       "13030        1\n",
       "13031        1\n",
       "13032        1\n",
       "13033        1\n",
       "13034        1\n",
       "\n",
       "[6253 rows x 1 columns]"
      ],
      "text/html": "<div>\n<style scoped>\n    .dataframe tbody tr th:only-of-type {\n        vertical-align: middle;\n    }\n\n    .dataframe tbody tr th {\n        vertical-align: top;\n    }\n\n    .dataframe thead th {\n        text-align: right;\n    }\n</style>\n<table border=\"1\" class=\"dataframe\">\n  <thead>\n    <tr style=\"text-align: right;\">\n      <th></th>\n      <th>id(n)</th>\n    </tr>\n    <tr>\n      <th>n.__wcc</th>\n      <th></th>\n    </tr>\n  </thead>\n  <tbody>\n    <tr>\n      <th>0</th>\n      <td>48</td>\n    </tr>\n    <tr>\n      <th>2</th>\n      <td>1</td>\n    </tr>\n    <tr>\n      <th>3</th>\n      <td>4749</td>\n    </tr>\n    <tr>\n      <th>4</th>\n      <td>1</td>\n    </tr>\n    <tr>\n      <th>10</th>\n      <td>2</td>\n    </tr>\n    <tr>\n      <th>...</th>\n      <td>...</td>\n    </tr>\n    <tr>\n      <th>13030</th>\n      <td>1</td>\n    </tr>\n    <tr>\n      <th>13031</th>\n      <td>1</td>\n    </tr>\n    <tr>\n      <th>13032</th>\n      <td>1</td>\n    </tr>\n    <tr>\n      <th>13033</th>\n      <td>1</td>\n    </tr>\n    <tr>\n      <th>13034</th>\n      <td>1</td>\n    </tr>\n  </tbody>\n</table>\n<p>6253 rows × 1 columns</p>\n</div>"
     },
     "metadata": {},
     "execution_count": 6
    }
   ],
   "source": [
    "wcc_grouped"
   ]
  },
  {
   "cell_type": "code",
   "execution_count": 7,
   "metadata": {},
   "outputs": [
    {
     "output_type": "execute_result",
     "data": {
      "text/plain": [
       "             id(n)\n",
       "count  6253.000000\n",
       "mean      2.084599\n",
       "std      60.050270\n",
       "min       1.000000\n",
       "25%       1.000000\n",
       "50%       1.000000\n",
       "75%       1.000000\n",
       "max    4749.000000"
      ],
      "text/html": "<div>\n<style scoped>\n    .dataframe tbody tr th:only-of-type {\n        vertical-align: middle;\n    }\n\n    .dataframe tbody tr th {\n        vertical-align: top;\n    }\n\n    .dataframe thead th {\n        text-align: right;\n    }\n</style>\n<table border=\"1\" class=\"dataframe\">\n  <thead>\n    <tr style=\"text-align: right;\">\n      <th></th>\n      <th>id(n)</th>\n    </tr>\n  </thead>\n  <tbody>\n    <tr>\n      <th>count</th>\n      <td>6253.000000</td>\n    </tr>\n    <tr>\n      <th>mean</th>\n      <td>2.084599</td>\n    </tr>\n    <tr>\n      <th>std</th>\n      <td>60.050270</td>\n    </tr>\n    <tr>\n      <th>min</th>\n      <td>1.000000</td>\n    </tr>\n    <tr>\n      <th>25%</th>\n      <td>1.000000</td>\n    </tr>\n    <tr>\n      <th>50%</th>\n      <td>1.000000</td>\n    </tr>\n    <tr>\n      <th>75%</th>\n      <td>1.000000</td>\n    </tr>\n    <tr>\n      <th>max</th>\n      <td>4749.000000</td>\n    </tr>\n  </tbody>\n</table>\n</div>"
     },
     "metadata": {},
     "execution_count": 7
    }
   ],
   "source": [
    "wcc_grouped.describe()"
   ]
  },
  {
   "source": [
    "## Degree"
   ],
   "cell_type": "markdown",
   "metadata": {}
  },
  {
   "cell_type": "code",
   "execution_count": 8,
   "metadata": {},
   "outputs": [],
   "source": [
    "degree_df = cyperQueryToDataFrame(\"MATCH (n:Author) RETURN n.id, n.__wcc as wcc, n.__degree as degree\")"
   ]
  },
  {
   "cell_type": "code",
   "execution_count": 9,
   "metadata": {},
   "outputs": [
    {
     "output_type": "execute_result",
     "data": {
      "text/plain": [
       "                wcc        degree\n",
       "count  13035.000000  13035.000000\n",
       "mean    4263.024933      3.747142\n",
       "std     4408.435855     12.666121\n",
       "min        0.000000      0.000000\n",
       "25%        3.000000      0.000000\n",
       "50%     2948.000000      1.000000\n",
       "75%     8232.000000      3.000000\n",
       "max    13034.000000    254.000000"
      ],
      "text/html": "<div>\n<style scoped>\n    .dataframe tbody tr th:only-of-type {\n        vertical-align: middle;\n    }\n\n    .dataframe tbody tr th {\n        vertical-align: top;\n    }\n\n    .dataframe thead th {\n        text-align: right;\n    }\n</style>\n<table border=\"1\" class=\"dataframe\">\n  <thead>\n    <tr style=\"text-align: right;\">\n      <th></th>\n      <th>wcc</th>\n      <th>degree</th>\n    </tr>\n  </thead>\n  <tbody>\n    <tr>\n      <th>count</th>\n      <td>13035.000000</td>\n      <td>13035.000000</td>\n    </tr>\n    <tr>\n      <th>mean</th>\n      <td>4263.024933</td>\n      <td>3.747142</td>\n    </tr>\n    <tr>\n      <th>std</th>\n      <td>4408.435855</td>\n      <td>12.666121</td>\n    </tr>\n    <tr>\n      <th>min</th>\n      <td>0.000000</td>\n      <td>0.000000</td>\n    </tr>\n    <tr>\n      <th>25%</th>\n      <td>3.000000</td>\n      <td>0.000000</td>\n    </tr>\n    <tr>\n      <th>50%</th>\n      <td>2948.000000</td>\n      <td>1.000000</td>\n    </tr>\n    <tr>\n      <th>75%</th>\n      <td>8232.000000</td>\n      <td>3.000000</td>\n    </tr>\n    <tr>\n      <th>max</th>\n      <td>13034.000000</td>\n      <td>254.000000</td>\n    </tr>\n  </tbody>\n</table>\n</div>"
     },
     "metadata": {},
     "execution_count": 9
    }
   ],
   "source": [
    "degree_df.describe()"
   ]
  },
  {
   "cell_type": "code",
   "execution_count": 10,
   "metadata": {},
   "outputs": [
    {
     "output_type": "execute_result",
     "data": {
      "text/plain": [
       "                       n.id    wcc   degree\n",
       "count                 13035  13035  13035.0\n",
       "unique                13035   6253    126.0\n",
       "top     0000-0002-4132-3055      3      0.0\n",
       "freq                      1   4749   5091.0"
      ],
      "text/html": "<div>\n<style scoped>\n    .dataframe tbody tr th:only-of-type {\n        vertical-align: middle;\n    }\n\n    .dataframe tbody tr th {\n        vertical-align: top;\n    }\n\n    .dataframe thead th {\n        text-align: right;\n    }\n</style>\n<table border=\"1\" class=\"dataframe\">\n  <thead>\n    <tr style=\"text-align: right;\">\n      <th></th>\n      <th>n.id</th>\n      <th>wcc</th>\n      <th>degree</th>\n    </tr>\n  </thead>\n  <tbody>\n    <tr>\n      <th>count</th>\n      <td>13035</td>\n      <td>13035</td>\n      <td>13035.0</td>\n    </tr>\n    <tr>\n      <th>unique</th>\n      <td>13035</td>\n      <td>6253</td>\n      <td>126.0</td>\n    </tr>\n    <tr>\n      <th>top</th>\n      <td>0000-0002-4132-3055</td>\n      <td>3</td>\n      <td>0.0</td>\n    </tr>\n    <tr>\n      <th>freq</th>\n      <td>1</td>\n      <td>4749</td>\n      <td>5091.0</td>\n    </tr>\n  </tbody>\n</table>\n</div>"
     },
     "metadata": {},
     "execution_count": 10
    }
   ],
   "source": [
    "degree_df.astype(object).describe()"
   ]
  },
  {
   "cell_type": "code",
   "execution_count": 11,
   "metadata": {},
   "outputs": [
    {
     "output_type": "execute_result",
     "data": {
      "text/plain": [
       "                      n.id    wcc  degree\n",
       "726    0000-0002-0198-4588      3   254.0\n",
       "1005   0000-0002-1733-263x      3   233.0\n",
       "2787   0000-0003-0308-5583      3   210.0\n",
       "200    0000-0002-9595-3220      3   194.0\n",
       "556    0000-0001-7133-4970      3   188.0\n",
       "...                    ...    ...     ...\n",
       "8977   0000-0002-4961-7832   8977     0.0\n",
       "8976   0000-0002-6873-7768   8976     0.0\n",
       "8975   0000-0003-2038-7954   8975     0.0\n",
       "8973   0000-0003-3757-0376   8973     0.0\n",
       "13034  0000-0002-4951-9239  13034     0.0\n",
       "\n",
       "[13035 rows x 3 columns]"
      ],
      "text/html": "<div>\n<style scoped>\n    .dataframe tbody tr th:only-of-type {\n        vertical-align: middle;\n    }\n\n    .dataframe tbody tr th {\n        vertical-align: top;\n    }\n\n    .dataframe thead th {\n        text-align: right;\n    }\n</style>\n<table border=\"1\" class=\"dataframe\">\n  <thead>\n    <tr style=\"text-align: right;\">\n      <th></th>\n      <th>n.id</th>\n      <th>wcc</th>\n      <th>degree</th>\n    </tr>\n  </thead>\n  <tbody>\n    <tr>\n      <th>726</th>\n      <td>0000-0002-0198-4588</td>\n      <td>3</td>\n      <td>254.0</td>\n    </tr>\n    <tr>\n      <th>1005</th>\n      <td>0000-0002-1733-263x</td>\n      <td>3</td>\n      <td>233.0</td>\n    </tr>\n    <tr>\n      <th>2787</th>\n      <td>0000-0003-0308-5583</td>\n      <td>3</td>\n      <td>210.0</td>\n    </tr>\n    <tr>\n      <th>200</th>\n      <td>0000-0002-9595-3220</td>\n      <td>3</td>\n      <td>194.0</td>\n    </tr>\n    <tr>\n      <th>556</th>\n      <td>0000-0001-7133-4970</td>\n      <td>3</td>\n      <td>188.0</td>\n    </tr>\n    <tr>\n      <th>...</th>\n      <td>...</td>\n      <td>...</td>\n      <td>...</td>\n    </tr>\n    <tr>\n      <th>8977</th>\n      <td>0000-0002-4961-7832</td>\n      <td>8977</td>\n      <td>0.0</td>\n    </tr>\n    <tr>\n      <th>8976</th>\n      <td>0000-0002-6873-7768</td>\n      <td>8976</td>\n      <td>0.0</td>\n    </tr>\n    <tr>\n      <th>8975</th>\n      <td>0000-0003-2038-7954</td>\n      <td>8975</td>\n      <td>0.0</td>\n    </tr>\n    <tr>\n      <th>8973</th>\n      <td>0000-0003-3757-0376</td>\n      <td>8973</td>\n      <td>0.0</td>\n    </tr>\n    <tr>\n      <th>13034</th>\n      <td>0000-0002-4951-9239</td>\n      <td>13034</td>\n      <td>0.0</td>\n    </tr>\n  </tbody>\n</table>\n<p>13035 rows × 3 columns</p>\n</div>"
     },
     "metadata": {},
     "execution_count": 11
    }
   ],
   "source": [
    "degree_df.sort_values(by=\"degree\", ascending=False) "
   ]
  },
  {
   "cell_type": "code",
   "execution_count": 12,
   "metadata": {},
   "outputs": [
    {
     "output_type": "execute_result",
     "data": {
      "text/plain": [
       "                      n.id    wcc  degree\n",
       "0      0000-0002-2561-3458      0     2.0\n",
       "5      0000-0003-1144-3272      3     2.0\n",
       "9      0000-0002-0392-7608      3     2.0\n",
       "56     0000-0003-1192-9942      3     2.0\n",
       "63     0000-0002-2925-0244      3     2.0\n",
       "...                    ...    ...     ...\n",
       "12952  0000-0002-8168-5405      3     2.0\n",
       "12980  0000-0001-6261-353x  11583     2.0\n",
       "12981  0000-0003-2804-274x  11583     2.0\n",
       "12982  0000-0002-6930-0699      3     2.0\n",
       "13021  0000-0002-2386-2987      3     2.0\n",
       "\n",
       "[1597 rows x 3 columns]"
      ],
      "text/html": "<div>\n<style scoped>\n    .dataframe tbody tr th:only-of-type {\n        vertical-align: middle;\n    }\n\n    .dataframe tbody tr th {\n        vertical-align: top;\n    }\n\n    .dataframe thead th {\n        text-align: right;\n    }\n</style>\n<table border=\"1\" class=\"dataframe\">\n  <thead>\n    <tr style=\"text-align: right;\">\n      <th></th>\n      <th>n.id</th>\n      <th>wcc</th>\n      <th>degree</th>\n    </tr>\n  </thead>\n  <tbody>\n    <tr>\n      <th>0</th>\n      <td>0000-0002-2561-3458</td>\n      <td>0</td>\n      <td>2.0</td>\n    </tr>\n    <tr>\n      <th>5</th>\n      <td>0000-0003-1144-3272</td>\n      <td>3</td>\n      <td>2.0</td>\n    </tr>\n    <tr>\n      <th>9</th>\n      <td>0000-0002-0392-7608</td>\n      <td>3</td>\n      <td>2.0</td>\n    </tr>\n    <tr>\n      <th>56</th>\n      <td>0000-0003-1192-9942</td>\n      <td>3</td>\n      <td>2.0</td>\n    </tr>\n    <tr>\n      <th>63</th>\n      <td>0000-0002-2925-0244</td>\n      <td>3</td>\n      <td>2.0</td>\n    </tr>\n    <tr>\n      <th>...</th>\n      <td>...</td>\n      <td>...</td>\n      <td>...</td>\n    </tr>\n    <tr>\n      <th>12952</th>\n      <td>0000-0002-8168-5405</td>\n      <td>3</td>\n      <td>2.0</td>\n    </tr>\n    <tr>\n      <th>12980</th>\n      <td>0000-0001-6261-353x</td>\n      <td>11583</td>\n      <td>2.0</td>\n    </tr>\n    <tr>\n      <th>12981</th>\n      <td>0000-0003-2804-274x</td>\n      <td>11583</td>\n      <td>2.0</td>\n    </tr>\n    <tr>\n      <th>12982</th>\n      <td>0000-0002-6930-0699</td>\n      <td>3</td>\n      <td>2.0</td>\n    </tr>\n    <tr>\n      <th>13021</th>\n      <td>0000-0002-2386-2987</td>\n      <td>3</td>\n      <td>2.0</td>\n    </tr>\n  </tbody>\n</table>\n<p>1597 rows × 3 columns</p>\n</div>"
     },
     "metadata": {},
     "execution_count": 12
    }
   ],
   "source": [
    "degree_df[degree_df['degree'] == 2]"
   ]
  },
  {
   "source": [
    "## Degree by author and number of resource published"
   ],
   "cell_type": "markdown",
   "metadata": {}
  },
  {
   "cell_type": "code",
   "execution_count": 13,
   "metadata": {},
   "outputs": [],
   "source": [
    "df = cyperQueryToDataFrame(\"MATCH (n:Author) RETURN n.id, n.__wcc as wcc, n.__degree as degree, n.resource_published as resources\")"
   ]
  },
  {
   "cell_type": "code",
   "execution_count": 14,
   "metadata": {},
   "outputs": [
    {
     "output_type": "execute_result",
     "data": {
      "text/plain": [
       "                wcc        degree     resources\n",
       "count  13035.000000  13035.000000  13035.000000\n",
       "mean    4263.024933      3.747142      3.707633\n",
       "std     4408.435855     12.666121      8.361192\n",
       "min        0.000000      0.000000      1.000000\n",
       "25%        3.000000      0.000000      1.000000\n",
       "50%     2948.000000      1.000000      1.000000\n",
       "75%     8232.000000      3.000000      3.000000\n",
       "max    13034.000000    254.000000    275.000000"
      ],
      "text/html": "<div>\n<style scoped>\n    .dataframe tbody tr th:only-of-type {\n        vertical-align: middle;\n    }\n\n    .dataframe tbody tr th {\n        vertical-align: top;\n    }\n\n    .dataframe thead th {\n        text-align: right;\n    }\n</style>\n<table border=\"1\" class=\"dataframe\">\n  <thead>\n    <tr style=\"text-align: right;\">\n      <th></th>\n      <th>wcc</th>\n      <th>degree</th>\n      <th>resources</th>\n    </tr>\n  </thead>\n  <tbody>\n    <tr>\n      <th>count</th>\n      <td>13035.000000</td>\n      <td>13035.000000</td>\n      <td>13035.000000</td>\n    </tr>\n    <tr>\n      <th>mean</th>\n      <td>4263.024933</td>\n      <td>3.747142</td>\n      <td>3.707633</td>\n    </tr>\n    <tr>\n      <th>std</th>\n      <td>4408.435855</td>\n      <td>12.666121</td>\n      <td>8.361192</td>\n    </tr>\n    <tr>\n      <th>min</th>\n      <td>0.000000</td>\n      <td>0.000000</td>\n      <td>1.000000</td>\n    </tr>\n    <tr>\n      <th>25%</th>\n      <td>3.000000</td>\n      <td>0.000000</td>\n      <td>1.000000</td>\n    </tr>\n    <tr>\n      <th>50%</th>\n      <td>2948.000000</td>\n      <td>1.000000</td>\n      <td>1.000000</td>\n    </tr>\n    <tr>\n      <th>75%</th>\n      <td>8232.000000</td>\n      <td>3.000000</td>\n      <td>3.000000</td>\n    </tr>\n    <tr>\n      <th>max</th>\n      <td>13034.000000</td>\n      <td>254.000000</td>\n      <td>275.000000</td>\n    </tr>\n  </tbody>\n</table>\n</div>"
     },
     "metadata": {},
     "execution_count": 14
    }
   ],
   "source": [
    "df.describe()"
   ]
  },
  {
   "source": [
    "già qui si potrebbe pensare ad un indicatore che esprime quanto l'autore è propenso a fare risorse con persone diverse"
   ],
   "cell_type": "markdown",
   "metadata": {}
  },
  {
   "source": [
    "## Adding page rank"
   ],
   "cell_type": "markdown",
   "metadata": {}
  },
  {
   "cell_type": "code",
   "execution_count": 15,
   "metadata": {},
   "outputs": [],
   "source": [
    "df = cyperQueryToDataFrame(\"\"\"\n",
    "    MATCH (n:Author) RETURN n.id, n.__wcc as wcc, n.__degree as degree, n.resource_published as resources, n.__parerank as pagerank\n",
    "\"\"\")"
   ]
  },
  {
   "cell_type": "code",
   "execution_count": 16,
   "metadata": {},
   "outputs": [
    {
     "output_type": "execute_result",
     "data": {
      "text/plain": [
       "                      n.id    wcc  degree  resources  pagerank\n",
       "0      0000-0002-2561-3458      0     2.0          2  0.928861\n",
       "1      0000-0003-0851-0665      0     3.0          3  1.114622\n",
       "2      0000-0001-7479-2694      2     0.0          1  0.150000\n",
       "3      0000-0003-3025-1292      3     6.0         26  0.918303\n",
       "4      0000-0002-2918-4152      4     0.0          9  0.150000\n",
       "...                    ...    ...     ...        ...       ...\n",
       "13030  0000-0002-4485-2665  13030     0.0          1  0.150000\n",
       "13031  0000-0001-8308-5393  13031     0.0          1  0.150000\n",
       "13032  0000-0001-9765-0875  13032     0.0          1  0.150000\n",
       "13033  0000-0002-0616-0617  13033     0.0          1  0.150000\n",
       "13034  0000-0002-4951-9239  13034     0.0          1  0.150000\n",
       "\n",
       "[13035 rows x 5 columns]"
      ],
      "text/html": "<div>\n<style scoped>\n    .dataframe tbody tr th:only-of-type {\n        vertical-align: middle;\n    }\n\n    .dataframe tbody tr th {\n        vertical-align: top;\n    }\n\n    .dataframe thead th {\n        text-align: right;\n    }\n</style>\n<table border=\"1\" class=\"dataframe\">\n  <thead>\n    <tr style=\"text-align: right;\">\n      <th></th>\n      <th>n.id</th>\n      <th>wcc</th>\n      <th>degree</th>\n      <th>resources</th>\n      <th>pagerank</th>\n    </tr>\n  </thead>\n  <tbody>\n    <tr>\n      <th>0</th>\n      <td>0000-0002-2561-3458</td>\n      <td>0</td>\n      <td>2.0</td>\n      <td>2</td>\n      <td>0.928861</td>\n    </tr>\n    <tr>\n      <th>1</th>\n      <td>0000-0003-0851-0665</td>\n      <td>0</td>\n      <td>3.0</td>\n      <td>3</td>\n      <td>1.114622</td>\n    </tr>\n    <tr>\n      <th>2</th>\n      <td>0000-0001-7479-2694</td>\n      <td>2</td>\n      <td>0.0</td>\n      <td>1</td>\n      <td>0.150000</td>\n    </tr>\n    <tr>\n      <th>3</th>\n      <td>0000-0003-3025-1292</td>\n      <td>3</td>\n      <td>6.0</td>\n      <td>26</td>\n      <td>0.918303</td>\n    </tr>\n    <tr>\n      <th>4</th>\n      <td>0000-0002-2918-4152</td>\n      <td>4</td>\n      <td>0.0</td>\n      <td>9</td>\n      <td>0.150000</td>\n    </tr>\n    <tr>\n      <th>...</th>\n      <td>...</td>\n      <td>...</td>\n      <td>...</td>\n      <td>...</td>\n      <td>...</td>\n    </tr>\n    <tr>\n      <th>13030</th>\n      <td>0000-0002-4485-2665</td>\n      <td>13030</td>\n      <td>0.0</td>\n      <td>1</td>\n      <td>0.150000</td>\n    </tr>\n    <tr>\n      <th>13031</th>\n      <td>0000-0001-8308-5393</td>\n      <td>13031</td>\n      <td>0.0</td>\n      <td>1</td>\n      <td>0.150000</td>\n    </tr>\n    <tr>\n      <th>13032</th>\n      <td>0000-0001-9765-0875</td>\n      <td>13032</td>\n      <td>0.0</td>\n      <td>1</td>\n      <td>0.150000</td>\n    </tr>\n    <tr>\n      <th>13033</th>\n      <td>0000-0002-0616-0617</td>\n      <td>13033</td>\n      <td>0.0</td>\n      <td>1</td>\n      <td>0.150000</td>\n    </tr>\n    <tr>\n      <th>13034</th>\n      <td>0000-0002-4951-9239</td>\n      <td>13034</td>\n      <td>0.0</td>\n      <td>1</td>\n      <td>0.150000</td>\n    </tr>\n  </tbody>\n</table>\n<p>13035 rows × 5 columns</p>\n</div>"
     },
     "metadata": {},
     "execution_count": 16
    }
   ],
   "source": [
    "df"
   ]
  },
  {
   "cell_type": "code",
   "execution_count": 17,
   "metadata": {},
   "outputs": [
    {
     "output_type": "execute_result",
     "data": {
      "text/plain": [
       "                wcc        degree     resources      pagerank\n",
       "count  13035.000000  13035.000000  13035.000000  13035.000000\n",
       "mean    4263.024933      3.747142      3.707633      0.668021\n",
       "std     4408.435855     12.666121      8.361192      0.726383\n",
       "min        0.000000      0.000000      1.000000      0.150000\n",
       "25%        3.000000      0.000000      1.000000      0.150000\n",
       "50%     2948.000000      1.000000      1.000000      0.491270\n",
       "75%     8232.000000      3.000000      3.000000      1.000000\n",
       "max    13034.000000    254.000000    275.000000     13.099599"
      ],
      "text/html": "<div>\n<style scoped>\n    .dataframe tbody tr th:only-of-type {\n        vertical-align: middle;\n    }\n\n    .dataframe tbody tr th {\n        vertical-align: top;\n    }\n\n    .dataframe thead th {\n        text-align: right;\n    }\n</style>\n<table border=\"1\" class=\"dataframe\">\n  <thead>\n    <tr style=\"text-align: right;\">\n      <th></th>\n      <th>wcc</th>\n      <th>degree</th>\n      <th>resources</th>\n      <th>pagerank</th>\n    </tr>\n  </thead>\n  <tbody>\n    <tr>\n      <th>count</th>\n      <td>13035.000000</td>\n      <td>13035.000000</td>\n      <td>13035.000000</td>\n      <td>13035.000000</td>\n    </tr>\n    <tr>\n      <th>mean</th>\n      <td>4263.024933</td>\n      <td>3.747142</td>\n      <td>3.707633</td>\n      <td>0.668021</td>\n    </tr>\n    <tr>\n      <th>std</th>\n      <td>4408.435855</td>\n      <td>12.666121</td>\n      <td>8.361192</td>\n      <td>0.726383</td>\n    </tr>\n    <tr>\n      <th>min</th>\n      <td>0.000000</td>\n      <td>0.000000</td>\n      <td>1.000000</td>\n      <td>0.150000</td>\n    </tr>\n    <tr>\n      <th>25%</th>\n      <td>3.000000</td>\n      <td>0.000000</td>\n      <td>1.000000</td>\n      <td>0.150000</td>\n    </tr>\n    <tr>\n      <th>50%</th>\n      <td>2948.000000</td>\n      <td>1.000000</td>\n      <td>1.000000</td>\n      <td>0.491270</td>\n    </tr>\n    <tr>\n      <th>75%</th>\n      <td>8232.000000</td>\n      <td>3.000000</td>\n      <td>3.000000</td>\n      <td>1.000000</td>\n    </tr>\n    <tr>\n      <th>max</th>\n      <td>13034.000000</td>\n      <td>254.000000</td>\n      <td>275.000000</td>\n      <td>13.099599</td>\n    </tr>\n  </tbody>\n</table>\n</div>"
     },
     "metadata": {},
     "execution_count": 17
    }
   ],
   "source": [
    "df.describe()"
   ]
  },
  {
   "source": [
    "## Adding local clustering coefficient"
   ],
   "cell_type": "markdown",
   "metadata": {}
  },
  {
   "cell_type": "code",
   "execution_count": 18,
   "metadata": {},
   "outputs": [],
   "source": [
    "df = cyperQueryToDataFrame(\"\"\"\n",
    "    MATCH (n:Author) RETURN n.id, n.__wcc as wcc, n.__degree as degree, n.resource_published as resources, n.__parerank as pagerank,\n",
    "    n.__localClusteringCoefficient as localclusteringcoefficient\n",
    "\"\"\")"
   ]
  },
  {
   "cell_type": "code",
   "execution_count": 19,
   "metadata": {},
   "outputs": [
    {
     "output_type": "execute_result",
     "data": {
      "text/plain": [
       "                      n.id    wcc  degree  resources  pagerank  \\\n",
       "0      0000-0002-2561-3458      0     2.0          2  0.928861   \n",
       "1      0000-0003-0851-0665      0     3.0          3  1.114622   \n",
       "2      0000-0001-7479-2694      2     0.0          1  0.150000   \n",
       "3      0000-0003-3025-1292      3     6.0         26  0.918303   \n",
       "4      0000-0002-2918-4152      4     0.0          9  0.150000   \n",
       "...                    ...    ...     ...        ...       ...   \n",
       "13030  0000-0002-4485-2665  13030     0.0          1  0.150000   \n",
       "13031  0000-0001-8308-5393  13031     0.0          1  0.150000   \n",
       "13032  0000-0001-9765-0875  13032     0.0          1  0.150000   \n",
       "13033  0000-0002-0616-0617  13033     0.0          1  0.150000   \n",
       "13034  0000-0002-4951-9239  13034     0.0          1  0.150000   \n",
       "\n",
       "       localclusteringcoefficient  \n",
       "0                        0.000000  \n",
       "1                        0.333333  \n",
       "2                        0.000000  \n",
       "3                        0.266667  \n",
       "4                        0.000000  \n",
       "...                           ...  \n",
       "13030                    0.000000  \n",
       "13031                    0.000000  \n",
       "13032                    0.000000  \n",
       "13033                    0.000000  \n",
       "13034                    0.000000  \n",
       "\n",
       "[13035 rows x 6 columns]"
      ],
      "text/html": "<div>\n<style scoped>\n    .dataframe tbody tr th:only-of-type {\n        vertical-align: middle;\n    }\n\n    .dataframe tbody tr th {\n        vertical-align: top;\n    }\n\n    .dataframe thead th {\n        text-align: right;\n    }\n</style>\n<table border=\"1\" class=\"dataframe\">\n  <thead>\n    <tr style=\"text-align: right;\">\n      <th></th>\n      <th>n.id</th>\n      <th>wcc</th>\n      <th>degree</th>\n      <th>resources</th>\n      <th>pagerank</th>\n      <th>localclusteringcoefficient</th>\n    </tr>\n  </thead>\n  <tbody>\n    <tr>\n      <th>0</th>\n      <td>0000-0002-2561-3458</td>\n      <td>0</td>\n      <td>2.0</td>\n      <td>2</td>\n      <td>0.928861</td>\n      <td>0.000000</td>\n    </tr>\n    <tr>\n      <th>1</th>\n      <td>0000-0003-0851-0665</td>\n      <td>0</td>\n      <td>3.0</td>\n      <td>3</td>\n      <td>1.114622</td>\n      <td>0.333333</td>\n    </tr>\n    <tr>\n      <th>2</th>\n      <td>0000-0001-7479-2694</td>\n      <td>2</td>\n      <td>0.0</td>\n      <td>1</td>\n      <td>0.150000</td>\n      <td>0.000000</td>\n    </tr>\n    <tr>\n      <th>3</th>\n      <td>0000-0003-3025-1292</td>\n      <td>3</td>\n      <td>6.0</td>\n      <td>26</td>\n      <td>0.918303</td>\n      <td>0.266667</td>\n    </tr>\n    <tr>\n      <th>4</th>\n      <td>0000-0002-2918-4152</td>\n      <td>4</td>\n      <td>0.0</td>\n      <td>9</td>\n      <td>0.150000</td>\n      <td>0.000000</td>\n    </tr>\n    <tr>\n      <th>...</th>\n      <td>...</td>\n      <td>...</td>\n      <td>...</td>\n      <td>...</td>\n      <td>...</td>\n      <td>...</td>\n    </tr>\n    <tr>\n      <th>13030</th>\n      <td>0000-0002-4485-2665</td>\n      <td>13030</td>\n      <td>0.0</td>\n      <td>1</td>\n      <td>0.150000</td>\n      <td>0.000000</td>\n    </tr>\n    <tr>\n      <th>13031</th>\n      <td>0000-0001-8308-5393</td>\n      <td>13031</td>\n      <td>0.0</td>\n      <td>1</td>\n      <td>0.150000</td>\n      <td>0.000000</td>\n    </tr>\n    <tr>\n      <th>13032</th>\n      <td>0000-0001-9765-0875</td>\n      <td>13032</td>\n      <td>0.0</td>\n      <td>1</td>\n      <td>0.150000</td>\n      <td>0.000000</td>\n    </tr>\n    <tr>\n      <th>13033</th>\n      <td>0000-0002-0616-0617</td>\n      <td>13033</td>\n      <td>0.0</td>\n      <td>1</td>\n      <td>0.150000</td>\n      <td>0.000000</td>\n    </tr>\n    <tr>\n      <th>13034</th>\n      <td>0000-0002-4951-9239</td>\n      <td>13034</td>\n      <td>0.0</td>\n      <td>1</td>\n      <td>0.150000</td>\n      <td>0.000000</td>\n    </tr>\n  </tbody>\n</table>\n<p>13035 rows × 6 columns</p>\n</div>"
     },
     "metadata": {},
     "execution_count": 19
    }
   ],
   "source": [
    "df"
   ]
  },
  {
   "cell_type": "code",
   "execution_count": 20,
   "metadata": {},
   "outputs": [
    {
     "output_type": "execute_result",
     "data": {
      "text/plain": [
       "                wcc        degree     resources      pagerank  \\\n",
       "count  13035.000000  13035.000000  13035.000000  13035.000000   \n",
       "mean    4263.024933      3.747142      3.707633      0.668021   \n",
       "std     4408.435855     12.666121      8.361192      0.726383   \n",
       "min        0.000000      0.000000      1.000000      0.150000   \n",
       "25%        3.000000      0.000000      1.000000      0.150000   \n",
       "50%     2948.000000      1.000000      1.000000      0.491270   \n",
       "75%     8232.000000      3.000000      3.000000      1.000000   \n",
       "max    13034.000000    254.000000    275.000000     13.099599   \n",
       "\n",
       "       localclusteringcoefficient  \n",
       "count                13035.000000  \n",
       "mean                     0.250897  \n",
       "std                      0.398681  \n",
       "min                      0.000000  \n",
       "25%                      0.000000  \n",
       "50%                      0.000000  \n",
       "75%                      0.404904  \n",
       "max                      1.000000  "
      ],
      "text/html": "<div>\n<style scoped>\n    .dataframe tbody tr th:only-of-type {\n        vertical-align: middle;\n    }\n\n    .dataframe tbody tr th {\n        vertical-align: top;\n    }\n\n    .dataframe thead th {\n        text-align: right;\n    }\n</style>\n<table border=\"1\" class=\"dataframe\">\n  <thead>\n    <tr style=\"text-align: right;\">\n      <th></th>\n      <th>wcc</th>\n      <th>degree</th>\n      <th>resources</th>\n      <th>pagerank</th>\n      <th>localclusteringcoefficient</th>\n    </tr>\n  </thead>\n  <tbody>\n    <tr>\n      <th>count</th>\n      <td>13035.000000</td>\n      <td>13035.000000</td>\n      <td>13035.000000</td>\n      <td>13035.000000</td>\n      <td>13035.000000</td>\n    </tr>\n    <tr>\n      <th>mean</th>\n      <td>4263.024933</td>\n      <td>3.747142</td>\n      <td>3.707633</td>\n      <td>0.668021</td>\n      <td>0.250897</td>\n    </tr>\n    <tr>\n      <th>std</th>\n      <td>4408.435855</td>\n      <td>12.666121</td>\n      <td>8.361192</td>\n      <td>0.726383</td>\n      <td>0.398681</td>\n    </tr>\n    <tr>\n      <th>min</th>\n      <td>0.000000</td>\n      <td>0.000000</td>\n      <td>1.000000</td>\n      <td>0.150000</td>\n      <td>0.000000</td>\n    </tr>\n    <tr>\n      <th>25%</th>\n      <td>3.000000</td>\n      <td>0.000000</td>\n      <td>1.000000</td>\n      <td>0.150000</td>\n      <td>0.000000</td>\n    </tr>\n    <tr>\n      <th>50%</th>\n      <td>2948.000000</td>\n      <td>1.000000</td>\n      <td>1.000000</td>\n      <td>0.491270</td>\n      <td>0.000000</td>\n    </tr>\n    <tr>\n      <th>75%</th>\n      <td>8232.000000</td>\n      <td>3.000000</td>\n      <td>3.000000</td>\n      <td>1.000000</td>\n      <td>0.404904</td>\n    </tr>\n    <tr>\n      <th>max</th>\n      <td>13034.000000</td>\n      <td>254.000000</td>\n      <td>275.000000</td>\n      <td>13.099599</td>\n      <td>1.000000</td>\n    </tr>\n  </tbody>\n</table>\n</div>"
     },
     "metadata": {},
     "execution_count": 20
    }
   ],
   "source": [
    "df.describe()"
   ]
  },
  {
   "cell_type": "code",
   "execution_count": 21,
   "metadata": {},
   "outputs": [
    {
     "output_type": "execute_result",
     "data": {
      "text/plain": [
       "                      n.id    wcc  degree  resources  pagerank  \\\n",
       "5679   0000-0002-3918-1860   5678     3.0          1  1.000000   \n",
       "6996   0000-0001-6797-5476      3     2.0          1  0.446698   \n",
       "5680   0000-0001-6119-4521   5678     3.0          1  1.000000   \n",
       "2842   0000-0002-2145-1404   2842     2.0          7  1.000000   \n",
       "8961   0000-0002-6505-403x   5463     2.0          1  1.000000   \n",
       "...                    ...    ...     ...        ...       ...   \n",
       "5847   0000-0002-2450-636x   5847     0.0          1  0.150000   \n",
       "5848   0000-0003-2663-0759   5848     0.0          1  0.150000   \n",
       "5849   0000-0001-7936-3522      3     1.0          1  0.350740   \n",
       "5850   0000-0003-3042-4878   2022     2.0          6  1.298246   \n",
       "13034  0000-0002-4951-9239  13034     0.0          1  0.150000   \n",
       "\n",
       "       localclusteringcoefficient  \n",
       "5679                          1.0  \n",
       "6996                          1.0  \n",
       "5680                          1.0  \n",
       "2842                          1.0  \n",
       "8961                          1.0  \n",
       "...                           ...  \n",
       "5847                          0.0  \n",
       "5848                          0.0  \n",
       "5849                          0.0  \n",
       "5850                          0.0  \n",
       "13034                         0.0  \n",
       "\n",
       "[13035 rows x 6 columns]"
      ],
      "text/html": "<div>\n<style scoped>\n    .dataframe tbody tr th:only-of-type {\n        vertical-align: middle;\n    }\n\n    .dataframe tbody tr th {\n        vertical-align: top;\n    }\n\n    .dataframe thead th {\n        text-align: right;\n    }\n</style>\n<table border=\"1\" class=\"dataframe\">\n  <thead>\n    <tr style=\"text-align: right;\">\n      <th></th>\n      <th>n.id</th>\n      <th>wcc</th>\n      <th>degree</th>\n      <th>resources</th>\n      <th>pagerank</th>\n      <th>localclusteringcoefficient</th>\n    </tr>\n  </thead>\n  <tbody>\n    <tr>\n      <th>5679</th>\n      <td>0000-0002-3918-1860</td>\n      <td>5678</td>\n      <td>3.0</td>\n      <td>1</td>\n      <td>1.000000</td>\n      <td>1.0</td>\n    </tr>\n    <tr>\n      <th>6996</th>\n      <td>0000-0001-6797-5476</td>\n      <td>3</td>\n      <td>2.0</td>\n      <td>1</td>\n      <td>0.446698</td>\n      <td>1.0</td>\n    </tr>\n    <tr>\n      <th>5680</th>\n      <td>0000-0001-6119-4521</td>\n      <td>5678</td>\n      <td>3.0</td>\n      <td>1</td>\n      <td>1.000000</td>\n      <td>1.0</td>\n    </tr>\n    <tr>\n      <th>2842</th>\n      <td>0000-0002-2145-1404</td>\n      <td>2842</td>\n      <td>2.0</td>\n      <td>7</td>\n      <td>1.000000</td>\n      <td>1.0</td>\n    </tr>\n    <tr>\n      <th>8961</th>\n      <td>0000-0002-6505-403x</td>\n      <td>5463</td>\n      <td>2.0</td>\n      <td>1</td>\n      <td>1.000000</td>\n      <td>1.0</td>\n    </tr>\n    <tr>\n      <th>...</th>\n      <td>...</td>\n      <td>...</td>\n      <td>...</td>\n      <td>...</td>\n      <td>...</td>\n      <td>...</td>\n    </tr>\n    <tr>\n      <th>5847</th>\n      <td>0000-0002-2450-636x</td>\n      <td>5847</td>\n      <td>0.0</td>\n      <td>1</td>\n      <td>0.150000</td>\n      <td>0.0</td>\n    </tr>\n    <tr>\n      <th>5848</th>\n      <td>0000-0003-2663-0759</td>\n      <td>5848</td>\n      <td>0.0</td>\n      <td>1</td>\n      <td>0.150000</td>\n      <td>0.0</td>\n    </tr>\n    <tr>\n      <th>5849</th>\n      <td>0000-0001-7936-3522</td>\n      <td>3</td>\n      <td>1.0</td>\n      <td>1</td>\n      <td>0.350740</td>\n      <td>0.0</td>\n    </tr>\n    <tr>\n      <th>5850</th>\n      <td>0000-0003-3042-4878</td>\n      <td>2022</td>\n      <td>2.0</td>\n      <td>6</td>\n      <td>1.298246</td>\n      <td>0.0</td>\n    </tr>\n    <tr>\n      <th>13034</th>\n      <td>0000-0002-4951-9239</td>\n      <td>13034</td>\n      <td>0.0</td>\n      <td>1</td>\n      <td>0.150000</td>\n      <td>0.0</td>\n    </tr>\n  </tbody>\n</table>\n<p>13035 rows × 6 columns</p>\n</div>"
     },
     "metadata": {},
     "execution_count": 21
    }
   ],
   "source": [
    "df.sort_values(by=\"localclusteringcoefficient\", ascending=False) "
   ]
  },
  {
   "source": [
    "Il 2 è un errore c'è una doppia relazione tra lo stesso autore e la stessa risorsa"
   ],
   "cell_type": "markdown",
   "metadata": {}
  },
  {
   "source": [
    "## First approach using DBScan"
   ],
   "cell_type": "markdown",
   "metadata": {}
  },
  {
   "cell_type": "code",
   "execution_count": 22,
   "metadata": {},
   "outputs": [],
   "source": [
    "import numpy as np\n",
    "\n",
    "from sklearn.cluster import DBSCAN\n",
    "from sklearn import metrics\n",
    "from sklearn.preprocessing import StandardScaler\n",
    "from sklearn.neighbors import LocalOutlierFactor, NearestNeighbors"
   ]
  },
  {
   "cell_type": "code",
   "execution_count": 23,
   "metadata": {},
   "outputs": [],
   "source": [
    "df = cyperQueryToDataFrame(\"\"\"\n",
    "    MATCH (n:Author) RETURN n.id, n.__wcc as wcc, n.__degree as degree, n.resource_published as resources, n.__parerank as pagerank,\n",
    "    n.__localClusteringCoefficient as localclusteringcoefficient\n",
    "\"\"\")"
   ]
  },
  {
   "cell_type": "code",
   "execution_count": 24,
   "metadata": {},
   "outputs": [],
   "source": [
    "X = StandardScaler().fit_transform(df[[\"degree\", \"resources\", \"pagerank\", \"localclusteringcoefficient\"]].to_numpy())"
   ]
  },
  {
   "cell_type": "code",
   "execution_count": 25,
   "metadata": {},
   "outputs": [],
   "source": [
    "db = DBSCAN(eps=0.05, min_samples=4, algorithm=\"ball_tree\", leaf_size=1000).fit(X)\n",
    "core_samples_mask = np.zeros_like(db.labels_, dtype=bool)\n",
    "core_samples_mask[db.core_sample_indices_] = True\n",
    "labels = db.labels_"
   ]
  },
  {
   "cell_type": "code",
   "execution_count": 26,
   "metadata": {},
   "outputs": [],
   "source": [
    "n_clusters_ = len(set(labels)) - (1 if -1 in labels else 0)\n",
    "n_noise_ = list(labels).count(-1)"
   ]
  },
  {
   "cell_type": "code",
   "execution_count": 27,
   "metadata": {},
   "outputs": [
    {
     "output_type": "stream",
     "name": "stdout",
     "text": [
      "Estimated number of clusters: 173\nEstimated number of noise points: 2392\n"
     ]
    }
   ],
   "source": [
    "print('Estimated number of clusters: %d' % n_clusters_)\n",
    "print('Estimated number of noise points: %d' % n_noise_)"
   ]
  },
  {
   "cell_type": "code",
   "execution_count": 31,
   "metadata": {},
   "outputs": [
    {
     "output_type": "stream",
     "name": "stdout",
     "text": [
      "Estimated number of clusters: 5\nEstimated number of noise points: 71\n"
     ]
    }
   ],
   "source": [
    "db2 = DBSCAN(eps=1, min_samples=4, algorithm=\"ball_tree\", leaf_size=1000).fit(X)\n",
    "core_samples_mask = np.zeros_like(db2.labels_, dtype=bool)\n",
    "core_samples_mask[db2.core_sample_indices_] = True\n",
    "labels = db2.labels_\n",
    "n_clusters_ = len(set(labels)) - (1 if -1 in labels else 0)\n",
    "n_noise_ = list(labels).count(-1)\n",
    "print('Estimated number of clusters: %d' % n_clusters_)\n",
    "print('Estimated number of noise points: %d' % n_noise_)"
   ]
  },
  {
   "cell_type": "code",
   "execution_count": 32,
   "metadata": {},
   "outputs": [
    {
     "output_type": "execute_result",
     "data": {
      "text/plain": [
       "                     n.id  wcc  degree  resources  pagerank  \\\n",
       "27    0000-0002-1376-8532    3   182.0        113  9.389351   \n",
       "53    0000-0003-3379-8744    3    45.0         84  6.068915   \n",
       "54    0000-0001-6363-2759    3    55.0        187  8.178575   \n",
       "55    0000-0002-0465-2028    3    97.0         91  6.892115   \n",
       "70    0000-0002-7821-117x    3    18.0         90  4.370136   \n",
       "...                   ...  ...     ...        ...       ...   \n",
       "2786  0000-0003-2967-9662    3   184.0         17  8.234506   \n",
       "2787  0000-0003-0308-5583    3   210.0         11  7.886872   \n",
       "2789  0000-0003-4073-532x    3    98.0         19  4.701190   \n",
       "2873  0000-0002-3413-570x    3    89.0         10  4.261657   \n",
       "3339  0000-0001-6421-2633    3    78.0         23  3.437355   \n",
       "\n",
       "      localclusteringcoefficient  \n",
       "27                      0.312428  \n",
       "53                      0.089899  \n",
       "54                      0.054545  \n",
       "55                      0.366838  \n",
       "70                      0.045752  \n",
       "...                          ...  \n",
       "2786                    0.351271  \n",
       "2787                    0.343267  \n",
       "2789                    0.514622  \n",
       "2873                    0.552094  \n",
       "3339                    0.617050  \n",
       "\n",
       "[71 rows x 6 columns]"
      ],
      "text/html": "<div>\n<style scoped>\n    .dataframe tbody tr th:only-of-type {\n        vertical-align: middle;\n    }\n\n    .dataframe tbody tr th {\n        vertical-align: top;\n    }\n\n    .dataframe thead th {\n        text-align: right;\n    }\n</style>\n<table border=\"1\" class=\"dataframe\">\n  <thead>\n    <tr style=\"text-align: right;\">\n      <th></th>\n      <th>n.id</th>\n      <th>wcc</th>\n      <th>degree</th>\n      <th>resources</th>\n      <th>pagerank</th>\n      <th>localclusteringcoefficient</th>\n    </tr>\n  </thead>\n  <tbody>\n    <tr>\n      <th>27</th>\n      <td>0000-0002-1376-8532</td>\n      <td>3</td>\n      <td>182.0</td>\n      <td>113</td>\n      <td>9.389351</td>\n      <td>0.312428</td>\n    </tr>\n    <tr>\n      <th>53</th>\n      <td>0000-0003-3379-8744</td>\n      <td>3</td>\n      <td>45.0</td>\n      <td>84</td>\n      <td>6.068915</td>\n      <td>0.089899</td>\n    </tr>\n    <tr>\n      <th>54</th>\n      <td>0000-0001-6363-2759</td>\n      <td>3</td>\n      <td>55.0</td>\n      <td>187</td>\n      <td>8.178575</td>\n      <td>0.054545</td>\n    </tr>\n    <tr>\n      <th>55</th>\n      <td>0000-0002-0465-2028</td>\n      <td>3</td>\n      <td>97.0</td>\n      <td>91</td>\n      <td>6.892115</td>\n      <td>0.366838</td>\n    </tr>\n    <tr>\n      <th>70</th>\n      <td>0000-0002-7821-117x</td>\n      <td>3</td>\n      <td>18.0</td>\n      <td>90</td>\n      <td>4.370136</td>\n      <td>0.045752</td>\n    </tr>\n    <tr>\n      <th>...</th>\n      <td>...</td>\n      <td>...</td>\n      <td>...</td>\n      <td>...</td>\n      <td>...</td>\n      <td>...</td>\n    </tr>\n    <tr>\n      <th>2786</th>\n      <td>0000-0003-2967-9662</td>\n      <td>3</td>\n      <td>184.0</td>\n      <td>17</td>\n      <td>8.234506</td>\n      <td>0.351271</td>\n    </tr>\n    <tr>\n      <th>2787</th>\n      <td>0000-0003-0308-5583</td>\n      <td>3</td>\n      <td>210.0</td>\n      <td>11</td>\n      <td>7.886872</td>\n      <td>0.343267</td>\n    </tr>\n    <tr>\n      <th>2789</th>\n      <td>0000-0003-4073-532x</td>\n      <td>3</td>\n      <td>98.0</td>\n      <td>19</td>\n      <td>4.701190</td>\n      <td>0.514622</td>\n    </tr>\n    <tr>\n      <th>2873</th>\n      <td>0000-0002-3413-570x</td>\n      <td>3</td>\n      <td>89.0</td>\n      <td>10</td>\n      <td>4.261657</td>\n      <td>0.552094</td>\n    </tr>\n    <tr>\n      <th>3339</th>\n      <td>0000-0001-6421-2633</td>\n      <td>3</td>\n      <td>78.0</td>\n      <td>23</td>\n      <td>3.437355</td>\n      <td>0.617050</td>\n    </tr>\n  </tbody>\n</table>\n<p>71 rows × 6 columns</p>\n</div>"
     },
     "metadata": {},
     "execution_count": 32
    }
   ],
   "source": [
    "df[labels == -1]"
   ]
  },
  {
   "cell_type": "code",
   "execution_count": 33,
   "metadata": {},
   "outputs": [],
   "source": [
    "clf = LocalOutlierFactor(n_neighbors=20, contamination=0.0001) # in pratica 20 neighbour sembra funzionare bene\n",
    "y_pred = clf.fit_predict(X)"
   ]
  },
  {
   "cell_type": "code",
   "execution_count": 34,
   "metadata": {},
   "outputs": [],
   "source": [
    "X_scores = clf.negative_outlier_factor_"
   ]
  },
  {
   "cell_type": "code",
   "execution_count": 35,
   "metadata": {},
   "outputs": [
    {
     "output_type": "execute_result",
     "data": {
      "text/plain": [
       "-0.8989470928101306"
      ]
     },
     "metadata": {},
     "execution_count": 35
    }
   ],
   "source": [
    "X_scores.max()"
   ]
  },
  {
   "cell_type": "code",
   "execution_count": 36,
   "metadata": {},
   "outputs": [
    {
     "output_type": "execute_result",
     "data": {
      "text/plain": [
       "-2152622371.843041"
      ]
     },
     "metadata": {},
     "execution_count": 36
    }
   ],
   "source": [
    "X_scores.min()"
   ]
  },
  {
   "cell_type": "code",
   "execution_count": 37,
   "metadata": {},
   "outputs": [],
   "source": [
    "df['lof'] = X_scores"
   ]
  },
  {
   "cell_type": "code",
   "execution_count": 38,
   "metadata": {},
   "outputs": [
    {
     "output_type": "execute_result",
     "data": {
      "text/plain": [
       "                      n.id   wcc  degree  resources  pagerank  \\\n",
       "6875   0000-0003-1073-2638   437     3.0          3  1.787789   \n",
       "981    0000-0002-0136-1049     3     2.0          2  1.092730   \n",
       "3424   0000-0002-8002-922x  3424     2.0          2  1.298246   \n",
       "917    0000-0003-1174-6054   917     2.0          2  1.298246   \n",
       "11824  0000-0001-7913-9109  3424     2.0          2  1.298246   \n",
       "...                    ...   ...     ...        ...       ...   \n",
       "11123  0000-0002-7849-4325     3     2.0          1  0.438268   \n",
       "5230   0000-0002-8418-1675     3     2.0          1  0.433075   \n",
       "5229   0000-0002-1577-8806     3     2.0          1  0.433075   \n",
       "10877  0000-0002-2022-5739     3     2.0          1  0.435922   \n",
       "2666   0000-0001-9260-3156  2665     2.0          1  0.837017   \n",
       "\n",
       "       localclusteringcoefficient           lof  \n",
       "6875                          0.0 -2.152622e+09  \n",
       "981                           0.0 -1.182014e+09  \n",
       "3424                          0.0 -1.161731e+09  \n",
       "917                           0.0 -1.161731e+09  \n",
       "11824                         0.0 -1.161731e+09  \n",
       "...                           ...           ...  \n",
       "11123                         1.0 -9.315338e-01  \n",
       "5230                          1.0 -9.312373e-01  \n",
       "5229                          1.0 -9.312373e-01  \n",
       "10877                         1.0 -9.304815e-01  \n",
       "2666                          1.0 -8.989471e-01  \n",
       "\n",
       "[13035 rows x 7 columns]"
      ],
      "text/html": "<div>\n<style scoped>\n    .dataframe tbody tr th:only-of-type {\n        vertical-align: middle;\n    }\n\n    .dataframe tbody tr th {\n        vertical-align: top;\n    }\n\n    .dataframe thead th {\n        text-align: right;\n    }\n</style>\n<table border=\"1\" class=\"dataframe\">\n  <thead>\n    <tr style=\"text-align: right;\">\n      <th></th>\n      <th>n.id</th>\n      <th>wcc</th>\n      <th>degree</th>\n      <th>resources</th>\n      <th>pagerank</th>\n      <th>localclusteringcoefficient</th>\n      <th>lof</th>\n    </tr>\n  </thead>\n  <tbody>\n    <tr>\n      <th>6875</th>\n      <td>0000-0003-1073-2638</td>\n      <td>437</td>\n      <td>3.0</td>\n      <td>3</td>\n      <td>1.787789</td>\n      <td>0.0</td>\n      <td>-2.152622e+09</td>\n    </tr>\n    <tr>\n      <th>981</th>\n      <td>0000-0002-0136-1049</td>\n      <td>3</td>\n      <td>2.0</td>\n      <td>2</td>\n      <td>1.092730</td>\n      <td>0.0</td>\n      <td>-1.182014e+09</td>\n    </tr>\n    <tr>\n      <th>3424</th>\n      <td>0000-0002-8002-922x</td>\n      <td>3424</td>\n      <td>2.0</td>\n      <td>2</td>\n      <td>1.298246</td>\n      <td>0.0</td>\n      <td>-1.161731e+09</td>\n    </tr>\n    <tr>\n      <th>917</th>\n      <td>0000-0003-1174-6054</td>\n      <td>917</td>\n      <td>2.0</td>\n      <td>2</td>\n      <td>1.298246</td>\n      <td>0.0</td>\n      <td>-1.161731e+09</td>\n    </tr>\n    <tr>\n      <th>11824</th>\n      <td>0000-0001-7913-9109</td>\n      <td>3424</td>\n      <td>2.0</td>\n      <td>2</td>\n      <td>1.298246</td>\n      <td>0.0</td>\n      <td>-1.161731e+09</td>\n    </tr>\n    <tr>\n      <th>...</th>\n      <td>...</td>\n      <td>...</td>\n      <td>...</td>\n      <td>...</td>\n      <td>...</td>\n      <td>...</td>\n      <td>...</td>\n    </tr>\n    <tr>\n      <th>11123</th>\n      <td>0000-0002-7849-4325</td>\n      <td>3</td>\n      <td>2.0</td>\n      <td>1</td>\n      <td>0.438268</td>\n      <td>1.0</td>\n      <td>-9.315338e-01</td>\n    </tr>\n    <tr>\n      <th>5230</th>\n      <td>0000-0002-8418-1675</td>\n      <td>3</td>\n      <td>2.0</td>\n      <td>1</td>\n      <td>0.433075</td>\n      <td>1.0</td>\n      <td>-9.312373e-01</td>\n    </tr>\n    <tr>\n      <th>5229</th>\n      <td>0000-0002-1577-8806</td>\n      <td>3</td>\n      <td>2.0</td>\n      <td>1</td>\n      <td>0.433075</td>\n      <td>1.0</td>\n      <td>-9.312373e-01</td>\n    </tr>\n    <tr>\n      <th>10877</th>\n      <td>0000-0002-2022-5739</td>\n      <td>3</td>\n      <td>2.0</td>\n      <td>1</td>\n      <td>0.435922</td>\n      <td>1.0</td>\n      <td>-9.304815e-01</td>\n    </tr>\n    <tr>\n      <th>2666</th>\n      <td>0000-0001-9260-3156</td>\n      <td>2665</td>\n      <td>2.0</td>\n      <td>1</td>\n      <td>0.837017</td>\n      <td>1.0</td>\n      <td>-8.989471e-01</td>\n    </tr>\n  </tbody>\n</table>\n<p>13035 rows × 7 columns</p>\n</div>"
     },
     "metadata": {},
     "execution_count": 38
    }
   ],
   "source": [
    "df.sort_values(by=['lof'], ascending=True)"
   ]
  },
  {
   "cell_type": "code",
   "execution_count": 48,
   "metadata": {},
   "outputs": [],
   "source": [
    "df = cyperQueryToDataFrame(\"\"\"\n",
    "    MATCH (n:Author) RETURN n.id, n.__wcc as wcc, n.__degree as degree, n.resource_published as resources, n.__parerank as pagerank,\n",
    "    n.__localClusteringCoefficient as localclusteringcoefficient, n.`__fastrp_embedding`, reduce(accumulator = 0, variable IN n.`__fastrp_embedding` | accumulator + variable) as sum_rp\n",
    "\"\"\")"
   ]
  },
  {
   "cell_type": "code",
   "execution_count": 49,
   "metadata": {},
   "outputs": [
    {
     "output_type": "execute_result",
     "data": {
      "text/plain": [
       "                      n.id    wcc  degree  resources  pagerank  \\\n",
       "0      0000-0002-2561-3458      0     2.0          2  0.928861   \n",
       "1      0000-0003-0851-0665      0     3.0          3  1.114622   \n",
       "2      0000-0001-7479-2694      2     0.0          1  0.150000   \n",
       "3      0000-0003-3025-1292      3     6.0         26  0.918303   \n",
       "4      0000-0002-2918-4152      4     0.0          9  0.150000   \n",
       "...                    ...    ...     ...        ...       ...   \n",
       "13030  0000-0002-4485-2665  13030     0.0          1  0.150000   \n",
       "13031  0000-0001-8308-5393  13031     0.0          1  0.150000   \n",
       "13032  0000-0001-9765-0875  13032     0.0          1  0.150000   \n",
       "13033  0000-0002-0616-0617  13033     0.0          1  0.150000   \n",
       "13034  0000-0002-4951-9239  13034     0.0          1  0.150000   \n",
       "\n",
       "       localclusteringcoefficient  \\\n",
       "0                        0.000000   \n",
       "1                        0.333333   \n",
       "2                        0.000000   \n",
       "3                        0.266667   \n",
       "4                        0.000000   \n",
       "...                           ...   \n",
       "13030                    0.000000   \n",
       "13031                    0.000000   \n",
       "13032                    0.000000   \n",
       "13033                    0.000000   \n",
       "13034                    0.000000   \n",
       "\n",
       "                                  n.`__fastrp_embedding`     sum_rp  \n",
       "0      [0.3070467710494995, -0.3500320017337799, 0.42...  11.125182  \n",
       "1      [0.10494255274534225, -0.7914800643920898, 0.6...  13.781511  \n",
       "2      [0.0, 0.0, 0.0, 0.0, 0.0, 0.0, 0.0, 0.0, 0.0, ...   0.000000  \n",
       "3      [0.21004994213581085, 1.0289921760559082, -0.4...   2.105424  \n",
       "4      [0.0, 0.0, 0.0, 0.0, 0.0, 0.0, 0.0, 0.0, 0.0, ...   0.000000  \n",
       "...                                                  ...        ...  \n",
       "13030  [0.0, 0.0, 0.0, 0.0, 0.0, 0.0, 0.0, 0.0, 0.0, ...   0.000000  \n",
       "13031  [0.0, 0.0, 0.0, 0.0, 0.0, 0.0, 0.0, 0.0, 0.0, ...   0.000000  \n",
       "13032  [0.0, 0.0, 0.0, 0.0, 0.0, 0.0, 0.0, 0.0, 0.0, ...   0.000000  \n",
       "13033  [0.0, 0.0, 0.0, 0.0, 0.0, 0.0, 0.0, 0.0, 0.0, ...   0.000000  \n",
       "13034  [0.0, 0.0, 0.0, 0.0, 0.0, 0.0, 0.0, 0.0, 0.0, ...   0.000000  \n",
       "\n",
       "[13035 rows x 8 columns]"
      ],
      "text/html": "<div>\n<style scoped>\n    .dataframe tbody tr th:only-of-type {\n        vertical-align: middle;\n    }\n\n    .dataframe tbody tr th {\n        vertical-align: top;\n    }\n\n    .dataframe thead th {\n        text-align: right;\n    }\n</style>\n<table border=\"1\" class=\"dataframe\">\n  <thead>\n    <tr style=\"text-align: right;\">\n      <th></th>\n      <th>n.id</th>\n      <th>wcc</th>\n      <th>degree</th>\n      <th>resources</th>\n      <th>pagerank</th>\n      <th>localclusteringcoefficient</th>\n      <th>n.`__fastrp_embedding`</th>\n      <th>sum_rp</th>\n    </tr>\n  </thead>\n  <tbody>\n    <tr>\n      <th>0</th>\n      <td>0000-0002-2561-3458</td>\n      <td>0</td>\n      <td>2.0</td>\n      <td>2</td>\n      <td>0.928861</td>\n      <td>0.000000</td>\n      <td>[0.3070467710494995, -0.3500320017337799, 0.42...</td>\n      <td>11.125182</td>\n    </tr>\n    <tr>\n      <th>1</th>\n      <td>0000-0003-0851-0665</td>\n      <td>0</td>\n      <td>3.0</td>\n      <td>3</td>\n      <td>1.114622</td>\n      <td>0.333333</td>\n      <td>[0.10494255274534225, -0.7914800643920898, 0.6...</td>\n      <td>13.781511</td>\n    </tr>\n    <tr>\n      <th>2</th>\n      <td>0000-0001-7479-2694</td>\n      <td>2</td>\n      <td>0.0</td>\n      <td>1</td>\n      <td>0.150000</td>\n      <td>0.000000</td>\n      <td>[0.0, 0.0, 0.0, 0.0, 0.0, 0.0, 0.0, 0.0, 0.0, ...</td>\n      <td>0.000000</td>\n    </tr>\n    <tr>\n      <th>3</th>\n      <td>0000-0003-3025-1292</td>\n      <td>3</td>\n      <td>6.0</td>\n      <td>26</td>\n      <td>0.918303</td>\n      <td>0.266667</td>\n      <td>[0.21004994213581085, 1.0289921760559082, -0.4...</td>\n      <td>2.105424</td>\n    </tr>\n    <tr>\n      <th>4</th>\n      <td>0000-0002-2918-4152</td>\n      <td>4</td>\n      <td>0.0</td>\n      <td>9</td>\n      <td>0.150000</td>\n      <td>0.000000</td>\n      <td>[0.0, 0.0, 0.0, 0.0, 0.0, 0.0, 0.0, 0.0, 0.0, ...</td>\n      <td>0.000000</td>\n    </tr>\n    <tr>\n      <th>...</th>\n      <td>...</td>\n      <td>...</td>\n      <td>...</td>\n      <td>...</td>\n      <td>...</td>\n      <td>...</td>\n      <td>...</td>\n      <td>...</td>\n    </tr>\n    <tr>\n      <th>13030</th>\n      <td>0000-0002-4485-2665</td>\n      <td>13030</td>\n      <td>0.0</td>\n      <td>1</td>\n      <td>0.150000</td>\n      <td>0.000000</td>\n      <td>[0.0, 0.0, 0.0, 0.0, 0.0, 0.0, 0.0, 0.0, 0.0, ...</td>\n      <td>0.000000</td>\n    </tr>\n    <tr>\n      <th>13031</th>\n      <td>0000-0001-8308-5393</td>\n      <td>13031</td>\n      <td>0.0</td>\n      <td>1</td>\n      <td>0.150000</td>\n      <td>0.000000</td>\n      <td>[0.0, 0.0, 0.0, 0.0, 0.0, 0.0, 0.0, 0.0, 0.0, ...</td>\n      <td>0.000000</td>\n    </tr>\n    <tr>\n      <th>13032</th>\n      <td>0000-0001-9765-0875</td>\n      <td>13032</td>\n      <td>0.0</td>\n      <td>1</td>\n      <td>0.150000</td>\n      <td>0.000000</td>\n      <td>[0.0, 0.0, 0.0, 0.0, 0.0, 0.0, 0.0, 0.0, 0.0, ...</td>\n      <td>0.000000</td>\n    </tr>\n    <tr>\n      <th>13033</th>\n      <td>0000-0002-0616-0617</td>\n      <td>13033</td>\n      <td>0.0</td>\n      <td>1</td>\n      <td>0.150000</td>\n      <td>0.000000</td>\n      <td>[0.0, 0.0, 0.0, 0.0, 0.0, 0.0, 0.0, 0.0, 0.0, ...</td>\n      <td>0.000000</td>\n    </tr>\n    <tr>\n      <th>13034</th>\n      <td>0000-0002-4951-9239</td>\n      <td>13034</td>\n      <td>0.0</td>\n      <td>1</td>\n      <td>0.150000</td>\n      <td>0.000000</td>\n      <td>[0.0, 0.0, 0.0, 0.0, 0.0, 0.0, 0.0, 0.0, 0.0, ...</td>\n      <td>0.000000</td>\n    </tr>\n  </tbody>\n</table>\n<p>13035 rows × 8 columns</p>\n</div>"
     },
     "metadata": {},
     "execution_count": 49
    }
   ],
   "source": [
    "df"
   ]
  },
  {
   "cell_type": "code",
   "execution_count": 51,
   "metadata": {},
   "outputs": [
    {
     "output_type": "execute_result",
     "data": {
      "text/plain": [
       "5094"
      ]
     },
     "metadata": {},
     "execution_count": 51
    }
   ],
   "source": [
    "len(df[df['sum_rp'] == 0]) # numero di nodi che hanno tutto a 0 (cioè non hanno collaborato con nessuno)"
   ]
  },
  {
   "cell_type": "code",
   "execution_count": 40,
   "metadata": {},
   "outputs": [],
   "source": [
    "X = np.array(df[\"n.`__fastrp_embedding`\"].to_list())"
   ]
  },
  {
   "cell_type": "code",
   "execution_count": 52,
   "metadata": {},
   "outputs": [
    {
     "output_type": "execute_result",
     "data": {
      "text/plain": [
       "array([[ 0.30704677, -0.350032  ,  0.4241665 , ...,  0.5577575 ,\n",
       "        -0.47319341, -1.33884799],\n",
       "       [ 0.10494255, -0.79148006,  0.64841884, ...,  0.69398236,\n",
       "        -0.96658051, -1.79946589],\n",
       "       [ 0.        ,  0.        ,  0.        , ...,  0.        ,\n",
       "         0.        ,  0.        ],\n",
       "       ...,\n",
       "       [ 0.        ,  0.        ,  0.        , ...,  0.        ,\n",
       "         0.        ,  0.        ],\n",
       "       [ 0.        ,  0.        ,  0.        , ...,  0.        ,\n",
       "         0.        ,  0.        ],\n",
       "       [ 0.        ,  0.        ,  0.        , ...,  0.        ,\n",
       "         0.        ,  0.        ]])"
      ]
     },
     "metadata": {},
     "execution_count": 52
    }
   ],
   "source": [
    "X"
   ]
  },
  {
   "cell_type": "code",
   "execution_count": 53,
   "metadata": {},
   "outputs": [],
   "source": [
    "clf = LocalOutlierFactor(n_neighbors=20, contamination=0.0001) # in pratica 20 neighbour sembra funzionare bene\n",
    "y_pred = clf.fit_predict(X)"
   ]
  },
  {
   "cell_type": "code",
   "execution_count": 54,
   "metadata": {},
   "outputs": [
    {
     "output_type": "execute_result",
     "data": {
      "text/plain": [
       "-88420734381.45988"
      ]
     },
     "metadata": {},
     "execution_count": 54
    }
   ],
   "source": [
    "X_scores.min()"
   ]
  },
  {
   "cell_type": "code",
   "execution_count": 55,
   "metadata": {},
   "outputs": [
    {
     "output_type": "execute_result",
     "data": {
      "text/plain": [
       "                     n.id   wcc  degree  resources  pagerank  \\\n",
       "8986  0000-0002-3822-2923  8986     2.0          1  1.000000   \n",
       "1973  0000-0003-1553-9327  1973     2.0          4  1.000000   \n",
       "8988  0000-0001-6307-8786  8986     2.0          1  1.000000   \n",
       "6466  0000-0002-7529-001x  6465     2.0          1  1.000000   \n",
       "1975  0000-0003-1655-1547  1973     2.0          2  1.000000   \n",
       "...                   ...   ...     ...        ...       ...   \n",
       "2118  0000-0002-1931-1365     3     4.0          7  0.578361   \n",
       "544   0000-0002-0831-3541     3    11.0         25  1.905148   \n",
       "2904  0000-0002-1103-0649     3     4.0          2  0.612479   \n",
       "6892  0000-0002-4407-8542     3     2.0          2  0.369976   \n",
       "6524  0000-0002-4594-3438     3     5.0          2  0.732872   \n",
       "\n",
       "      localclusteringcoefficient  \\\n",
       "8986                    1.000000   \n",
       "1973                    1.000000   \n",
       "8988                    1.000000   \n",
       "6466                    1.000000   \n",
       "1975                    1.000000   \n",
       "...                          ...   \n",
       "2118                    0.666667   \n",
       "544                     0.309091   \n",
       "2904                    1.000000   \n",
       "6892                    1.000000   \n",
       "6524                    0.700000   \n",
       "\n",
       "                                 n.`__fastrp_embedding`     sum_rp  \\\n",
       "8986  [0.0, 0.8005028963088989, 0.0, 0.0, -0.0502952...  24.045234   \n",
       "1973  [0.0, 0.0, -0.8096112608909607, 0.809611260890...  -3.836021   \n",
       "8988  [0.0, 0.8028557300567627, 0.0, 0.0, 0.08094320...  24.154807   \n",
       "6466  [-2.1589813232421875, 0.0, -0.7232538461685181...   4.359829   \n",
       "1975  [0.0, 0.0, -0.745400071144104, 0.7454000711441...  -3.899730   \n",
       "...                                                 ...        ...   \n",
       "2118  [0.32956355810165405, -0.4229787290096283, 0.5...  -0.616788   \n",
       "544   [-0.46868106722831726, 0.6814004182815552, -0....   1.863681   \n",
       "2904  [-0.3895499110221863, 0.03607933968305588, 0.9... -10.143443   \n",
       "6892  [-0.09558090567588806, -0.24181139469146729, 1...  -3.802882   \n",
       "6524  [-0.21410320699214935, -0.06264206767082214, 1...  -9.413585   \n",
       "\n",
       "               lof  \n",
       "8986 -8.842073e+10  \n",
       "1973 -8.841097e+10  \n",
       "8988 -8.839846e+10  \n",
       "6466 -8.839242e+10  \n",
       "1975 -8.838234e+10  \n",
       "...            ...  \n",
       "2118 -9.579432e-01  \n",
       "544  -9.571397e-01  \n",
       "2904 -9.564176e-01  \n",
       "6892 -9.553838e-01  \n",
       "6524 -9.548077e-01  \n",
       "\n",
       "[13035 rows x 9 columns]"
      ],
      "text/html": "<div>\n<style scoped>\n    .dataframe tbody tr th:only-of-type {\n        vertical-align: middle;\n    }\n\n    .dataframe tbody tr th {\n        vertical-align: top;\n    }\n\n    .dataframe thead th {\n        text-align: right;\n    }\n</style>\n<table border=\"1\" class=\"dataframe\">\n  <thead>\n    <tr style=\"text-align: right;\">\n      <th></th>\n      <th>n.id</th>\n      <th>wcc</th>\n      <th>degree</th>\n      <th>resources</th>\n      <th>pagerank</th>\n      <th>localclusteringcoefficient</th>\n      <th>n.`__fastrp_embedding`</th>\n      <th>sum_rp</th>\n      <th>lof</th>\n    </tr>\n  </thead>\n  <tbody>\n    <tr>\n      <th>8986</th>\n      <td>0000-0002-3822-2923</td>\n      <td>8986</td>\n      <td>2.0</td>\n      <td>1</td>\n      <td>1.000000</td>\n      <td>1.000000</td>\n      <td>[0.0, 0.8005028963088989, 0.0, 0.0, -0.0502952...</td>\n      <td>24.045234</td>\n      <td>-8.842073e+10</td>\n    </tr>\n    <tr>\n      <th>1973</th>\n      <td>0000-0003-1553-9327</td>\n      <td>1973</td>\n      <td>2.0</td>\n      <td>4</td>\n      <td>1.000000</td>\n      <td>1.000000</td>\n      <td>[0.0, 0.0, -0.8096112608909607, 0.809611260890...</td>\n      <td>-3.836021</td>\n      <td>-8.841097e+10</td>\n    </tr>\n    <tr>\n      <th>8988</th>\n      <td>0000-0001-6307-8786</td>\n      <td>8986</td>\n      <td>2.0</td>\n      <td>1</td>\n      <td>1.000000</td>\n      <td>1.000000</td>\n      <td>[0.0, 0.8028557300567627, 0.0, 0.0, 0.08094320...</td>\n      <td>24.154807</td>\n      <td>-8.839846e+10</td>\n    </tr>\n    <tr>\n      <th>6466</th>\n      <td>0000-0002-7529-001x</td>\n      <td>6465</td>\n      <td>2.0</td>\n      <td>1</td>\n      <td>1.000000</td>\n      <td>1.000000</td>\n      <td>[-2.1589813232421875, 0.0, -0.7232538461685181...</td>\n      <td>4.359829</td>\n      <td>-8.839242e+10</td>\n    </tr>\n    <tr>\n      <th>1975</th>\n      <td>0000-0003-1655-1547</td>\n      <td>1973</td>\n      <td>2.0</td>\n      <td>2</td>\n      <td>1.000000</td>\n      <td>1.000000</td>\n      <td>[0.0, 0.0, -0.745400071144104, 0.7454000711441...</td>\n      <td>-3.899730</td>\n      <td>-8.838234e+10</td>\n    </tr>\n    <tr>\n      <th>...</th>\n      <td>...</td>\n      <td>...</td>\n      <td>...</td>\n      <td>...</td>\n      <td>...</td>\n      <td>...</td>\n      <td>...</td>\n      <td>...</td>\n      <td>...</td>\n    </tr>\n    <tr>\n      <th>2118</th>\n      <td>0000-0002-1931-1365</td>\n      <td>3</td>\n      <td>4.0</td>\n      <td>7</td>\n      <td>0.578361</td>\n      <td>0.666667</td>\n      <td>[0.32956355810165405, -0.4229787290096283, 0.5...</td>\n      <td>-0.616788</td>\n      <td>-9.579432e-01</td>\n    </tr>\n    <tr>\n      <th>544</th>\n      <td>0000-0002-0831-3541</td>\n      <td>3</td>\n      <td>11.0</td>\n      <td>25</td>\n      <td>1.905148</td>\n      <td>0.309091</td>\n      <td>[-0.46868106722831726, 0.6814004182815552, -0....</td>\n      <td>1.863681</td>\n      <td>-9.571397e-01</td>\n    </tr>\n    <tr>\n      <th>2904</th>\n      <td>0000-0002-1103-0649</td>\n      <td>3</td>\n      <td>4.0</td>\n      <td>2</td>\n      <td>0.612479</td>\n      <td>1.000000</td>\n      <td>[-0.3895499110221863, 0.03607933968305588, 0.9...</td>\n      <td>-10.143443</td>\n      <td>-9.564176e-01</td>\n    </tr>\n    <tr>\n      <th>6892</th>\n      <td>0000-0002-4407-8542</td>\n      <td>3</td>\n      <td>2.0</td>\n      <td>2</td>\n      <td>0.369976</td>\n      <td>1.000000</td>\n      <td>[-0.09558090567588806, -0.24181139469146729, 1...</td>\n      <td>-3.802882</td>\n      <td>-9.553838e-01</td>\n    </tr>\n    <tr>\n      <th>6524</th>\n      <td>0000-0002-4594-3438</td>\n      <td>3</td>\n      <td>5.0</td>\n      <td>2</td>\n      <td>0.732872</td>\n      <td>0.700000</td>\n      <td>[-0.21410320699214935, -0.06264206767082214, 1...</td>\n      <td>-9.413585</td>\n      <td>-9.548077e-01</td>\n    </tr>\n  </tbody>\n</table>\n<p>13035 rows × 9 columns</p>\n</div>"
     },
     "metadata": {},
     "execution_count": 55
    }
   ],
   "source": [
    "pd.set_option('display.max_rows', 100)\n",
    "X_scores = clf.negative_outlier_factor_\n",
    "df['lof'] = X_scores\n",
    "df.sort_values(by=['lof'], ascending=True) # quelli che sono in comunità dissiminate, \"lontane e staccate dalla grande community\""
   ]
  },
  {
   "cell_type": "code",
   "execution_count": 56,
   "metadata": {},
   "outputs": [],
   "source": [
    "# curioso vedere i nearest neighbors e trovare quali autori sono più vicini tra loro\n",
    "# il paper fast rp raccomanda la cosine similarity, ma sklearn usa euclidean, quindi normalizzo fast rp per avere lo stesso ordinamento"
   ]
  },
  {
   "cell_type": "code",
   "execution_count": 58,
   "metadata": {},
   "outputs": [
    {
     "output_type": "execute_result",
     "data": {
      "text/plain": [
       "9.984107199743846"
      ]
     },
     "metadata": {},
     "execution_count": 58
    }
   ],
   "source": [
    "l2_norm = np.sum(np.abs(X)**2,axis=-1)**(1./2)\n",
    "l2_norm[l2_norm == 0] = 1\n",
    "l2_norm.max()"
   ]
  },
  {
   "cell_type": "code",
   "execution_count": 59,
   "metadata": {},
   "outputs": [],
   "source": [
    "X_norm = X / l2_norm[:, np.newaxis]"
   ]
  },
  {
   "cell_type": "code",
   "execution_count": 60,
   "metadata": {},
   "outputs": [
    {
     "output_type": "execute_result",
     "data": {
      "text/plain": [
       "1.0000000000000002"
      ]
     },
     "metadata": {},
     "execution_count": 60
    }
   ],
   "source": [
    "l2_norm = np.sum(np.abs(X_norm)**2,axis=-1)**(1./2)\n",
    "l2_norm.max()"
   ]
  },
  {
   "cell_type": "code",
   "execution_count": 61,
   "metadata": {},
   "outputs": [
    {
     "output_type": "execute_result",
     "data": {
      "text/plain": [
       "NearestNeighbors(metric='euclidean', n_neighbors=2)"
      ]
     },
     "metadata": {},
     "execution_count": 61
    }
   ],
   "source": [
    "neigh = NearestNeighbors(n_neighbors=2, metric='euclidean')\n",
    "neigh.fit(X_norm)"
   ]
  },
  {
   "cell_type": "code",
   "execution_count": 62,
   "metadata": {},
   "outputs": [
    {
     "output_type": "execute_result",
     "data": {
      "text/plain": [
       "array([[ 0.01156006, -0.08718632,  0.07142726, ...,  0.07644635,\n",
       "        -0.10647469, -0.19822205],\n",
       "       [ 0.        ,  0.        ,  0.        , ...,  0.        ,\n",
       "         0.        ,  0.        ],\n",
       "       [ 0.02443047,  0.11967991, -0.05065115, ...,  0.08362475,\n",
       "         0.20845652,  0.02169579],\n",
       "       ...,\n",
       "       [-0.10201191,  0.1270666 ,  0.11397008, ...,  0.05029615,\n",
       "         0.09507713,  0.1481531 ],\n",
       "       [ 0.09511089, -0.08340565, -0.02773664, ...,  0.09013592,\n",
       "         0.05882417, -0.18067247],\n",
       "       [-0.06805397, -0.04492413, -0.06213671, ..., -0.01154949,\n",
       "         0.04316761,  0.09857748]])"
      ]
     },
     "metadata": {},
     "execution_count": 62
    }
   ],
   "source": [
    "X_norm[1:10, :]"
   ]
  },
  {
   "cell_type": "code",
   "execution_count": 63,
   "metadata": {},
   "outputs": [],
   "source": [
    "distances = neigh.kneighbors(X_norm, 2, return_distance=True) # è una tupla, primo elemento le distanze secondo gli indici, ovviamente come primo elemento mi ritornerà sempre se stesso, anche se stranamente non me lo ritorna a 0 (comunque un numero molto vicino a 0)"
   ]
  },
  {
   "cell_type": "code",
   "execution_count": 64,
   "metadata": {},
   "outputs": [
    {
     "output_type": "execute_result",
     "data": {
      "text/plain": [
       "(array([[0.        , 0.12931063],\n",
       "        [0.        , 0.17197403],\n",
       "        [0.        , 0.        ],\n",
       "        ...,\n",
       "        [0.        , 0.        ],\n",
       "        [0.        , 0.        ],\n",
       "        [0.        , 0.        ]]),\n",
       " array([[   0, 6867],\n",
       "        [   1, 1290],\n",
       "        [   2,    4],\n",
       "        ...,\n",
       "        [   2,    4],\n",
       "        [   2,    4],\n",
       "        [   2,    4]]))"
      ]
     },
     "metadata": {},
     "execution_count": 64
    }
   ],
   "source": [
    "distances"
   ]
  },
  {
   "cell_type": "code",
   "execution_count": 65,
   "metadata": {},
   "outputs": [],
   "source": [
    "distances_second = distances[0][:, 1]\n",
    "indices_second = distances[1][:, 1]"
   ]
  },
  {
   "cell_type": "code",
   "execution_count": 66,
   "metadata": {},
   "outputs": [],
   "source": [
    "nearest_neighbour_df = df[['n.id']].iloc[indices_second]"
   ]
  },
  {
   "cell_type": "code",
   "execution_count": 67,
   "metadata": {},
   "outputs": [],
   "source": [
    "df['nearest_neighbour'] = nearest_neighbour_df['n.id'].to_list()"
   ]
  },
  {
   "cell_type": "code",
   "execution_count": 68,
   "metadata": {},
   "outputs": [],
   "source": [
    "df['distance_to_nearest_neighbour'] = distances_second"
   ]
  },
  {
   "cell_type": "code",
   "execution_count": 69,
   "metadata": {},
   "outputs": [
    {
     "output_type": "execute_result",
     "data": {
      "text/plain": [
       "                      n.id   wcc  degree  resources  pagerank  \\\n",
       "7808   0000-0002-9547-1889  5666     2.0          3  0.819149   \n",
       "13000  0000-0003-2265-0162     3     3.0          1  0.638614   \n",
       "4704   0000-0001-5410-7135  4704     2.0          6  1.459459   \n",
       "4020   0000-0002-0161-654x     3     2.0         10  0.429642   \n",
       "4726   0000-0001-6743-360x  4725     2.0          3  1.459459   \n",
       "...                    ...   ...     ...        ...       ...   \n",
       "7298   0000-0002-5487-8076     3     2.0          3  0.391041   \n",
       "927    0000-0002-4315-3299     3     3.0         15  0.706450   \n",
       "3743   0000-0002-9618-6457     3     3.0          7  0.577955   \n",
       "906    0000-0002-1345-6360     3     3.0         13  0.615464   \n",
       "170    0000-0002-3752-5519     3     5.0         15  0.733103   \n",
       "\n",
       "       localclusteringcoefficient  \\\n",
       "7808                     1.000000   \n",
       "13000                    1.000000   \n",
       "4704                     0.000000   \n",
       "4020                     1.000000   \n",
       "4726                     0.000000   \n",
       "...                           ...   \n",
       "7298                     0.000000   \n",
       "927                      0.000000   \n",
       "3743                     0.333333   \n",
       "906                      0.000000   \n",
       "170                      0.100000   \n",
       "\n",
       "                                  n.`__fastrp_embedding`     sum_rp  \\\n",
       "7808   [-1.7583332061767578, 0.0, -1.5091028213500977... -14.751538   \n",
       "13000  [0.4152911603450775, -0.0067856572568416595, 0...  -8.538730   \n",
       "4704   [0.0, 0.5299989581108093, -0.5299989581108093,... -10.781060   \n",
       "4020   [0.5651296377182007, 0.3545893728733063, -1.37...   1.584527   \n",
       "4726   [0.7293249368667603, 0.15952207148075104, 0.0,...   6.313166   \n",
       "...                                                  ...        ...   \n",
       "7298   [-0.3369683623313904, -0.9641990661621094, -0....   6.291831   \n",
       "927    [0.23910915851593018, -1.8296360969543457, 0.7...   2.372397   \n",
       "3743   [0.30925899744033813, -0.37121668457984924, -0...   1.121508   \n",
       "906    [0.019334442913532257, -0.2596214711666107, 0....  -2.568416   \n",
       "170    [0.9336890578269958, -0.3325933814048767, -0.9...  -0.209401   \n",
       "\n",
       "                lof    nearest_neighbour  distance_to_nearest_neighbour  \n",
       "7808  -8.088133e+10  0000-0002-3154-1518                       0.000000  \n",
       "13000 -9.850888e-01  0000-0003-2265-0162                       0.000000  \n",
       "4704  -6.540390e+10  0000-0002-9354-9486                       0.000000  \n",
       "4020  -1.072636e+00  0000-0002-0161-654x                       0.000000  \n",
       "4726  -6.093757e+10  0000-0001-6743-360x                       0.000000  \n",
       "...             ...                  ...                            ...  \n",
       "7298  -1.407289e+00  0000-0001-5180-7179                       0.641140  \n",
       "927   -1.049076e+00  0000-0002-3438-3914                       0.643799  \n",
       "3743  -1.026409e+00  0000-0002-8687-8185                       0.653437  \n",
       "906   -1.129022e+00  0000-0003-0320-1257                       0.672024  \n",
       "170   -1.471227e+00  0000-0002-8909-7501                       0.682075  \n",
       "\n",
       "[4938 rows x 11 columns]"
      ],
      "text/html": "<div>\n<style scoped>\n    .dataframe tbody tr th:only-of-type {\n        vertical-align: middle;\n    }\n\n    .dataframe tbody tr th {\n        vertical-align: top;\n    }\n\n    .dataframe thead th {\n        text-align: right;\n    }\n</style>\n<table border=\"1\" class=\"dataframe\">\n  <thead>\n    <tr style=\"text-align: right;\">\n      <th></th>\n      <th>n.id</th>\n      <th>wcc</th>\n      <th>degree</th>\n      <th>resources</th>\n      <th>pagerank</th>\n      <th>localclusteringcoefficient</th>\n      <th>n.`__fastrp_embedding`</th>\n      <th>sum_rp</th>\n      <th>lof</th>\n      <th>nearest_neighbour</th>\n      <th>distance_to_nearest_neighbour</th>\n    </tr>\n  </thead>\n  <tbody>\n    <tr>\n      <th>7808</th>\n      <td>0000-0002-9547-1889</td>\n      <td>5666</td>\n      <td>2.0</td>\n      <td>3</td>\n      <td>0.819149</td>\n      <td>1.000000</td>\n      <td>[-1.7583332061767578, 0.0, -1.5091028213500977...</td>\n      <td>-14.751538</td>\n      <td>-8.088133e+10</td>\n      <td>0000-0002-3154-1518</td>\n      <td>0.000000</td>\n    </tr>\n    <tr>\n      <th>13000</th>\n      <td>0000-0003-2265-0162</td>\n      <td>3</td>\n      <td>3.0</td>\n      <td>1</td>\n      <td>0.638614</td>\n      <td>1.000000</td>\n      <td>[0.4152911603450775, -0.0067856572568416595, 0...</td>\n      <td>-8.538730</td>\n      <td>-9.850888e-01</td>\n      <td>0000-0003-2265-0162</td>\n      <td>0.000000</td>\n    </tr>\n    <tr>\n      <th>4704</th>\n      <td>0000-0001-5410-7135</td>\n      <td>4704</td>\n      <td>2.0</td>\n      <td>6</td>\n      <td>1.459459</td>\n      <td>0.000000</td>\n      <td>[0.0, 0.5299989581108093, -0.5299989581108093,...</td>\n      <td>-10.781060</td>\n      <td>-6.540390e+10</td>\n      <td>0000-0002-9354-9486</td>\n      <td>0.000000</td>\n    </tr>\n    <tr>\n      <th>4020</th>\n      <td>0000-0002-0161-654x</td>\n      <td>3</td>\n      <td>2.0</td>\n      <td>10</td>\n      <td>0.429642</td>\n      <td>1.000000</td>\n      <td>[0.5651296377182007, 0.3545893728733063, -1.37...</td>\n      <td>1.584527</td>\n      <td>-1.072636e+00</td>\n      <td>0000-0002-0161-654x</td>\n      <td>0.000000</td>\n    </tr>\n    <tr>\n      <th>4726</th>\n      <td>0000-0001-6743-360x</td>\n      <td>4725</td>\n      <td>2.0</td>\n      <td>3</td>\n      <td>1.459459</td>\n      <td>0.000000</td>\n      <td>[0.7293249368667603, 0.15952207148075104, 0.0,...</td>\n      <td>6.313166</td>\n      <td>-6.093757e+10</td>\n      <td>0000-0001-6743-360x</td>\n      <td>0.000000</td>\n    </tr>\n    <tr>\n      <th>...</th>\n      <td>...</td>\n      <td>...</td>\n      <td>...</td>\n      <td>...</td>\n      <td>...</td>\n      <td>...</td>\n      <td>...</td>\n      <td>...</td>\n      <td>...</td>\n      <td>...</td>\n      <td>...</td>\n    </tr>\n    <tr>\n      <th>7298</th>\n      <td>0000-0002-5487-8076</td>\n      <td>3</td>\n      <td>2.0</td>\n      <td>3</td>\n      <td>0.391041</td>\n      <td>0.000000</td>\n      <td>[-0.3369683623313904, -0.9641990661621094, -0....</td>\n      <td>6.291831</td>\n      <td>-1.407289e+00</td>\n      <td>0000-0001-5180-7179</td>\n      <td>0.641140</td>\n    </tr>\n    <tr>\n      <th>927</th>\n      <td>0000-0002-4315-3299</td>\n      <td>3</td>\n      <td>3.0</td>\n      <td>15</td>\n      <td>0.706450</td>\n      <td>0.000000</td>\n      <td>[0.23910915851593018, -1.8296360969543457, 0.7...</td>\n      <td>2.372397</td>\n      <td>-1.049076e+00</td>\n      <td>0000-0002-3438-3914</td>\n      <td>0.643799</td>\n    </tr>\n    <tr>\n      <th>3743</th>\n      <td>0000-0002-9618-6457</td>\n      <td>3</td>\n      <td>3.0</td>\n      <td>7</td>\n      <td>0.577955</td>\n      <td>0.333333</td>\n      <td>[0.30925899744033813, -0.37121668457984924, -0...</td>\n      <td>1.121508</td>\n      <td>-1.026409e+00</td>\n      <td>0000-0002-8687-8185</td>\n      <td>0.653437</td>\n    </tr>\n    <tr>\n      <th>906</th>\n      <td>0000-0002-1345-6360</td>\n      <td>3</td>\n      <td>3.0</td>\n      <td>13</td>\n      <td>0.615464</td>\n      <td>0.000000</td>\n      <td>[0.019334442913532257, -0.2596214711666107, 0....</td>\n      <td>-2.568416</td>\n      <td>-1.129022e+00</td>\n      <td>0000-0003-0320-1257</td>\n      <td>0.672024</td>\n    </tr>\n    <tr>\n      <th>170</th>\n      <td>0000-0002-3752-5519</td>\n      <td>3</td>\n      <td>5.0</td>\n      <td>15</td>\n      <td>0.733103</td>\n      <td>0.100000</td>\n      <td>[0.9336890578269958, -0.3325933814048767, -0.9...</td>\n      <td>-0.209401</td>\n      <td>-1.471227e+00</td>\n      <td>0000-0002-8909-7501</td>\n      <td>0.682075</td>\n    </tr>\n  </tbody>\n</table>\n<p>4938 rows × 11 columns</p>\n</div>"
     },
     "metadata": {},
     "execution_count": 69
    }
   ],
   "source": [
    "df[df['degree'] > 1].sort_values(by=['distance_to_nearest_neighbour'], ascending=True) # sembra un pattern ricorrente scrivere il nome per esteso se sono solo e puntato se sono con altri\n",
    "# il primo sono 2 collegati 2 volte con la stessa risorsa\n",
    "# Brendan Kelley c'è una risorsa dove hanno contribuito tutti 2 volte"
   ]
  },
  {
   "cell_type": "code",
   "execution_count": null,
   "metadata": {},
   "outputs": [],
   "source": []
  }
 ]
}