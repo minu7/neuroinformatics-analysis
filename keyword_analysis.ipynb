{
 "metadata": {
  "language_info": {
   "codemirror_mode": {
    "name": "ipython",
    "version": 3
   },
   "file_extension": ".py",
   "mimetype": "text/x-python",
   "name": "python",
   "nbconvert_exporter": "python",
   "pygments_lexer": "ipython3",
   "version": "3.8.7"
  },
  "orig_nbformat": 2,
  "kernelspec": {
   "name": "python387jvsc74a57bd01d6699aa86f2602ea533c86e4d7a2e97a146b603848a19e03a1edb8b897b9b3d",
   "display_name": "Python 3.8.7 64-bit ('3.8.7': pyenv)"
  }
 },
 "nbformat": 4,
 "nbformat_minor": 2,
 "cells": [
  {
   "cell_type": "code",
   "execution_count": 2,
   "metadata": {},
   "outputs": [
    {
     "output_type": "stream",
     "name": "stderr",
     "text": [
      "/Users/filippo/.pyenv/versions/3.8.7/lib/python3.8/site-packages/pandas/compat/__init__.py:97: UserWarning: Could not import the lzma module. Your installed Python is incomplete. Attempting to use lzma compression will result in a RuntimeError.\n  warnings.warn(msg)\n"
     ]
    }
   ],
   "source": [
    "from neo4j import GraphDatabase\n",
    "import pandas as pd\n",
    "\n",
    "# Init the connection to the database\n",
    "uri = \"bolt://localhost:7687\"\n",
    "driver = GraphDatabase.driver(uri, auth=(\"neo4j\", \"neuroinformatics_orc_id\"), encrypted=False)\n",
    "pd.set_option('display.max_columns', None)\n",
    "\n",
    "def cyperQueryToDataFrame(query):\n",
    "  with driver.session() as session:\n",
    "    result = session.run(query)\n",
    "    return pd.DataFrame(result.data(), columns=result.keys())"
   ]
  },
  {
   "cell_type": "code",
   "execution_count": 3,
   "metadata": {},
   "outputs": [],
   "source": [
    "keywords = cyperQueryToDataFrame(\"MATCH (n:Keyword) RETURN n.id\")"
   ]
  },
  {
   "cell_type": "code",
   "execution_count": 4,
   "metadata": {},
   "outputs": [
    {
     "output_type": "stream",
     "name": "stdout",
     "text": [
      "Requirement already satisfied: sentence-transformers in /Users/filippo/.pyenv/versions/3.8.7/lib/python3.8/site-packages (1.0.3)\n",
      "Requirement already satisfied: torch>=1.6.0 in /Users/filippo/.pyenv/versions/3.8.7/lib/python3.8/site-packages (from sentence-transformers) (1.8.0)\n",
      "Requirement already satisfied: sentencepiece in /Users/filippo/.pyenv/versions/3.8.7/lib/python3.8/site-packages (from sentence-transformers) (0.1.95)\n",
      "Requirement already satisfied: numpy in /Users/filippo/.pyenv/versions/3.8.7/lib/python3.8/site-packages (from sentence-transformers) (1.19.5)\n",
      "Requirement already satisfied: scipy in /Users/filippo/.pyenv/versions/3.8.7/lib/python3.8/site-packages (from sentence-transformers) (1.6.0)\n",
      "Requirement already satisfied: nltk in /Users/filippo/.pyenv/versions/3.8.7/lib/python3.8/site-packages (from sentence-transformers) (3.5)\n",
      "Requirement already satisfied: scikit-learn in /Users/filippo/.pyenv/versions/3.8.7/lib/python3.8/site-packages (from sentence-transformers) (0.24.1)\n",
      "Requirement already satisfied: tqdm in /Users/filippo/.pyenv/versions/3.8.7/lib/python3.8/site-packages (from sentence-transformers) (4.59.0)\n",
      "Requirement already satisfied: transformers<5.0.0,>=3.1.0 in /Users/filippo/.pyenv/versions/3.8.7/lib/python3.8/site-packages (from sentence-transformers) (4.4.2)\n",
      "Requirement already satisfied: typing-extensions in /Users/filippo/.pyenv/versions/3.8.7/lib/python3.8/site-packages (from torch>=1.6.0->sentence-transformers) (3.7.4.3)\n",
      "Requirement already satisfied: regex!=2019.12.17 in /Users/filippo/.pyenv/versions/3.8.7/lib/python3.8/site-packages (from transformers<5.0.0,>=3.1.0->sentence-transformers) (2021.3.17)\n",
      "Requirement already satisfied: filelock in /Users/filippo/.pyenv/versions/3.8.7/lib/python3.8/site-packages (from transformers<5.0.0,>=3.1.0->sentence-transformers) (3.0.12)\n",
      "Requirement already satisfied: requests in /Users/filippo/.pyenv/versions/3.8.7/lib/python3.8/site-packages (from transformers<5.0.0,>=3.1.0->sentence-transformers) (2.25.1)\n",
      "Requirement already satisfied: tokenizers<0.11,>=0.10.1 in /Users/filippo/.pyenv/versions/3.8.7/lib/python3.8/site-packages (from transformers<5.0.0,>=3.1.0->sentence-transformers) (0.10.1)\n",
      "Requirement already satisfied: sacremoses in /Users/filippo/.pyenv/versions/3.8.7/lib/python3.8/site-packages (from transformers<5.0.0,>=3.1.0->sentence-transformers) (0.0.43)\n",
      "Requirement already satisfied: packaging in /Users/filippo/.pyenv/versions/3.8.7/lib/python3.8/site-packages (from transformers<5.0.0,>=3.1.0->sentence-transformers) (20.8)\n",
      "Requirement already satisfied: joblib in /Users/filippo/.pyenv/versions/3.8.7/lib/python3.8/site-packages (from nltk->sentence-transformers) (1.0.1)\n",
      "Requirement already satisfied: click in /Users/filippo/.pyenv/versions/3.8.7/lib/python3.8/site-packages (from nltk->sentence-transformers) (7.1.2)\n",
      "Requirement already satisfied: pyparsing>=2.0.2 in /Users/filippo/.pyenv/versions/3.8.7/lib/python3.8/site-packages (from packaging->transformers<5.0.0,>=3.1.0->sentence-transformers) (2.4.7)\n",
      "Requirement already satisfied: certifi>=2017.4.17 in /Users/filippo/.pyenv/versions/3.8.7/lib/python3.8/site-packages (from requests->transformers<5.0.0,>=3.1.0->sentence-transformers) (2020.12.5)\n",
      "Requirement already satisfied: idna<3,>=2.5 in /Users/filippo/.pyenv/versions/3.8.7/lib/python3.8/site-packages (from requests->transformers<5.0.0,>=3.1.0->sentence-transformers) (2.10)\n",
      "Requirement already satisfied: chardet<5,>=3.0.2 in /Users/filippo/.pyenv/versions/3.8.7/lib/python3.8/site-packages (from requests->transformers<5.0.0,>=3.1.0->sentence-transformers) (4.0.0)\n",
      "Requirement already satisfied: urllib3<1.27,>=1.21.1 in /Users/filippo/.pyenv/versions/3.8.7/lib/python3.8/site-packages (from requests->transformers<5.0.0,>=3.1.0->sentence-transformers) (1.26.3)\n",
      "Requirement already satisfied: six in /Users/filippo/.pyenv/versions/3.8.7/lib/python3.8/site-packages (from sacremoses->transformers<5.0.0,>=3.1.0->sentence-transformers) (1.15.0)\n",
      "Requirement already satisfied: threadpoolctl>=2.0.0 in /Users/filippo/.pyenv/versions/3.8.7/lib/python3.8/site-packages (from scikit-learn->sentence-transformers) (2.1.0)\n"
     ]
    }
   ],
   "source": [
    "!pip install -U sentence-transformers"
   ]
  },
  {
   "cell_type": "code",
   "execution_count": 5,
   "metadata": {},
   "outputs": [
    {
     "output_type": "stream",
     "name": "stdout",
     "text": [
      "The cat sits outside \t\t The dog plays in the garden \t\t Score: -0.0686\nA man is playing guitar \t\t A woman watches TV \t\t Score: 0.0891\nThe new movie is awesome \t\t The new movie is so great \t\t Score: 0.9907\n"
     ]
    }
   ],
   "source": [
    "from sentence_transformers import SentenceTransformer, util\n",
    "model = SentenceTransformer('stsb-roberta-base') # roberta base good and not too large\n",
    "\n",
    "# Two lists of sentences\n",
    "sentences1 = ['The cat sits outside',\n",
    "             'A man is playing guitar',\n",
    "             'The new movie is awesome']\n",
    "\n",
    "sentences2 = ['The dog plays in the garden',\n",
    "              'A woman watches TV',\n",
    "              'The new movie is so great']\n",
    "\n",
    "#Compute embedding for both lists\n",
    "embeddings1 = model.encode(sentences1, convert_to_tensor=True)\n",
    "embeddings2 = model.encode(sentences2, convert_to_tensor=True)\n",
    "\n",
    "#Compute cosine-similarits\n",
    "cosine_scores = util.pytorch_cos_sim(embeddings1, embeddings2)\n",
    "\n",
    "#Output the pairs with their score\n",
    "for i in range(len(sentences1)):\n",
    "    print(\"{} \\t\\t {} \\t\\t Score: {:.4f}\".format(sentences1[i], sentences2[i], cosine_scores[i][i]))"
   ]
  },
  {
   "cell_type": "code",
   "execution_count": 6,
   "metadata": {},
   "outputs": [],
   "source": [
    "import re\n",
    "def camel_case_split(identifier):\n",
    "    matches = re.finditer('.+?(?:(?<=[a-z])(?=[A-Z])|(?<=[A-Z])(?=[A-Z][a-z])|$)', identifier)\n",
    "    return ' '.join([m.group(0) for m in matches])"
   ]
  },
  {
   "cell_type": "code",
   "execution_count": 7,
   "metadata": {},
   "outputs": [],
   "source": [
    "sentences = keywords['n.id'].squeeze().map(lambda x: ' '.join(camel_case_split(x[:-4]).split('_'))).tolist() # rimozione camelcase e underscore"
   ]
  },
  {
   "cell_type": "code",
   "execution_count": 8,
   "metadata": {},
   "outputs": [],
   "source": [
    "embeddings = model.encode(sentences, convert_to_tensor=True)"
   ]
  },
  {
   "cell_type": "code",
   "execution_count": 12,
   "metadata": {},
   "outputs": [
    {
     "output_type": "execute_result",
     "data": {
      "text/plain": [
       "                            n.id\n",
       "0                    Article_sub\n",
       "1      Developmental Biology_sub\n",
       "2       General Neuroscience_sub\n",
       "3          Molecular Biology_sub\n",
       "4         Clinical Neurology_sub\n",
       "...                          ...\n",
       "60799         Trend analysis_sub\n",
       "60800                Mandate_sub\n",
       "60801     Spatial regression_sub\n",
       "60802    Partially compliant_sub\n",
       "60803           Female voice_sub\n",
       "\n",
       "[60804 rows x 1 columns]"
      ],
      "text/html": "<div>\n<style scoped>\n    .dataframe tbody tr th:only-of-type {\n        vertical-align: middle;\n    }\n\n    .dataframe tbody tr th {\n        vertical-align: top;\n    }\n\n    .dataframe thead th {\n        text-align: right;\n    }\n</style>\n<table border=\"1\" class=\"dataframe\">\n  <thead>\n    <tr style=\"text-align: right;\">\n      <th></th>\n      <th>n.id</th>\n    </tr>\n  </thead>\n  <tbody>\n    <tr>\n      <th>0</th>\n      <td>Article_sub</td>\n    </tr>\n    <tr>\n      <th>1</th>\n      <td>Developmental Biology_sub</td>\n    </tr>\n    <tr>\n      <th>2</th>\n      <td>General Neuroscience_sub</td>\n    </tr>\n    <tr>\n      <th>3</th>\n      <td>Molecular Biology_sub</td>\n    </tr>\n    <tr>\n      <th>4</th>\n      <td>Clinical Neurology_sub</td>\n    </tr>\n    <tr>\n      <th>...</th>\n      <td>...</td>\n    </tr>\n    <tr>\n      <th>60799</th>\n      <td>Trend analysis_sub</td>\n    </tr>\n    <tr>\n      <th>60800</th>\n      <td>Mandate_sub</td>\n    </tr>\n    <tr>\n      <th>60801</th>\n      <td>Spatial regression_sub</td>\n    </tr>\n    <tr>\n      <th>60802</th>\n      <td>Partially compliant_sub</td>\n    </tr>\n    <tr>\n      <th>60803</th>\n      <td>Female voice_sub</td>\n    </tr>\n  </tbody>\n</table>\n<p>60804 rows × 1 columns</p>\n</div>"
     },
     "metadata": {},
     "execution_count": 12
    }
   ],
   "source": [
    "keywords"
   ]
  },
  {
   "cell_type": "code",
   "execution_count": 10,
   "metadata": {},
   "outputs": [],
   "source": [
    "json_to_import = []\n",
    "for i in range(len(sentences)):\n",
    "    json_to_import.append({ \"id\": keywords['n.id'][i], \"embeddings\": embeddings[i].tolist(),  })"
   ]
  },
  {
   "cell_type": "code",
   "execution_count": 11,
   "metadata": {},
   "outputs": [],
   "source": [
    "pd.DataFrame(json_to_import).to_csv('embeddings_keyword.csv')"
   ]
  },
  {
   "cell_type": "code",
   "execution_count": 13,
   "metadata": {},
   "outputs": [],
   "source": [
    "from neo4j import GraphDatabase\n",
    "\n",
    "# Init the connection to the database\n",
    "uri = \"bolt://localhost:7687\"\n",
    "driver = GraphDatabase.driver(uri, auth=(\"neo4j\", \"neuroinformatics_orc_id\"), encrypted=False)\n",
    "session = driver.session()\n",
    "for i in range(len(sentences)):\n",
    "    session.run(\"MATCH (n:Keyword) WHERE n.id = $id SET n.r_embeddings = $embeddings RETURN n\", { \"id\": keywords['n.id'][i], \"embeddings\": embeddings[i].tolist() })"
   ]
  },
  {
   "cell_type": "code",
   "execution_count": null,
   "metadata": {},
   "outputs": [],
   "source": []
  },
  {
   "cell_type": "code",
   "execution_count": null,
   "metadata": {},
   "outputs": [],
   "source": [
    "# meglio farlo sulle risorse (descrizione e/o titolo) bert sulle keyword potrebbe essere non molto pulito (proviamo comunque sulle keyword)"
   ]
  },
  {
   "cell_type": "code",
   "execution_count": 19,
   "metadata": {},
   "outputs": [],
   "source": [
    "keywords = cyperQueryToDataFrame(\"MATCH (n:Keyword) RETURN n.id, n.r_embeddings, n.__fastrp_embedding\")"
   ]
  },
  {
   "cell_type": "code",
   "execution_count": 3,
   "metadata": {},
   "outputs": [],
   "source": [
    "import numpy as np\n",
    "\n",
    "from sklearn.cluster import DBSCAN\n",
    "from sklearn import metrics\n",
    "from sklearn.preprocessing import StandardScaler\n",
    "from sklearn.neighbors import LocalOutlierFactor, NearestNeighbors\n",
    "import pandas as pd\n",
    "from sklearn.manifold import TSNE\n",
    "%matplotlib widget"
   ]
  },
  {
   "cell_type": "code",
   "execution_count": 21,
   "metadata": {},
   "outputs": [],
   "source": [
    "X = np.array(keywords[\"n.r_embeddings\"].to_list())"
   ]
  },
  {
   "cell_type": "code",
   "execution_count": 22,
   "metadata": {},
   "outputs": [],
   "source": [
    "unq, count = np.unique(X, axis=0, return_counts=True)"
   ]
  },
  {
   "cell_type": "code",
   "execution_count": 23,
   "metadata": {},
   "outputs": [
    {
     "output_type": "execute_result",
     "data": {
      "text/plain": [
       "6"
      ]
     },
     "metadata": {},
     "execution_count": 23
    }
   ],
   "source": [
    "count.max() # il massimo è solo 6 simboli, quindi al massimo abbiamo 6 UNK"
   ]
  },
  {
   "source": [
    "Nearest neighbour using transformer"
   ],
   "cell_type": "markdown",
   "metadata": {}
  },
  {
   "cell_type": "code",
   "execution_count": 24,
   "metadata": {},
   "outputs": [
    {
     "output_type": "execute_result",
     "data": {
      "text/plain": [
       "22.45608757823422"
      ]
     },
     "metadata": {},
     "execution_count": 24
    }
   ],
   "source": [
    "l2_norm = np.sum(np.abs(X)**2,axis=-1)**(1./2)\n",
    "l2_norm[l2_norm == 0] = 1\n",
    "l2_norm.max()"
   ]
  },
  {
   "cell_type": "code",
   "execution_count": 25,
   "metadata": {},
   "outputs": [],
   "source": [
    "X_norm = X / l2_norm[:, np.newaxis]"
   ]
  },
  {
   "cell_type": "code",
   "execution_count": 26,
   "metadata": {},
   "outputs": [
    {
     "output_type": "execute_result",
     "data": {
      "text/plain": [
       "1.0000000000000002"
      ]
     },
     "metadata": {},
     "execution_count": 26
    }
   ],
   "source": [
    "l2_norm = np.sum(np.abs(X_norm)**2,axis=-1)**(1./2)\n",
    "l2_norm.max()"
   ]
  },
  {
   "cell_type": "code",
   "execution_count": 27,
   "metadata": {},
   "outputs": [
    {
     "output_type": "execute_result",
     "data": {
      "text/plain": [
       "NearestNeighbors(metric='euclidean', n_neighbors=2)"
      ]
     },
     "metadata": {},
     "execution_count": 27
    }
   ],
   "source": [
    "neigh = NearestNeighbors(n_neighbors=2, metric='euclidean')\n",
    "neigh.fit(X_norm)"
   ]
  },
  {
   "cell_type": "code",
   "execution_count": 28,
   "metadata": {},
   "outputs": [],
   "source": [
    "distances = neigh.kneighbors(X_norm, 2, return_distance=True)\n",
    "distances_second = distances[0][:, 1]\n",
    "indices_second = distances[1][:, 1]\n",
    "nearest_neighbour_df = keywords[['n.id']].iloc[indices_second]\n",
    "keywords['nearest_neighbour'] = nearest_neighbour_df['n.id'].to_list()\n",
    "keywords['distance_to_nearest_neighbour'] = distances_second"
   ]
  },
  {
   "cell_type": "code",
   "execution_count": 29,
   "metadata": {},
   "outputs": [
    {
     "output_type": "execute_result",
     "data": {
      "text/plain": [
       "                             n.id  \\\n",
       "0                     Article_sub   \n",
       "5550            Genetic model_sub   \n",
       "23452           biotechnology_sub   \n",
       "23477             audiovisual_sub   \n",
       "23483            parcellation_sub   \n",
       "...                           ...   \n",
       "10516                Thinning_sub   \n",
       "50822  ASIP centennial review_sub   \n",
       "44190     Door to needle time_sub   \n",
       "52695                Downtown_sub   \n",
       "58152          Shoulder joint_sub   \n",
       "\n",
       "                                          n.r_embeddings  \\\n",
       "0      [0.29068514704704285, -0.520392894744873, 0.27...   \n",
       "5550   [-0.21972937881946564, -0.8356800079345703, 0....   \n",
       "23452  [0.38012242317199707, -0.5731474757194519, -0....   \n",
       "23477  [-0.18781010806560516, -0.24385662376880646, 0...   \n",
       "23483  [-0.24408778548240662, -0.7265926599502563, 0....   \n",
       "...                                                  ...   \n",
       "10516  [0.30108463764190674, -1.0121861696243286, -0....   \n",
       "50822  [0.2732141315937042, -0.5266939401626587, -0.5...   \n",
       "44190  [1.1658705472946167, 0.2911945581436157, 0.098...   \n",
       "52695  [-0.07620495557785034, -0.5523253679275513, 0....   \n",
       "58152  [0.40083780884742737, -0.15101096034049988, -0...   \n",
       "\n",
       "                                    n.__fastrp_embedding  \\\n",
       "0      [0.23946213722229004, 0.9097933173179626, 0.37...   \n",
       "5550   [0.18015313148498535, 0.9190300703048706, 0.21...   \n",
       "23452  [0.46034255623817444, 1.2117494344711304, 0.25...   \n",
       "23477  [0.47778013348579407, 0.8880183100700378, 0.21...   \n",
       "23483  [0.4743480086326599, 0.769284725189209, 0.1475...   \n",
       "...                                                  ...   \n",
       "10516  [0.4265685975551605, 0.8930532336235046, 0.235...   \n",
       "50822  [0.32552725076675415, 0.8336598873138428, 0.14...   \n",
       "44190  [0.16837739944458008, 0.8343154191970825, 0.29...   \n",
       "52695  [0.3217189610004425, 1.0120137929916382, 0.241...   \n",
       "58152  [0.290085107088089, 0.8747177124023438, 0.2765...   \n",
       "\n",
       "             nearest_neighbour  distance_to_nearest_neighbour  \n",
       "0                  article_sub                       0.000000  \n",
       "5550         GENETIC MODEL_sub                       0.000000  \n",
       "23452        biotechnology_sub                       0.000000  \n",
       "23477          audiovisual_sub                       0.000000  \n",
       "23483         Parcellation_sub                       0.000000  \n",
       "...                        ...                            ...  \n",
       "10516       Dichotic pitch_sub                       1.022137  \n",
       "50822        Asian lineage_sub                       1.024123  \n",
       "44190  EEG synchronization_sub                       1.026619  \n",
       "52695        Dual modality_sub                       1.034853  \n",
       "58152               Shroud_sub                       1.037086  \n",
       "\n",
       "[60804 rows x 5 columns]"
      ],
      "text/html": "<div>\n<style scoped>\n    .dataframe tbody tr th:only-of-type {\n        vertical-align: middle;\n    }\n\n    .dataframe tbody tr th {\n        vertical-align: top;\n    }\n\n    .dataframe thead th {\n        text-align: right;\n    }\n</style>\n<table border=\"1\" class=\"dataframe\">\n  <thead>\n    <tr style=\"text-align: right;\">\n      <th></th>\n      <th>n.id</th>\n      <th>n.r_embeddings</th>\n      <th>n.__fastrp_embedding</th>\n      <th>nearest_neighbour</th>\n      <th>distance_to_nearest_neighbour</th>\n    </tr>\n  </thead>\n  <tbody>\n    <tr>\n      <th>0</th>\n      <td>Article_sub</td>\n      <td>[0.29068514704704285, -0.520392894744873, 0.27...</td>\n      <td>[0.23946213722229004, 0.9097933173179626, 0.37...</td>\n      <td>article_sub</td>\n      <td>0.000000</td>\n    </tr>\n    <tr>\n      <th>5550</th>\n      <td>Genetic model_sub</td>\n      <td>[-0.21972937881946564, -0.8356800079345703, 0....</td>\n      <td>[0.18015313148498535, 0.9190300703048706, 0.21...</td>\n      <td>GENETIC MODEL_sub</td>\n      <td>0.000000</td>\n    </tr>\n    <tr>\n      <th>23452</th>\n      <td>biotechnology_sub</td>\n      <td>[0.38012242317199707, -0.5731474757194519, -0....</td>\n      <td>[0.46034255623817444, 1.2117494344711304, 0.25...</td>\n      <td>biotechnology_sub</td>\n      <td>0.000000</td>\n    </tr>\n    <tr>\n      <th>23477</th>\n      <td>audiovisual_sub</td>\n      <td>[-0.18781010806560516, -0.24385662376880646, 0...</td>\n      <td>[0.47778013348579407, 0.8880183100700378, 0.21...</td>\n      <td>audiovisual_sub</td>\n      <td>0.000000</td>\n    </tr>\n    <tr>\n      <th>23483</th>\n      <td>parcellation_sub</td>\n      <td>[-0.24408778548240662, -0.7265926599502563, 0....</td>\n      <td>[0.4743480086326599, 0.769284725189209, 0.1475...</td>\n      <td>Parcellation_sub</td>\n      <td>0.000000</td>\n    </tr>\n    <tr>\n      <th>...</th>\n      <td>...</td>\n      <td>...</td>\n      <td>...</td>\n      <td>...</td>\n      <td>...</td>\n    </tr>\n    <tr>\n      <th>10516</th>\n      <td>Thinning_sub</td>\n      <td>[0.30108463764190674, -1.0121861696243286, -0....</td>\n      <td>[0.4265685975551605, 0.8930532336235046, 0.235...</td>\n      <td>Dichotic pitch_sub</td>\n      <td>1.022137</td>\n    </tr>\n    <tr>\n      <th>50822</th>\n      <td>ASIP centennial review_sub</td>\n      <td>[0.2732141315937042, -0.5266939401626587, -0.5...</td>\n      <td>[0.32552725076675415, 0.8336598873138428, 0.14...</td>\n      <td>Asian lineage_sub</td>\n      <td>1.024123</td>\n    </tr>\n    <tr>\n      <th>44190</th>\n      <td>Door to needle time_sub</td>\n      <td>[1.1658705472946167, 0.2911945581436157, 0.098...</td>\n      <td>[0.16837739944458008, 0.8343154191970825, 0.29...</td>\n      <td>EEG synchronization_sub</td>\n      <td>1.026619</td>\n    </tr>\n    <tr>\n      <th>52695</th>\n      <td>Downtown_sub</td>\n      <td>[-0.07620495557785034, -0.5523253679275513, 0....</td>\n      <td>[0.3217189610004425, 1.0120137929916382, 0.241...</td>\n      <td>Dual modality_sub</td>\n      <td>1.034853</td>\n    </tr>\n    <tr>\n      <th>58152</th>\n      <td>Shoulder joint_sub</td>\n      <td>[0.40083780884742737, -0.15101096034049988, -0...</td>\n      <td>[0.290085107088089, 0.8747177124023438, 0.2765...</td>\n      <td>Shroud_sub</td>\n      <td>1.037086</td>\n    </tr>\n  </tbody>\n</table>\n<p>60804 rows × 5 columns</p>\n</div>"
     },
     "metadata": {},
     "execution_count": 29
    }
   ],
   "source": [
    "keywords.sort_values(by=['distance_to_nearest_neighbour'], ascending=True)"
   ]
  },
  {
   "cell_type": "code",
   "execution_count": 30,
   "metadata": {},
   "outputs": [],
   "source": [
    "keywords.sort_values(by=['distance_to_nearest_neighbour'], ascending=True).to_csv('keyword_embeddings_similarity.csv')"
   ]
  },
  {
   "cell_type": "code",
   "execution_count": 31,
   "metadata": {},
   "outputs": [],
   "source": [
    "X = np.array(keywords[\"n.__fastrp_embedding\"].to_list())\n",
    "l2_norm = np.sum(np.abs(X)**2,axis=-1)**(1./2)\n",
    "l2_norm[l2_norm == 0] = 1\n",
    "l2_norm.max()\n",
    "X_norm = X / l2_norm[:, np.newaxis]\n",
    "l2_norm = np.sum(np.abs(X_norm)**2,axis=-1)**(1./2)\n",
    "l2_norm.max()\n",
    "neigh = NearestNeighbors(n_neighbors=2, metric='euclidean')\n",
    "neigh.fit(X_norm)\n",
    "distances = neigh.kneighbors(X_norm, 2, return_distance=True)\n",
    "distances_second = distances[0][:, 1]\n",
    "indices_second = distances[1][:, 1]\n",
    "nearest_neighbour_df = keywords[['n.id']].iloc[indices_second]\n",
    "keywords['nearest_neighbour_rp'] = nearest_neighbour_df['n.id'].to_list()\n",
    "keywords['distance_to_nearest_neighbour_rp'] = distances_second"
   ]
  },
  {
   "cell_type": "code",
   "execution_count": 32,
   "metadata": {},
   "outputs": [
    {
     "output_type": "execute_result",
     "data": {
      "text/plain": [
       "                                                    n.id  \\\n",
       "428    Neurosciences. Biological psychiatry. Neuropsy...   \n",
       "429                                        RC321-571_sub   \n",
       "550        Neurology. Diseases of the nervous system_sub   \n",
       "551                                        RC346-429_sub   \n",
       "1071                                      R858-859.7_sub   \n",
       "...                                                  ...   \n",
       "48186                             ecosystem services_sub   \n",
       "24268                             Environmental data_sub   \n",
       "34929                                          value_sub   \n",
       "40493                                Deep sea mining_sub   \n",
       "28263                                      Ecosystem_sub   \n",
       "\n",
       "                                          n.r_embeddings  \\\n",
       "428    [-0.03752695769071579, 0.5647879242897034, 0.1...   \n",
       "429    [0.41022780537605286, -0.2790752649307251, 0.0...   \n",
       "550    [-0.5539271831512451, 0.06927037984132767, 0.8...   \n",
       "551    [0.2908068001270294, -0.9086668491363525, 0.00...   \n",
       "1071   [-0.012210744433104992, -0.4148079454898834, -...   \n",
       "...                                                  ...   \n",
       "48186  [-0.28248322010040283, -0.17272460460662842, -...   \n",
       "24268  [-0.6154889464378357, -0.764665961265564, -0.5...   \n",
       "34929  [0.1971978396177292, -0.9848495125770569, -0.4...   \n",
       "40493  [-0.32977399230003357, 0.25428643822669983, -1...   \n",
       "28263  [-0.567966639995575, -0.35501641035079956, -0....   \n",
       "\n",
       "                                    n.__fastrp_embedding  \\\n",
       "428    [0.4839213192462921, 0.9260246753692627, 0.010...   \n",
       "429    [0.4839308559894562, 0.9277102947235107, 0.010...   \n",
       "550    [0.16167712211608887, 0.83883136510849, 0.1945...   \n",
       "551    [0.16346226632595062, 0.8388150930404663, 0.19...   \n",
       "1071   [0.1112583726644516, 0.7617290019989014, 0.179...   \n",
       "...                                                  ...   \n",
       "48186  [-0.17734858393669128, 0.5480749607086182, 0.2...   \n",
       "24268  [-0.3294067978858948, 1.0884798765182495, -0.0...   \n",
       "34929  [0.46996498107910156, 0.6772952675819397, 0.04...   \n",
       "40493  [-0.46577492356300354, 0.5656290650367737, -0....   \n",
       "28263  [0.09011109173297882, 0.47046810388565063, 0.5...   \n",
       "\n",
       "                                       nearest_neighbour  \\\n",
       "428    Biological Psychiatry, Neuropsychology and Phy...   \n",
       "429                                   571 Physiology_sub   \n",
       "550                            neurological diseases_sub   \n",
       "551                                           RC0346_sub   \n",
       "1071                                            R858_sub   \n",
       "...                                                  ...   \n",
       "48186                             Ecosystem services_sub   \n",
       "24268                                  environmental_sub   \n",
       "34929                                          value_sub   \n",
       "40493                                deep-sea mining_sub   \n",
       "28263                                     Ecosystems_sub   \n",
       "\n",
       "       distance_to_nearest_neighbour  \\\n",
       "428                     5.747103e-01   \n",
       "429                     8.766453e-01   \n",
       "550                     5.493369e-01   \n",
       "551                     6.699589e-01   \n",
       "1071                    4.831673e-01   \n",
       "...                              ...   \n",
       "48186                   6.710488e-07   \n",
       "24268                   4.104480e-01   \n",
       "34929                   0.000000e+00   \n",
       "40493                   2.784853e-01   \n",
       "28263                   2.344627e-01   \n",
       "\n",
       "                                    nearest_neighbour_rp  \\\n",
       "428                                        RC321-571_sub   \n",
       "429    Neurosciences. Biological psychiatry. Neuropsy...   \n",
       "550                                        RC346-429_sub   \n",
       "551        Neurology. Diseases of the nervous system_sub   \n",
       "1071   Computer applications to medicine. Medical inf...   \n",
       "...                                                  ...   \n",
       "48186                 Bayesian hierarchical analysis_sub   \n",
       "24268                              Cyclostratigraphy_sub   \n",
       "34929                                       relation_sub   \n",
       "40493                     European Union Framework 7_sub   \n",
       "28263                                        Comoros_sub   \n",
       "\n",
       "       distance_to_nearest_neighbour_rp  \n",
       "428                            0.001695  \n",
       "429                            0.001695  \n",
       "550                            0.001748  \n",
       "551                            0.001748  \n",
       "1071                           0.001792  \n",
       "...                                 ...  \n",
       "48186                          0.274478  \n",
       "24268                          0.301508  \n",
       "34929                          0.310805  \n",
       "40493                          0.315627  \n",
       "28263                          0.337543  \n",
       "\n",
       "[60804 rows x 7 columns]"
      ],
      "text/html": "<div>\n<style scoped>\n    .dataframe tbody tr th:only-of-type {\n        vertical-align: middle;\n    }\n\n    .dataframe tbody tr th {\n        vertical-align: top;\n    }\n\n    .dataframe thead th {\n        text-align: right;\n    }\n</style>\n<table border=\"1\" class=\"dataframe\">\n  <thead>\n    <tr style=\"text-align: right;\">\n      <th></th>\n      <th>n.id</th>\n      <th>n.r_embeddings</th>\n      <th>n.__fastrp_embedding</th>\n      <th>nearest_neighbour</th>\n      <th>distance_to_nearest_neighbour</th>\n      <th>nearest_neighbour_rp</th>\n      <th>distance_to_nearest_neighbour_rp</th>\n    </tr>\n  </thead>\n  <tbody>\n    <tr>\n      <th>428</th>\n      <td>Neurosciences. Biological psychiatry. Neuropsy...</td>\n      <td>[-0.03752695769071579, 0.5647879242897034, 0.1...</td>\n      <td>[0.4839213192462921, 0.9260246753692627, 0.010...</td>\n      <td>Biological Psychiatry, Neuropsychology and Phy...</td>\n      <td>5.747103e-01</td>\n      <td>RC321-571_sub</td>\n      <td>0.001695</td>\n    </tr>\n    <tr>\n      <th>429</th>\n      <td>RC321-571_sub</td>\n      <td>[0.41022780537605286, -0.2790752649307251, 0.0...</td>\n      <td>[0.4839308559894562, 0.9277102947235107, 0.010...</td>\n      <td>571 Physiology_sub</td>\n      <td>8.766453e-01</td>\n      <td>Neurosciences. Biological psychiatry. Neuropsy...</td>\n      <td>0.001695</td>\n    </tr>\n    <tr>\n      <th>550</th>\n      <td>Neurology. Diseases of the nervous system_sub</td>\n      <td>[-0.5539271831512451, 0.06927037984132767, 0.8...</td>\n      <td>[0.16167712211608887, 0.83883136510849, 0.1945...</td>\n      <td>neurological diseases_sub</td>\n      <td>5.493369e-01</td>\n      <td>RC346-429_sub</td>\n      <td>0.001748</td>\n    </tr>\n    <tr>\n      <th>551</th>\n      <td>RC346-429_sub</td>\n      <td>[0.2908068001270294, -0.9086668491363525, 0.00...</td>\n      <td>[0.16346226632595062, 0.8388150930404663, 0.19...</td>\n      <td>RC0346_sub</td>\n      <td>6.699589e-01</td>\n      <td>Neurology. Diseases of the nervous system_sub</td>\n      <td>0.001748</td>\n    </tr>\n    <tr>\n      <th>1071</th>\n      <td>R858-859.7_sub</td>\n      <td>[-0.012210744433104992, -0.4148079454898834, -...</td>\n      <td>[0.1112583726644516, 0.7617290019989014, 0.179...</td>\n      <td>R858_sub</td>\n      <td>4.831673e-01</td>\n      <td>Computer applications to medicine. Medical inf...</td>\n      <td>0.001792</td>\n    </tr>\n    <tr>\n      <th>...</th>\n      <td>...</td>\n      <td>...</td>\n      <td>...</td>\n      <td>...</td>\n      <td>...</td>\n      <td>...</td>\n      <td>...</td>\n    </tr>\n    <tr>\n      <th>48186</th>\n      <td>ecosystem services_sub</td>\n      <td>[-0.28248322010040283, -0.17272460460662842, -...</td>\n      <td>[-0.17734858393669128, 0.5480749607086182, 0.2...</td>\n      <td>Ecosystem services_sub</td>\n      <td>6.710488e-07</td>\n      <td>Bayesian hierarchical analysis_sub</td>\n      <td>0.274478</td>\n    </tr>\n    <tr>\n      <th>24268</th>\n      <td>Environmental data_sub</td>\n      <td>[-0.6154889464378357, -0.764665961265564, -0.5...</td>\n      <td>[-0.3294067978858948, 1.0884798765182495, -0.0...</td>\n      <td>environmental_sub</td>\n      <td>4.104480e-01</td>\n      <td>Cyclostratigraphy_sub</td>\n      <td>0.301508</td>\n    </tr>\n    <tr>\n      <th>34929</th>\n      <td>value_sub</td>\n      <td>[0.1971978396177292, -0.9848495125770569, -0.4...</td>\n      <td>[0.46996498107910156, 0.6772952675819397, 0.04...</td>\n      <td>value_sub</td>\n      <td>0.000000e+00</td>\n      <td>relation_sub</td>\n      <td>0.310805</td>\n    </tr>\n    <tr>\n      <th>40493</th>\n      <td>Deep sea mining_sub</td>\n      <td>[-0.32977399230003357, 0.25428643822669983, -1...</td>\n      <td>[-0.46577492356300354, 0.5656290650367737, -0....</td>\n      <td>deep-sea mining_sub</td>\n      <td>2.784853e-01</td>\n      <td>European Union Framework 7_sub</td>\n      <td>0.315627</td>\n    </tr>\n    <tr>\n      <th>28263</th>\n      <td>Ecosystem_sub</td>\n      <td>[-0.567966639995575, -0.35501641035079956, -0....</td>\n      <td>[0.09011109173297882, 0.47046810388565063, 0.5...</td>\n      <td>Ecosystems_sub</td>\n      <td>2.344627e-01</td>\n      <td>Comoros_sub</td>\n      <td>0.337543</td>\n    </tr>\n  </tbody>\n</table>\n<p>60804 rows × 7 columns</p>\n</div>"
     },
     "metadata": {},
     "execution_count": 32
    }
   ],
   "source": [
    "keywords.sort_values(by=['distance_to_nearest_neighbour_rp'], ascending=True)"
   ]
  },
  {
   "cell_type": "code",
   "execution_count": 33,
   "metadata": {},
   "outputs": [],
   "source": [
    "keywords.sort_values(by=['distance_to_nearest_neighbour_rp'], ascending=True).to_csv('keyword_rp_similarity.csv')"
   ]
  },
  {
   "cell_type": "code",
   "execution_count": 35,
   "metadata": {},
   "outputs": [],
   "source": [
    "keywords['combined_distance'] = keywords['distance_to_nearest_neighbour_rp'] + keywords['distance_to_nearest_neighbour']"
   ]
  },
  {
   "cell_type": "code",
   "execution_count": 36,
   "metadata": {},
   "outputs": [
    {
     "output_type": "execute_result",
     "data": {
      "text/plain": [
       "                                                    n.id  \\\n",
       "99                                          business_sub   \n",
       "841                             Discrete Mathematics_sub   \n",
       "679                                              law_sub   \n",
       "1833                          Chromatin modification_sub   \n",
       "1831                              Chromosome biology_sub   \n",
       "...                                                  ...   \n",
       "20841                       To be checked for WOS id_sub   \n",
       "52695                                       Downtown_sub   \n",
       "36762  Festschrift for James S. Hyde, PhDPart 2Forewo...   \n",
       "58152                                 Shoulder joint_sub   \n",
       "30171                                          aivot_sub   \n",
       "\n",
       "                                          n.r_embeddings  \\\n",
       "99     [-0.5647993683815002, 0.7837275862693787, 0.28...   \n",
       "841    [-0.12998123466968536, -0.5200858116149902, -0...   \n",
       "679    [0.07385210692882538, -0.6456049084663391, -0....   \n",
       "1833   [0.8373721837997437, -0.35834360122680664, 0.1...   \n",
       "1831   [0.34271085262298584, -0.34560465812683105, 0....   \n",
       "...                                                  ...   \n",
       "20841  [0.262027382850647, 0.3499324321746826, 0.3919...   \n",
       "52695  [-0.07620495557785034, -0.5523253679275513, 0....   \n",
       "36762  [0.06858428567647934, -0.8310294151306152, 0.0...   \n",
       "58152  [0.40083780884742737, -0.15101096034049988, -0...   \n",
       "30171  [0.45664551854133606, -0.6449181437492371, -0....   \n",
       "\n",
       "                                    n.__fastrp_embedding  \\\n",
       "99     [0.24657195806503296, 0.7429737448692322, 0.14...   \n",
       "841    [0.22510449588298798, 1.1104384660720825, 0.01...   \n",
       "679    [0.23039433360099792, 0.9937765598297119, 0.09...   \n",
       "1833   [0.3418125510215759, 0.8903435468673706, 0.043...   \n",
       "1831   [0.34230875968933105, 0.8904055953025818, 0.05...   \n",
       "...                                                  ...   \n",
       "20841  [0.06904032826423645, 0.8562159538269043, 0.02...   \n",
       "52695  [0.3217189610004425, 1.0120137929916382, 0.241...   \n",
       "36762  [0.3184698224067688, 0.8697881698608398, 0.259...   \n",
       "58152  [0.290085107088089, 0.8747177124023438, 0.2765...   \n",
       "30171  [0.31251734495162964, 1.1753445863723755, -0.0...   \n",
       "\n",
       "                nearest_neighbour  distance_to_nearest_neighbour  \\\n",
       "99                   Business_sub                   0.000000e+00   \n",
       "841      Discrete mathematics_sub                   2.980232e-08   \n",
       "679                       Law_sub                   2.107342e-08   \n",
       "1833   Chromatin Modification_sub                   4.712161e-08   \n",
       "1831       Chromosome Biology_sub                   6.618867e-07   \n",
       "...                           ...                            ...   \n",
       "20841            Wada testing_sub                   1.008030e+00   \n",
       "52695           Dual modality_sub                   1.034853e+00   \n",
       "36762     crypt of Lieberkühn_sub                   9.993494e-01   \n",
       "58152                  Shroud_sub                   1.037086e+00   \n",
       "30171     <i>Avena sativa</i>_sub                   9.971701e-01   \n",
       "\n",
       "             nearest_neighbour_rp  distance_to_nearest_neighbour_rp  \\\n",
       "99          business.industry_sub                          0.005533   \n",
       "841             Combinatorics_sub                          0.005829   \n",
       "679             law.invention_sub                          0.008311   \n",
       "1833       Chromosome biology_sub                          0.009104   \n",
       "1831   Chromatin modification_sub                          0.009104   \n",
       "...                           ...                               ...   \n",
       "20841              Physiology_sub                          0.142877   \n",
       "52695           Neurorobotics_sub                          0.119665   \n",
       "36762          Psychoanalysis_sub                          0.158761   \n",
       "58152         Active exercise_sub                          0.129564   \n",
       "30171              ravitsemus_sub                          0.177821   \n",
       "\n",
       "       combined_distance  \n",
       "99              0.005533  \n",
       "841             0.005829  \n",
       "679             0.008311  \n",
       "1833            0.009104  \n",
       "1831            0.009105  \n",
       "...                  ...  \n",
       "20841           1.150907  \n",
       "52695           1.154517  \n",
       "36762           1.158110  \n",
       "58152           1.166650  \n",
       "30171           1.174992  \n",
       "\n",
       "[60804 rows x 8 columns]"
      ],
      "text/html": "<div>\n<style scoped>\n    .dataframe tbody tr th:only-of-type {\n        vertical-align: middle;\n    }\n\n    .dataframe tbody tr th {\n        vertical-align: top;\n    }\n\n    .dataframe thead th {\n        text-align: right;\n    }\n</style>\n<table border=\"1\" class=\"dataframe\">\n  <thead>\n    <tr style=\"text-align: right;\">\n      <th></th>\n      <th>n.id</th>\n      <th>n.r_embeddings</th>\n      <th>n.__fastrp_embedding</th>\n      <th>nearest_neighbour</th>\n      <th>distance_to_nearest_neighbour</th>\n      <th>nearest_neighbour_rp</th>\n      <th>distance_to_nearest_neighbour_rp</th>\n      <th>combined_distance</th>\n    </tr>\n  </thead>\n  <tbody>\n    <tr>\n      <th>99</th>\n      <td>business_sub</td>\n      <td>[-0.5647993683815002, 0.7837275862693787, 0.28...</td>\n      <td>[0.24657195806503296, 0.7429737448692322, 0.14...</td>\n      <td>Business_sub</td>\n      <td>0.000000e+00</td>\n      <td>business.industry_sub</td>\n      <td>0.005533</td>\n      <td>0.005533</td>\n    </tr>\n    <tr>\n      <th>841</th>\n      <td>Discrete Mathematics_sub</td>\n      <td>[-0.12998123466968536, -0.5200858116149902, -0...</td>\n      <td>[0.22510449588298798, 1.1104384660720825, 0.01...</td>\n      <td>Discrete mathematics_sub</td>\n      <td>2.980232e-08</td>\n      <td>Combinatorics_sub</td>\n      <td>0.005829</td>\n      <td>0.005829</td>\n    </tr>\n    <tr>\n      <th>679</th>\n      <td>law_sub</td>\n      <td>[0.07385210692882538, -0.6456049084663391, -0....</td>\n      <td>[0.23039433360099792, 0.9937765598297119, 0.09...</td>\n      <td>Law_sub</td>\n      <td>2.107342e-08</td>\n      <td>law.invention_sub</td>\n      <td>0.008311</td>\n      <td>0.008311</td>\n    </tr>\n    <tr>\n      <th>1833</th>\n      <td>Chromatin modification_sub</td>\n      <td>[0.8373721837997437, -0.35834360122680664, 0.1...</td>\n      <td>[0.3418125510215759, 0.8903435468673706, 0.043...</td>\n      <td>Chromatin Modification_sub</td>\n      <td>4.712161e-08</td>\n      <td>Chromosome biology_sub</td>\n      <td>0.009104</td>\n      <td>0.009104</td>\n    </tr>\n    <tr>\n      <th>1831</th>\n      <td>Chromosome biology_sub</td>\n      <td>[0.34271085262298584, -0.34560465812683105, 0....</td>\n      <td>[0.34230875968933105, 0.8904055953025818, 0.05...</td>\n      <td>Chromosome Biology_sub</td>\n      <td>6.618867e-07</td>\n      <td>Chromatin modification_sub</td>\n      <td>0.009104</td>\n      <td>0.009105</td>\n    </tr>\n    <tr>\n      <th>...</th>\n      <td>...</td>\n      <td>...</td>\n      <td>...</td>\n      <td>...</td>\n      <td>...</td>\n      <td>...</td>\n      <td>...</td>\n      <td>...</td>\n    </tr>\n    <tr>\n      <th>20841</th>\n      <td>To be checked for WOS id_sub</td>\n      <td>[0.262027382850647, 0.3499324321746826, 0.3919...</td>\n      <td>[0.06904032826423645, 0.8562159538269043, 0.02...</td>\n      <td>Wada testing_sub</td>\n      <td>1.008030e+00</td>\n      <td>Physiology_sub</td>\n      <td>0.142877</td>\n      <td>1.150907</td>\n    </tr>\n    <tr>\n      <th>52695</th>\n      <td>Downtown_sub</td>\n      <td>[-0.07620495557785034, -0.5523253679275513, 0....</td>\n      <td>[0.3217189610004425, 1.0120137929916382, 0.241...</td>\n      <td>Dual modality_sub</td>\n      <td>1.034853e+00</td>\n      <td>Neurorobotics_sub</td>\n      <td>0.119665</td>\n      <td>1.154517</td>\n    </tr>\n    <tr>\n      <th>36762</th>\n      <td>Festschrift for James S. Hyde, PhDPart 2Forewo...</td>\n      <td>[0.06858428567647934, -0.8310294151306152, 0.0...</td>\n      <td>[0.3184698224067688, 0.8697881698608398, 0.259...</td>\n      <td>crypt of Lieberkühn_sub</td>\n      <td>9.993494e-01</td>\n      <td>Psychoanalysis_sub</td>\n      <td>0.158761</td>\n      <td>1.158110</td>\n    </tr>\n    <tr>\n      <th>58152</th>\n      <td>Shoulder joint_sub</td>\n      <td>[0.40083780884742737, -0.15101096034049988, -0...</td>\n      <td>[0.290085107088089, 0.8747177124023438, 0.2765...</td>\n      <td>Shroud_sub</td>\n      <td>1.037086e+00</td>\n      <td>Active exercise_sub</td>\n      <td>0.129564</td>\n      <td>1.166650</td>\n    </tr>\n    <tr>\n      <th>30171</th>\n      <td>aivot_sub</td>\n      <td>[0.45664551854133606, -0.6449181437492371, -0....</td>\n      <td>[0.31251734495162964, 1.1753445863723755, -0.0...</td>\n      <td>&lt;i&gt;Avena sativa&lt;/i&gt;_sub</td>\n      <td>9.971701e-01</td>\n      <td>ravitsemus_sub</td>\n      <td>0.177821</td>\n      <td>1.174992</td>\n    </tr>\n  </tbody>\n</table>\n<p>60804 rows × 8 columns</p>\n</div>"
     },
     "metadata": {},
     "execution_count": 36
    }
   ],
   "source": [
    "keywords.sort_values(by=['combined_distance'], ascending=True) # perchè il NN è rispetto due distanze che potrebbero essere diverse e ordinate per la combined"
   ]
  },
  {
   "cell_type": "code",
   "execution_count": 38,
   "metadata": {},
   "outputs": [],
   "source": [
    "keywords.sort_values(by=['combined_distance'], ascending=True).to_csv('keyword_similarity_combined_distance.csv')"
   ]
  },
  {
   "source": [
    "# TSNE"
   ],
   "cell_type": "markdown",
   "metadata": {}
  },
  {
   "cell_type": "code",
   "execution_count": 4,
   "metadata": {},
   "outputs": [],
   "source": [
    "keywords = cyperQueryToDataFrame(\"MATCH (n:Keyword) RETURN n.id, n.r_embeddings, n.__fastrp_embedding\")"
   ]
  },
  {
   "cell_type": "code",
   "execution_count": 26,
   "metadata": {},
   "outputs": [],
   "source": [
    "X = np.array(keywords[\"n.__fastrp_embedding\"].to_list()).astype(float)\n",
    "l2_norm = np.sum(np.abs(X)**2,axis=-1)**(1./2)\n",
    "l2_norm[l2_norm == 0] = 1\n",
    "X = X / l2_norm[:, np.newaxis]\n",
    "X_embedded = TSNE(n_components=2).fit_transform(X)"
   ]
  },
  {
   "cell_type": "code",
   "execution_count": 27,
   "metadata": {},
   "outputs": [],
   "source": [
    "with open('tsne_fastrp_embedding_keyword.npy', 'wb') as f:\n",
    "    np.save(f, X_embedded)"
   ]
  },
  {
   "cell_type": "code",
   "execution_count": 1,
   "metadata": {},
   "outputs": [
    {
     "output_type": "error",
     "ename": "NameError",
     "evalue": "name 'np' is not defined",
     "traceback": [
      "\u001b[0;31m---------------------------------------------------------------------------\u001b[0m",
      "\u001b[0;31mNameError\u001b[0m                                 Traceback (most recent call last)",
      "\u001b[0;32m<ipython-input-1-bb32a244986b>\u001b[0m in \u001b[0;36m<module>\u001b[0;34m\u001b[0m\n\u001b[1;32m      1\u001b[0m \u001b[0;32mwith\u001b[0m \u001b[0mopen\u001b[0m\u001b[0;34m(\u001b[0m\u001b[0;34m'tsne_fastrp_embedding_keyword.npy'\u001b[0m\u001b[0;34m,\u001b[0m \u001b[0;34m'rb'\u001b[0m\u001b[0;34m)\u001b[0m \u001b[0;32mas\u001b[0m \u001b[0mf\u001b[0m\u001b[0;34m:\u001b[0m\u001b[0;34m\u001b[0m\u001b[0;34m\u001b[0m\u001b[0m\n\u001b[0;32m----> 2\u001b[0;31m     \u001b[0mX_imp\u001b[0m \u001b[0;34m=\u001b[0m \u001b[0mnp\u001b[0m\u001b[0;34m.\u001b[0m\u001b[0mload\u001b[0m\u001b[0;34m(\u001b[0m\u001b[0mf\u001b[0m\u001b[0;34m)\u001b[0m\u001b[0;34m\u001b[0m\u001b[0;34m\u001b[0m\u001b[0m\n\u001b[0m",
      "\u001b[0;31mNameError\u001b[0m: name 'np' is not defined"
     ]
    }
   ],
   "source": [
    "with open('tsne_fastrp_embedding_keyword.npy', 'rb') as f:\n",
    "    X_imp = np.load(f)"
   ]
  },
  {
   "cell_type": "code",
   "execution_count": 29,
   "metadata": {},
   "outputs": [
    {
     "output_type": "display_data",
     "data": {
      "text/plain": "Canvas(toolbar=Toolbar(toolitems=[('Home', 'Reset original view', 'home', 'home'), ('Back', 'Back to previous …",
      "application/vnd.jupyter.widget-view+json": {
       "version_major": 2,
       "version_minor": 0,
       "model_id": "514df28a30b24ed8a5996d7d6df3ec4e"
      }
     },
     "metadata": {}
    }
   ],
   "source": [
    "import matplotlib.pyplot as plt\n",
    "%matplotlib widget\n",
    "plt.scatter(X_imp[:, 0], X_imp[:, 1], s=0.5)\n",
    "plt.show()"
   ]
  },
  {
   "cell_type": "code",
   "execution_count": 30,
   "metadata": {},
   "outputs": [],
   "source": [
    "plt.close('all')\n",
    "X = np.array(keywords[\"n.r_embeddings\"].to_list()).astype(float)\n",
    "l2_norm = np.sum(np.abs(X)**2,axis=-1)**(1./2)\n",
    "l2_norm[l2_norm == 0] = 1\n",
    "X = X / l2_norm[:, np.newaxis]\n",
    "X_embedded = TSNE(n_components=2).fit_transform(X)"
   ]
  },
  {
   "cell_type": "code",
   "execution_count": 31,
   "metadata": {},
   "outputs": [],
   "source": [
    "with open('tsne_bert_embedding_keyword.npy', 'wb') as f:\n",
    "    np.save(f, X_embedded)"
   ]
  },
  {
   "cell_type": "code",
   "execution_count": 32,
   "metadata": {},
   "outputs": [],
   "source": [
    "with open('tsne_bert_embedding_keyword.npy', 'rb') as f:\n",
    "    X_imp = np.load(f)"
   ]
  },
  {
   "cell_type": "code",
   "execution_count": 33,
   "metadata": {},
   "outputs": [
    {
     "output_type": "display_data",
     "data": {
      "text/plain": "Canvas(toolbar=Toolbar(toolitems=[('Home', 'Reset original view', 'home', 'home'), ('Back', 'Back to previous …",
      "application/vnd.jupyter.widget-view+json": {
       "version_major": 2,
       "version_minor": 0,
       "model_id": "c71ab95c0e5445c2980cd9c8554d4394"
      }
     },
     "metadata": {}
    }
   ],
   "source": [
    "plt.scatter(X_imp[:, 0], X_imp[:, 1], s=0.5)\n",
    "plt.show()"
   ]
  },
  {
   "cell_type": "code",
   "execution_count": null,
   "metadata": {},
   "outputs": [],
   "source": []
  }
 ]
}