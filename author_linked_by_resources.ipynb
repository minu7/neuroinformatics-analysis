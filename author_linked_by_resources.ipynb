{
 "metadata": {
  "language_info": {
   "codemirror_mode": {
    "name": "ipython",
    "version": 3
   },
   "file_extension": ".py",
   "mimetype": "text/x-python",
   "name": "python",
   "nbconvert_exporter": "python",
   "pygments_lexer": "ipython3",
   "version": "3.8.7"
  },
  "orig_nbformat": 2,
  "kernelspec": {
   "name": "python387jvsc74a57bd01d6699aa86f2602ea533c86e4d7a2e97a146b603848a19e03a1edb8b897b9b3d",
   "display_name": "Python 3.8.7 64-bit ('3.8.7': pyenv)"
  }
 },
 "nbformat": 4,
 "nbformat_minor": 2,
 "cells": [
  {
   "cell_type": "code",
   "execution_count": 1,
   "metadata": {},
   "outputs": [
    {
     "output_type": "stream",
     "name": "stderr",
     "text": [
      "/Users/filippo/.pyenv/versions/3.8.7/lib/python3.8/site-packages/pandas/compat/__init__.py:97: UserWarning: Could not import the lzma module. Your installed Python is incomplete. Attempting to use lzma compression will result in a RuntimeError.\n  warnings.warn(msg)\n"
     ]
    }
   ],
   "source": [
    "from neo4j import GraphDatabase\n",
    "import pandas as pd\n",
    "\n",
    "# Init the connection to the database\n",
    "uri = \"bolt://localhost:7687\"\n",
    "driver = GraphDatabase.driver(uri, auth=(\"neo4j\", \"neuroinformatics\"), encrypted=False)\n",
    "pd.set_option('display.max_columns', None)\n",
    "\n",
    "def cyperQueryToDataFrame(query):\n",
    "  with driver.session() as session:\n",
    "    result = session.run(query)\n",
    "    return pd.DataFrame(result.data(), columns=result.keys())"
   ]
  },
  {
   "source": [
    "## WCC "
   ],
   "cell_type": "markdown",
   "metadata": {}
  },
  {
   "cell_type": "code",
   "execution_count": 6,
   "metadata": {},
   "outputs": [],
   "source": [
    "wcc = cyperQueryToDataFrame(\"MATCH (n:Author) RETURN id(n), n.__wcc\")"
   ]
  },
  {
   "cell_type": "code",
   "execution_count": 7,
   "metadata": {},
   "outputs": [
    {
     "output_type": "execute_result",
     "data": {
      "text/plain": [
       "         id(n)  n.__wcc\n",
       "0        21446        0\n",
       "1        21447        0\n",
       "2        21448        0\n",
       "3        21449        3\n",
       "4        21450        3\n",
       "...        ...      ...\n",
       "425042  832552   425042\n",
       "425043  832553   425042\n",
       "425044  832554   425042\n",
       "425045  832555   425045\n",
       "425046  832556   425045\n",
       "\n",
       "[425047 rows x 2 columns]"
      ],
      "text/html": "<div>\n<style scoped>\n    .dataframe tbody tr th:only-of-type {\n        vertical-align: middle;\n    }\n\n    .dataframe tbody tr th {\n        vertical-align: top;\n    }\n\n    .dataframe thead th {\n        text-align: right;\n    }\n</style>\n<table border=\"1\" class=\"dataframe\">\n  <thead>\n    <tr style=\"text-align: right;\">\n      <th></th>\n      <th>id(n)</th>\n      <th>n.__wcc</th>\n    </tr>\n  </thead>\n  <tbody>\n    <tr>\n      <th>0</th>\n      <td>21446</td>\n      <td>0</td>\n    </tr>\n    <tr>\n      <th>1</th>\n      <td>21447</td>\n      <td>0</td>\n    </tr>\n    <tr>\n      <th>2</th>\n      <td>21448</td>\n      <td>0</td>\n    </tr>\n    <tr>\n      <th>3</th>\n      <td>21449</td>\n      <td>3</td>\n    </tr>\n    <tr>\n      <th>4</th>\n      <td>21450</td>\n      <td>3</td>\n    </tr>\n    <tr>\n      <th>...</th>\n      <td>...</td>\n      <td>...</td>\n    </tr>\n    <tr>\n      <th>425042</th>\n      <td>832552</td>\n      <td>425042</td>\n    </tr>\n    <tr>\n      <th>425043</th>\n      <td>832553</td>\n      <td>425042</td>\n    </tr>\n    <tr>\n      <th>425044</th>\n      <td>832554</td>\n      <td>425042</td>\n    </tr>\n    <tr>\n      <th>425045</th>\n      <td>832555</td>\n      <td>425045</td>\n    </tr>\n    <tr>\n      <th>425046</th>\n      <td>832556</td>\n      <td>425045</td>\n    </tr>\n  </tbody>\n</table>\n<p>425047 rows × 2 columns</p>\n</div>"
     },
     "metadata": {},
     "execution_count": 7
    }
   ],
   "source": [
    "wcc"
   ]
  },
  {
   "cell_type": "code",
   "execution_count": 9,
   "metadata": {},
   "outputs": [
    {
     "output_type": "execute_result",
     "data": {
      "text/plain": [
       "         id(n)  n.__wcc\n",
       "count   425047   425047\n",
       "unique  425047    27344\n",
       "top      21446        0\n",
       "freq         1   330226"
      ],
      "text/html": "<div>\n<style scoped>\n    .dataframe tbody tr th:only-of-type {\n        vertical-align: middle;\n    }\n\n    .dataframe tbody tr th {\n        vertical-align: top;\n    }\n\n    .dataframe thead th {\n        text-align: right;\n    }\n</style>\n<table border=\"1\" class=\"dataframe\">\n  <thead>\n    <tr style=\"text-align: right;\">\n      <th></th>\n      <th>id(n)</th>\n      <th>n.__wcc</th>\n    </tr>\n  </thead>\n  <tbody>\n    <tr>\n      <th>count</th>\n      <td>425047</td>\n      <td>425047</td>\n    </tr>\n    <tr>\n      <th>unique</th>\n      <td>425047</td>\n      <td>27344</td>\n    </tr>\n    <tr>\n      <th>top</th>\n      <td>21446</td>\n      <td>0</td>\n    </tr>\n    <tr>\n      <th>freq</th>\n      <td>1</td>\n      <td>330226</td>\n    </tr>\n  </tbody>\n</table>\n</div>"
     },
     "metadata": {},
     "execution_count": 9
    }
   ],
   "source": [
    "wcc.astype(object).describe()"
   ]
  },
  {
   "cell_type": "code",
   "execution_count": 10,
   "metadata": {},
   "outputs": [],
   "source": [
    "wcc_grouped = wcc.groupby(['n.__wcc']).count()"
   ]
  },
  {
   "cell_type": "code",
   "execution_count": 13,
   "metadata": {},
   "outputs": [
    {
     "output_type": "execute_result",
     "data": {
      "text/plain": [
       "          id(n)\n",
       "n.__wcc        \n",
       "0        330226\n",
       "3             4\n",
       "12            1\n",
       "58            5\n",
       "75            5\n",
       "...         ...\n",
       "425006        3\n",
       "425020        3\n",
       "425036        1\n",
       "425042        3\n",
       "425045        2\n",
       "\n",
       "[27344 rows x 1 columns]"
      ],
      "text/html": "<div>\n<style scoped>\n    .dataframe tbody tr th:only-of-type {\n        vertical-align: middle;\n    }\n\n    .dataframe tbody tr th {\n        vertical-align: top;\n    }\n\n    .dataframe thead th {\n        text-align: right;\n    }\n</style>\n<table border=\"1\" class=\"dataframe\">\n  <thead>\n    <tr style=\"text-align: right;\">\n      <th></th>\n      <th>id(n)</th>\n    </tr>\n    <tr>\n      <th>n.__wcc</th>\n      <th></th>\n    </tr>\n  </thead>\n  <tbody>\n    <tr>\n      <th>0</th>\n      <td>330226</td>\n    </tr>\n    <tr>\n      <th>3</th>\n      <td>4</td>\n    </tr>\n    <tr>\n      <th>12</th>\n      <td>1</td>\n    </tr>\n    <tr>\n      <th>58</th>\n      <td>5</td>\n    </tr>\n    <tr>\n      <th>75</th>\n      <td>5</td>\n    </tr>\n    <tr>\n      <th>...</th>\n      <td>...</td>\n    </tr>\n    <tr>\n      <th>425006</th>\n      <td>3</td>\n    </tr>\n    <tr>\n      <th>425020</th>\n      <td>3</td>\n    </tr>\n    <tr>\n      <th>425036</th>\n      <td>1</td>\n    </tr>\n    <tr>\n      <th>425042</th>\n      <td>3</td>\n    </tr>\n    <tr>\n      <th>425045</th>\n      <td>2</td>\n    </tr>\n  </tbody>\n</table>\n<p>27344 rows × 1 columns</p>\n</div>"
     },
     "metadata": {},
     "execution_count": 13
    }
   ],
   "source": [
    "wcc_grouped"
   ]
  },
  {
   "cell_type": "code",
   "execution_count": 12,
   "metadata": {},
   "outputs": [
    {
     "output_type": "execute_result",
     "data": {
      "text/plain": [
       "               id(n)\n",
       "count   27344.000000\n",
       "mean       15.544434\n",
       "std      1996.992529\n",
       "min         1.000000\n",
       "25%         1.000000\n",
       "50%         2.000000\n",
       "75%         4.000000\n",
       "max    330226.000000"
      ],
      "text/html": "<div>\n<style scoped>\n    .dataframe tbody tr th:only-of-type {\n        vertical-align: middle;\n    }\n\n    .dataframe tbody tr th {\n        vertical-align: top;\n    }\n\n    .dataframe thead th {\n        text-align: right;\n    }\n</style>\n<table border=\"1\" class=\"dataframe\">\n  <thead>\n    <tr style=\"text-align: right;\">\n      <th></th>\n      <th>id(n)</th>\n    </tr>\n  </thead>\n  <tbody>\n    <tr>\n      <th>count</th>\n      <td>27344.000000</td>\n    </tr>\n    <tr>\n      <th>mean</th>\n      <td>15.544434</td>\n    </tr>\n    <tr>\n      <th>std</th>\n      <td>1996.992529</td>\n    </tr>\n    <tr>\n      <th>min</th>\n      <td>1.000000</td>\n    </tr>\n    <tr>\n      <th>25%</th>\n      <td>1.000000</td>\n    </tr>\n    <tr>\n      <th>50%</th>\n      <td>2.000000</td>\n    </tr>\n    <tr>\n      <th>75%</th>\n      <td>4.000000</td>\n    </tr>\n    <tr>\n      <th>max</th>\n      <td>330226.000000</td>\n    </tr>\n  </tbody>\n</table>\n</div>"
     },
     "metadata": {},
     "execution_count": 12
    }
   ],
   "source": [
    "wcc_grouped.describe()"
   ]
  },
  {
   "source": [
    "## Degree"
   ],
   "cell_type": "markdown",
   "metadata": {}
  },
  {
   "cell_type": "code",
   "execution_count": 21,
   "metadata": {},
   "outputs": [],
   "source": [
    "degree_df = cyperQueryToDataFrame(\"MATCH (n:Author) RETURN n.id, n.__wcc as wcc, n.__degree as degree\")"
   ]
  },
  {
   "cell_type": "code",
   "execution_count": 22,
   "metadata": {},
   "outputs": [
    {
     "output_type": "execute_result",
     "data": {
      "text/plain": [
       "                 wcc         degree\n",
       "count  425047.000000  425047.000000\n",
       "mean    44970.782259      25.829275\n",
       "std    101354.419554      98.524533\n",
       "min         0.000000       0.000000\n",
       "25%         0.000000       4.000000\n",
       "50%         0.000000       7.000000\n",
       "75%         0.000000      13.000000\n",
       "max    425045.000000    3607.000000"
      ],
      "text/html": "<div>\n<style scoped>\n    .dataframe tbody tr th:only-of-type {\n        vertical-align: middle;\n    }\n\n    .dataframe tbody tr th {\n        vertical-align: top;\n    }\n\n    .dataframe thead th {\n        text-align: right;\n    }\n</style>\n<table border=\"1\" class=\"dataframe\">\n  <thead>\n    <tr style=\"text-align: right;\">\n      <th></th>\n      <th>wcc</th>\n      <th>degree</th>\n    </tr>\n  </thead>\n  <tbody>\n    <tr>\n      <th>count</th>\n      <td>425047.000000</td>\n      <td>425047.000000</td>\n    </tr>\n    <tr>\n      <th>mean</th>\n      <td>44970.782259</td>\n      <td>25.829275</td>\n    </tr>\n    <tr>\n      <th>std</th>\n      <td>101354.419554</td>\n      <td>98.524533</td>\n    </tr>\n    <tr>\n      <th>min</th>\n      <td>0.000000</td>\n      <td>0.000000</td>\n    </tr>\n    <tr>\n      <th>25%</th>\n      <td>0.000000</td>\n      <td>4.000000</td>\n    </tr>\n    <tr>\n      <th>50%</th>\n      <td>0.000000</td>\n      <td>7.000000</td>\n    </tr>\n    <tr>\n      <th>75%</th>\n      <td>0.000000</td>\n      <td>13.000000</td>\n    </tr>\n    <tr>\n      <th>max</th>\n      <td>425045.000000</td>\n      <td>3607.000000</td>\n    </tr>\n  </tbody>\n</table>\n</div>"
     },
     "metadata": {},
     "execution_count": 22
    }
   ],
   "source": [
    "degree_df.describe()"
   ]
  },
  {
   "cell_type": "code",
   "execution_count": 23,
   "metadata": {},
   "outputs": [
    {
     "output_type": "execute_result",
     "data": {
      "text/plain": [
       "                   n.id     wcc    degree\n",
       "count            425047  425047  425047.0\n",
       "unique           425047   27344    1286.0\n",
       "top     Rodrigo Basilio       0       4.0\n",
       "freq                  1  330226   38383.0"
      ],
      "text/html": "<div>\n<style scoped>\n    .dataframe tbody tr th:only-of-type {\n        vertical-align: middle;\n    }\n\n    .dataframe tbody tr th {\n        vertical-align: top;\n    }\n\n    .dataframe thead th {\n        text-align: right;\n    }\n</style>\n<table border=\"1\" class=\"dataframe\">\n  <thead>\n    <tr style=\"text-align: right;\">\n      <th></th>\n      <th>n.id</th>\n      <th>wcc</th>\n      <th>degree</th>\n    </tr>\n  </thead>\n  <tbody>\n    <tr>\n      <th>count</th>\n      <td>425047</td>\n      <td>425047</td>\n      <td>425047.0</td>\n    </tr>\n    <tr>\n      <th>unique</th>\n      <td>425047</td>\n      <td>27344</td>\n      <td>1286.0</td>\n    </tr>\n    <tr>\n      <th>top</th>\n      <td>Rodrigo Basilio</td>\n      <td>0</td>\n      <td>4.0</td>\n    </tr>\n    <tr>\n      <th>freq</th>\n      <td>1</td>\n      <td>330226</td>\n      <td>38383.0</td>\n    </tr>\n  </tbody>\n</table>\n</div>"
     },
     "metadata": {},
     "execution_count": 23
    }
   ],
   "source": [
    "degree_df.astype(object).describe()"
   ]
  },
  {
   "cell_type": "code",
   "execution_count": 24,
   "metadata": {},
   "outputs": [
    {
     "output_type": "execute_result",
     "data": {
      "text/plain": [
       "                      n.id     wcc  degree\n",
       "3011      Paul M. Thompson       0  3607.0\n",
       "15477      Jahanshad, Neda       0  2771.0\n",
       "5111        Agartz, Ingrid       0  2573.0\n",
       "5232        McDonald, Colm       0  2534.0\n",
       "3053        Arthur W. Toga       0  2425.0\n",
       "...                    ...     ...     ...\n",
       "199053  Samel, Mirachel. D  199053     0.0\n",
       "59682       Nils I. Bachen   59682     0.0\n",
       "199052   Jeong, Seong Wook  199052     0.0\n",
       "59662     Barbara R. Jasny   59662     0.0\n",
       "393894   Kavian Ghandehari  393894     0.0\n",
       "\n",
       "[425047 rows x 3 columns]"
      ],
      "text/html": "<div>\n<style scoped>\n    .dataframe tbody tr th:only-of-type {\n        vertical-align: middle;\n    }\n\n    .dataframe tbody tr th {\n        vertical-align: top;\n    }\n\n    .dataframe thead th {\n        text-align: right;\n    }\n</style>\n<table border=\"1\" class=\"dataframe\">\n  <thead>\n    <tr style=\"text-align: right;\">\n      <th></th>\n      <th>n.id</th>\n      <th>wcc</th>\n      <th>degree</th>\n    </tr>\n  </thead>\n  <tbody>\n    <tr>\n      <th>3011</th>\n      <td>Paul M. Thompson</td>\n      <td>0</td>\n      <td>3607.0</td>\n    </tr>\n    <tr>\n      <th>15477</th>\n      <td>Jahanshad, Neda</td>\n      <td>0</td>\n      <td>2771.0</td>\n    </tr>\n    <tr>\n      <th>5111</th>\n      <td>Agartz, Ingrid</td>\n      <td>0</td>\n      <td>2573.0</td>\n    </tr>\n    <tr>\n      <th>5232</th>\n      <td>McDonald, Colm</td>\n      <td>0</td>\n      <td>2534.0</td>\n    </tr>\n    <tr>\n      <th>3053</th>\n      <td>Arthur W. Toga</td>\n      <td>0</td>\n      <td>2425.0</td>\n    </tr>\n    <tr>\n      <th>...</th>\n      <td>...</td>\n      <td>...</td>\n      <td>...</td>\n    </tr>\n    <tr>\n      <th>199053</th>\n      <td>Samel, Mirachel. D</td>\n      <td>199053</td>\n      <td>0.0</td>\n    </tr>\n    <tr>\n      <th>59682</th>\n      <td>Nils I. Bachen</td>\n      <td>59682</td>\n      <td>0.0</td>\n    </tr>\n    <tr>\n      <th>199052</th>\n      <td>Jeong, Seong Wook</td>\n      <td>199052</td>\n      <td>0.0</td>\n    </tr>\n    <tr>\n      <th>59662</th>\n      <td>Barbara R. Jasny</td>\n      <td>59662</td>\n      <td>0.0</td>\n    </tr>\n    <tr>\n      <th>393894</th>\n      <td>Kavian Ghandehari</td>\n      <td>393894</td>\n      <td>0.0</td>\n    </tr>\n  </tbody>\n</table>\n<p>425047 rows × 3 columns</p>\n</div>"
     },
     "metadata": {},
     "execution_count": 24
    }
   ],
   "source": [
    "degree_df.sort_values(by=\"degree\", ascending=False) "
   ]
  },
  {
   "cell_type": "code",
   "execution_count": 27,
   "metadata": {},
   "outputs": [
    {
     "output_type": "execute_result",
     "data": {
      "text/plain": [
       "                       n.id     wcc  degree\n",
       "0       Maimon-Mor, Roni O.       0     2.0\n",
       "2           Makin, Tamar R.       0     2.0\n",
       "51           Cockett, Peter       0     2.0\n",
       "52                 Yuan, Ye       0     2.0\n",
       "194          Song, Xiaopeng       0     2.0\n",
       "...                     ...     ...     ...\n",
       "425020        Sung-Woo Byun  425020     2.0\n",
       "425021         Hyuk Soo Han  425020     2.0\n",
       "425022         Seok-Pil Lee  425020     2.0\n",
       "425043     Florian Gondesen  425042     2.0\n",
       "425044        Matthias Marx  425042     2.0\n",
       "\n",
       "[29091 rows x 3 columns]"
      ],
      "text/html": "<div>\n<style scoped>\n    .dataframe tbody tr th:only-of-type {\n        vertical-align: middle;\n    }\n\n    .dataframe tbody tr th {\n        vertical-align: top;\n    }\n\n    .dataframe thead th {\n        text-align: right;\n    }\n</style>\n<table border=\"1\" class=\"dataframe\">\n  <thead>\n    <tr style=\"text-align: right;\">\n      <th></th>\n      <th>n.id</th>\n      <th>wcc</th>\n      <th>degree</th>\n    </tr>\n  </thead>\n  <tbody>\n    <tr>\n      <th>0</th>\n      <td>Maimon-Mor, Roni O.</td>\n      <td>0</td>\n      <td>2.0</td>\n    </tr>\n    <tr>\n      <th>2</th>\n      <td>Makin, Tamar R.</td>\n      <td>0</td>\n      <td>2.0</td>\n    </tr>\n    <tr>\n      <th>51</th>\n      <td>Cockett, Peter</td>\n      <td>0</td>\n      <td>2.0</td>\n    </tr>\n    <tr>\n      <th>52</th>\n      <td>Yuan, Ye</td>\n      <td>0</td>\n      <td>2.0</td>\n    </tr>\n    <tr>\n      <th>194</th>\n      <td>Song, Xiaopeng</td>\n      <td>0</td>\n      <td>2.0</td>\n    </tr>\n    <tr>\n      <th>...</th>\n      <td>...</td>\n      <td>...</td>\n      <td>...</td>\n    </tr>\n    <tr>\n      <th>425020</th>\n      <td>Sung-Woo Byun</td>\n      <td>425020</td>\n      <td>2.0</td>\n    </tr>\n    <tr>\n      <th>425021</th>\n      <td>Hyuk Soo Han</td>\n      <td>425020</td>\n      <td>2.0</td>\n    </tr>\n    <tr>\n      <th>425022</th>\n      <td>Seok-Pil Lee</td>\n      <td>425020</td>\n      <td>2.0</td>\n    </tr>\n    <tr>\n      <th>425043</th>\n      <td>Florian Gondesen</td>\n      <td>425042</td>\n      <td>2.0</td>\n    </tr>\n    <tr>\n      <th>425044</th>\n      <td>Matthias Marx</td>\n      <td>425042</td>\n      <td>2.0</td>\n    </tr>\n  </tbody>\n</table>\n<p>29091 rows × 3 columns</p>\n</div>"
     },
     "metadata": {},
     "execution_count": 27
    }
   ],
   "source": [
    "degree_df[degree_df['degree'] == 2]"
   ]
  },
  {
   "source": [
    "## Degree by author and number of resource published"
   ],
   "cell_type": "markdown",
   "metadata": {}
  },
  {
   "cell_type": "code",
   "execution_count": 29,
   "metadata": {},
   "outputs": [],
   "source": [
    "df = cyperQueryToDataFrame(\"MATCH (n:Author) RETURN n.id, n.__wcc as wcc, n.__degree as degree, n.resource_published as resources\")"
   ]
  },
  {
   "cell_type": "code",
   "execution_count": 30,
   "metadata": {},
   "outputs": [
    {
     "output_type": "execute_result",
     "data": {
      "text/plain": [
       "                 wcc         degree      resources\n",
       "count  425047.000000  425047.000000  425047.000000\n",
       "mean    44970.782259      25.829275       2.443200\n",
       "std    101354.419554      98.524533       5.657282\n",
       "min         0.000000       0.000000       1.000000\n",
       "25%         0.000000       4.000000       1.000000\n",
       "50%         0.000000       7.000000       1.000000\n",
       "75%         0.000000      13.000000       2.000000\n",
       "max    425045.000000    3607.000000     487.000000"
      ],
      "text/html": "<div>\n<style scoped>\n    .dataframe tbody tr th:only-of-type {\n        vertical-align: middle;\n    }\n\n    .dataframe tbody tr th {\n        vertical-align: top;\n    }\n\n    .dataframe thead th {\n        text-align: right;\n    }\n</style>\n<table border=\"1\" class=\"dataframe\">\n  <thead>\n    <tr style=\"text-align: right;\">\n      <th></th>\n      <th>wcc</th>\n      <th>degree</th>\n      <th>resources</th>\n    </tr>\n  </thead>\n  <tbody>\n    <tr>\n      <th>count</th>\n      <td>425047.000000</td>\n      <td>425047.000000</td>\n      <td>425047.000000</td>\n    </tr>\n    <tr>\n      <th>mean</th>\n      <td>44970.782259</td>\n      <td>25.829275</td>\n      <td>2.443200</td>\n    </tr>\n    <tr>\n      <th>std</th>\n      <td>101354.419554</td>\n      <td>98.524533</td>\n      <td>5.657282</td>\n    </tr>\n    <tr>\n      <th>min</th>\n      <td>0.000000</td>\n      <td>0.000000</td>\n      <td>1.000000</td>\n    </tr>\n    <tr>\n      <th>25%</th>\n      <td>0.000000</td>\n      <td>4.000000</td>\n      <td>1.000000</td>\n    </tr>\n    <tr>\n      <th>50%</th>\n      <td>0.000000</td>\n      <td>7.000000</td>\n      <td>1.000000</td>\n    </tr>\n    <tr>\n      <th>75%</th>\n      <td>0.000000</td>\n      <td>13.000000</td>\n      <td>2.000000</td>\n    </tr>\n    <tr>\n      <th>max</th>\n      <td>425045.000000</td>\n      <td>3607.000000</td>\n      <td>487.000000</td>\n    </tr>\n  </tbody>\n</table>\n</div>"
     },
     "metadata": {},
     "execution_count": 30
    }
   ],
   "source": [
    "df.describe()"
   ]
  },
  {
   "source": [
    "già qui si potrebbe pensare ad un indicatore che esprime quanto l'autore è propenso a fare risorse con persone diverse"
   ],
   "cell_type": "markdown",
   "metadata": {}
  },
  {
   "source": [
    "## Adding page rank"
   ],
   "cell_type": "markdown",
   "metadata": {}
  },
  {
   "cell_type": "code",
   "execution_count": 35,
   "metadata": {},
   "outputs": [],
   "source": [
    "df = cyperQueryToDataFrame(\"\"\"\n",
    "    MATCH (n:Author) RETURN n.id, n.__wcc as wcc, n.__degree as degree, n.resource_published as resources, n.__parerank as pagerank\n",
    "\"\"\")"
   ]
  },
  {
   "cell_type": "code",
   "execution_count": 36,
   "metadata": {},
   "outputs": [
    {
     "output_type": "execute_result",
     "data": {
      "text/plain": [
       "                        n.id     wcc  degree  resources  pagerank\n",
       "0        Maimon-Mor, Roni O.       0     2.0          1  0.388988\n",
       "1       Johansen-Berg, Heidi       0    27.0          6  2.340052\n",
       "2            Makin, Tamar R.       0     2.0          1  0.388988\n",
       "3              Chang, Luke J       3     3.0          1  1.000000\n",
       "4                Smith, Alec       3     3.0          1  1.000000\n",
       "...                      ...     ...     ...        ...       ...\n",
       "425042       Dieter Gollmann  425042     3.0          1  1.248175\n",
       "425043      Florian Gondesen  425042     2.0          1  0.875912\n",
       "425044         Matthias Marx  425042     2.0          1  0.875912\n",
       "425045           Sunila Jain  425045     1.0          1  1.000000\n",
       "425046          Anand Chawla  425045     1.0          1  1.000000\n",
       "\n",
       "[425047 rows x 5 columns]"
      ],
      "text/html": "<div>\n<style scoped>\n    .dataframe tbody tr th:only-of-type {\n        vertical-align: middle;\n    }\n\n    .dataframe tbody tr th {\n        vertical-align: top;\n    }\n\n    .dataframe thead th {\n        text-align: right;\n    }\n</style>\n<table border=\"1\" class=\"dataframe\">\n  <thead>\n    <tr style=\"text-align: right;\">\n      <th></th>\n      <th>n.id</th>\n      <th>wcc</th>\n      <th>degree</th>\n      <th>resources</th>\n      <th>pagerank</th>\n    </tr>\n  </thead>\n  <tbody>\n    <tr>\n      <th>0</th>\n      <td>Maimon-Mor, Roni O.</td>\n      <td>0</td>\n      <td>2.0</td>\n      <td>1</td>\n      <td>0.388988</td>\n    </tr>\n    <tr>\n      <th>1</th>\n      <td>Johansen-Berg, Heidi</td>\n      <td>0</td>\n      <td>27.0</td>\n      <td>6</td>\n      <td>2.340052</td>\n    </tr>\n    <tr>\n      <th>2</th>\n      <td>Makin, Tamar R.</td>\n      <td>0</td>\n      <td>2.0</td>\n      <td>1</td>\n      <td>0.388988</td>\n    </tr>\n    <tr>\n      <th>3</th>\n      <td>Chang, Luke J</td>\n      <td>3</td>\n      <td>3.0</td>\n      <td>1</td>\n      <td>1.000000</td>\n    </tr>\n    <tr>\n      <th>4</th>\n      <td>Smith, Alec</td>\n      <td>3</td>\n      <td>3.0</td>\n      <td>1</td>\n      <td>1.000000</td>\n    </tr>\n    <tr>\n      <th>...</th>\n      <td>...</td>\n      <td>...</td>\n      <td>...</td>\n      <td>...</td>\n      <td>...</td>\n    </tr>\n    <tr>\n      <th>425042</th>\n      <td>Dieter Gollmann</td>\n      <td>425042</td>\n      <td>3.0</td>\n      <td>1</td>\n      <td>1.248175</td>\n    </tr>\n    <tr>\n      <th>425043</th>\n      <td>Florian Gondesen</td>\n      <td>425042</td>\n      <td>2.0</td>\n      <td>1</td>\n      <td>0.875912</td>\n    </tr>\n    <tr>\n      <th>425044</th>\n      <td>Matthias Marx</td>\n      <td>425042</td>\n      <td>2.0</td>\n      <td>1</td>\n      <td>0.875912</td>\n    </tr>\n    <tr>\n      <th>425045</th>\n      <td>Sunila Jain</td>\n      <td>425045</td>\n      <td>1.0</td>\n      <td>1</td>\n      <td>1.000000</td>\n    </tr>\n    <tr>\n      <th>425046</th>\n      <td>Anand Chawla</td>\n      <td>425045</td>\n      <td>1.0</td>\n      <td>1</td>\n      <td>1.000000</td>\n    </tr>\n  </tbody>\n</table>\n<p>425047 rows × 5 columns</p>\n</div>"
     },
     "metadata": {},
     "execution_count": 36
    }
   ],
   "source": [
    "df"
   ]
  },
  {
   "cell_type": "code",
   "execution_count": 37,
   "metadata": {},
   "outputs": [
    {
     "output_type": "execute_result",
     "data": {
      "text/plain": [
       "                 wcc         degree      resources       pagerank\n",
       "count  425047.000000  425047.000000  425047.000000  425047.000000\n",
       "mean    44970.782259      25.829275       2.443200       0.982190\n",
       "std    101354.419554      98.524533       5.657282       1.080809\n",
       "min         0.000000       0.000000       1.000000       0.150000\n",
       "25%         0.000000       4.000000       1.000000       0.550568\n",
       "50%         0.000000       7.000000       1.000000       0.815309\n",
       "75%         0.000000      13.000000       2.000000       1.000000\n",
       "max    425045.000000    3607.000000     487.000000      79.315635"
      ],
      "text/html": "<div>\n<style scoped>\n    .dataframe tbody tr th:only-of-type {\n        vertical-align: middle;\n    }\n\n    .dataframe tbody tr th {\n        vertical-align: top;\n    }\n\n    .dataframe thead th {\n        text-align: right;\n    }\n</style>\n<table border=\"1\" class=\"dataframe\">\n  <thead>\n    <tr style=\"text-align: right;\">\n      <th></th>\n      <th>wcc</th>\n      <th>degree</th>\n      <th>resources</th>\n      <th>pagerank</th>\n    </tr>\n  </thead>\n  <tbody>\n    <tr>\n      <th>count</th>\n      <td>425047.000000</td>\n      <td>425047.000000</td>\n      <td>425047.000000</td>\n      <td>425047.000000</td>\n    </tr>\n    <tr>\n      <th>mean</th>\n      <td>44970.782259</td>\n      <td>25.829275</td>\n      <td>2.443200</td>\n      <td>0.982190</td>\n    </tr>\n    <tr>\n      <th>std</th>\n      <td>101354.419554</td>\n      <td>98.524533</td>\n      <td>5.657282</td>\n      <td>1.080809</td>\n    </tr>\n    <tr>\n      <th>min</th>\n      <td>0.000000</td>\n      <td>0.000000</td>\n      <td>1.000000</td>\n      <td>0.150000</td>\n    </tr>\n    <tr>\n      <th>25%</th>\n      <td>0.000000</td>\n      <td>4.000000</td>\n      <td>1.000000</td>\n      <td>0.550568</td>\n    </tr>\n    <tr>\n      <th>50%</th>\n      <td>0.000000</td>\n      <td>7.000000</td>\n      <td>1.000000</td>\n      <td>0.815309</td>\n    </tr>\n    <tr>\n      <th>75%</th>\n      <td>0.000000</td>\n      <td>13.000000</td>\n      <td>2.000000</td>\n      <td>1.000000</td>\n    </tr>\n    <tr>\n      <th>max</th>\n      <td>425045.000000</td>\n      <td>3607.000000</td>\n      <td>487.000000</td>\n      <td>79.315635</td>\n    </tr>\n  </tbody>\n</table>\n</div>"
     },
     "metadata": {},
     "execution_count": 37
    }
   ],
   "source": [
    "df.describe()"
   ]
  },
  {
   "source": [
    "## Adding local clustering coefficient"
   ],
   "cell_type": "markdown",
   "metadata": {}
  },
  {
   "cell_type": "code",
   "execution_count": 4,
   "metadata": {},
   "outputs": [],
   "source": [
    "df = cyperQueryToDataFrame(\"\"\"\n",
    "    MATCH (n:Author) RETURN n.id, n.__wcc as wcc, n.__degree as degree, n.resource_published as resources, n.__parerank as pagerank,\n",
    "    n.__localClusteringCoefficient as localclusteringcoefficient\n",
    "\"\"\")"
   ]
  },
  {
   "cell_type": "code",
   "execution_count": 39,
   "metadata": {},
   "outputs": [
    {
     "output_type": "execute_result",
     "data": {
      "text/plain": [
       "                        n.id     wcc  degree  resources  pagerank  \\\n",
       "0        Maimon-Mor, Roni O.       0     2.0          1  0.388988   \n",
       "1       Johansen-Berg, Heidi       0    27.0          6  2.340052   \n",
       "2            Makin, Tamar R.       0     2.0          1  0.388988   \n",
       "3              Chang, Luke J       3     3.0          1  1.000000   \n",
       "4                Smith, Alec       3     3.0          1  1.000000   \n",
       "...                      ...     ...     ...        ...       ...   \n",
       "425042       Dieter Gollmann  425042     3.0          1  1.248175   \n",
       "425043      Florian Gondesen  425042     2.0          1  0.875912   \n",
       "425044         Matthias Marx  425042     2.0          1  0.875912   \n",
       "425045           Sunila Jain  425045     1.0          1  1.000000   \n",
       "425046          Anand Chawla  425045     1.0          1  1.000000   \n",
       "\n",
       "        localclusteringcoefficient  \n",
       "0                         1.000000  \n",
       "1                         0.267806  \n",
       "2                         1.000000  \n",
       "3                         1.000000  \n",
       "4                         1.000000  \n",
       "...                            ...  \n",
       "425042                    0.333333  \n",
       "425043                    1.000000  \n",
       "425044                    1.000000  \n",
       "425045                    0.000000  \n",
       "425046                    0.000000  \n",
       "\n",
       "[425047 rows x 6 columns]"
      ],
      "text/html": "<div>\n<style scoped>\n    .dataframe tbody tr th:only-of-type {\n        vertical-align: middle;\n    }\n\n    .dataframe tbody tr th {\n        vertical-align: top;\n    }\n\n    .dataframe thead th {\n        text-align: right;\n    }\n</style>\n<table border=\"1\" class=\"dataframe\">\n  <thead>\n    <tr style=\"text-align: right;\">\n      <th></th>\n      <th>n.id</th>\n      <th>wcc</th>\n      <th>degree</th>\n      <th>resources</th>\n      <th>pagerank</th>\n      <th>localclusteringcoefficient</th>\n    </tr>\n  </thead>\n  <tbody>\n    <tr>\n      <th>0</th>\n      <td>Maimon-Mor, Roni O.</td>\n      <td>0</td>\n      <td>2.0</td>\n      <td>1</td>\n      <td>0.388988</td>\n      <td>1.000000</td>\n    </tr>\n    <tr>\n      <th>1</th>\n      <td>Johansen-Berg, Heidi</td>\n      <td>0</td>\n      <td>27.0</td>\n      <td>6</td>\n      <td>2.340052</td>\n      <td>0.267806</td>\n    </tr>\n    <tr>\n      <th>2</th>\n      <td>Makin, Tamar R.</td>\n      <td>0</td>\n      <td>2.0</td>\n      <td>1</td>\n      <td>0.388988</td>\n      <td>1.000000</td>\n    </tr>\n    <tr>\n      <th>3</th>\n      <td>Chang, Luke J</td>\n      <td>3</td>\n      <td>3.0</td>\n      <td>1</td>\n      <td>1.000000</td>\n      <td>1.000000</td>\n    </tr>\n    <tr>\n      <th>4</th>\n      <td>Smith, Alec</td>\n      <td>3</td>\n      <td>3.0</td>\n      <td>1</td>\n      <td>1.000000</td>\n      <td>1.000000</td>\n    </tr>\n    <tr>\n      <th>...</th>\n      <td>...</td>\n      <td>...</td>\n      <td>...</td>\n      <td>...</td>\n      <td>...</td>\n      <td>...</td>\n    </tr>\n    <tr>\n      <th>425042</th>\n      <td>Dieter Gollmann</td>\n      <td>425042</td>\n      <td>3.0</td>\n      <td>1</td>\n      <td>1.248175</td>\n      <td>0.333333</td>\n    </tr>\n    <tr>\n      <th>425043</th>\n      <td>Florian Gondesen</td>\n      <td>425042</td>\n      <td>2.0</td>\n      <td>1</td>\n      <td>0.875912</td>\n      <td>1.000000</td>\n    </tr>\n    <tr>\n      <th>425044</th>\n      <td>Matthias Marx</td>\n      <td>425042</td>\n      <td>2.0</td>\n      <td>1</td>\n      <td>0.875912</td>\n      <td>1.000000</td>\n    </tr>\n    <tr>\n      <th>425045</th>\n      <td>Sunila Jain</td>\n      <td>425045</td>\n      <td>1.0</td>\n      <td>1</td>\n      <td>1.000000</td>\n      <td>0.000000</td>\n    </tr>\n    <tr>\n      <th>425046</th>\n      <td>Anand Chawla</td>\n      <td>425045</td>\n      <td>1.0</td>\n      <td>1</td>\n      <td>1.000000</td>\n      <td>0.000000</td>\n    </tr>\n  </tbody>\n</table>\n<p>425047 rows × 6 columns</p>\n</div>"
     },
     "metadata": {},
     "execution_count": 39
    }
   ],
   "source": [
    "df"
   ]
  },
  {
   "cell_type": "code",
   "execution_count": 40,
   "metadata": {},
   "outputs": [
    {
     "output_type": "execute_result",
     "data": {
      "text/plain": [
       "                 wcc         degree      resources       pagerank  \\\n",
       "count  425047.000000  425047.000000  425047.000000  425047.000000   \n",
       "mean    44970.782259      25.829275       2.443200       0.982190   \n",
       "std    101354.419554      98.524533       5.657282       1.080809   \n",
       "min         0.000000       0.000000       1.000000       0.150000   \n",
       "25%         0.000000       4.000000       1.000000       0.550568   \n",
       "50%         0.000000       7.000000       1.000000       0.815309   \n",
       "75%         0.000000      13.000000       2.000000       1.000000   \n",
       "max    425045.000000    3607.000000     487.000000      79.315635   \n",
       "\n",
       "       localclusteringcoefficient  \n",
       "count               425047.000000  \n",
       "mean                     0.793200  \n",
       "std                      0.323026  \n",
       "min                      0.000000  \n",
       "25%                      0.600000  \n",
       "50%                      1.000000  \n",
       "75%                      1.000000  \n",
       "max                      2.000000  "
      ],
      "text/html": "<div>\n<style scoped>\n    .dataframe tbody tr th:only-of-type {\n        vertical-align: middle;\n    }\n\n    .dataframe tbody tr th {\n        vertical-align: top;\n    }\n\n    .dataframe thead th {\n        text-align: right;\n    }\n</style>\n<table border=\"1\" class=\"dataframe\">\n  <thead>\n    <tr style=\"text-align: right;\">\n      <th></th>\n      <th>wcc</th>\n      <th>degree</th>\n      <th>resources</th>\n      <th>pagerank</th>\n      <th>localclusteringcoefficient</th>\n    </tr>\n  </thead>\n  <tbody>\n    <tr>\n      <th>count</th>\n      <td>425047.000000</td>\n      <td>425047.000000</td>\n      <td>425047.000000</td>\n      <td>425047.000000</td>\n      <td>425047.000000</td>\n    </tr>\n    <tr>\n      <th>mean</th>\n      <td>44970.782259</td>\n      <td>25.829275</td>\n      <td>2.443200</td>\n      <td>0.982190</td>\n      <td>0.793200</td>\n    </tr>\n    <tr>\n      <th>std</th>\n      <td>101354.419554</td>\n      <td>98.524533</td>\n      <td>5.657282</td>\n      <td>1.080809</td>\n      <td>0.323026</td>\n    </tr>\n    <tr>\n      <th>min</th>\n      <td>0.000000</td>\n      <td>0.000000</td>\n      <td>1.000000</td>\n      <td>0.150000</td>\n      <td>0.000000</td>\n    </tr>\n    <tr>\n      <th>25%</th>\n      <td>0.000000</td>\n      <td>4.000000</td>\n      <td>1.000000</td>\n      <td>0.550568</td>\n      <td>0.600000</td>\n    </tr>\n    <tr>\n      <th>50%</th>\n      <td>0.000000</td>\n      <td>7.000000</td>\n      <td>1.000000</td>\n      <td>0.815309</td>\n      <td>1.000000</td>\n    </tr>\n    <tr>\n      <th>75%</th>\n      <td>0.000000</td>\n      <td>13.000000</td>\n      <td>2.000000</td>\n      <td>1.000000</td>\n      <td>1.000000</td>\n    </tr>\n    <tr>\n      <th>max</th>\n      <td>425045.000000</td>\n      <td>3607.000000</td>\n      <td>487.000000</td>\n      <td>79.315635</td>\n      <td>2.000000</td>\n    </tr>\n  </tbody>\n</table>\n</div>"
     },
     "metadata": {},
     "execution_count": 40
    }
   ],
   "source": [
    "df.describe()"
   ]
  },
  {
   "cell_type": "code",
   "execution_count": 41,
   "metadata": {},
   "outputs": [
    {
     "output_type": "execute_result",
     "data": {
      "text/plain": [
       "                       n.id     wcc  degree  resources  pagerank  \\\n",
       "280205           R. Gentner       0     2.0          1  0.337758   \n",
       "0       Maimon-Mor, Roni O.       0     2.0          1  0.388988   \n",
       "257955       RobertW. Baker       0     3.0          1  0.354722   \n",
       "257965        Paul Clouston       0     4.0          1  0.530304   \n",
       "257964              C.L Lim       0     4.0          1  0.530304   \n",
       "...                     ...     ...     ...        ...       ...   \n",
       "16926          William Bosl   16926     0.0          1  0.150000   \n",
       "163485      Rodrick Wallace  163484     1.0          1  1.000000   \n",
       "16928       Edward C. Clark       0     2.0          2  0.629109   \n",
       "181292    Elizabeth Hampson  181292     0.0          1  0.150000   \n",
       "425046         Anand Chawla  425045     1.0          1  1.000000   \n",
       "\n",
       "        localclusteringcoefficient  \n",
       "280205                         2.0  \n",
       "0                              1.0  \n",
       "257955                         1.0  \n",
       "257965                         1.0  \n",
       "257964                         1.0  \n",
       "...                            ...  \n",
       "16926                          0.0  \n",
       "163485                         0.0  \n",
       "16928                          0.0  \n",
       "181292                         0.0  \n",
       "425046                         0.0  \n",
       "\n",
       "[425047 rows x 6 columns]"
      ],
      "text/html": "<div>\n<style scoped>\n    .dataframe tbody tr th:only-of-type {\n        vertical-align: middle;\n    }\n\n    .dataframe tbody tr th {\n        vertical-align: top;\n    }\n\n    .dataframe thead th {\n        text-align: right;\n    }\n</style>\n<table border=\"1\" class=\"dataframe\">\n  <thead>\n    <tr style=\"text-align: right;\">\n      <th></th>\n      <th>n.id</th>\n      <th>wcc</th>\n      <th>degree</th>\n      <th>resources</th>\n      <th>pagerank</th>\n      <th>localclusteringcoefficient</th>\n    </tr>\n  </thead>\n  <tbody>\n    <tr>\n      <th>280205</th>\n      <td>R. Gentner</td>\n      <td>0</td>\n      <td>2.0</td>\n      <td>1</td>\n      <td>0.337758</td>\n      <td>2.0</td>\n    </tr>\n    <tr>\n      <th>0</th>\n      <td>Maimon-Mor, Roni O.</td>\n      <td>0</td>\n      <td>2.0</td>\n      <td>1</td>\n      <td>0.388988</td>\n      <td>1.0</td>\n    </tr>\n    <tr>\n      <th>257955</th>\n      <td>RobertW. Baker</td>\n      <td>0</td>\n      <td>3.0</td>\n      <td>1</td>\n      <td>0.354722</td>\n      <td>1.0</td>\n    </tr>\n    <tr>\n      <th>257965</th>\n      <td>Paul Clouston</td>\n      <td>0</td>\n      <td>4.0</td>\n      <td>1</td>\n      <td>0.530304</td>\n      <td>1.0</td>\n    </tr>\n    <tr>\n      <th>257964</th>\n      <td>C.L Lim</td>\n      <td>0</td>\n      <td>4.0</td>\n      <td>1</td>\n      <td>0.530304</td>\n      <td>1.0</td>\n    </tr>\n    <tr>\n      <th>...</th>\n      <td>...</td>\n      <td>...</td>\n      <td>...</td>\n      <td>...</td>\n      <td>...</td>\n      <td>...</td>\n    </tr>\n    <tr>\n      <th>16926</th>\n      <td>William Bosl</td>\n      <td>16926</td>\n      <td>0.0</td>\n      <td>1</td>\n      <td>0.150000</td>\n      <td>0.0</td>\n    </tr>\n    <tr>\n      <th>163485</th>\n      <td>Rodrick Wallace</td>\n      <td>163484</td>\n      <td>1.0</td>\n      <td>1</td>\n      <td>1.000000</td>\n      <td>0.0</td>\n    </tr>\n    <tr>\n      <th>16928</th>\n      <td>Edward C. Clark</td>\n      <td>0</td>\n      <td>2.0</td>\n      <td>2</td>\n      <td>0.629109</td>\n      <td>0.0</td>\n    </tr>\n    <tr>\n      <th>181292</th>\n      <td>Elizabeth Hampson</td>\n      <td>181292</td>\n      <td>0.0</td>\n      <td>1</td>\n      <td>0.150000</td>\n      <td>0.0</td>\n    </tr>\n    <tr>\n      <th>425046</th>\n      <td>Anand Chawla</td>\n      <td>425045</td>\n      <td>1.0</td>\n      <td>1</td>\n      <td>1.000000</td>\n      <td>0.0</td>\n    </tr>\n  </tbody>\n</table>\n<p>425047 rows × 6 columns</p>\n</div>"
     },
     "metadata": {},
     "execution_count": 41
    }
   ],
   "source": [
    "df.sort_values(by=\"localclusteringcoefficient\", ascending=False) "
   ]
  },
  {
   "source": [
    "Il 2 è un errore c'è una doppia relazione tra lo stesso autore e la stessa risorsa"
   ],
   "cell_type": "markdown",
   "metadata": {}
  },
  {
   "source": [
    "## First approach using DBScan"
   ],
   "cell_type": "markdown",
   "metadata": {}
  },
  {
   "cell_type": "code",
   "execution_count": 55,
   "metadata": {},
   "outputs": [],
   "source": [
    "import numpy as np\n",
    "\n",
    "from sklearn.cluster import DBSCAN\n",
    "from sklearn import metrics\n",
    "from sklearn.preprocessing import StandardScaler\n",
    "from sklearn.neighbors import LocalOutlierFactor, NearestNeighbors"
   ]
  },
  {
   "cell_type": "code",
   "execution_count": 3,
   "metadata": {},
   "outputs": [],
   "source": [
    "df = cyperQueryToDataFrame(\"\"\"\n",
    "    MATCH (n:Author) RETURN n.id, n.__wcc as wcc, n.__degree as degree, n.resource_published as resources, n.__parerank as pagerank,\n",
    "    n.__localClusteringCoefficient as localclusteringcoefficient\n",
    "\"\"\")"
   ]
  },
  {
   "cell_type": "code",
   "execution_count": 4,
   "metadata": {},
   "outputs": [],
   "source": [
    "X = StandardScaler().fit_transform(df[[\"degree\", \"resources\", \"pagerank\", \"localclusteringcoefficient\"]].to_numpy())"
   ]
  },
  {
   "cell_type": "code",
   "execution_count": null,
   "metadata": {},
   "outputs": [],
   "source": [
    "db = DBSCAN(eps=0.05, min_samples=4, algorithm=\"ball_tree\", leaf_size=1000).fit(X)\n",
    "core_samples_mask = np.zeros_like(db.labels_, dtype=bool)\n",
    "core_samples_mask[db.core_sample_indices_] = True\n",
    "labels = db.labels_"
   ]
  },
  {
   "cell_type": "code",
   "execution_count": 6,
   "metadata": {},
   "outputs": [],
   "source": [
    "n_clusters_ = len(set(labels)) - (1 if -1 in labels else 0)\n",
    "n_noise_ = list(labels).count(-1)"
   ]
  },
  {
   "cell_type": "code",
   "execution_count": 10,
   "metadata": {},
   "outputs": [
    {
     "output_type": "stream",
     "name": "stdout",
     "text": [
      "Estimated number of clusters: 1270\nEstimated number of noise points: 29408\n"
     ]
    }
   ],
   "source": [
    "print('Estimated number of clusters: %d' % n_clusters_)\n",
    "print('Estimated number of noise points: %d' % n_noise_)"
   ]
  },
  {
   "cell_type": "code",
   "execution_count": 5,
   "metadata": {},
   "outputs": [
    {
     "output_type": "stream",
     "name": "stdout",
     "text": [
      "Estimated number of clusters: 2025\nEstimated number of noise points: 25635\n"
     ]
    }
   ],
   "source": [
    "db2 = DBSCAN(eps=0.05, min_samples=3, algorithm=\"ball_tree\", leaf_size=1000).fit(X)\n",
    "core_samples_mask = np.zeros_like(db2.labels_, dtype=bool)\n",
    "core_samples_mask[db2.core_sample_indices_] = True\n",
    "labels = db2.labels_\n",
    "n_clusters_ = len(set(labels)) - (1 if -1 in labels else 0)\n",
    "n_noise_ = list(labels).count(-1)\n",
    "print('Estimated number of clusters: %d' % n_clusters_)\n",
    "print('Estimated number of noise points: %d' % n_noise_)"
   ]
  },
  {
   "cell_type": "code",
   "execution_count": 8,
   "metadata": {},
   "outputs": [],
   "source": [
    "clf = LocalOutlierFactor(n_neighbors=20, contamination=0.0001) # in pratica 20 neighbour sembra funzionare bene\n",
    "y_pred = clf.fit_predict(X)"
   ]
  },
  {
   "cell_type": "code",
   "execution_count": 9,
   "metadata": {},
   "outputs": [],
   "source": [
    "X_scores = clf.negative_outlier_factor_"
   ]
  },
  {
   "cell_type": "code",
   "execution_count": 12,
   "metadata": {},
   "outputs": [
    {
     "output_type": "execute_result",
     "data": {
      "text/plain": [
       "-0.8546343095113361"
      ]
     },
     "metadata": {},
     "execution_count": 12
    }
   ],
   "source": [
    "X_scores.max()"
   ]
  },
  {
   "cell_type": "code",
   "execution_count": 13,
   "metadata": {},
   "outputs": [
    {
     "output_type": "execute_result",
     "data": {
      "text/plain": [
       "-3317180512.3399343"
      ]
     },
     "metadata": {},
     "execution_count": 13
    }
   ],
   "source": [
    "X_scores.min()"
   ]
  },
  {
   "cell_type": "code",
   "execution_count": 15,
   "metadata": {},
   "outputs": [],
   "source": [
    "df['lof'] = X_scores"
   ]
  },
  {
   "cell_type": "code",
   "execution_count": 17,
   "metadata": {},
   "outputs": [
    {
     "output_type": "execute_result",
     "data": {
      "text/plain": [
       "                         n.id     wcc  degree  resources  pagerank  \\\n",
       "76316              Liu, Chang       0   630.0          2  1.487150   \n",
       "378373               Yulianti       0   629.0          2  1.481493   \n",
       "11113         Bruchez, Marcel       0   629.0          2  1.447845   \n",
       "379142                Li, Jun       0   628.0          2  1.400440   \n",
       "46418           Kelly, Ciaran       0   628.0          2  1.400440   \n",
       "...                       ...     ...     ...        ...       ...   \n",
       "26874           Eun Jeong Kim       0     5.0          1  0.702767   \n",
       "398065            Manasi Iyer  120663     6.0          1  0.776154   \n",
       "398063         Jeremy M. Shea  120663     6.0          1  0.776154   \n",
       "398067      Géraldine Gontier  120663     6.0          1  0.776154   \n",
       "398068  Miguel Ramalho-Santos  120663     6.0          1  0.776154   \n",
       "\n",
       "        localclusteringcoefficient           lof  \n",
       "76316                     0.981104 -3.317181e+09  \n",
       "378373                    0.984203 -3.276834e+09  \n",
       "11113                     0.984203 -3.118579e+09  \n",
       "379142                    0.987322 -2.886776e+09  \n",
       "46418                     0.987322 -2.886776e+09  \n",
       "...                            ...           ...  \n",
       "26874                     1.000000 -8.591685e-01  \n",
       "398065                    1.000000 -8.546343e-01  \n",
       "398063                    1.000000 -8.546343e-01  \n",
       "398067                    1.000000 -8.546343e-01  \n",
       "398068                    1.000000 -8.546343e-01  \n",
       "\n",
       "[425047 rows x 7 columns]"
      ],
      "text/html": "<div>\n<style scoped>\n    .dataframe tbody tr th:only-of-type {\n        vertical-align: middle;\n    }\n\n    .dataframe tbody tr th {\n        vertical-align: top;\n    }\n\n    .dataframe thead th {\n        text-align: right;\n    }\n</style>\n<table border=\"1\" class=\"dataframe\">\n  <thead>\n    <tr style=\"text-align: right;\">\n      <th></th>\n      <th>n.id</th>\n      <th>wcc</th>\n      <th>degree</th>\n      <th>resources</th>\n      <th>pagerank</th>\n      <th>localclusteringcoefficient</th>\n      <th>lof</th>\n    </tr>\n  </thead>\n  <tbody>\n    <tr>\n      <th>76316</th>\n      <td>Liu, Chang</td>\n      <td>0</td>\n      <td>630.0</td>\n      <td>2</td>\n      <td>1.487150</td>\n      <td>0.981104</td>\n      <td>-3.317181e+09</td>\n    </tr>\n    <tr>\n      <th>378373</th>\n      <td>Yulianti</td>\n      <td>0</td>\n      <td>629.0</td>\n      <td>2</td>\n      <td>1.481493</td>\n      <td>0.984203</td>\n      <td>-3.276834e+09</td>\n    </tr>\n    <tr>\n      <th>11113</th>\n      <td>Bruchez, Marcel</td>\n      <td>0</td>\n      <td>629.0</td>\n      <td>2</td>\n      <td>1.447845</td>\n      <td>0.984203</td>\n      <td>-3.118579e+09</td>\n    </tr>\n    <tr>\n      <th>379142</th>\n      <td>Li, Jun</td>\n      <td>0</td>\n      <td>628.0</td>\n      <td>2</td>\n      <td>1.400440</td>\n      <td>0.987322</td>\n      <td>-2.886776e+09</td>\n    </tr>\n    <tr>\n      <th>46418</th>\n      <td>Kelly, Ciaran</td>\n      <td>0</td>\n      <td>628.0</td>\n      <td>2</td>\n      <td>1.400440</td>\n      <td>0.987322</td>\n      <td>-2.886776e+09</td>\n    </tr>\n    <tr>\n      <th>...</th>\n      <td>...</td>\n      <td>...</td>\n      <td>...</td>\n      <td>...</td>\n      <td>...</td>\n      <td>...</td>\n      <td>...</td>\n    </tr>\n    <tr>\n      <th>26874</th>\n      <td>Eun Jeong Kim</td>\n      <td>0</td>\n      <td>5.0</td>\n      <td>1</td>\n      <td>0.702767</td>\n      <td>1.000000</td>\n      <td>-8.591685e-01</td>\n    </tr>\n    <tr>\n      <th>398065</th>\n      <td>Manasi Iyer</td>\n      <td>120663</td>\n      <td>6.0</td>\n      <td>1</td>\n      <td>0.776154</td>\n      <td>1.000000</td>\n      <td>-8.546343e-01</td>\n    </tr>\n    <tr>\n      <th>398063</th>\n      <td>Jeremy M. Shea</td>\n      <td>120663</td>\n      <td>6.0</td>\n      <td>1</td>\n      <td>0.776154</td>\n      <td>1.000000</td>\n      <td>-8.546343e-01</td>\n    </tr>\n    <tr>\n      <th>398067</th>\n      <td>Géraldine Gontier</td>\n      <td>120663</td>\n      <td>6.0</td>\n      <td>1</td>\n      <td>0.776154</td>\n      <td>1.000000</td>\n      <td>-8.546343e-01</td>\n    </tr>\n    <tr>\n      <th>398068</th>\n      <td>Miguel Ramalho-Santos</td>\n      <td>120663</td>\n      <td>6.0</td>\n      <td>1</td>\n      <td>0.776154</td>\n      <td>1.000000</td>\n      <td>-8.546343e-01</td>\n    </tr>\n  </tbody>\n</table>\n<p>425047 rows × 7 columns</p>\n</div>"
     },
     "metadata": {},
     "execution_count": 17
    }
   ],
   "source": [
    "df.sort_values(by=['lof'], ascending=True)"
   ]
  },
  {
   "cell_type": "code",
   "execution_count": 19,
   "metadata": {},
   "outputs": [],
   "source": [
    "df = cyperQueryToDataFrame(\"\"\"\n",
    "    MATCH (n:Author) RETURN n.id, n.__wcc as wcc, n.__degree as degree, n.resource_published as resources, n.__parerank as pagerank,\n",
    "    n.__localClusteringCoefficient as localclusteringcoefficient, n.`__fastrp-embedding`\n",
    "\"\"\")"
   ]
  },
  {
   "cell_type": "code",
   "execution_count": 25,
   "metadata": {},
   "outputs": [],
   "source": [
    "X = np.array(df[\"n.`__fastrp-embedding`\"].to_list())"
   ]
  },
  {
   "cell_type": "code",
   "execution_count": 26,
   "metadata": {},
   "outputs": [
    {
     "output_type": "execute_result",
     "data": {
      "text/plain": [
       "array([[-0.83164656,  0.01154545,  0.30540568, ...,  0.48315668,\n",
       "         1.23521674,  0.41503212],\n",
       "       [-0.95615113, -0.03100635,  0.05266985, ...,  0.52140504,\n",
       "         1.56521952,  0.36397046],\n",
       "       [-0.8902142 ,  0.01169572,  0.24230045, ...,  0.48351014,\n",
       "         1.17733634,  0.41553381],\n",
       "       ...,\n",
       "       [ 0.32591417,  1.17309511, -0.74403322, ..., -0.8471809 ,\n",
       "         0.        , -0.8471809 ],\n",
       "       [ 0.79056942,  0.7624929 , -0.02807654, ..., -0.7624929 ,\n",
       "         0.        ,  0.        ],\n",
       "       [ 0.79056942,  0.7624929 , -0.02807654, ..., -0.7624929 ,\n",
       "         0.        ,  0.        ]])"
      ]
     },
     "metadata": {},
     "execution_count": 26
    }
   ],
   "source": [
    "X"
   ]
  },
  {
   "cell_type": "code",
   "execution_count": 27,
   "metadata": {},
   "outputs": [],
   "source": [
    "clf = LocalOutlierFactor(n_neighbors=20, contamination=0.0001) # in pratica 20 neighbour sembra funzionare bene\n",
    "y_pred = clf.fit_predict(X)"
   ]
  },
  {
   "cell_type": "code",
   "execution_count": 29,
   "metadata": {},
   "outputs": [
    {
     "output_type": "execute_result",
     "data": {
      "text/plain": [
       "-100000013518.23679"
      ]
     },
     "metadata": {},
     "execution_count": 29
    }
   ],
   "source": [
    "X_scores.min()"
   ]
  },
  {
   "cell_type": "code",
   "execution_count": 31,
   "metadata": {},
   "outputs": [
    {
     "output_type": "execute_result",
     "data": {
      "text/plain": [
       "                               n.id     wcc  degree  resources  pagerank  \\\n",
       "360103  Maxim Viktorovich Lukoyanov  360103     1.0          1  1.000000   \n",
       "168947            Max Ortiz-Catalan  168947     1.0          1  1.000000   \n",
       "366883             Elizabeth W Pang  366883     1.0          1  1.000000   \n",
       "20450                   Johan Ræder   20450     1.0          1  1.000000   \n",
       "153195            E.Gregory Keating  153195     1.0          1  1.000000   \n",
       "...                             ...     ...     ...        ...       ...   \n",
       "322789                    L Parolin       0     4.0          2  0.484293   \n",
       "36497                P.K. Sadasivan       0     6.0          5  0.869979   \n",
       "172507                Shyam Diwakar  172507    40.0         10  3.934544   \n",
       "83645              Kristinn Johnsen       0    75.0         22  3.211445   \n",
       "81711             Roberta Dal Magro       0    18.0          2  1.673711   \n",
       "\n",
       "        localclusteringcoefficient  \\\n",
       "360103                    0.000000   \n",
       "168947                    0.000000   \n",
       "366883                    0.000000   \n",
       "20450                     0.000000   \n",
       "153195                    0.000000   \n",
       "...                            ...   \n",
       "322789                    1.000000   \n",
       "36497                     0.533333   \n",
       "172507                    0.197436   \n",
       "83645                     0.344505   \n",
       "81711                     0.477124   \n",
       "\n",
       "                                   n.`__fastrp-embedding`           lof  \n",
       "360103  [0.0, -1.524985909461975, 0.0, 0.0, 0.0, 0.0, ... -1.000000e+11  \n",
       "168947  [1.524985909461975, 0.0, 0.0, 1.52498590946197... -1.000000e+11  \n",
       "366883  [-1.524985909461975, -1.524985909461975, 1.524... -1.000000e+11  \n",
       "20450   [0.0, 0.0, 0.0, 0.0, 0.0, 0.0, 0.0, 0.0, 0.0, ... -1.000000e+11  \n",
       "153195  [-1.4285715818405151, 0.0, 0.0, 0.0, -1.428571... -1.000000e+11  \n",
       "...                                                   ...           ...  \n",
       "322789  [0.6991167068481445, -2.390488624572754, -1.14... -9.204082e-01  \n",
       "36497   [-0.6779718995094299, -0.3040192723274231, 1.2... -9.188990e-01  \n",
       "172507  [0.8750414848327637, 0.021053701639175415, -0.... -9.186044e-01  \n",
       "83645   [-0.4510290026664734, 1.5770740509033203, 0.28... -9.150334e-01  \n",
       "81711   [2.1395044326782227, -1.269822120666504, -1.19... -8.953811e-01  \n",
       "\n",
       "[425047 rows x 8 columns]"
      ],
      "text/html": "<div>\n<style scoped>\n    .dataframe tbody tr th:only-of-type {\n        vertical-align: middle;\n    }\n\n    .dataframe tbody tr th {\n        vertical-align: top;\n    }\n\n    .dataframe thead th {\n        text-align: right;\n    }\n</style>\n<table border=\"1\" class=\"dataframe\">\n  <thead>\n    <tr style=\"text-align: right;\">\n      <th></th>\n      <th>n.id</th>\n      <th>wcc</th>\n      <th>degree</th>\n      <th>resources</th>\n      <th>pagerank</th>\n      <th>localclusteringcoefficient</th>\n      <th>n.`__fastrp-embedding`</th>\n      <th>lof</th>\n    </tr>\n  </thead>\n  <tbody>\n    <tr>\n      <th>360103</th>\n      <td>Maxim Viktorovich Lukoyanov</td>\n      <td>360103</td>\n      <td>1.0</td>\n      <td>1</td>\n      <td>1.000000</td>\n      <td>0.000000</td>\n      <td>[0.0, -1.524985909461975, 0.0, 0.0, 0.0, 0.0, ...</td>\n      <td>-1.000000e+11</td>\n    </tr>\n    <tr>\n      <th>168947</th>\n      <td>Max Ortiz-Catalan</td>\n      <td>168947</td>\n      <td>1.0</td>\n      <td>1</td>\n      <td>1.000000</td>\n      <td>0.000000</td>\n      <td>[1.524985909461975, 0.0, 0.0, 1.52498590946197...</td>\n      <td>-1.000000e+11</td>\n    </tr>\n    <tr>\n      <th>366883</th>\n      <td>Elizabeth W Pang</td>\n      <td>366883</td>\n      <td>1.0</td>\n      <td>1</td>\n      <td>1.000000</td>\n      <td>0.000000</td>\n      <td>[-1.524985909461975, -1.524985909461975, 1.524...</td>\n      <td>-1.000000e+11</td>\n    </tr>\n    <tr>\n      <th>20450</th>\n      <td>Johan Ræder</td>\n      <td>20450</td>\n      <td>1.0</td>\n      <td>1</td>\n      <td>1.000000</td>\n      <td>0.000000</td>\n      <td>[0.0, 0.0, 0.0, 0.0, 0.0, 0.0, 0.0, 0.0, 0.0, ...</td>\n      <td>-1.000000e+11</td>\n    </tr>\n    <tr>\n      <th>153195</th>\n      <td>E.Gregory Keating</td>\n      <td>153195</td>\n      <td>1.0</td>\n      <td>1</td>\n      <td>1.000000</td>\n      <td>0.000000</td>\n      <td>[-1.4285715818405151, 0.0, 0.0, 0.0, -1.428571...</td>\n      <td>-1.000000e+11</td>\n    </tr>\n    <tr>\n      <th>...</th>\n      <td>...</td>\n      <td>...</td>\n      <td>...</td>\n      <td>...</td>\n      <td>...</td>\n      <td>...</td>\n      <td>...</td>\n      <td>...</td>\n    </tr>\n    <tr>\n      <th>322789</th>\n      <td>L Parolin</td>\n      <td>0</td>\n      <td>4.0</td>\n      <td>2</td>\n      <td>0.484293</td>\n      <td>1.000000</td>\n      <td>[0.6991167068481445, -2.390488624572754, -1.14...</td>\n      <td>-9.204082e-01</td>\n    </tr>\n    <tr>\n      <th>36497</th>\n      <td>P.K. Sadasivan</td>\n      <td>0</td>\n      <td>6.0</td>\n      <td>5</td>\n      <td>0.869979</td>\n      <td>0.533333</td>\n      <td>[-0.6779718995094299, -0.3040192723274231, 1.2...</td>\n      <td>-9.188990e-01</td>\n    </tr>\n    <tr>\n      <th>172507</th>\n      <td>Shyam Diwakar</td>\n      <td>172507</td>\n      <td>40.0</td>\n      <td>10</td>\n      <td>3.934544</td>\n      <td>0.197436</td>\n      <td>[0.8750414848327637, 0.021053701639175415, -0....</td>\n      <td>-9.186044e-01</td>\n    </tr>\n    <tr>\n      <th>83645</th>\n      <td>Kristinn Johnsen</td>\n      <td>0</td>\n      <td>75.0</td>\n      <td>22</td>\n      <td>3.211445</td>\n      <td>0.344505</td>\n      <td>[-0.4510290026664734, 1.5770740509033203, 0.28...</td>\n      <td>-9.150334e-01</td>\n    </tr>\n    <tr>\n      <th>81711</th>\n      <td>Roberta Dal Magro</td>\n      <td>0</td>\n      <td>18.0</td>\n      <td>2</td>\n      <td>1.673711</td>\n      <td>0.477124</td>\n      <td>[2.1395044326782227, -1.269822120666504, -1.19...</td>\n      <td>-8.953811e-01</td>\n    </tr>\n  </tbody>\n</table>\n<p>425047 rows × 8 columns</p>\n</div>"
     },
     "metadata": {},
     "execution_count": 31
    }
   ],
   "source": [
    "pd.set_option('display.max_rows', 100)\n",
    "X_scores = clf.negative_outlier_factor_\n",
    "df['lof'] = X_scores\n",
    "df.sort_values(by=['lof'], ascending=True) # quelli più outlier secondo lui sono quelli che hanno più connessioni verso una risorsa"
   ]
  },
  {
   "cell_type": "code",
   "execution_count": 35,
   "metadata": {},
   "outputs": [],
   "source": [
    "df.sort_values(by=['lof'], ascending=True).to_csv('lof_fastrp_embedding_author.csv', index=False)"
   ]
  },
  {
   "cell_type": "code",
   "execution_count": 37,
   "metadata": {},
   "outputs": [
    {
     "output_type": "execute_result",
     "data": {
      "text/plain": [
       "(425047,)"
      ]
     },
     "metadata": {},
     "execution_count": 37
    }
   ],
   "source": [
    "# curioso vedere i nearest neighbors e trovare quali autori sono più vicini tra loro\n",
    "# il paper fast rp raccomanda la cosine similarity, ma sklearn usa euclidean, quindi normalizzo fast rp per avere lo stesso ordinamento"
   ]
  },
  {
   "cell_type": "code",
   "execution_count": 47,
   "metadata": {},
   "outputs": [],
   "source": [
    "X_norm = np.linalg.norm(X, axis = 1, keepdims = True)"
   ]
  },
  {
   "cell_type": "code",
   "execution_count": 52,
   "metadata": {},
   "outputs": [
    {
     "output_type": "execute_result",
     "data": {
      "text/plain": [
       "10.000001464459567"
      ]
     },
     "metadata": {},
     "execution_count": 52
    }
   ],
   "source": [
    "l2_norm = np.sum(np.abs(X)**2,axis=-1)**(1./2)\n",
    "l2_norm[l2_norm == 0] = 1\n",
    "l2_norm.max()"
   ]
  },
  {
   "cell_type": "code",
   "execution_count": 53,
   "metadata": {},
   "outputs": [],
   "source": [
    "X_norm = X / l2_norm[:, np.newaxis]"
   ]
  },
  {
   "cell_type": "code",
   "execution_count": 54,
   "metadata": {},
   "outputs": [
    {
     "output_type": "execute_result",
     "data": {
      "text/plain": [
       "1.0000000000000002"
      ]
     },
     "metadata": {},
     "execution_count": 54
    }
   ],
   "source": [
    "l2_norm = np.sum(np.abs(X_norm)**2,axis=-1)**(1./2)\n",
    "l2_norm.max()"
   ]
  },
  {
   "cell_type": "code",
   "execution_count": 56,
   "metadata": {},
   "outputs": [
    {
     "output_type": "execute_result",
     "data": {
      "text/plain": [
       "NearestNeighbors(metric='euclidean', n_neighbors=2)"
      ]
     },
     "metadata": {},
     "execution_count": 56
    }
   ],
   "source": [
    "neigh = NearestNeighbors(n_neighbors=2, metric='euclidean')\n",
    "neigh.fit(X_norm)"
   ]
  },
  {
   "cell_type": "code",
   "execution_count": 58,
   "metadata": {},
   "outputs": [
    {
     "output_type": "execute_result",
     "data": {
      "text/plain": [
       "array([[-0.09912667, -0.00321451,  0.00546042, ...,  0.05405542,\n",
       "         0.16227038,  0.03773376],\n",
       "       [-0.09904093,  0.00130121,  0.02695718, ...,  0.053793  ,\n",
       "         0.13098475,  0.04623028],\n",
       "       [-0.00016658,  0.16453352,  0.00749547, ..., -0.08185427,\n",
       "         0.        , -0.15703807],\n",
       "       ...,\n",
       "       [ 0.01586033, -0.10599009,  0.07787759, ...,  0.01253639,\n",
       "         0.05840234, -0.0707914 ],\n",
       "       [ 0.01826123, -0.09536059,  0.09877386, ...,  0.00903046,\n",
       "         0.05834375, -0.06015463],\n",
       "       [ 0.04254953, -0.0965631 ,  0.04749346, ...,  0.01397605,\n",
       "         0.07222436, -0.04980686]])"
      ]
     },
     "metadata": {},
     "execution_count": 58
    }
   ],
   "source": [
    "X_norm[1:10, :]"
   ]
  },
  {
   "cell_type": "code",
   "execution_count": 62,
   "metadata": {},
   "outputs": [],
   "source": [
    "distances = neigh.kneighbors(X_norm, 2, return_distance=True) # è una tupla, primo elemento le distanze secondo gli indici, ovviamente come primo elemento mi ritornerà sempre se stesso, anche se stranamente non me lo ritorna a 0 (comunque un numero molto vicino a 0)"
   ]
  },
  {
   "cell_type": "code",
   "execution_count": 63,
   "metadata": {},
   "outputs": [
    {
     "output_type": "execute_result",
     "data": {
      "text/plain": [
       "(array([[0.        , 0.05893549],\n",
       "        [0.        , 0.24664167],\n",
       "        [0.        , 0.05893549],\n",
       "        ...,\n",
       "        [0.        , 0.04254493],\n",
       "        [0.        , 0.        ],\n",
       "        [0.        , 0.        ]]),\n",
       " array([[     0,      2],\n",
       "        [     1,      2],\n",
       "        [     2,      0],\n",
       "        ...,\n",
       "        [425044, 425042],\n",
       "        [425045, 425046],\n",
       "        [425045, 425046]]))"
      ]
     },
     "metadata": {},
     "execution_count": 63
    }
   ],
   "source": [
    "distances"
   ]
  },
  {
   "cell_type": "code",
   "execution_count": 68,
   "metadata": {},
   "outputs": [],
   "source": [
    "distances_second = distances[0][:, 1]\n",
    "indices_second = distances[1][:, 1]"
   ]
  },
  {
   "cell_type": "code",
   "execution_count": 79,
   "metadata": {},
   "outputs": [],
   "source": [
    "nearest_neighbour_df = df[['n.id']].iloc[indices_second]"
   ]
  },
  {
   "cell_type": "code",
   "execution_count": 80,
   "metadata": {},
   "outputs": [],
   "source": [
    "df['nearest_neighbour'] = nearest_neighbour_df['n.id'].to_list()"
   ]
  },
  {
   "cell_type": "code",
   "execution_count": 83,
   "metadata": {},
   "outputs": [],
   "source": [
    "df['distance_to_nearest_neighbour'] = distances_second"
   ]
  },
  {
   "cell_type": "code",
   "execution_count": 87,
   "metadata": {},
   "outputs": [
    {
     "output_type": "execute_result",
     "data": {
      "text/plain": [
       "                        n.id    wcc  degree  resources  pagerank  \\\n",
       "112349     Michael J. Kovacs      0     6.0          1  0.500855   \n",
       "13775             Rob Bartha      0   567.0          8  6.194972   \n",
       "276337         Lorenzo eSani      0    15.0          2  1.324498   \n",
       "13789         Brendan Kelley      0   486.0          6  5.289691   \n",
       "66774       Filipe L. Andrés  66774     2.0          2  1.459459   \n",
       "...                      ...    ...     ...        ...       ...   \n",
       "132867      Dennis A. Turner      0     4.0          4  0.384847   \n",
       "79158         Babak Mahmoudi      0     7.0          7  0.781997   \n",
       "291542        Daphne L. Wang      0     3.0          1  0.278055   \n",
       "289106  Sunita Venkateswaran      0     3.0          2  0.285750   \n",
       "393598        Lucia Carriero      0     3.0          1  0.296742   \n",
       "\n",
       "        localclusteringcoefficient  \\\n",
       "112349                    0.666667   \n",
       "13775                     0.792847   \n",
       "276337                    0.609524   \n",
       "13789                     0.871910   \n",
       "66774                     0.000000   \n",
       "...                            ...   \n",
       "132867                    0.000000   \n",
       "79158                     0.142857   \n",
       "291542                    1.000000   \n",
       "289106                    0.333333   \n",
       "393598                    1.000000   \n",
       "\n",
       "                                   n.`__fastrp-embedding`           lof  \\\n",
       "112349  [-1.277119517326355, 0.3321249783039093, 0.222... -1.070089e+00   \n",
       "13775   [-0.19466306269168854, 1.8628027439117432, -0.... -1.201219e+09   \n",
       "276337  [0.31591281294822693, -0.03289956972002983, 1.... -1.016638e+00   \n",
       "13789   [-0.1259988695383072, 1.940391182899475, -0.10... -1.221920e+00   \n",
       "66774   [1.132277011871338, 0.7808688282966614, 0.0, -... -6.419982e+10   \n",
       "...                                                   ...           ...   \n",
       "132867  [-0.49793142080307007, 0.500878095626831, -0.3... -1.134408e+00   \n",
       "79158   [0.002955872565507889, 1.0737414360046387, -0.... -1.330229e+00   \n",
       "291542  [1.1258503198623657, 0.8384608030319214, -0.61... -1.470406e+00   \n",
       "289106  [0.16328322887420654, 0.6464352011680603, -0.2... -1.507481e+00   \n",
       "393598  [-0.14235243201255798, -0.6235581040382385, 0.... -5.680527e+10   \n",
       "\n",
       "           nearest_neighbour  distance_to_nearest_neighbour  \n",
       "112349           Eric Wright                       0.000000  \n",
       "13775             Rob Bartha                       0.000000  \n",
       "276337   Emiliano eRicciardi                       0.000000  \n",
       "13789        Hristina Koleva                       0.000000  \n",
       "66774   Hendrik Van der Loos                       0.000000  \n",
       "...                      ...                            ...  \n",
       "132867        Allen R. Wyler                       0.794037  \n",
       "79158          Mark Connolly                       0.800522  \n",
       "291542    Tracy T. Batchelor                       0.811722  \n",
       "289106       Michael Shevell                       0.827964  \n",
       "393598        Riccardo Budai                       0.854173  \n",
       "\n",
       "[398283 rows x 10 columns]"
      ],
      "text/html": "<div>\n<style scoped>\n    .dataframe tbody tr th:only-of-type {\n        vertical-align: middle;\n    }\n\n    .dataframe tbody tr th {\n        vertical-align: top;\n    }\n\n    .dataframe thead th {\n        text-align: right;\n    }\n</style>\n<table border=\"1\" class=\"dataframe\">\n  <thead>\n    <tr style=\"text-align: right;\">\n      <th></th>\n      <th>n.id</th>\n      <th>wcc</th>\n      <th>degree</th>\n      <th>resources</th>\n      <th>pagerank</th>\n      <th>localclusteringcoefficient</th>\n      <th>n.`__fastrp-embedding`</th>\n      <th>lof</th>\n      <th>nearest_neighbour</th>\n      <th>distance_to_nearest_neighbour</th>\n    </tr>\n  </thead>\n  <tbody>\n    <tr>\n      <th>112349</th>\n      <td>Michael J. Kovacs</td>\n      <td>0</td>\n      <td>6.0</td>\n      <td>1</td>\n      <td>0.500855</td>\n      <td>0.666667</td>\n      <td>[-1.277119517326355, 0.3321249783039093, 0.222...</td>\n      <td>-1.070089e+00</td>\n      <td>Eric Wright</td>\n      <td>0.000000</td>\n    </tr>\n    <tr>\n      <th>13775</th>\n      <td>Rob Bartha</td>\n      <td>0</td>\n      <td>567.0</td>\n      <td>8</td>\n      <td>6.194972</td>\n      <td>0.792847</td>\n      <td>[-0.19466306269168854, 1.8628027439117432, -0....</td>\n      <td>-1.201219e+09</td>\n      <td>Rob Bartha</td>\n      <td>0.000000</td>\n    </tr>\n    <tr>\n      <th>276337</th>\n      <td>Lorenzo eSani</td>\n      <td>0</td>\n      <td>15.0</td>\n      <td>2</td>\n      <td>1.324498</td>\n      <td>0.609524</td>\n      <td>[0.31591281294822693, -0.03289956972002983, 1....</td>\n      <td>-1.016638e+00</td>\n      <td>Emiliano eRicciardi</td>\n      <td>0.000000</td>\n    </tr>\n    <tr>\n      <th>13789</th>\n      <td>Brendan Kelley</td>\n      <td>0</td>\n      <td>486.0</td>\n      <td>6</td>\n      <td>5.289691</td>\n      <td>0.871910</td>\n      <td>[-0.1259988695383072, 1.940391182899475, -0.10...</td>\n      <td>-1.221920e+00</td>\n      <td>Hristina Koleva</td>\n      <td>0.000000</td>\n    </tr>\n    <tr>\n      <th>66774</th>\n      <td>Filipe L. Andrés</td>\n      <td>66774</td>\n      <td>2.0</td>\n      <td>2</td>\n      <td>1.459459</td>\n      <td>0.000000</td>\n      <td>[1.132277011871338, 0.7808688282966614, 0.0, -...</td>\n      <td>-6.419982e+10</td>\n      <td>Hendrik Van der Loos</td>\n      <td>0.000000</td>\n    </tr>\n    <tr>\n      <th>...</th>\n      <td>...</td>\n      <td>...</td>\n      <td>...</td>\n      <td>...</td>\n      <td>...</td>\n      <td>...</td>\n      <td>...</td>\n      <td>...</td>\n      <td>...</td>\n      <td>...</td>\n    </tr>\n    <tr>\n      <th>132867</th>\n      <td>Dennis A. Turner</td>\n      <td>0</td>\n      <td>4.0</td>\n      <td>4</td>\n      <td>0.384847</td>\n      <td>0.000000</td>\n      <td>[-0.49793142080307007, 0.500878095626831, -0.3...</td>\n      <td>-1.134408e+00</td>\n      <td>Allen R. Wyler</td>\n      <td>0.794037</td>\n    </tr>\n    <tr>\n      <th>79158</th>\n      <td>Babak Mahmoudi</td>\n      <td>0</td>\n      <td>7.0</td>\n      <td>7</td>\n      <td>0.781997</td>\n      <td>0.142857</td>\n      <td>[0.002955872565507889, 1.0737414360046387, -0....</td>\n      <td>-1.330229e+00</td>\n      <td>Mark Connolly</td>\n      <td>0.800522</td>\n    </tr>\n    <tr>\n      <th>291542</th>\n      <td>Daphne L. Wang</td>\n      <td>0</td>\n      <td>3.0</td>\n      <td>1</td>\n      <td>0.278055</td>\n      <td>1.000000</td>\n      <td>[1.1258503198623657, 0.8384608030319214, -0.61...</td>\n      <td>-1.470406e+00</td>\n      <td>Tracy T. Batchelor</td>\n      <td>0.811722</td>\n    </tr>\n    <tr>\n      <th>289106</th>\n      <td>Sunita Venkateswaran</td>\n      <td>0</td>\n      <td>3.0</td>\n      <td>2</td>\n      <td>0.285750</td>\n      <td>0.333333</td>\n      <td>[0.16328322887420654, 0.6464352011680603, -0.2...</td>\n      <td>-1.507481e+00</td>\n      <td>Michael Shevell</td>\n      <td>0.827964</td>\n    </tr>\n    <tr>\n      <th>393598</th>\n      <td>Lucia Carriero</td>\n      <td>0</td>\n      <td>3.0</td>\n      <td>1</td>\n      <td>0.296742</td>\n      <td>1.000000</td>\n      <td>[-0.14235243201255798, -0.6235581040382385, 0....</td>\n      <td>-5.680527e+10</td>\n      <td>Riccardo Budai</td>\n      <td>0.854173</td>\n    </tr>\n  </tbody>\n</table>\n<p>398283 rows × 10 columns</p>\n</div>"
     },
     "metadata": {},
     "execution_count": 87
    }
   ],
   "source": [
    "df[df['degree'] > 1].sort_values(by=['distance_to_nearest_neighbour'], ascending=True) # sembra un pattern ricorrente scrivere il nome per esteso se sono solo e puntato se sono con altri\n",
    "# il primo sono 2 collegati 2 volte con la stessa risorsa\n",
    "# Brendan Kelley c'è una risorsa dove hanno contribuito tutti 2 volte"
   ]
  },
  {
   "cell_type": "code",
   "execution_count": 86,
   "metadata": {},
   "outputs": [],
   "source": [
    "df.sort_values(by=['lof'], ascending=True).to_csv('nearest_neighbour.csv', index=False)"
   ]
  },
  {
   "source": [
    "# TSNE + LOF"
   ],
   "cell_type": "markdown",
   "metadata": {}
  },
  {
   "cell_type": "code",
   "execution_count": 1,
   "metadata": {},
   "outputs": [
    {
     "output_type": "stream",
     "name": "stderr",
     "text": [
      "/Users/filippo/.pyenv/versions/3.8.7/lib/python3.8/site-packages/pandas/compat/__init__.py:97: UserWarning: Could not import the lzma module. Your installed Python is incomplete. Attempting to use lzma compression will result in a RuntimeError.\n  warnings.warn(msg)\n"
     ]
    }
   ],
   "source": [
    "import matplotlib.pyplot as plt\n",
    "import ast\n",
    "import pandas as pd\n",
    "from sklearn.manifold import TSNE\n",
    "import numpy as np\n",
    "%matplotlib widget"
   ]
  },
  {
   "cell_type": "code",
   "execution_count": 2,
   "metadata": {},
   "outputs": [],
   "source": [
    "df = pd.read_csv('csvs/lof_fastrp_embedding_author.csv')"
   ]
  },
  {
   "cell_type": "code",
   "execution_count": 3,
   "metadata": {},
   "outputs": [],
   "source": [
    "df[\"fast_rp_formatted\"] = df[\"n.`__fastrp-embedding`\"].map(lambda x : ast.literal_eval(x))"
   ]
  },
  {
   "cell_type": "code",
   "execution_count": 5,
   "metadata": {},
   "outputs": [],
   "source": [
    "X = np.array(df[\"fast_rp_formatted\"].to_list())\n",
    "l2_norm = np.sum(np.abs(X)**2,axis=-1)**(1./2)\n",
    "l2_norm[l2_norm == 0] = 1\n",
    "X = X / l2_norm[:, np.newaxis]"
   ]
  },
  {
   "cell_type": "code",
   "execution_count": 6,
   "metadata": {},
   "outputs": [],
   "source": [
    "X_embedded = TSNE(n_components=2).fit_transform(X)"
   ]
  },
  {
   "cell_type": "code",
   "execution_count": 7,
   "metadata": {},
   "outputs": [],
   "source": [
    "with open('tsne_fastrp_embedding_by_resource_author.npy', 'wb') as f:\n",
    "    np.save(f, X_embedded)"
   ]
  },
  {
   "cell_type": "code",
   "execution_count": 11,
   "metadata": {},
   "outputs": [],
   "source": [
    "with open('tsne_fastrp_embedding_by_resource_author.npy', 'rb') as f:\n",
    "    X_imp = np.load(f)"
   ]
  },
  {
   "cell_type": "code",
   "execution_count": 12,
   "metadata": {},
   "outputs": [],
   "source": [
    "s = np.array(df[\"lof\"].to_list())"
   ]
  },
  {
   "cell_type": "code",
   "execution_count": 13,
   "metadata": {},
   "outputs": [
    {
     "output_type": "display_data",
     "data": {
      "text/plain": "Canvas(toolbar=Toolbar(toolitems=[('Home', 'Reset original view', 'home', 'home'), ('Back', 'Back to previous …",
      "application/vnd.jupyter.widget-view+json": {
       "version_major": 2,
       "version_minor": 0,
       "model_id": "cf5a37bbb41740c79194e0111425b6ae"
      }
     },
     "metadata": {}
    }
   ],
   "source": [
    "plt.scatter(X_imp[:, 0], X_imp[:, 1], c=s/s.max(), s=0.5) # idee per visualizzarlo meglio?\n",
    "plt.show()"
   ]
  },
  {
   "cell_type": "code",
   "execution_count": null,
   "metadata": {},
   "outputs": [],
   "source": []
  }
 ]
}