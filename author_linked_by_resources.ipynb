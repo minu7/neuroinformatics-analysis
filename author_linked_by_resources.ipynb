{
 "metadata": {
  "language_info": {
   "codemirror_mode": {
    "name": "ipython",
    "version": 3
   },
   "file_extension": ".py",
   "mimetype": "text/x-python",
   "name": "python",
   "nbconvert_exporter": "python",
   "pygments_lexer": "ipython3",
   "version": "3.8.7-final"
  },
  "orig_nbformat": 2,
  "kernelspec": {
   "name": "python3",
   "display_name": "Python 3.8.7 64-bit ('3.8.7')",
   "metadata": {
    "interpreter": {
     "hash": "1d6699aa86f2602ea533c86e4d7a2e97a146b603848a19e03a1edb8b897b9b3d"
    }
   }
  }
 },
 "nbformat": 4,
 "nbformat_minor": 2,
 "cells": [
  {
   "cell_type": "code",
   "execution_count": 2,
   "metadata": {},
   "outputs": [
    {
     "output_type": "stream",
     "name": "stderr",
     "text": [
      "/Users/filippo/.pyenv/versions/3.8.7/lib/python3.8/site-packages/pandas/compat/__init__.py:97: UserWarning: Could not import the lzma module. Your installed Python is incomplete. Attempting to use lzma compression will result in a RuntimeError.\n  warnings.warn(msg)\n"
     ]
    }
   ],
   "source": [
    "from neo4j import GraphDatabase\n",
    "import pandas as pd\n",
    "\n",
    "# Init the connection to the database\n",
    "uri = \"bolt://localhost:7687\"\n",
    "driver = GraphDatabase.driver(uri, auth=(\"neo4j\", \"neuroinformatics\"), encrypted=False)\n",
    "pd.set_option('display.max_columns', None)\n",
    "\n",
    "def cyperQueryToDataFrame(query):\n",
    "  with driver.session() as session:\n",
    "    result = session.run(query)\n",
    "    return pd.DataFrame(result.data(), columns=result.keys())"
   ]
  },
  {
   "source": [
    "## WCC "
   ],
   "cell_type": "markdown",
   "metadata": {}
  },
  {
   "cell_type": "code",
   "execution_count": 6,
   "metadata": {},
   "outputs": [],
   "source": [
    "wcc = cyperQueryToDataFrame(\"MATCH (n:Author) RETURN id(n), n.__wcc\")"
   ]
  },
  {
   "cell_type": "code",
   "execution_count": 7,
   "metadata": {},
   "outputs": [
    {
     "output_type": "execute_result",
     "data": {
      "text/plain": [
       "         id(n)  n.__wcc\n",
       "0        21446        0\n",
       "1        21447        0\n",
       "2        21448        0\n",
       "3        21449        3\n",
       "4        21450        3\n",
       "...        ...      ...\n",
       "425042  832552   425042\n",
       "425043  832553   425042\n",
       "425044  832554   425042\n",
       "425045  832555   425045\n",
       "425046  832556   425045\n",
       "\n",
       "[425047 rows x 2 columns]"
      ],
      "text/html": "<div>\n<style scoped>\n    .dataframe tbody tr th:only-of-type {\n        vertical-align: middle;\n    }\n\n    .dataframe tbody tr th {\n        vertical-align: top;\n    }\n\n    .dataframe thead th {\n        text-align: right;\n    }\n</style>\n<table border=\"1\" class=\"dataframe\">\n  <thead>\n    <tr style=\"text-align: right;\">\n      <th></th>\n      <th>id(n)</th>\n      <th>n.__wcc</th>\n    </tr>\n  </thead>\n  <tbody>\n    <tr>\n      <th>0</th>\n      <td>21446</td>\n      <td>0</td>\n    </tr>\n    <tr>\n      <th>1</th>\n      <td>21447</td>\n      <td>0</td>\n    </tr>\n    <tr>\n      <th>2</th>\n      <td>21448</td>\n      <td>0</td>\n    </tr>\n    <tr>\n      <th>3</th>\n      <td>21449</td>\n      <td>3</td>\n    </tr>\n    <tr>\n      <th>4</th>\n      <td>21450</td>\n      <td>3</td>\n    </tr>\n    <tr>\n      <th>...</th>\n      <td>...</td>\n      <td>...</td>\n    </tr>\n    <tr>\n      <th>425042</th>\n      <td>832552</td>\n      <td>425042</td>\n    </tr>\n    <tr>\n      <th>425043</th>\n      <td>832553</td>\n      <td>425042</td>\n    </tr>\n    <tr>\n      <th>425044</th>\n      <td>832554</td>\n      <td>425042</td>\n    </tr>\n    <tr>\n      <th>425045</th>\n      <td>832555</td>\n      <td>425045</td>\n    </tr>\n    <tr>\n      <th>425046</th>\n      <td>832556</td>\n      <td>425045</td>\n    </tr>\n  </tbody>\n</table>\n<p>425047 rows × 2 columns</p>\n</div>"
     },
     "metadata": {},
     "execution_count": 7
    }
   ],
   "source": [
    "wcc"
   ]
  },
  {
   "cell_type": "code",
   "execution_count": 9,
   "metadata": {},
   "outputs": [
    {
     "output_type": "execute_result",
     "data": {
      "text/plain": [
       "         id(n)  n.__wcc\n",
       "count   425047   425047\n",
       "unique  425047    27344\n",
       "top      21446        0\n",
       "freq         1   330226"
      ],
      "text/html": "<div>\n<style scoped>\n    .dataframe tbody tr th:only-of-type {\n        vertical-align: middle;\n    }\n\n    .dataframe tbody tr th {\n        vertical-align: top;\n    }\n\n    .dataframe thead th {\n        text-align: right;\n    }\n</style>\n<table border=\"1\" class=\"dataframe\">\n  <thead>\n    <tr style=\"text-align: right;\">\n      <th></th>\n      <th>id(n)</th>\n      <th>n.__wcc</th>\n    </tr>\n  </thead>\n  <tbody>\n    <tr>\n      <th>count</th>\n      <td>425047</td>\n      <td>425047</td>\n    </tr>\n    <tr>\n      <th>unique</th>\n      <td>425047</td>\n      <td>27344</td>\n    </tr>\n    <tr>\n      <th>top</th>\n      <td>21446</td>\n      <td>0</td>\n    </tr>\n    <tr>\n      <th>freq</th>\n      <td>1</td>\n      <td>330226</td>\n    </tr>\n  </tbody>\n</table>\n</div>"
     },
     "metadata": {},
     "execution_count": 9
    }
   ],
   "source": [
    "wcc.astype(object).describe()"
   ]
  },
  {
   "cell_type": "code",
   "execution_count": 10,
   "metadata": {},
   "outputs": [],
   "source": [
    "wcc_grouped = wcc.groupby(['n.__wcc']).count()"
   ]
  },
  {
   "cell_type": "code",
   "execution_count": 13,
   "metadata": {},
   "outputs": [
    {
     "output_type": "execute_result",
     "data": {
      "text/plain": [
       "          id(n)\n",
       "n.__wcc        \n",
       "0        330226\n",
       "3             4\n",
       "12            1\n",
       "58            5\n",
       "75            5\n",
       "...         ...\n",
       "425006        3\n",
       "425020        3\n",
       "425036        1\n",
       "425042        3\n",
       "425045        2\n",
       "\n",
       "[27344 rows x 1 columns]"
      ],
      "text/html": "<div>\n<style scoped>\n    .dataframe tbody tr th:only-of-type {\n        vertical-align: middle;\n    }\n\n    .dataframe tbody tr th {\n        vertical-align: top;\n    }\n\n    .dataframe thead th {\n        text-align: right;\n    }\n</style>\n<table border=\"1\" class=\"dataframe\">\n  <thead>\n    <tr style=\"text-align: right;\">\n      <th></th>\n      <th>id(n)</th>\n    </tr>\n    <tr>\n      <th>n.__wcc</th>\n      <th></th>\n    </tr>\n  </thead>\n  <tbody>\n    <tr>\n      <th>0</th>\n      <td>330226</td>\n    </tr>\n    <tr>\n      <th>3</th>\n      <td>4</td>\n    </tr>\n    <tr>\n      <th>12</th>\n      <td>1</td>\n    </tr>\n    <tr>\n      <th>58</th>\n      <td>5</td>\n    </tr>\n    <tr>\n      <th>75</th>\n      <td>5</td>\n    </tr>\n    <tr>\n      <th>...</th>\n      <td>...</td>\n    </tr>\n    <tr>\n      <th>425006</th>\n      <td>3</td>\n    </tr>\n    <tr>\n      <th>425020</th>\n      <td>3</td>\n    </tr>\n    <tr>\n      <th>425036</th>\n      <td>1</td>\n    </tr>\n    <tr>\n      <th>425042</th>\n      <td>3</td>\n    </tr>\n    <tr>\n      <th>425045</th>\n      <td>2</td>\n    </tr>\n  </tbody>\n</table>\n<p>27344 rows × 1 columns</p>\n</div>"
     },
     "metadata": {},
     "execution_count": 13
    }
   ],
   "source": [
    "wcc_grouped"
   ]
  },
  {
   "cell_type": "code",
   "execution_count": 12,
   "metadata": {},
   "outputs": [
    {
     "output_type": "execute_result",
     "data": {
      "text/plain": [
       "               id(n)\n",
       "count   27344.000000\n",
       "mean       15.544434\n",
       "std      1996.992529\n",
       "min         1.000000\n",
       "25%         1.000000\n",
       "50%         2.000000\n",
       "75%         4.000000\n",
       "max    330226.000000"
      ],
      "text/html": "<div>\n<style scoped>\n    .dataframe tbody tr th:only-of-type {\n        vertical-align: middle;\n    }\n\n    .dataframe tbody tr th {\n        vertical-align: top;\n    }\n\n    .dataframe thead th {\n        text-align: right;\n    }\n</style>\n<table border=\"1\" class=\"dataframe\">\n  <thead>\n    <tr style=\"text-align: right;\">\n      <th></th>\n      <th>id(n)</th>\n    </tr>\n  </thead>\n  <tbody>\n    <tr>\n      <th>count</th>\n      <td>27344.000000</td>\n    </tr>\n    <tr>\n      <th>mean</th>\n      <td>15.544434</td>\n    </tr>\n    <tr>\n      <th>std</th>\n      <td>1996.992529</td>\n    </tr>\n    <tr>\n      <th>min</th>\n      <td>1.000000</td>\n    </tr>\n    <tr>\n      <th>25%</th>\n      <td>1.000000</td>\n    </tr>\n    <tr>\n      <th>50%</th>\n      <td>2.000000</td>\n    </tr>\n    <tr>\n      <th>75%</th>\n      <td>4.000000</td>\n    </tr>\n    <tr>\n      <th>max</th>\n      <td>330226.000000</td>\n    </tr>\n  </tbody>\n</table>\n</div>"
     },
     "metadata": {},
     "execution_count": 12
    }
   ],
   "source": [
    "wcc_grouped.describe()"
   ]
  },
  {
   "source": [
    "## Degree"
   ],
   "cell_type": "markdown",
   "metadata": {}
  },
  {
   "cell_type": "code",
   "execution_count": 21,
   "metadata": {},
   "outputs": [],
   "source": [
    "degree_df = cyperQueryToDataFrame(\"MATCH (n:Author) RETURN n.id, n.__wcc as wcc, n.__degree as degree\")"
   ]
  },
  {
   "cell_type": "code",
   "execution_count": 22,
   "metadata": {},
   "outputs": [
    {
     "output_type": "execute_result",
     "data": {
      "text/plain": [
       "                 wcc         degree\n",
       "count  425047.000000  425047.000000\n",
       "mean    44970.782259      25.829275\n",
       "std    101354.419554      98.524533\n",
       "min         0.000000       0.000000\n",
       "25%         0.000000       4.000000\n",
       "50%         0.000000       7.000000\n",
       "75%         0.000000      13.000000\n",
       "max    425045.000000    3607.000000"
      ],
      "text/html": "<div>\n<style scoped>\n    .dataframe tbody tr th:only-of-type {\n        vertical-align: middle;\n    }\n\n    .dataframe tbody tr th {\n        vertical-align: top;\n    }\n\n    .dataframe thead th {\n        text-align: right;\n    }\n</style>\n<table border=\"1\" class=\"dataframe\">\n  <thead>\n    <tr style=\"text-align: right;\">\n      <th></th>\n      <th>wcc</th>\n      <th>degree</th>\n    </tr>\n  </thead>\n  <tbody>\n    <tr>\n      <th>count</th>\n      <td>425047.000000</td>\n      <td>425047.000000</td>\n    </tr>\n    <tr>\n      <th>mean</th>\n      <td>44970.782259</td>\n      <td>25.829275</td>\n    </tr>\n    <tr>\n      <th>std</th>\n      <td>101354.419554</td>\n      <td>98.524533</td>\n    </tr>\n    <tr>\n      <th>min</th>\n      <td>0.000000</td>\n      <td>0.000000</td>\n    </tr>\n    <tr>\n      <th>25%</th>\n      <td>0.000000</td>\n      <td>4.000000</td>\n    </tr>\n    <tr>\n      <th>50%</th>\n      <td>0.000000</td>\n      <td>7.000000</td>\n    </tr>\n    <tr>\n      <th>75%</th>\n      <td>0.000000</td>\n      <td>13.000000</td>\n    </tr>\n    <tr>\n      <th>max</th>\n      <td>425045.000000</td>\n      <td>3607.000000</td>\n    </tr>\n  </tbody>\n</table>\n</div>"
     },
     "metadata": {},
     "execution_count": 22
    }
   ],
   "source": [
    "degree_df.describe()"
   ]
  },
  {
   "cell_type": "code",
   "execution_count": 23,
   "metadata": {},
   "outputs": [
    {
     "output_type": "execute_result",
     "data": {
      "text/plain": [
       "                   n.id     wcc    degree\n",
       "count            425047  425047  425047.0\n",
       "unique           425047   27344    1286.0\n",
       "top     Rodrigo Basilio       0       4.0\n",
       "freq                  1  330226   38383.0"
      ],
      "text/html": "<div>\n<style scoped>\n    .dataframe tbody tr th:only-of-type {\n        vertical-align: middle;\n    }\n\n    .dataframe tbody tr th {\n        vertical-align: top;\n    }\n\n    .dataframe thead th {\n        text-align: right;\n    }\n</style>\n<table border=\"1\" class=\"dataframe\">\n  <thead>\n    <tr style=\"text-align: right;\">\n      <th></th>\n      <th>n.id</th>\n      <th>wcc</th>\n      <th>degree</th>\n    </tr>\n  </thead>\n  <tbody>\n    <tr>\n      <th>count</th>\n      <td>425047</td>\n      <td>425047</td>\n      <td>425047.0</td>\n    </tr>\n    <tr>\n      <th>unique</th>\n      <td>425047</td>\n      <td>27344</td>\n      <td>1286.0</td>\n    </tr>\n    <tr>\n      <th>top</th>\n      <td>Rodrigo Basilio</td>\n      <td>0</td>\n      <td>4.0</td>\n    </tr>\n    <tr>\n      <th>freq</th>\n      <td>1</td>\n      <td>330226</td>\n      <td>38383.0</td>\n    </tr>\n  </tbody>\n</table>\n</div>"
     },
     "metadata": {},
     "execution_count": 23
    }
   ],
   "source": [
    "degree_df.astype(object).describe()"
   ]
  },
  {
   "cell_type": "code",
   "execution_count": 24,
   "metadata": {},
   "outputs": [
    {
     "output_type": "execute_result",
     "data": {
      "text/plain": [
       "                      n.id     wcc  degree\n",
       "3011      Paul M. Thompson       0  3607.0\n",
       "15477      Jahanshad, Neda       0  2771.0\n",
       "5111        Agartz, Ingrid       0  2573.0\n",
       "5232        McDonald, Colm       0  2534.0\n",
       "3053        Arthur W. Toga       0  2425.0\n",
       "...                    ...     ...     ...\n",
       "199053  Samel, Mirachel. D  199053     0.0\n",
       "59682       Nils I. Bachen   59682     0.0\n",
       "199052   Jeong, Seong Wook  199052     0.0\n",
       "59662     Barbara R. Jasny   59662     0.0\n",
       "393894   Kavian Ghandehari  393894     0.0\n",
       "\n",
       "[425047 rows x 3 columns]"
      ],
      "text/html": "<div>\n<style scoped>\n    .dataframe tbody tr th:only-of-type {\n        vertical-align: middle;\n    }\n\n    .dataframe tbody tr th {\n        vertical-align: top;\n    }\n\n    .dataframe thead th {\n        text-align: right;\n    }\n</style>\n<table border=\"1\" class=\"dataframe\">\n  <thead>\n    <tr style=\"text-align: right;\">\n      <th></th>\n      <th>n.id</th>\n      <th>wcc</th>\n      <th>degree</th>\n    </tr>\n  </thead>\n  <tbody>\n    <tr>\n      <th>3011</th>\n      <td>Paul M. Thompson</td>\n      <td>0</td>\n      <td>3607.0</td>\n    </tr>\n    <tr>\n      <th>15477</th>\n      <td>Jahanshad, Neda</td>\n      <td>0</td>\n      <td>2771.0</td>\n    </tr>\n    <tr>\n      <th>5111</th>\n      <td>Agartz, Ingrid</td>\n      <td>0</td>\n      <td>2573.0</td>\n    </tr>\n    <tr>\n      <th>5232</th>\n      <td>McDonald, Colm</td>\n      <td>0</td>\n      <td>2534.0</td>\n    </tr>\n    <tr>\n      <th>3053</th>\n      <td>Arthur W. Toga</td>\n      <td>0</td>\n      <td>2425.0</td>\n    </tr>\n    <tr>\n      <th>...</th>\n      <td>...</td>\n      <td>...</td>\n      <td>...</td>\n    </tr>\n    <tr>\n      <th>199053</th>\n      <td>Samel, Mirachel. D</td>\n      <td>199053</td>\n      <td>0.0</td>\n    </tr>\n    <tr>\n      <th>59682</th>\n      <td>Nils I. Bachen</td>\n      <td>59682</td>\n      <td>0.0</td>\n    </tr>\n    <tr>\n      <th>199052</th>\n      <td>Jeong, Seong Wook</td>\n      <td>199052</td>\n      <td>0.0</td>\n    </tr>\n    <tr>\n      <th>59662</th>\n      <td>Barbara R. Jasny</td>\n      <td>59662</td>\n      <td>0.0</td>\n    </tr>\n    <tr>\n      <th>393894</th>\n      <td>Kavian Ghandehari</td>\n      <td>393894</td>\n      <td>0.0</td>\n    </tr>\n  </tbody>\n</table>\n<p>425047 rows × 3 columns</p>\n</div>"
     },
     "metadata": {},
     "execution_count": 24
    }
   ],
   "source": [
    "degree_df.sort_values(by=\"degree\", ascending=False) "
   ]
  },
  {
   "cell_type": "code",
   "execution_count": 27,
   "metadata": {},
   "outputs": [
    {
     "output_type": "execute_result",
     "data": {
      "text/plain": [
       "                       n.id     wcc  degree\n",
       "0       Maimon-Mor, Roni O.       0     2.0\n",
       "2           Makin, Tamar R.       0     2.0\n",
       "51           Cockett, Peter       0     2.0\n",
       "52                 Yuan, Ye       0     2.0\n",
       "194          Song, Xiaopeng       0     2.0\n",
       "...                     ...     ...     ...\n",
       "425020        Sung-Woo Byun  425020     2.0\n",
       "425021         Hyuk Soo Han  425020     2.0\n",
       "425022         Seok-Pil Lee  425020     2.0\n",
       "425043     Florian Gondesen  425042     2.0\n",
       "425044        Matthias Marx  425042     2.0\n",
       "\n",
       "[29091 rows x 3 columns]"
      ],
      "text/html": "<div>\n<style scoped>\n    .dataframe tbody tr th:only-of-type {\n        vertical-align: middle;\n    }\n\n    .dataframe tbody tr th {\n        vertical-align: top;\n    }\n\n    .dataframe thead th {\n        text-align: right;\n    }\n</style>\n<table border=\"1\" class=\"dataframe\">\n  <thead>\n    <tr style=\"text-align: right;\">\n      <th></th>\n      <th>n.id</th>\n      <th>wcc</th>\n      <th>degree</th>\n    </tr>\n  </thead>\n  <tbody>\n    <tr>\n      <th>0</th>\n      <td>Maimon-Mor, Roni O.</td>\n      <td>0</td>\n      <td>2.0</td>\n    </tr>\n    <tr>\n      <th>2</th>\n      <td>Makin, Tamar R.</td>\n      <td>0</td>\n      <td>2.0</td>\n    </tr>\n    <tr>\n      <th>51</th>\n      <td>Cockett, Peter</td>\n      <td>0</td>\n      <td>2.0</td>\n    </tr>\n    <tr>\n      <th>52</th>\n      <td>Yuan, Ye</td>\n      <td>0</td>\n      <td>2.0</td>\n    </tr>\n    <tr>\n      <th>194</th>\n      <td>Song, Xiaopeng</td>\n      <td>0</td>\n      <td>2.0</td>\n    </tr>\n    <tr>\n      <th>...</th>\n      <td>...</td>\n      <td>...</td>\n      <td>...</td>\n    </tr>\n    <tr>\n      <th>425020</th>\n      <td>Sung-Woo Byun</td>\n      <td>425020</td>\n      <td>2.0</td>\n    </tr>\n    <tr>\n      <th>425021</th>\n      <td>Hyuk Soo Han</td>\n      <td>425020</td>\n      <td>2.0</td>\n    </tr>\n    <tr>\n      <th>425022</th>\n      <td>Seok-Pil Lee</td>\n      <td>425020</td>\n      <td>2.0</td>\n    </tr>\n    <tr>\n      <th>425043</th>\n      <td>Florian Gondesen</td>\n      <td>425042</td>\n      <td>2.0</td>\n    </tr>\n    <tr>\n      <th>425044</th>\n      <td>Matthias Marx</td>\n      <td>425042</td>\n      <td>2.0</td>\n    </tr>\n  </tbody>\n</table>\n<p>29091 rows × 3 columns</p>\n</div>"
     },
     "metadata": {},
     "execution_count": 27
    }
   ],
   "source": [
    "degree_df[degree_df['degree'] == 2]"
   ]
  },
  {
   "source": [
    "## Degree by author and number of resource published"
   ],
   "cell_type": "markdown",
   "metadata": {}
  },
  {
   "cell_type": "code",
   "execution_count": 29,
   "metadata": {},
   "outputs": [],
   "source": [
    "df = cyperQueryToDataFrame(\"MATCH (n:Author) RETURN n.id, n.__wcc as wcc, n.__degree as degree, n.resource_published as resources\")"
   ]
  },
  {
   "cell_type": "code",
   "execution_count": 30,
   "metadata": {},
   "outputs": [
    {
     "output_type": "execute_result",
     "data": {
      "text/plain": [
       "                 wcc         degree      resources\n",
       "count  425047.000000  425047.000000  425047.000000\n",
       "mean    44970.782259      25.829275       2.443200\n",
       "std    101354.419554      98.524533       5.657282\n",
       "min         0.000000       0.000000       1.000000\n",
       "25%         0.000000       4.000000       1.000000\n",
       "50%         0.000000       7.000000       1.000000\n",
       "75%         0.000000      13.000000       2.000000\n",
       "max    425045.000000    3607.000000     487.000000"
      ],
      "text/html": "<div>\n<style scoped>\n    .dataframe tbody tr th:only-of-type {\n        vertical-align: middle;\n    }\n\n    .dataframe tbody tr th {\n        vertical-align: top;\n    }\n\n    .dataframe thead th {\n        text-align: right;\n    }\n</style>\n<table border=\"1\" class=\"dataframe\">\n  <thead>\n    <tr style=\"text-align: right;\">\n      <th></th>\n      <th>wcc</th>\n      <th>degree</th>\n      <th>resources</th>\n    </tr>\n  </thead>\n  <tbody>\n    <tr>\n      <th>count</th>\n      <td>425047.000000</td>\n      <td>425047.000000</td>\n      <td>425047.000000</td>\n    </tr>\n    <tr>\n      <th>mean</th>\n      <td>44970.782259</td>\n      <td>25.829275</td>\n      <td>2.443200</td>\n    </tr>\n    <tr>\n      <th>std</th>\n      <td>101354.419554</td>\n      <td>98.524533</td>\n      <td>5.657282</td>\n    </tr>\n    <tr>\n      <th>min</th>\n      <td>0.000000</td>\n      <td>0.000000</td>\n      <td>1.000000</td>\n    </tr>\n    <tr>\n      <th>25%</th>\n      <td>0.000000</td>\n      <td>4.000000</td>\n      <td>1.000000</td>\n    </tr>\n    <tr>\n      <th>50%</th>\n      <td>0.000000</td>\n      <td>7.000000</td>\n      <td>1.000000</td>\n    </tr>\n    <tr>\n      <th>75%</th>\n      <td>0.000000</td>\n      <td>13.000000</td>\n      <td>2.000000</td>\n    </tr>\n    <tr>\n      <th>max</th>\n      <td>425045.000000</td>\n      <td>3607.000000</td>\n      <td>487.000000</td>\n    </tr>\n  </tbody>\n</table>\n</div>"
     },
     "metadata": {},
     "execution_count": 30
    }
   ],
   "source": [
    "df.describe()"
   ]
  },
  {
   "source": [
    "già qui si potrebbe pensare ad un indicatore che esprime quanto l'autore è propenso a fare risorse con persone diverse"
   ],
   "cell_type": "markdown",
   "metadata": {}
  },
  {
   "source": [
    "## Adding page rank"
   ],
   "cell_type": "markdown",
   "metadata": {}
  },
  {
   "cell_type": "code",
   "execution_count": 35,
   "metadata": {},
   "outputs": [],
   "source": [
    "df = cyperQueryToDataFrame(\"\"\"\n",
    "    MATCH (n:Author) RETURN n.id, n.__wcc as wcc, n.__degree as degree, n.resource_published as resources, n.__parerank as pagerank\n",
    "\"\"\")"
   ]
  },
  {
   "cell_type": "code",
   "execution_count": 36,
   "metadata": {},
   "outputs": [
    {
     "output_type": "execute_result",
     "data": {
      "text/plain": [
       "                        n.id     wcc  degree  resources  pagerank\n",
       "0        Maimon-Mor, Roni O.       0     2.0          1  0.388988\n",
       "1       Johansen-Berg, Heidi       0    27.0          6  2.340052\n",
       "2            Makin, Tamar R.       0     2.0          1  0.388988\n",
       "3              Chang, Luke J       3     3.0          1  1.000000\n",
       "4                Smith, Alec       3     3.0          1  1.000000\n",
       "...                      ...     ...     ...        ...       ...\n",
       "425042       Dieter Gollmann  425042     3.0          1  1.248175\n",
       "425043      Florian Gondesen  425042     2.0          1  0.875912\n",
       "425044         Matthias Marx  425042     2.0          1  0.875912\n",
       "425045           Sunila Jain  425045     1.0          1  1.000000\n",
       "425046          Anand Chawla  425045     1.0          1  1.000000\n",
       "\n",
       "[425047 rows x 5 columns]"
      ],
      "text/html": "<div>\n<style scoped>\n    .dataframe tbody tr th:only-of-type {\n        vertical-align: middle;\n    }\n\n    .dataframe tbody tr th {\n        vertical-align: top;\n    }\n\n    .dataframe thead th {\n        text-align: right;\n    }\n</style>\n<table border=\"1\" class=\"dataframe\">\n  <thead>\n    <tr style=\"text-align: right;\">\n      <th></th>\n      <th>n.id</th>\n      <th>wcc</th>\n      <th>degree</th>\n      <th>resources</th>\n      <th>pagerank</th>\n    </tr>\n  </thead>\n  <tbody>\n    <tr>\n      <th>0</th>\n      <td>Maimon-Mor, Roni O.</td>\n      <td>0</td>\n      <td>2.0</td>\n      <td>1</td>\n      <td>0.388988</td>\n    </tr>\n    <tr>\n      <th>1</th>\n      <td>Johansen-Berg, Heidi</td>\n      <td>0</td>\n      <td>27.0</td>\n      <td>6</td>\n      <td>2.340052</td>\n    </tr>\n    <tr>\n      <th>2</th>\n      <td>Makin, Tamar R.</td>\n      <td>0</td>\n      <td>2.0</td>\n      <td>1</td>\n      <td>0.388988</td>\n    </tr>\n    <tr>\n      <th>3</th>\n      <td>Chang, Luke J</td>\n      <td>3</td>\n      <td>3.0</td>\n      <td>1</td>\n      <td>1.000000</td>\n    </tr>\n    <tr>\n      <th>4</th>\n      <td>Smith, Alec</td>\n      <td>3</td>\n      <td>3.0</td>\n      <td>1</td>\n      <td>1.000000</td>\n    </tr>\n    <tr>\n      <th>...</th>\n      <td>...</td>\n      <td>...</td>\n      <td>...</td>\n      <td>...</td>\n      <td>...</td>\n    </tr>\n    <tr>\n      <th>425042</th>\n      <td>Dieter Gollmann</td>\n      <td>425042</td>\n      <td>3.0</td>\n      <td>1</td>\n      <td>1.248175</td>\n    </tr>\n    <tr>\n      <th>425043</th>\n      <td>Florian Gondesen</td>\n      <td>425042</td>\n      <td>2.0</td>\n      <td>1</td>\n      <td>0.875912</td>\n    </tr>\n    <tr>\n      <th>425044</th>\n      <td>Matthias Marx</td>\n      <td>425042</td>\n      <td>2.0</td>\n      <td>1</td>\n      <td>0.875912</td>\n    </tr>\n    <tr>\n      <th>425045</th>\n      <td>Sunila Jain</td>\n      <td>425045</td>\n      <td>1.0</td>\n      <td>1</td>\n      <td>1.000000</td>\n    </tr>\n    <tr>\n      <th>425046</th>\n      <td>Anand Chawla</td>\n      <td>425045</td>\n      <td>1.0</td>\n      <td>1</td>\n      <td>1.000000</td>\n    </tr>\n  </tbody>\n</table>\n<p>425047 rows × 5 columns</p>\n</div>"
     },
     "metadata": {},
     "execution_count": 36
    }
   ],
   "source": [
    "df"
   ]
  },
  {
   "cell_type": "code",
   "execution_count": 37,
   "metadata": {},
   "outputs": [
    {
     "output_type": "execute_result",
     "data": {
      "text/plain": [
       "                 wcc         degree      resources       pagerank\n",
       "count  425047.000000  425047.000000  425047.000000  425047.000000\n",
       "mean    44970.782259      25.829275       2.443200       0.982190\n",
       "std    101354.419554      98.524533       5.657282       1.080809\n",
       "min         0.000000       0.000000       1.000000       0.150000\n",
       "25%         0.000000       4.000000       1.000000       0.550568\n",
       "50%         0.000000       7.000000       1.000000       0.815309\n",
       "75%         0.000000      13.000000       2.000000       1.000000\n",
       "max    425045.000000    3607.000000     487.000000      79.315635"
      ],
      "text/html": "<div>\n<style scoped>\n    .dataframe tbody tr th:only-of-type {\n        vertical-align: middle;\n    }\n\n    .dataframe tbody tr th {\n        vertical-align: top;\n    }\n\n    .dataframe thead th {\n        text-align: right;\n    }\n</style>\n<table border=\"1\" class=\"dataframe\">\n  <thead>\n    <tr style=\"text-align: right;\">\n      <th></th>\n      <th>wcc</th>\n      <th>degree</th>\n      <th>resources</th>\n      <th>pagerank</th>\n    </tr>\n  </thead>\n  <tbody>\n    <tr>\n      <th>count</th>\n      <td>425047.000000</td>\n      <td>425047.000000</td>\n      <td>425047.000000</td>\n      <td>425047.000000</td>\n    </tr>\n    <tr>\n      <th>mean</th>\n      <td>44970.782259</td>\n      <td>25.829275</td>\n      <td>2.443200</td>\n      <td>0.982190</td>\n    </tr>\n    <tr>\n      <th>std</th>\n      <td>101354.419554</td>\n      <td>98.524533</td>\n      <td>5.657282</td>\n      <td>1.080809</td>\n    </tr>\n    <tr>\n      <th>min</th>\n      <td>0.000000</td>\n      <td>0.000000</td>\n      <td>1.000000</td>\n      <td>0.150000</td>\n    </tr>\n    <tr>\n      <th>25%</th>\n      <td>0.000000</td>\n      <td>4.000000</td>\n      <td>1.000000</td>\n      <td>0.550568</td>\n    </tr>\n    <tr>\n      <th>50%</th>\n      <td>0.000000</td>\n      <td>7.000000</td>\n      <td>1.000000</td>\n      <td>0.815309</td>\n    </tr>\n    <tr>\n      <th>75%</th>\n      <td>0.000000</td>\n      <td>13.000000</td>\n      <td>2.000000</td>\n      <td>1.000000</td>\n    </tr>\n    <tr>\n      <th>max</th>\n      <td>425045.000000</td>\n      <td>3607.000000</td>\n      <td>487.000000</td>\n      <td>79.315635</td>\n    </tr>\n  </tbody>\n</table>\n</div>"
     },
     "metadata": {},
     "execution_count": 37
    }
   ],
   "source": [
    "df.describe()"
   ]
  },
  {
   "source": [
    "## Adding local outlier coefficient"
   ],
   "cell_type": "markdown",
   "metadata": {}
  },
  {
   "cell_type": "code",
   "execution_count": 3,
   "metadata": {},
   "outputs": [],
   "source": [
    "df = cyperQueryToDataFrame(\"\"\"\n",
    "    MATCH (n:Author) RETURN n.id, n.__wcc as wcc, n.__degree as degree, n.resource_published as resources, n.__parerank as pagerank,\n",
    "    n.__localClusteringCoefficient as localclusteringcoefficient\n",
    "\"\"\")"
   ]
  },
  {
   "cell_type": "code",
   "execution_count": 39,
   "metadata": {},
   "outputs": [
    {
     "output_type": "execute_result",
     "data": {
      "text/plain": [
       "                        n.id     wcc  degree  resources  pagerank  \\\n",
       "0        Maimon-Mor, Roni O.       0     2.0          1  0.388988   \n",
       "1       Johansen-Berg, Heidi       0    27.0          6  2.340052   \n",
       "2            Makin, Tamar R.       0     2.0          1  0.388988   \n",
       "3              Chang, Luke J       3     3.0          1  1.000000   \n",
       "4                Smith, Alec       3     3.0          1  1.000000   \n",
       "...                      ...     ...     ...        ...       ...   \n",
       "425042       Dieter Gollmann  425042     3.0          1  1.248175   \n",
       "425043      Florian Gondesen  425042     2.0          1  0.875912   \n",
       "425044         Matthias Marx  425042     2.0          1  0.875912   \n",
       "425045           Sunila Jain  425045     1.0          1  1.000000   \n",
       "425046          Anand Chawla  425045     1.0          1  1.000000   \n",
       "\n",
       "        localclusteringcoefficient  \n",
       "0                         1.000000  \n",
       "1                         0.267806  \n",
       "2                         1.000000  \n",
       "3                         1.000000  \n",
       "4                         1.000000  \n",
       "...                            ...  \n",
       "425042                    0.333333  \n",
       "425043                    1.000000  \n",
       "425044                    1.000000  \n",
       "425045                    0.000000  \n",
       "425046                    0.000000  \n",
       "\n",
       "[425047 rows x 6 columns]"
      ],
      "text/html": "<div>\n<style scoped>\n    .dataframe tbody tr th:only-of-type {\n        vertical-align: middle;\n    }\n\n    .dataframe tbody tr th {\n        vertical-align: top;\n    }\n\n    .dataframe thead th {\n        text-align: right;\n    }\n</style>\n<table border=\"1\" class=\"dataframe\">\n  <thead>\n    <tr style=\"text-align: right;\">\n      <th></th>\n      <th>n.id</th>\n      <th>wcc</th>\n      <th>degree</th>\n      <th>resources</th>\n      <th>pagerank</th>\n      <th>localclusteringcoefficient</th>\n    </tr>\n  </thead>\n  <tbody>\n    <tr>\n      <th>0</th>\n      <td>Maimon-Mor, Roni O.</td>\n      <td>0</td>\n      <td>2.0</td>\n      <td>1</td>\n      <td>0.388988</td>\n      <td>1.000000</td>\n    </tr>\n    <tr>\n      <th>1</th>\n      <td>Johansen-Berg, Heidi</td>\n      <td>0</td>\n      <td>27.0</td>\n      <td>6</td>\n      <td>2.340052</td>\n      <td>0.267806</td>\n    </tr>\n    <tr>\n      <th>2</th>\n      <td>Makin, Tamar R.</td>\n      <td>0</td>\n      <td>2.0</td>\n      <td>1</td>\n      <td>0.388988</td>\n      <td>1.000000</td>\n    </tr>\n    <tr>\n      <th>3</th>\n      <td>Chang, Luke J</td>\n      <td>3</td>\n      <td>3.0</td>\n      <td>1</td>\n      <td>1.000000</td>\n      <td>1.000000</td>\n    </tr>\n    <tr>\n      <th>4</th>\n      <td>Smith, Alec</td>\n      <td>3</td>\n      <td>3.0</td>\n      <td>1</td>\n      <td>1.000000</td>\n      <td>1.000000</td>\n    </tr>\n    <tr>\n      <th>...</th>\n      <td>...</td>\n      <td>...</td>\n      <td>...</td>\n      <td>...</td>\n      <td>...</td>\n      <td>...</td>\n    </tr>\n    <tr>\n      <th>425042</th>\n      <td>Dieter Gollmann</td>\n      <td>425042</td>\n      <td>3.0</td>\n      <td>1</td>\n      <td>1.248175</td>\n      <td>0.333333</td>\n    </tr>\n    <tr>\n      <th>425043</th>\n      <td>Florian Gondesen</td>\n      <td>425042</td>\n      <td>2.0</td>\n      <td>1</td>\n      <td>0.875912</td>\n      <td>1.000000</td>\n    </tr>\n    <tr>\n      <th>425044</th>\n      <td>Matthias Marx</td>\n      <td>425042</td>\n      <td>2.0</td>\n      <td>1</td>\n      <td>0.875912</td>\n      <td>1.000000</td>\n    </tr>\n    <tr>\n      <th>425045</th>\n      <td>Sunila Jain</td>\n      <td>425045</td>\n      <td>1.0</td>\n      <td>1</td>\n      <td>1.000000</td>\n      <td>0.000000</td>\n    </tr>\n    <tr>\n      <th>425046</th>\n      <td>Anand Chawla</td>\n      <td>425045</td>\n      <td>1.0</td>\n      <td>1</td>\n      <td>1.000000</td>\n      <td>0.000000</td>\n    </tr>\n  </tbody>\n</table>\n<p>425047 rows × 6 columns</p>\n</div>"
     },
     "metadata": {},
     "execution_count": 39
    }
   ],
   "source": [
    "df"
   ]
  },
  {
   "cell_type": "code",
   "execution_count": 40,
   "metadata": {},
   "outputs": [
    {
     "output_type": "execute_result",
     "data": {
      "text/plain": [
       "                 wcc         degree      resources       pagerank  \\\n",
       "count  425047.000000  425047.000000  425047.000000  425047.000000   \n",
       "mean    44970.782259      25.829275       2.443200       0.982190   \n",
       "std    101354.419554      98.524533       5.657282       1.080809   \n",
       "min         0.000000       0.000000       1.000000       0.150000   \n",
       "25%         0.000000       4.000000       1.000000       0.550568   \n",
       "50%         0.000000       7.000000       1.000000       0.815309   \n",
       "75%         0.000000      13.000000       2.000000       1.000000   \n",
       "max    425045.000000    3607.000000     487.000000      79.315635   \n",
       "\n",
       "       localclusteringcoefficient  \n",
       "count               425047.000000  \n",
       "mean                     0.793200  \n",
       "std                      0.323026  \n",
       "min                      0.000000  \n",
       "25%                      0.600000  \n",
       "50%                      1.000000  \n",
       "75%                      1.000000  \n",
       "max                      2.000000  "
      ],
      "text/html": "<div>\n<style scoped>\n    .dataframe tbody tr th:only-of-type {\n        vertical-align: middle;\n    }\n\n    .dataframe tbody tr th {\n        vertical-align: top;\n    }\n\n    .dataframe thead th {\n        text-align: right;\n    }\n</style>\n<table border=\"1\" class=\"dataframe\">\n  <thead>\n    <tr style=\"text-align: right;\">\n      <th></th>\n      <th>wcc</th>\n      <th>degree</th>\n      <th>resources</th>\n      <th>pagerank</th>\n      <th>localclusteringcoefficient</th>\n    </tr>\n  </thead>\n  <tbody>\n    <tr>\n      <th>count</th>\n      <td>425047.000000</td>\n      <td>425047.000000</td>\n      <td>425047.000000</td>\n      <td>425047.000000</td>\n      <td>425047.000000</td>\n    </tr>\n    <tr>\n      <th>mean</th>\n      <td>44970.782259</td>\n      <td>25.829275</td>\n      <td>2.443200</td>\n      <td>0.982190</td>\n      <td>0.793200</td>\n    </tr>\n    <tr>\n      <th>std</th>\n      <td>101354.419554</td>\n      <td>98.524533</td>\n      <td>5.657282</td>\n      <td>1.080809</td>\n      <td>0.323026</td>\n    </tr>\n    <tr>\n      <th>min</th>\n      <td>0.000000</td>\n      <td>0.000000</td>\n      <td>1.000000</td>\n      <td>0.150000</td>\n      <td>0.000000</td>\n    </tr>\n    <tr>\n      <th>25%</th>\n      <td>0.000000</td>\n      <td>4.000000</td>\n      <td>1.000000</td>\n      <td>0.550568</td>\n      <td>0.600000</td>\n    </tr>\n    <tr>\n      <th>50%</th>\n      <td>0.000000</td>\n      <td>7.000000</td>\n      <td>1.000000</td>\n      <td>0.815309</td>\n      <td>1.000000</td>\n    </tr>\n    <tr>\n      <th>75%</th>\n      <td>0.000000</td>\n      <td>13.000000</td>\n      <td>2.000000</td>\n      <td>1.000000</td>\n      <td>1.000000</td>\n    </tr>\n    <tr>\n      <th>max</th>\n      <td>425045.000000</td>\n      <td>3607.000000</td>\n      <td>487.000000</td>\n      <td>79.315635</td>\n      <td>2.000000</td>\n    </tr>\n  </tbody>\n</table>\n</div>"
     },
     "metadata": {},
     "execution_count": 40
    }
   ],
   "source": [
    "df.describe()"
   ]
  },
  {
   "cell_type": "code",
   "execution_count": 41,
   "metadata": {},
   "outputs": [
    {
     "output_type": "execute_result",
     "data": {
      "text/plain": [
       "                       n.id     wcc  degree  resources  pagerank  \\\n",
       "280205           R. Gentner       0     2.0          1  0.337758   \n",
       "0       Maimon-Mor, Roni O.       0     2.0          1  0.388988   \n",
       "257955       RobertW. Baker       0     3.0          1  0.354722   \n",
       "257965        Paul Clouston       0     4.0          1  0.530304   \n",
       "257964              C.L Lim       0     4.0          1  0.530304   \n",
       "...                     ...     ...     ...        ...       ...   \n",
       "16926          William Bosl   16926     0.0          1  0.150000   \n",
       "163485      Rodrick Wallace  163484     1.0          1  1.000000   \n",
       "16928       Edward C. Clark       0     2.0          2  0.629109   \n",
       "181292    Elizabeth Hampson  181292     0.0          1  0.150000   \n",
       "425046         Anand Chawla  425045     1.0          1  1.000000   \n",
       "\n",
       "        localclusteringcoefficient  \n",
       "280205                         2.0  \n",
       "0                              1.0  \n",
       "257955                         1.0  \n",
       "257965                         1.0  \n",
       "257964                         1.0  \n",
       "...                            ...  \n",
       "16926                          0.0  \n",
       "163485                         0.0  \n",
       "16928                          0.0  \n",
       "181292                         0.0  \n",
       "425046                         0.0  \n",
       "\n",
       "[425047 rows x 6 columns]"
      ],
      "text/html": "<div>\n<style scoped>\n    .dataframe tbody tr th:only-of-type {\n        vertical-align: middle;\n    }\n\n    .dataframe tbody tr th {\n        vertical-align: top;\n    }\n\n    .dataframe thead th {\n        text-align: right;\n    }\n</style>\n<table border=\"1\" class=\"dataframe\">\n  <thead>\n    <tr style=\"text-align: right;\">\n      <th></th>\n      <th>n.id</th>\n      <th>wcc</th>\n      <th>degree</th>\n      <th>resources</th>\n      <th>pagerank</th>\n      <th>localclusteringcoefficient</th>\n    </tr>\n  </thead>\n  <tbody>\n    <tr>\n      <th>280205</th>\n      <td>R. Gentner</td>\n      <td>0</td>\n      <td>2.0</td>\n      <td>1</td>\n      <td>0.337758</td>\n      <td>2.0</td>\n    </tr>\n    <tr>\n      <th>0</th>\n      <td>Maimon-Mor, Roni O.</td>\n      <td>0</td>\n      <td>2.0</td>\n      <td>1</td>\n      <td>0.388988</td>\n      <td>1.0</td>\n    </tr>\n    <tr>\n      <th>257955</th>\n      <td>RobertW. Baker</td>\n      <td>0</td>\n      <td>3.0</td>\n      <td>1</td>\n      <td>0.354722</td>\n      <td>1.0</td>\n    </tr>\n    <tr>\n      <th>257965</th>\n      <td>Paul Clouston</td>\n      <td>0</td>\n      <td>4.0</td>\n      <td>1</td>\n      <td>0.530304</td>\n      <td>1.0</td>\n    </tr>\n    <tr>\n      <th>257964</th>\n      <td>C.L Lim</td>\n      <td>0</td>\n      <td>4.0</td>\n      <td>1</td>\n      <td>0.530304</td>\n      <td>1.0</td>\n    </tr>\n    <tr>\n      <th>...</th>\n      <td>...</td>\n      <td>...</td>\n      <td>...</td>\n      <td>...</td>\n      <td>...</td>\n      <td>...</td>\n    </tr>\n    <tr>\n      <th>16926</th>\n      <td>William Bosl</td>\n      <td>16926</td>\n      <td>0.0</td>\n      <td>1</td>\n      <td>0.150000</td>\n      <td>0.0</td>\n    </tr>\n    <tr>\n      <th>163485</th>\n      <td>Rodrick Wallace</td>\n      <td>163484</td>\n      <td>1.0</td>\n      <td>1</td>\n      <td>1.000000</td>\n      <td>0.0</td>\n    </tr>\n    <tr>\n      <th>16928</th>\n      <td>Edward C. Clark</td>\n      <td>0</td>\n      <td>2.0</td>\n      <td>2</td>\n      <td>0.629109</td>\n      <td>0.0</td>\n    </tr>\n    <tr>\n      <th>181292</th>\n      <td>Elizabeth Hampson</td>\n      <td>181292</td>\n      <td>0.0</td>\n      <td>1</td>\n      <td>0.150000</td>\n      <td>0.0</td>\n    </tr>\n    <tr>\n      <th>425046</th>\n      <td>Anand Chawla</td>\n      <td>425045</td>\n      <td>1.0</td>\n      <td>1</td>\n      <td>1.000000</td>\n      <td>0.0</td>\n    </tr>\n  </tbody>\n</table>\n<p>425047 rows × 6 columns</p>\n</div>"
     },
     "metadata": {},
     "execution_count": 41
    }
   ],
   "source": [
    "df.sort_values(by=\"localclusteringcoefficient\", ascending=False) "
   ]
  },
  {
   "source": [
    "Il 2 è un errore c'è una doppia relazione tra lo stesso autore e la stessa risorsa"
   ],
   "cell_type": "markdown",
   "metadata": {}
  },
  {
   "source": [
    "## First approach using DBScan"
   ],
   "cell_type": "markdown",
   "metadata": {}
  },
  {
   "cell_type": "code",
   "execution_count": 4,
   "metadata": {},
   "outputs": [],
   "source": [
    "import numpy as np\n",
    "\n",
    "from sklearn.cluster import DBSCAN\n",
    "from sklearn import metrics\n",
    "from sklearn.preprocessing import StandardScaler"
   ]
  },
  {
   "cell_type": "code",
   "execution_count": 5,
   "metadata": {},
   "outputs": [],
   "source": [
    "X = StandardScaler().fit_transform(df[[\"degree\", \"resources\", \"pagerank\", \"localclusteringcoefficient\"]].to_numpy())"
   ]
  },
  {
   "cell_type": "code",
   "execution_count": 6,
   "metadata": {},
   "outputs": [],
   "source": [
    "db = DBSCAN(eps=0.3, min_samples=10).fit(X)\n",
    "core_samples_mask = np.zeros_like(db.labels_, dtype=bool)\n",
    "core_samples_mask[db.core_sample_indices_] = True\n",
    "labels = db.labels_"
   ]
  },
  {
   "cell_type": "code",
   "execution_count": null,
   "metadata": {},
   "outputs": [],
   "source": [
    "n_clusters_ = len(set(labels)) - (1 if -1 in labels else 0)\n",
    "n_noise_ = list(labels).count(-1)"
   ]
  },
  {
   "cell_type": "code",
   "execution_count": null,
   "metadata": {},
   "outputs": [],
   "source": []
  }
 ]
}