{
 "metadata": {
  "language_info": {
   "codemirror_mode": {
    "name": "ipython",
    "version": 3
   },
   "file_extension": ".py",
   "mimetype": "text/x-python",
   "name": "python",
   "nbconvert_exporter": "python",
   "pygments_lexer": "ipython3",
   "version": "3.8.7"
  },
  "orig_nbformat": 2,
  "kernelspec": {
   "name": "python387jvsc74a57bd01d6699aa86f2602ea533c86e4d7a2e97a146b603848a19e03a1edb8b897b9b3d",
   "display_name": "Python 3.8.7 64-bit ('3.8.7': pyenv)"
  }
 },
 "nbformat": 4,
 "nbformat_minor": 2,
 "cells": [
  {
   "cell_type": "code",
   "execution_count": 1,
   "metadata": {},
   "outputs": [
    {
     "output_type": "stream",
     "name": "stderr",
     "text": [
      "/Users/filippo/.pyenv/versions/3.8.7/lib/python3.8/site-packages/pandas/compat/__init__.py:97: UserWarning: Could not import the lzma module. Your installed Python is incomplete. Attempting to use lzma compression will result in a RuntimeError.\n  warnings.warn(msg)\n"
     ]
    }
   ],
   "source": [
    "from neo4j import GraphDatabase\n",
    "import pandas as pd\n",
    "\n",
    "# Init the connection to the database\n",
    "uri = \"bolt://localhost:7687\"\n",
    "driver = GraphDatabase.driver(uri, auth=(\"neo4j\", \"neuroinformatics_orc_id\"), encrypted=False)\n",
    "pd.set_option('display.max_columns', None)\n",
    "\n",
    "def cyperQueryToDataFrame(query):\n",
    "  with driver.session() as session:\n",
    "    result = session.run(query)\n",
    "    return pd.DataFrame(result.data(), columns=result.keys())"
   ]
  },
  {
   "cell_type": "code",
   "execution_count": 5,
   "metadata": {},
   "outputs": [],
   "source": [
    "resources = cyperQueryToDataFrame(\"MATCH (n:Resource) RETURN n.id, n.main_title, n.__fastrp_embedding, n.__fastrp_resources_and_keyword \") # main title può essere la descrizione in caso non c'è il titolo (prendendo solo quelli con orc id siamo a circa 34k di risorse (~15%))"
   ]
  },
  {
   "cell_type": "code",
   "execution_count": 7,
   "metadata": {},
   "outputs": [
    {
     "output_type": "stream",
     "name": "stdout",
     "text": [
      "Requirement already satisfied: sentence-transformers in /Users/filippo/.pyenv/versions/3.8.7/lib/python3.8/site-packages (1.0.3)\n",
      "Requirement already satisfied: torch>=1.6.0 in /Users/filippo/.pyenv/versions/3.8.7/lib/python3.8/site-packages (from sentence-transformers) (1.8.0)\n",
      "Requirement already satisfied: numpy in /Users/filippo/.pyenv/versions/3.8.7/lib/python3.8/site-packages (from sentence-transformers) (1.19.5)\n",
      "Requirement already satisfied: tqdm in /Users/filippo/.pyenv/versions/3.8.7/lib/python3.8/site-packages (from sentence-transformers) (4.59.0)\n",
      "Requirement already satisfied: transformers<5.0.0,>=3.1.0 in /Users/filippo/.pyenv/versions/3.8.7/lib/python3.8/site-packages (from sentence-transformers) (4.4.2)\n",
      "Requirement already satisfied: scikit-learn in /Users/filippo/.pyenv/versions/3.8.7/lib/python3.8/site-packages (from sentence-transformers) (0.24.1)\n",
      "Requirement already satisfied: scipy in /Users/filippo/.pyenv/versions/3.8.7/lib/python3.8/site-packages (from sentence-transformers) (1.6.0)\n",
      "Requirement already satisfied: sentencepiece in /Users/filippo/.pyenv/versions/3.8.7/lib/python3.8/site-packages (from sentence-transformers) (0.1.95)\n",
      "Requirement already satisfied: nltk in /Users/filippo/.pyenv/versions/3.8.7/lib/python3.8/site-packages (from sentence-transformers) (3.5)\n",
      "Requirement already satisfied: typing-extensions in /Users/filippo/.pyenv/versions/3.8.7/lib/python3.8/site-packages (from torch>=1.6.0->sentence-transformers) (3.7.4.3)\n",
      "Requirement already satisfied: sacremoses in /Users/filippo/.pyenv/versions/3.8.7/lib/python3.8/site-packages (from transformers<5.0.0,>=3.1.0->sentence-transformers) (0.0.43)\n",
      "Requirement already satisfied: packaging in /Users/filippo/.pyenv/versions/3.8.7/lib/python3.8/site-packages (from transformers<5.0.0,>=3.1.0->sentence-transformers) (20.8)\n",
      "Requirement already satisfied: requests in /Users/filippo/.pyenv/versions/3.8.7/lib/python3.8/site-packages (from transformers<5.0.0,>=3.1.0->sentence-transformers) (2.25.1)\n",
      "Requirement already satisfied: tokenizers<0.11,>=0.10.1 in /Users/filippo/.pyenv/versions/3.8.7/lib/python3.8/site-packages (from transformers<5.0.0,>=3.1.0->sentence-transformers) (0.10.1)\n",
      "Requirement already satisfied: filelock in /Users/filippo/.pyenv/versions/3.8.7/lib/python3.8/site-packages (from transformers<5.0.0,>=3.1.0->sentence-transformers) (3.0.12)\n",
      "Requirement already satisfied: regex!=2019.12.17 in /Users/filippo/.pyenv/versions/3.8.7/lib/python3.8/site-packages (from transformers<5.0.0,>=3.1.0->sentence-transformers) (2021.3.17)\n",
      "Requirement already satisfied: joblib in /Users/filippo/.pyenv/versions/3.8.7/lib/python3.8/site-packages (from nltk->sentence-transformers) (1.0.1)\n",
      "Requirement already satisfied: click in /Users/filippo/.pyenv/versions/3.8.7/lib/python3.8/site-packages (from nltk->sentence-transformers) (7.1.2)\n",
      "Requirement already satisfied: pyparsing>=2.0.2 in /Users/filippo/.pyenv/versions/3.8.7/lib/python3.8/site-packages (from packaging->transformers<5.0.0,>=3.1.0->sentence-transformers) (2.4.7)\n",
      "Requirement already satisfied: urllib3<1.27,>=1.21.1 in /Users/filippo/.pyenv/versions/3.8.7/lib/python3.8/site-packages (from requests->transformers<5.0.0,>=3.1.0->sentence-transformers) (1.26.3)\n",
      "Requirement already satisfied: certifi>=2017.4.17 in /Users/filippo/.pyenv/versions/3.8.7/lib/python3.8/site-packages (from requests->transformers<5.0.0,>=3.1.0->sentence-transformers) (2020.12.5)\n",
      "Requirement already satisfied: chardet<5,>=3.0.2 in /Users/filippo/.pyenv/versions/3.8.7/lib/python3.8/site-packages (from requests->transformers<5.0.0,>=3.1.0->sentence-transformers) (4.0.0)\n",
      "Requirement already satisfied: idna<3,>=2.5 in /Users/filippo/.pyenv/versions/3.8.7/lib/python3.8/site-packages (from requests->transformers<5.0.0,>=3.1.0->sentence-transformers) (2.10)\n",
      "Requirement already satisfied: six in /Users/filippo/.pyenv/versions/3.8.7/lib/python3.8/site-packages (from sacremoses->transformers<5.0.0,>=3.1.0->sentence-transformers) (1.15.0)\n",
      "Requirement already satisfied: threadpoolctl>=2.0.0 in /Users/filippo/.pyenv/versions/3.8.7/lib/python3.8/site-packages (from scikit-learn->sentence-transformers) (2.1.0)\n"
     ]
    }
   ],
   "source": [
    "!pip install -U sentence-transformers"
   ]
  },
  {
   "cell_type": "code",
   "execution_count": 13,
   "metadata": {},
   "outputs": [
    {
     "output_type": "stream",
     "name": "stdout",
     "text": [
      "The cat sits outside \t\t The dog plays in the garden \t\t Score: -0.0686\nA man is playing guitar \t\t A woman watches TV \t\t Score: 0.0891\nThe new movie is awesome \t\t The new movie is so great \t\t Score: 0.9907\n"
     ]
    }
   ],
   "source": [
    "from sentence_transformers import SentenceTransformer, util\n",
    "model = SentenceTransformer('stsb-roberta-base') # roberta base good and not too large\n",
    "\n",
    "# Two lists of sentences\n",
    "sentences1 = ['The cat sits outside',\n",
    "             'A man is playing guitar',\n",
    "             'The new movie is awesome']\n",
    "\n",
    "sentences2 = ['The dog plays in the garden',\n",
    "              'A woman watches TV',\n",
    "              'The new movie is so great']\n",
    "\n",
    "#Compute embedding for both lists\n",
    "embeddings1 = model.encode(sentences1, convert_to_tensor=True)\n",
    "embeddings2 = model.encode(sentences2, convert_to_tensor=True)\n",
    "\n",
    "#Compute cosine-similarits\n",
    "cosine_scores = util.pytorch_cos_sim(embeddings1, embeddings2)\n",
    "\n",
    "#Output the pairs with their score\n",
    "for i in range(len(sentences1)):\n",
    "    print(\"{} \\t\\t {} \\t\\t Score: {:.4f}\".format(sentences1[i], sentences2[i], cosine_scores[i][i]))"
   ]
  },
  {
   "cell_type": "code",
   "execution_count": 14,
   "metadata": {},
   "outputs": [],
   "source": [
    "sentences = resources['n.main_title']"
   ]
  },
  {
   "cell_type": "code",
   "execution_count": 15,
   "metadata": {},
   "outputs": [
    {
     "output_type": "execute_result",
     "data": {
      "text/plain": [
       "0        Theoretical Limitations on Functional Imaging ...\n",
       "1        Head model based on the shape of the subject’s...\n",
       "2        How Pleasant and Unpleasant Stimuli Combine in...\n",
       "3        Genetic Contributions to Human Gyrification: S...\n",
       "4        Prediction error and repetition suppression ha...\n",
       "                               ...                        \n",
       "34307    Functionally and Spatially Distinct Modes of m...\n",
       "34308    Air Pollution, Stress, and Allostatic Load: Li...\n",
       "34309    The enigma of multiple sclerosis: inflammation...\n",
       "34310    Functional Networks in Disorders of Consciousness\n",
       "34311    Optical brain imaging in vivo: techniques and ...\n",
       "Name: n.main_title, Length: 34312, dtype: object"
      ]
     },
     "metadata": {},
     "execution_count": 15
    }
   ],
   "source": [
    "sentences"
   ]
  },
  {
   "cell_type": "code",
   "execution_count": 16,
   "metadata": {},
   "outputs": [],
   "source": [
    "embeddings = model.encode(sentences, convert_to_tensor=True)"
   ]
  },
  {
   "cell_type": "code",
   "execution_count": 17,
   "metadata": {},
   "outputs": [],
   "source": [
    "json_to_import = []\n",
    "for i in range(len(sentences)):\n",
    "    json_to_import.append({ \"id\": resources['n.id'][i], \"embeddings\": embeddings[i].tolist(),  })"
   ]
  },
  {
   "cell_type": "code",
   "execution_count": 18,
   "metadata": {},
   "outputs": [],
   "source": [
    "pd.DataFrame(json_to_import).to_csv('embeddings_resources.csv')"
   ]
  },
  {
   "cell_type": "code",
   "execution_count": 19,
   "metadata": {},
   "outputs": [],
   "source": [
    "from neo4j import GraphDatabase\n",
    "\n",
    "# Init the connection to the database\n",
    "uri = \"bolt://localhost:7687\"\n",
    "driver = GraphDatabase.driver(uri, auth=(\"neo4j\", \"neuroinformatics_orc_id\"), encrypted=False)\n",
    "session = driver.session()\n",
    "for i in range(len(sentences)):\n",
    "    session.run(\"MATCH (n:Resource) WHERE n.id = $id SET n.r_embeddings = $embeddings RETURN n\", { \"id\": resources['n.id'][i], \"embeddings\": embeddings[i].tolist() })"
   ]
  },
  {
   "cell_type": "code",
   "execution_count": 6,
   "metadata": {},
   "outputs": [],
   "source": [
    "resources = cyperQueryToDataFrame(\"MATCH (n:Resource) RETURN n.id, n.main_title, n.__fastrp_embedding, n.__fastrp_resources_and_keyword, n.r_embeddings \") # "
   ]
  },
  {
   "cell_type": "code",
   "execution_count": 1,
   "metadata": {},
   "outputs": [
    {
     "output_type": "stream",
     "name": "stderr",
     "text": [
      "/Users/filippo/.pyenv/versions/3.8.7/lib/python3.8/site-packages/pandas/compat/__init__.py:97: UserWarning: Could not import the lzma module. Your installed Python is incomplete. Attempting to use lzma compression will result in a RuntimeError.\n  warnings.warn(msg)\n"
     ]
    }
   ],
   "source": [
    "import numpy as np\n",
    "\n",
    "from sklearn.cluster import DBSCAN\n",
    "from sklearn import metrics\n",
    "from sklearn.preprocessing import StandardScaler\n",
    "from sklearn.neighbors import LocalOutlierFactor, NearestNeighbors\n",
    "import pandas as pd\n",
    "from sklearn.manifold import TSNE"
   ]
  },
  {
   "cell_type": "code",
   "execution_count": 11,
   "metadata": {},
   "outputs": [
    {
     "output_type": "execute_result",
     "data": {
      "text/plain": [
       "5"
      ]
     },
     "metadata": {},
     "execution_count": 11
    }
   ],
   "source": [
    "X = np.array(resources[\"n.r_embeddings\"].to_list())\n",
    "unq, count = np.unique(X, axis=0, return_counts=True)\n",
    "count.max() # non molti con lo stesso embeddings"
   ]
  },
  {
   "cell_type": "code",
   "execution_count": 17,
   "metadata": {},
   "outputs": [],
   "source": [
    "l2_norm = np.sum(np.abs(X)**2,axis=-1)**(1./2)\n",
    "l2_norm[l2_norm == 0] = 1\n",
    "l2_norm.max()\n",
    "X_norm = X / l2_norm[:, np.newaxis]\n",
    "l2_norm = np.sum(np.abs(X_norm)**2,axis=-1)**(1./2)\n",
    "l2_norm.max()\n",
    "neigh = NearestNeighbors(n_neighbors=2, metric='euclidean')\n",
    "neigh.fit(X_norm)\n",
    "distances = neigh.kneighbors(X_norm, 2, return_distance=True)\n",
    "distances_second = distances[0][:, 1]\n",
    "indices_second = distances[1][:, 1]\n",
    "nearest_neighbour_df = resources[['n.id', 'n.main_title']].iloc[indices_second]\n",
    "resources['nearest_neighbour_re'] = nearest_neighbour_df['n.id'].to_list()\n",
    "resources['nearest_neighbour_re_main_title'] = nearest_neighbour_df['n.main_title'].to_list()\n",
    "resources['distance_to_nearest_neighbour_re'] = distances_second"
   ]
  },
  {
   "cell_type": "code",
   "execution_count": 18,
   "metadata": {},
   "outputs": [
    {
     "output_type": "execute_result",
     "data": {
      "text/plain": [
       "                                                    n.id  \\\n",
       "11783  50|dedup_wf_001::0b3de9422ad6df8ca4f2588d1f2a361a   \n",
       "11134  50|doiboost____::25f6adf3f27cc267478bc175477b764e   \n",
       "29328  50|doiboost____::55e064077df362827e8f465ad7d7be82   \n",
       "24449  50|dedup_wf_001::28e9cd9610d2c7d5846a795c40bc6993   \n",
       "13204  50|dedup_wf_001::981024fa77ebaeb33c4afc179e7d8c58   \n",
       "...                                                  ...   \n",
       "33806  50|dedup_wf_001::78c963a7201f265a84fddadb56b7dbe6   \n",
       "3054   50|dedup_wf_001::756653113595672bb9bf18bd79cbe38c   \n",
       "4216   50|dedup_wf_001::2026282d02dd1dddfe3be0b8f59830b0   \n",
       "14150  50|dedup_wf_001::cfad20e6b7a4ddc8bb3754f5e8f438ae   \n",
       "18271  50|doiboost____::d0de81a5d75e549f824642f49aecf8f0   \n",
       "\n",
       "                                            n.main_title  \\\n",
       "11783  Clinical Policy: Neuroimaging and Decisionmaki...   \n",
       "11134              The NeuroDevNet Neuroinformatics Core   \n",
       "29328                                       Neuroimaging   \n",
       "24449  White Matter Microstructure in Adolescents and...   \n",
       "13204                                a Systematic Review   \n",
       "...                                                  ...   \n",
       "33806                                      The GAS trial   \n",
       "3054                              Just Say No to Testing   \n",
       "4216   Holding a stick at both ends: on faces and exp...   \n",
       "14150                 Is that a bathtub in your kitchen?   \n",
       "18271                                Not Just for Joints   \n",
       "\n",
       "                                    n.__fastrp_embedding  \\\n",
       "11783  [0.0, -0.7715167999267578, -0.7715167999267578...   \n",
       "11134  [0.0, 0.0, 0.0, 0.0, 0.0, 0.0, 0.0, 0.0, 0.0, ...   \n",
       "29328  [0.694023072719574, -0.04507644474506378, 0.07...   \n",
       "24449  [-2.032072067260742, 0.45756861567497253, 1.68...   \n",
       "13204  [-1.0014089345932007, 0.27566030621528625, 0.4...   \n",
       "...                                                  ...   \n",
       "33806  [0.0, 0.0, 0.0, 0.0, 0.0, 0.0, 0.0, 0.0, 0.0, ...   \n",
       "3054   [0.8333333730697632, 0.0, -0.8219949007034302,...   \n",
       "4216   [-0.3441852033138275, -0.3037493824958801, 0.7...   \n",
       "14150  [-0.8089836239814758, -0.806226372718811, 0.95...   \n",
       "18271  [0.0, 0.0, 0.0, 0.0, 0.0, 0.0, 0.0, 0.0, 0.0, ...   \n",
       "\n",
       "                        n.__fastrp_resources_and_keyword  \\\n",
       "11783  [-0.1034482792019844, -0.1034482792019844, 0.0...   \n",
       "11134  [0.0, -0.053916387259960175, 0.053916387259960...   \n",
       "29328  [-0.050572171807289124, -0.050572171807289124,...   \n",
       "24449  [0.09928550571203232, -0.1323806792497635, 0.0...   \n",
       "13204  [0.03227486088871956, 0.0, 0.0, 0.129099443554...   \n",
       "...                                                  ...   \n",
       "33806  [0.12237256020307541, -0.12237256020307541, 0....   \n",
       "3054   [0.09938079863786697, -0.04969039931893349, 0....   \n",
       "4216   [-0.18823674321174622, -0.0627455860376358, 0....   \n",
       "14150  [-0.07838618755340576, 0.15677236020565033, 0....   \n",
       "18271  [0.07322520017623901, -0.03661260008811951, -0...   \n",
       "\n",
       "                                          n.r_embeddings  \\\n",
       "11783  [-0.4298747777938843, 0.17372481524944305, 0.5...   \n",
       "11134  [0.3671809434890747, -0.218675434589386, -0.20...   \n",
       "29328  [0.16414006054401398, -0.5832186937332153, 0.2...   \n",
       "24449  [-0.20027559995651245, 0.09026981890201569, -4...   \n",
       "13204  [0.4015590250492096, -1.0903278589248657, 0.51...   \n",
       "...                                                  ...   \n",
       "33806  [-1.1110875606536865, -0.12367327511310577, -0...   \n",
       "3054   [0.0841265395283699, 0.07913415879011154, 0.02...   \n",
       "4216   [1.222137689590454, -0.6082175374031067, 0.695...   \n",
       "14150  [-0.4029924273490906, -1.069010615348816, -0.4...   \n",
       "18271  [0.04460858181118965, 0.0868312194943428, 0.33...   \n",
       "\n",
       "                                    nearest_neighbour_re  \\\n",
       "11783  50|dedup_wf_001::0b3de9422ad6df8ca4f2588d1f2a361a   \n",
       "11134  50|doiboost____::25f6adf3f27cc267478bc175477b764e   \n",
       "29328  50|doiboost____::55e064077df362827e8f465ad7d7be82   \n",
       "24449  50|dedup_wf_001::71ad43a16a421609505b013a4736a0e8   \n",
       "13204  50|dedup_wf_001::af75a83a9eabcbb5cafe1e203192cde0   \n",
       "...                                                  ...   \n",
       "33806  50|dedup_wf_001::ff32d0133659ed59da33d230847d0e89   \n",
       "3054   50|dedup_wf_001::45aecc96141403ea43e08990b9e6e644   \n",
       "4216   50|dedup_wf_001::4f444a035bc81506da0151ffa9b54745   \n",
       "14150  50|doiboost____::d9fece1e68477ac28fe124ca863e8107   \n",
       "18271  50|dedup_wf_001::cc52ed84e4acf7c896beb0b3680a4413   \n",
       "\n",
       "       distance_to_nearest_neighbour_re  \\\n",
       "11783                          0.000000   \n",
       "11134                          0.000000   \n",
       "29328                          0.000000   \n",
       "24449                          0.000000   \n",
       "13204                          0.000000   \n",
       "...                                 ...   \n",
       "33806                          1.071714   \n",
       "3054                           1.077585   \n",
       "4216                           1.081691   \n",
       "14150                          1.103685   \n",
       "18271                          1.128410   \n",
       "\n",
       "                         nearest_neighbour_re_main_title  \n",
       "11783  Clinical Policy: Neuroimaging and Decisionmaki...  \n",
       "11134              The NeuroDevNet Neuroinformatics Core  \n",
       "29328                                       Neuroimaging  \n",
       "24449  White Matter Microstructure in Adolescents and...  \n",
       "13204                                A systematic review  \n",
       "...                                                  ...  \n",
       "33806  Pulmonary hyperinflation due to gas trapping a...  \n",
       "3054   Null results in TMS: From absence of evidence ...  \n",
       "4216   The Role of Experience in the Face-Selective R...  \n",
       "14150  What constitutes the M1 segment of the middle ...  \n",
       "18271  Sepsis-associated encephalopathy: not just del...  \n",
       "\n",
       "[34312 rows x 8 columns]"
      ],
      "text/html": "<div>\n<style scoped>\n    .dataframe tbody tr th:only-of-type {\n        vertical-align: middle;\n    }\n\n    .dataframe tbody tr th {\n        vertical-align: top;\n    }\n\n    .dataframe thead th {\n        text-align: right;\n    }\n</style>\n<table border=\"1\" class=\"dataframe\">\n  <thead>\n    <tr style=\"text-align: right;\">\n      <th></th>\n      <th>n.id</th>\n      <th>n.main_title</th>\n      <th>n.__fastrp_embedding</th>\n      <th>n.__fastrp_resources_and_keyword</th>\n      <th>n.r_embeddings</th>\n      <th>nearest_neighbour_re</th>\n      <th>distance_to_nearest_neighbour_re</th>\n      <th>nearest_neighbour_re_main_title</th>\n    </tr>\n  </thead>\n  <tbody>\n    <tr>\n      <th>11783</th>\n      <td>50|dedup_wf_001::0b3de9422ad6df8ca4f2588d1f2a361a</td>\n      <td>Clinical Policy: Neuroimaging and Decisionmaki...</td>\n      <td>[0.0, -0.7715167999267578, -0.7715167999267578...</td>\n      <td>[-0.1034482792019844, -0.1034482792019844, 0.0...</td>\n      <td>[-0.4298747777938843, 0.17372481524944305, 0.5...</td>\n      <td>50|dedup_wf_001::0b3de9422ad6df8ca4f2588d1f2a361a</td>\n      <td>0.000000</td>\n      <td>Clinical Policy: Neuroimaging and Decisionmaki...</td>\n    </tr>\n    <tr>\n      <th>11134</th>\n      <td>50|doiboost____::25f6adf3f27cc267478bc175477b764e</td>\n      <td>The NeuroDevNet Neuroinformatics Core</td>\n      <td>[0.0, 0.0, 0.0, 0.0, 0.0, 0.0, 0.0, 0.0, 0.0, ...</td>\n      <td>[0.0, -0.053916387259960175, 0.053916387259960...</td>\n      <td>[0.3671809434890747, -0.218675434589386, -0.20...</td>\n      <td>50|doiboost____::25f6adf3f27cc267478bc175477b764e</td>\n      <td>0.000000</td>\n      <td>The NeuroDevNet Neuroinformatics Core</td>\n    </tr>\n    <tr>\n      <th>29328</th>\n      <td>50|doiboost____::55e064077df362827e8f465ad7d7be82</td>\n      <td>Neuroimaging</td>\n      <td>[0.694023072719574, -0.04507644474506378, 0.07...</td>\n      <td>[-0.050572171807289124, -0.050572171807289124,...</td>\n      <td>[0.16414006054401398, -0.5832186937332153, 0.2...</td>\n      <td>50|doiboost____::55e064077df362827e8f465ad7d7be82</td>\n      <td>0.000000</td>\n      <td>Neuroimaging</td>\n    </tr>\n    <tr>\n      <th>24449</th>\n      <td>50|dedup_wf_001::28e9cd9610d2c7d5846a795c40bc6993</td>\n      <td>White Matter Microstructure in Adolescents and...</td>\n      <td>[-2.032072067260742, 0.45756861567497253, 1.68...</td>\n      <td>[0.09928550571203232, -0.1323806792497635, 0.0...</td>\n      <td>[-0.20027559995651245, 0.09026981890201569, -4...</td>\n      <td>50|dedup_wf_001::71ad43a16a421609505b013a4736a0e8</td>\n      <td>0.000000</td>\n      <td>White Matter Microstructure in Adolescents and...</td>\n    </tr>\n    <tr>\n      <th>13204</th>\n      <td>50|dedup_wf_001::981024fa77ebaeb33c4afc179e7d8c58</td>\n      <td>a Systematic Review</td>\n      <td>[-1.0014089345932007, 0.27566030621528625, 0.4...</td>\n      <td>[0.03227486088871956, 0.0, 0.0, 0.129099443554...</td>\n      <td>[0.4015590250492096, -1.0903278589248657, 0.51...</td>\n      <td>50|dedup_wf_001::af75a83a9eabcbb5cafe1e203192cde0</td>\n      <td>0.000000</td>\n      <td>A systematic review</td>\n    </tr>\n    <tr>\n      <th>...</th>\n      <td>...</td>\n      <td>...</td>\n      <td>...</td>\n      <td>...</td>\n      <td>...</td>\n      <td>...</td>\n      <td>...</td>\n      <td>...</td>\n    </tr>\n    <tr>\n      <th>33806</th>\n      <td>50|dedup_wf_001::78c963a7201f265a84fddadb56b7dbe6</td>\n      <td>The GAS trial</td>\n      <td>[0.0, 0.0, 0.0, 0.0, 0.0, 0.0, 0.0, 0.0, 0.0, ...</td>\n      <td>[0.12237256020307541, -0.12237256020307541, 0....</td>\n      <td>[-1.1110875606536865, -0.12367327511310577, -0...</td>\n      <td>50|dedup_wf_001::ff32d0133659ed59da33d230847d0e89</td>\n      <td>1.071714</td>\n      <td>Pulmonary hyperinflation due to gas trapping a...</td>\n    </tr>\n    <tr>\n      <th>3054</th>\n      <td>50|dedup_wf_001::756653113595672bb9bf18bd79cbe38c</td>\n      <td>Just Say No to Testing</td>\n      <td>[0.8333333730697632, 0.0, -0.8219949007034302,...</td>\n      <td>[0.09938079863786697, -0.04969039931893349, 0....</td>\n      <td>[0.0841265395283699, 0.07913415879011154, 0.02...</td>\n      <td>50|dedup_wf_001::45aecc96141403ea43e08990b9e6e644</td>\n      <td>1.077585</td>\n      <td>Null results in TMS: From absence of evidence ...</td>\n    </tr>\n    <tr>\n      <th>4216</th>\n      <td>50|dedup_wf_001::2026282d02dd1dddfe3be0b8f59830b0</td>\n      <td>Holding a stick at both ends: on faces and exp...</td>\n      <td>[-0.3441852033138275, -0.3037493824958801, 0.7...</td>\n      <td>[-0.18823674321174622, -0.0627455860376358, 0....</td>\n      <td>[1.222137689590454, -0.6082175374031067, 0.695...</td>\n      <td>50|dedup_wf_001::4f444a035bc81506da0151ffa9b54745</td>\n      <td>1.081691</td>\n      <td>The Role of Experience in the Face-Selective R...</td>\n    </tr>\n    <tr>\n      <th>14150</th>\n      <td>50|dedup_wf_001::cfad20e6b7a4ddc8bb3754f5e8f438ae</td>\n      <td>Is that a bathtub in your kitchen?</td>\n      <td>[-0.8089836239814758, -0.806226372718811, 0.95...</td>\n      <td>[-0.07838618755340576, 0.15677236020565033, 0....</td>\n      <td>[-0.4029924273490906, -1.069010615348816, -0.4...</td>\n      <td>50|doiboost____::d9fece1e68477ac28fe124ca863e8107</td>\n      <td>1.103685</td>\n      <td>What constitutes the M1 segment of the middle ...</td>\n    </tr>\n    <tr>\n      <th>18271</th>\n      <td>50|doiboost____::d0de81a5d75e549f824642f49aecf8f0</td>\n      <td>Not Just for Joints</td>\n      <td>[0.0, 0.0, 0.0, 0.0, 0.0, 0.0, 0.0, 0.0, 0.0, ...</td>\n      <td>[0.07322520017623901, -0.03661260008811951, -0...</td>\n      <td>[0.04460858181118965, 0.0868312194943428, 0.33...</td>\n      <td>50|dedup_wf_001::cc52ed84e4acf7c896beb0b3680a4413</td>\n      <td>1.128410</td>\n      <td>Sepsis-associated encephalopathy: not just del...</td>\n    </tr>\n  </tbody>\n</table>\n<p>34312 rows × 8 columns</p>\n</div>"
     },
     "metadata": {},
     "execution_count": 18
    }
   ],
   "source": [
    "resources.sort_values(by=['distance_to_nearest_neighbour_re'], ascending=True)"
   ]
  },
  {
   "cell_type": "code",
   "execution_count": 19,
   "metadata": {},
   "outputs": [],
   "source": [
    "resources.sort_values(by=['distance_to_nearest_neighbour_re'], ascending=True).to_csv('resource_embeddings_similarity.csv')"
   ]
  },
  {
   "cell_type": "code",
   "execution_count": 20,
   "metadata": {},
   "outputs": [
    {
     "output_type": "stream",
     "name": "stdout",
     "text": [
      "4240\n"
     ]
    }
   ],
   "source": [
    "X = np.array(resources[\"n.__fastrp_embedding\"].to_list())\n",
    "unq, count = np.unique(X, axis=0, return_counts=True)\n",
    "print(count.max()) # davvero tanti con lo stesso embeddings\n",
    "l2_norm = np.sum(np.abs(X)**2,axis=-1)**(1./2)\n",
    "l2_norm[l2_norm == 0] = 1\n",
    "l2_norm.max()\n",
    "X_norm = X / l2_norm[:, np.newaxis]\n",
    "l2_norm = np.sum(np.abs(X_norm)**2,axis=-1)**(1./2)\n",
    "l2_norm.max()\n",
    "neigh = NearestNeighbors(n_neighbors=2, metric='euclidean')\n",
    "neigh.fit(X_norm)\n",
    "distances = neigh.kneighbors(X_norm, 2, return_distance=True)\n",
    "distances_second = distances[0][:, 1]\n",
    "indices_second = distances[1][:, 1]\n",
    "nearest_neighbour_df = resources[['n.id', 'n.main_title']].iloc[indices_second]\n",
    "resources['nearest_neighbour_rp_a'] = nearest_neighbour_df['n.id'].to_list()\n",
    "resources['nearest_neighbour_rp_a_main_title'] = nearest_neighbour_df['n.main_title'].to_list()\n",
    "resources['distance_to_nearest_neighbour_rp_a'] = distances_second"
   ]
  },
  {
   "cell_type": "code",
   "execution_count": 22,
   "metadata": {},
   "outputs": [
    {
     "output_type": "execute_result",
     "data": {
      "text/plain": [
       "                                                    n.id  \\\n",
       "17155  50|dedup_wf_001::fb289c8a3cc400f779332b97946a5608   \n",
       "11045  50|dedup_wf_001::62e6e092431be32638ba562b6ac1e04e   \n",
       "11042  50|dedup_wf_001::5e96c8bc0f0320047766d591e995b6bd   \n",
       "29791  50|dedup_wf_001::d30fe0360a8694e19660e4736e03e87d   \n",
       "11029  50|dedup_wf_001::4b0e729996535e7c5f568f5ab27cd0b6   \n",
       "...                                                  ...   \n",
       "29286  50|dedup_wf_001::cce4f2758e12bd25dce981fd7058fd7e   \n",
       "11171  50|doiboost____::fb44aeb6d15c0c0e2a0e98940729b371   \n",
       "12121  50|dedup_wf_001::90161836ce116af83341770f4c70d6e4   \n",
       "18606  50|doiboost____::e81a780969f06251017b6ff200173006   \n",
       "21421  50|dedup_wf_001::052b46899223b156ebcec27600ed0a03   \n",
       "\n",
       "                                            n.main_title  \\\n",
       "17155     The Eye as a Biomarker for Alzheimer’s Disease   \n",
       "11045  The Flavonoid Isoquercitrin Precludes Initiati...   \n",
       "11042  GABA Modulating Bacteria of the Human Gut Micr...   \n",
       "29791  Identificación y caracterización de un ADNc qu...   \n",
       "11029  Eulerian videography technology improves class...   \n",
       "...                                                  ...   \n",
       "29286  ECoG STUDIES OF VALPROATE, CARBAMAZEPINE AND H...   \n",
       "11171  Neuroactivation imaging using a monogenic fram...   \n",
       "12121   Toward discovery science of human brain function   \n",
       "18606  Image processing and analysis methods for the ...   \n",
       "21421  Consensus paper: combining transcranial stimul...   \n",
       "\n",
       "                                    n.__fastrp_embedding  \\\n",
       "17155  [0.0, 0.0, 0.0, 0.0, 0.0, 0.0, 0.0, 0.0, 0.0, ...   \n",
       "11045  [0.0, 0.0, 0.0, 0.0, 0.0, 0.0, 0.0, 0.0, 0.0, ...   \n",
       "11042  [0.0, 0.0, 0.0, 0.0, 0.0, 0.0, 0.0, 0.0, 0.0, ...   \n",
       "29791  [0.0, 0.0, 0.0, 0.0, 0.0, 0.0, 0.0, 0.0, 0.0, ...   \n",
       "11029  [0.0, 0.0, 0.0, 0.0, 0.0, 0.0, 0.0, 0.0, 0.0, ...   \n",
       "...                                                  ...   \n",
       "29286  [0.09599552303552628, 0.20644429326057434, -0....   \n",
       "11171  [-0.049654994159936905, 0.5624501705169678, -0...   \n",
       "12121  [0.5331141352653503, -0.8062261343002319, 1.11...   \n",
       "18606  [1.3218730688095093, 0.2391142100095749, 0.713...   \n",
       "21421  [0.4844382703304291, -0.9601823091506958, 0.13...   \n",
       "\n",
       "                        n.__fastrp_resources_and_keyword  \\\n",
       "17155  [0.06700251996517181, -6.521621465083172e-09, ...   \n",
       "11045  [0.10585122555494308, -0.026462800800800323, 0...   \n",
       "11042  [-0.05248638242483139, 5.108708567291842e-09, ...   \n",
       "29791  [0.03242722153663635, 0.0648544430732727, 0.06...   \n",
       "11029  [-0.13461071252822876, 0.10095804184675217, -0...   \n",
       "...                                                  ...   \n",
       "29286  [-0.16874182224273682, 0.03374836593866348, 0....   \n",
       "11171  [-0.14586499333381653, -0.18233123421669006, 0...   \n",
       "12121  [0.03874921426177025, -0.0774984285235405, 0.1...   \n",
       "18606  [-0.0789337009191513, -0.11840055882930756, -0...   \n",
       "21421  [-0.06213698163628578, 0.0, 0.1864109337329864...   \n",
       "\n",
       "                                          n.r_embeddings  \\\n",
       "17155  [-0.46835947036743164, -1.1381034851074219, 0....   \n",
       "11045  [0.24246859550476074, -0.4322826564311981, 0.5...   \n",
       "11042  [0.36844417452812195, 0.2876003682613373, -0.2...   \n",
       "29791  [0.2074400633573532, -0.3540390729904175, -0.3...   \n",
       "11029  [-0.2558005154132843, -0.2689337730407715, 0.1...   \n",
       "...                                                  ...   \n",
       "29286  [-0.317645400762558, -0.15578943490982056, 0.0...   \n",
       "11171  [0.1833518147468567, -0.1455278992652893, 0.11...   \n",
       "12121  [0.2769312262535095, 0.14422354102134705, 0.32...   \n",
       "18606  [-0.1874198168516159, -0.8372016549110413, 0.0...   \n",
       "21421  [1.0521308183670044, 0.20958395302295685, 0.18...   \n",
       "\n",
       "                                    nearest_neighbour_re  \\\n",
       "17155  50|dedup_wf_001::8c24023a132b0d6122b94d4b53eb98a5   \n",
       "11045  50|dedup_wf_001::db769a33d3858cd2ccc6f7349ed189ce   \n",
       "11042  50|dedup_wf_001::9c55711230da264e622c9ae473e885c8   \n",
       "29791  50|dedup_wf_001::f50a2532e43a41e7f4828fce8c9dad8d   \n",
       "11029  50|doiboost____::0c70f4fe3e2b6ab68394bf0438ac0415   \n",
       "...                                                  ...   \n",
       "29286  50|dedup_wf_001::12d0e53af5647ad0590dcda0d20e42c4   \n",
       "11171  50|dedup_wf_001::67c8a4d9d91d5f3c79c6159bfe4bc14b   \n",
       "12121  50|dedup_wf_001::488ec5aeeec65b48ef0bf4be0a6b4544   \n",
       "18606  50|dedup_wf_001::1dc38e723f4731107c70ec6aa4ee598f   \n",
       "21421  50|dedup_wf_001::3afeba99461e22c261de2b6ccec5fb3c   \n",
       "\n",
       "       distance_to_nearest_neighbour_re  \\\n",
       "17155                      4.528645e-01   \n",
       "11045                      8.052525e-01   \n",
       "11042                      7.901516e-01   \n",
       "29791                      8.542215e-01   \n",
       "11029                      7.453155e-01   \n",
       "...                                 ...   \n",
       "29286                      6.808906e-01   \n",
       "11171                      7.340466e-01   \n",
       "12121                      7.279696e-01   \n",
       "18606                      2.107342e-08   \n",
       "21421                      5.432885e-01   \n",
       "\n",
       "                         nearest_neighbour_re_main_title  \\\n",
       "17155           Ocular biomarkers of Alzheimer’s disease   \n",
       "11045  Infection-induced resistance to experimental c...   \n",
       "11042  Cognitive impairment by antibiotic-induced gut...   \n",
       "29791  Structural and Functional Characterization of ...   \n",
       "11029  Deep learning enables sleep staging from photo...   \n",
       "...                                                  ...   \n",
       "29286  Neuroprotective effect of pyruvate and oxaloac...   \n",
       "11171  Monoaminergic control of brain states and sens...   \n",
       "12121  Cognitive neuroscience 2.0: building a cumulat...   \n",
       "18606  Image processing and analysis methods for the ...   \n",
       "21421  Transcranial magnetic stimulation and neuroima...   \n",
       "\n",
       "                                  nearest_neighbour_rp_a  \\\n",
       "17155  50|dedup_wf_001::1e9fe1b7eea6b50785e6ec61b91fa29f   \n",
       "11045  50|dedup_wf_001::1e9fe1b7eea6b50785e6ec61b91fa29f   \n",
       "11042  50|dedup_wf_001::1e9fe1b7eea6b50785e6ec61b91fa29f   \n",
       "29791  50|dedup_wf_001::1e9fe1b7eea6b50785e6ec61b91fa29f   \n",
       "11029  50|dedup_wf_001::1e9fe1b7eea6b50785e6ec61b91fa29f   \n",
       "...                                                  ...   \n",
       "29286  50|dedup_wf_001::63f499d252c997dfc7abe60c025f96e4   \n",
       "11171  50|doiboost____::81d5e94e714a66cfdd679dcb06215e04   \n",
       "12121  50|dedup_wf_001::af0c1bf885ee42361d792f3ca7f0ba66   \n",
       "18606  50|dedup_wf_001::d928f3e2cc0eef119321ec977e8d6593   \n",
       "21421  50|dedup_wf_001::7f9aa682c445e4a641884d7b10942d6d   \n",
       "\n",
       "                       nearest_neighbour_rp_a_main_title  \\\n",
       "17155  White-matter structure in the right hemisphere...   \n",
       "11045  White-matter structure in the right hemisphere...   \n",
       "11042  White-matter structure in the right hemisphere...   \n",
       "29791  White-matter structure in the right hemisphere...   \n",
       "11029  White-matter structure in the right hemisphere...   \n",
       "...                                                  ...   \n",
       "29286  Altered functional and structural brain networ...   \n",
       "11171  Electrocorticography Evidence of Tactile Respo...   \n",
       "12121  MVPA to enhance the study of rare cognitive ev...   \n",
       "18606  Adolescents' Neural Processing of Risky Decisi...   \n",
       "21421  White-matter vascular lesions correlate with a...   \n",
       "\n",
       "       distance_to_nearest_neighbour_rp_a  \n",
       "17155                            0.000000  \n",
       "11045                            0.000000  \n",
       "11042                            0.000000  \n",
       "29791                            0.000000  \n",
       "11029                            0.000000  \n",
       "...                                   ...  \n",
       "29286                            0.752503  \n",
       "11171                            0.773966  \n",
       "12121                            0.783141  \n",
       "18606                            0.785923  \n",
       "21421                            0.818191  \n",
       "\n",
       "[34312 rows x 11 columns]"
      ],
      "text/html": "<div>\n<style scoped>\n    .dataframe tbody tr th:only-of-type {\n        vertical-align: middle;\n    }\n\n    .dataframe tbody tr th {\n        vertical-align: top;\n    }\n\n    .dataframe thead th {\n        text-align: right;\n    }\n</style>\n<table border=\"1\" class=\"dataframe\">\n  <thead>\n    <tr style=\"text-align: right;\">\n      <th></th>\n      <th>n.id</th>\n      <th>n.main_title</th>\n      <th>n.__fastrp_embedding</th>\n      <th>n.__fastrp_resources_and_keyword</th>\n      <th>n.r_embeddings</th>\n      <th>nearest_neighbour_re</th>\n      <th>distance_to_nearest_neighbour_re</th>\n      <th>nearest_neighbour_re_main_title</th>\n      <th>nearest_neighbour_rp_a</th>\n      <th>nearest_neighbour_rp_a_main_title</th>\n      <th>distance_to_nearest_neighbour_rp_a</th>\n    </tr>\n  </thead>\n  <tbody>\n    <tr>\n      <th>17155</th>\n      <td>50|dedup_wf_001::fb289c8a3cc400f779332b97946a5608</td>\n      <td>The Eye as a Biomarker for Alzheimer’s Disease</td>\n      <td>[0.0, 0.0, 0.0, 0.0, 0.0, 0.0, 0.0, 0.0, 0.0, ...</td>\n      <td>[0.06700251996517181, -6.521621465083172e-09, ...</td>\n      <td>[-0.46835947036743164, -1.1381034851074219, 0....</td>\n      <td>50|dedup_wf_001::8c24023a132b0d6122b94d4b53eb98a5</td>\n      <td>4.528645e-01</td>\n      <td>Ocular biomarkers of Alzheimer’s disease</td>\n      <td>50|dedup_wf_001::1e9fe1b7eea6b50785e6ec61b91fa29f</td>\n      <td>White-matter structure in the right hemisphere...</td>\n      <td>0.000000</td>\n    </tr>\n    <tr>\n      <th>11045</th>\n      <td>50|dedup_wf_001::62e6e092431be32638ba562b6ac1e04e</td>\n      <td>The Flavonoid Isoquercitrin Precludes Initiati...</td>\n      <td>[0.0, 0.0, 0.0, 0.0, 0.0, 0.0, 0.0, 0.0, 0.0, ...</td>\n      <td>[0.10585122555494308, -0.026462800800800323, 0...</td>\n      <td>[0.24246859550476074, -0.4322826564311981, 0.5...</td>\n      <td>50|dedup_wf_001::db769a33d3858cd2ccc6f7349ed189ce</td>\n      <td>8.052525e-01</td>\n      <td>Infection-induced resistance to experimental c...</td>\n      <td>50|dedup_wf_001::1e9fe1b7eea6b50785e6ec61b91fa29f</td>\n      <td>White-matter structure in the right hemisphere...</td>\n      <td>0.000000</td>\n    </tr>\n    <tr>\n      <th>11042</th>\n      <td>50|dedup_wf_001::5e96c8bc0f0320047766d591e995b6bd</td>\n      <td>GABA Modulating Bacteria of the Human Gut Micr...</td>\n      <td>[0.0, 0.0, 0.0, 0.0, 0.0, 0.0, 0.0, 0.0, 0.0, ...</td>\n      <td>[-0.05248638242483139, 5.108708567291842e-09, ...</td>\n      <td>[0.36844417452812195, 0.2876003682613373, -0.2...</td>\n      <td>50|dedup_wf_001::9c55711230da264e622c9ae473e885c8</td>\n      <td>7.901516e-01</td>\n      <td>Cognitive impairment by antibiotic-induced gut...</td>\n      <td>50|dedup_wf_001::1e9fe1b7eea6b50785e6ec61b91fa29f</td>\n      <td>White-matter structure in the right hemisphere...</td>\n      <td>0.000000</td>\n    </tr>\n    <tr>\n      <th>29791</th>\n      <td>50|dedup_wf_001::d30fe0360a8694e19660e4736e03e87d</td>\n      <td>Identificación y caracterización de un ADNc qu...</td>\n      <td>[0.0, 0.0, 0.0, 0.0, 0.0, 0.0, 0.0, 0.0, 0.0, ...</td>\n      <td>[0.03242722153663635, 0.0648544430732727, 0.06...</td>\n      <td>[0.2074400633573532, -0.3540390729904175, -0.3...</td>\n      <td>50|dedup_wf_001::f50a2532e43a41e7f4828fce8c9dad8d</td>\n      <td>8.542215e-01</td>\n      <td>Structural and Functional Characterization of ...</td>\n      <td>50|dedup_wf_001::1e9fe1b7eea6b50785e6ec61b91fa29f</td>\n      <td>White-matter structure in the right hemisphere...</td>\n      <td>0.000000</td>\n    </tr>\n    <tr>\n      <th>11029</th>\n      <td>50|dedup_wf_001::4b0e729996535e7c5f568f5ab27cd0b6</td>\n      <td>Eulerian videography technology improves class...</td>\n      <td>[0.0, 0.0, 0.0, 0.0, 0.0, 0.0, 0.0, 0.0, 0.0, ...</td>\n      <td>[-0.13461071252822876, 0.10095804184675217, -0...</td>\n      <td>[-0.2558005154132843, -0.2689337730407715, 0.1...</td>\n      <td>50|doiboost____::0c70f4fe3e2b6ab68394bf0438ac0415</td>\n      <td>7.453155e-01</td>\n      <td>Deep learning enables sleep staging from photo...</td>\n      <td>50|dedup_wf_001::1e9fe1b7eea6b50785e6ec61b91fa29f</td>\n      <td>White-matter structure in the right hemisphere...</td>\n      <td>0.000000</td>\n    </tr>\n    <tr>\n      <th>...</th>\n      <td>...</td>\n      <td>...</td>\n      <td>...</td>\n      <td>...</td>\n      <td>...</td>\n      <td>...</td>\n      <td>...</td>\n      <td>...</td>\n      <td>...</td>\n      <td>...</td>\n      <td>...</td>\n    </tr>\n    <tr>\n      <th>29286</th>\n      <td>50|dedup_wf_001::cce4f2758e12bd25dce981fd7058fd7e</td>\n      <td>ECoG STUDIES OF VALPROATE, CARBAMAZEPINE AND H...</td>\n      <td>[0.09599552303552628, 0.20644429326057434, -0....</td>\n      <td>[-0.16874182224273682, 0.03374836593866348, 0....</td>\n      <td>[-0.317645400762558, -0.15578943490982056, 0.0...</td>\n      <td>50|dedup_wf_001::12d0e53af5647ad0590dcda0d20e42c4</td>\n      <td>6.808906e-01</td>\n      <td>Neuroprotective effect of pyruvate and oxaloac...</td>\n      <td>50|dedup_wf_001::63f499d252c997dfc7abe60c025f96e4</td>\n      <td>Altered functional and structural brain networ...</td>\n      <td>0.752503</td>\n    </tr>\n    <tr>\n      <th>11171</th>\n      <td>50|doiboost____::fb44aeb6d15c0c0e2a0e98940729b371</td>\n      <td>Neuroactivation imaging using a monogenic fram...</td>\n      <td>[-0.049654994159936905, 0.5624501705169678, -0...</td>\n      <td>[-0.14586499333381653, -0.18233123421669006, 0...</td>\n      <td>[0.1833518147468567, -0.1455278992652893, 0.11...</td>\n      <td>50|dedup_wf_001::67c8a4d9d91d5f3c79c6159bfe4bc14b</td>\n      <td>7.340466e-01</td>\n      <td>Monoaminergic control of brain states and sens...</td>\n      <td>50|doiboost____::81d5e94e714a66cfdd679dcb06215e04</td>\n      <td>Electrocorticography Evidence of Tactile Respo...</td>\n      <td>0.773966</td>\n    </tr>\n    <tr>\n      <th>12121</th>\n      <td>50|dedup_wf_001::90161836ce116af83341770f4c70d6e4</td>\n      <td>Toward discovery science of human brain function</td>\n      <td>[0.5331141352653503, -0.8062261343002319, 1.11...</td>\n      <td>[0.03874921426177025, -0.0774984285235405, 0.1...</td>\n      <td>[0.2769312262535095, 0.14422354102134705, 0.32...</td>\n      <td>50|dedup_wf_001::488ec5aeeec65b48ef0bf4be0a6b4544</td>\n      <td>7.279696e-01</td>\n      <td>Cognitive neuroscience 2.0: building a cumulat...</td>\n      <td>50|dedup_wf_001::af0c1bf885ee42361d792f3ca7f0ba66</td>\n      <td>MVPA to enhance the study of rare cognitive ev...</td>\n      <td>0.783141</td>\n    </tr>\n    <tr>\n      <th>18606</th>\n      <td>50|doiboost____::e81a780969f06251017b6ff200173006</td>\n      <td>Image processing and analysis methods for the ...</td>\n      <td>[1.3218730688095093, 0.2391142100095749, 0.713...</td>\n      <td>[-0.0789337009191513, -0.11840055882930756, -0...</td>\n      <td>[-0.1874198168516159, -0.8372016549110413, 0.0...</td>\n      <td>50|dedup_wf_001::1dc38e723f4731107c70ec6aa4ee598f</td>\n      <td>2.107342e-08</td>\n      <td>Image processing and analysis methods for the ...</td>\n      <td>50|dedup_wf_001::d928f3e2cc0eef119321ec977e8d6593</td>\n      <td>Adolescents' Neural Processing of Risky Decisi...</td>\n      <td>0.785923</td>\n    </tr>\n    <tr>\n      <th>21421</th>\n      <td>50|dedup_wf_001::052b46899223b156ebcec27600ed0a03</td>\n      <td>Consensus paper: combining transcranial stimul...</td>\n      <td>[0.4844382703304291, -0.9601823091506958, 0.13...</td>\n      <td>[-0.06213698163628578, 0.0, 0.1864109337329864...</td>\n      <td>[1.0521308183670044, 0.20958395302295685, 0.18...</td>\n      <td>50|dedup_wf_001::3afeba99461e22c261de2b6ccec5fb3c</td>\n      <td>5.432885e-01</td>\n      <td>Transcranial magnetic stimulation and neuroima...</td>\n      <td>50|dedup_wf_001::7f9aa682c445e4a641884d7b10942d6d</td>\n      <td>White-matter vascular lesions correlate with a...</td>\n      <td>0.818191</td>\n    </tr>\n  </tbody>\n</table>\n<p>34312 rows × 11 columns</p>\n</div>"
     },
     "metadata": {},
     "execution_count": 22
    }
   ],
   "source": [
    "resources.sort_values(by=['distance_to_nearest_neighbour_rp_a'], ascending=True) # i primi titoli sono comunque simili"
   ]
  },
  {
   "cell_type": "code",
   "execution_count": 23,
   "metadata": {},
   "outputs": [],
   "source": [
    "resources.sort_values(by=['distance_to_nearest_neighbour_rp_a'], ascending=True).to_csv('resource_embeddings_similarity_rp.csv')"
   ]
  },
  {
   "cell_type": "code",
   "execution_count": 24,
   "metadata": {},
   "outputs": [
    {
     "output_type": "stream",
     "name": "stdout",
     "text": [
      "12\n"
     ]
    }
   ],
   "source": [
    "X = np.array(resources[\"n.__fastrp_resources_and_keyword\"].to_list())\n",
    "unq, count = np.unique(X, axis=0, return_counts=True)\n",
    "print(count.max()) # davvero tanti con lo stesso embeddings\n",
    "l2_norm = np.sum(np.abs(X)**2,axis=-1)**(1./2)\n",
    "l2_norm[l2_norm == 0] = 1\n",
    "l2_norm.max()\n",
    "X_norm = X / l2_norm[:, np.newaxis]\n",
    "l2_norm = np.sum(np.abs(X_norm)**2,axis=-1)**(1./2)\n",
    "l2_norm.max()\n",
    "neigh = NearestNeighbors(n_neighbors=2, metric='euclidean')\n",
    "neigh.fit(X_norm)\n",
    "distances = neigh.kneighbors(X_norm, 2, return_distance=True)\n",
    "distances_second = distances[0][:, 1]\n",
    "indices_second = distances[1][:, 1]\n",
    "nearest_neighbour_df = resources[['n.id', 'n.main_title']].iloc[indices_second]\n",
    "resources['nearest_neighbour_rp_keyword'] = nearest_neighbour_df['n.id'].to_list()\n",
    "resources['nearest_neighbour_rp_keyword_main_title'] = nearest_neighbour_df['n.main_title'].to_list()\n",
    "resources['distance_to_nearest_neighbour_rp_keyword'] = distances_second"
   ]
  },
  {
   "cell_type": "code",
   "execution_count": 25,
   "metadata": {},
   "outputs": [
    {
     "output_type": "execute_result",
     "data": {
      "text/plain": [
       "                                                    n.id  \\\n",
       "1655   50|dedup_wf_001::373f6f113e02d1d3749e4cfa174f7c6a   \n",
       "33922  50|doiboost____::afaba98ddd8df05df622113e3460248d   \n",
       "7042   50|doiboost____::29f0237f080f89bd290566a880c1377c   \n",
       "6551   50|dedup_wf_001::9ee88460b95f7faf614a1dbed0ca3ec7   \n",
       "22932  50|dedup_wf_001::1ce25fec8783a3bc13c979fb715a80d6   \n",
       "...                                                  ...   \n",
       "3693   50|dedup_wf_001::37f7c97d283afe26e6d529ab2ba9f10a   \n",
       "27613  50|dedup_wf_001::e7e4643d7896701958a06ac5f512bc91   \n",
       "393    50|dedup_wf_001::49ebd76ebf4813f4a83b0481ef58ab97   \n",
       "33096  50|dedup_wf_001::b63a8519c331096899c9c1369028c6a4   \n",
       "7210   50|dedup_wf_001::010c732d1c6c758f64718bb18a237dee   \n",
       "\n",
       "                                            n.main_title  \\\n",
       "1655                           11. Machine Consciousness   \n",
       "33922  Image segmentation based on Frequency domain o...   \n",
       "7042   Applications of multiscale segmentation and cl...   \n",
       "6551            7. Information Theories of Consciousness   \n",
       "22932                4. The Measurement of Consciousness   \n",
       "...                                                  ...   \n",
       "3693   When family looks strange and strangers look n...   \n",
       "27613  Uniformity, specificity and variability of cor...   \n",
       "393    The BBSome Controls Energy Homeostasis by Medi...   \n",
       "33096               Scale-Free Brain Functional Networks   \n",
       "7210                                 DOPA decarboxylase.   \n",
       "\n",
       "                                    n.__fastrp_embedding  \\\n",
       "1655   [0.46713292598724365, 1.3510477542877197, 0.93...   \n",
       "33922  [-0.651212215423584, -2.0908501148223877, -0.6...   \n",
       "7042   [-0.7148295044898987, -2.153642416000366, -0.7...   \n",
       "6551   [0.46717774868011475, 1.3511306047439575, 0.97...   \n",
       "22932  [0.4691685438156128, 1.355076551437378, 0.9819...   \n",
       "...                                                  ...   \n",
       "3693   [-0.2911837100982666, 0.11807271838188171, -0....   \n",
       "27613  [0.9031261801719666, -0.773048460483551, 1.088...   \n",
       "393    [0.0, 0.0, 0.0, 0.0, 0.0, 0.0, 0.0, 0.0, 0.0, ...   \n",
       "33096  [-0.5553407669067383, -0.00024266322725452483,...   \n",
       "7210   [-0.8803684115409851, 0.96663498878479, -0.240...   \n",
       "\n",
       "                        n.__fastrp_resources_and_keyword  \\\n",
       "1655   [0.0, 0.10127393156290054, -0.0506369657814502...   \n",
       "33922  [0.0, 0.0, 0.0, 0.0, 0.0, 0.0, 0.0, 0.0, 0.0, ...   \n",
       "7042   [0.0, 0.0, 0.0, 0.0, 0.0, 0.0, 0.0, 0.0, 0.0, ...   \n",
       "6551   [0.0, 0.10127393156290054, -0.0506369657814502...   \n",
       "22932  [0.0, 0.10127393156290054, -0.0506369657814502...   \n",
       "...                                                  ...   \n",
       "3693   [-0.15321284532546997, -0.09192771464586258, 0...   \n",
       "27613  [-0.0855921059846878, 0.042796049267053604, 0....   \n",
       "393    [-0.19129681587219238, -0.13664059340953827, -...   \n",
       "33096  [0.0708436369895935, -0.03542181849479675, 0.1...   \n",
       "7210   [0.055470019578933716, 0.055470019578933716, -...   \n",
       "\n",
       "                                          n.r_embeddings  \\\n",
       "1655   [0.15762940049171448, -0.04268881306052208, -0...   \n",
       "33922  [1.133258581161499, -0.3103930354118347, -0.22...   \n",
       "7042   [0.8204248547554016, -0.9004565477371216, 0.24...   \n",
       "6551   [-0.12249121069908142, -0.37973785400390625, 0...   \n",
       "22932  [0.3090241551399231, 0.2599884271621704, 0.767...   \n",
       "...                                                  ...   \n",
       "3693   [-0.022974306717514992, -0.25471898913383484, ...   \n",
       "27613  [0.8312994837760925, -0.5692006349563599, 0.43...   \n",
       "393    [-0.2960711419582367, 0.3843090236186981, 0.08...   \n",
       "33096  [-0.024111540988087654, -0.5054394602775574, -...   \n",
       "7210   [-0.16159504652023315, 0.30189433693885803, 0....   \n",
       "\n",
       "                                    nearest_neighbour_re  \\\n",
       "1655   50|dedup_wf_001::304a8e4179dbb520a571331c37d2b936   \n",
       "33922  50|dedup_wf_001::558c4a58a2a47524db9569eef5994db2   \n",
       "7042   50|doiboost____::a62f3885332127b2dddcdd2e6f02df76   \n",
       "6551   50|dedup_wf_001::4accfaa9095fc6c8bbcd70653b84b7ca   \n",
       "22932  50|doiboost____::01b3c1647a242535fe482968e1e7a1dc   \n",
       "...                                                  ...   \n",
       "3693   50|dedup_wf_001::5a24a85c39210ab754cb2072ded03669   \n",
       "27613  50|doiboost____::f76f8a3408a3ec4cf44258e8f83b9909   \n",
       "393    50|dedup_wf_001::767b8713548854d534495e030ad0c0d5   \n",
       "33096  50|dedup_wf_001::267e20137420bb8a731a84da7186769f   \n",
       "7210   50|dedup_wf_001::5f2ccb80dc49d8698c67a0a13fd32588   \n",
       "\n",
       "       distance_to_nearest_neighbour_re  \\\n",
       "1655                           0.914100   \n",
       "33922                          0.786584   \n",
       "7042                           0.803135   \n",
       "6551                           0.773848   \n",
       "22932                          0.857560   \n",
       "...                                 ...   \n",
       "3693                           0.889139   \n",
       "27613                          0.678657   \n",
       "393                            0.772233   \n",
       "33096                          0.684575   \n",
       "7210                           0.783635   \n",
       "\n",
       "                         nearest_neighbour_re_main_title  \\\n",
       "1655   Characterization of A11 Neurons Projecting to ...   \n",
       "33922  Comparison and Evaluation of Retrospective Int...   \n",
       "7042   Back-Projection Cortical Potential Imaging Usi...   \n",
       "6551   Prestimulus Oscillatory Phase at 7 Hz Gates Co...   \n",
       "22932                      Calculations of consciousness   \n",
       "...                                                  ...   \n",
       "3693   Event-related potential (ERP) correlates of fa...   \n",
       "27613  Modulation of corticomuscular coherence by per...   \n",
       "393    Automated Protein Localization of Blood Brain ...   \n",
       "33096  Scale-free brain activity: past, present, and ...   \n",
       "7210   Delayed O-methylation of L-DOPA in MB-COMT-def...   \n",
       "\n",
       "                                  nearest_neighbour_rp_a  \\\n",
       "1655   50|dedup_wf_001::1d6e29c516c426097505f2594da0ce16   \n",
       "33922  50|doiboost____::e29443e0cf7d7ad41dead03b741c16e0   \n",
       "7042   50|doiboost____::3e20075c2d870a91e8a376d711c3d95e   \n",
       "6551   50|dedup_wf_001::1d6e29c516c426097505f2594da0ce16   \n",
       "22932  50|dedup_wf_001::9232911fb4ccc1e460a645c95bf7b67d   \n",
       "...                                                  ...   \n",
       "3693   50|dedup_wf_001::ffd01c8514f98f3594e35ceedf94678c   \n",
       "27613  50|doiboost____::fcf76fe716aac8ce83451de71b24310c   \n",
       "393    50|dedup_wf_001::1e9fe1b7eea6b50785e6ec61b91fa29f   \n",
       "33096  50|dedup_wf_001::a2aacba033d97ee3b560dad5adcbb55f   \n",
       "7210   50|dedup_wf_001::6f694f5ad4a235ac9c4fc70632cb8149   \n",
       "\n",
       "                       nearest_neighbour_rp_a_main_title  \\\n",
       "1655   10. Modification and Enhancement of Consciousness   \n",
       "33922  Classification of Cells Based on Scale-space M...   \n",
       "7042   Scale-space based segmentation of cells in fun...   \n",
       "6551   10. Modification and Enhancement of Consciousness   \n",
       "22932                    Human and Machine Consciousness   \n",
       "...                                                  ...   \n",
       "3693   The Thatcher illusion reveals orientation depe...   \n",
       "27613  The PUPS-MOSIX Environment: A Homeostatic Envi...   \n",
       "393    White-matter structure in the right hemisphere...   \n",
       "33096  Ising-like dynamics in large-scale functional ...   \n",
       "7210           Imaging biomarkers in Parkinson's disease   \n",
       "\n",
       "       distance_to_nearest_neighbour_rp_a  \\\n",
       "1655                             0.034696   \n",
       "33922                            0.053737   \n",
       "7042                             0.052096   \n",
       "6551                             0.034438   \n",
       "22932                            0.035988   \n",
       "...                                   ...   \n",
       "3693                             0.028754   \n",
       "27613                            0.025613   \n",
       "393                              0.000000   \n",
       "33096                            0.027545   \n",
       "7210                             0.014543   \n",
       "\n",
       "                            nearest_neighbour_rp_keyword  \\\n",
       "1655   50|dedup_wf_001::2f5230708a1f33604175514a3f28f023   \n",
       "33922  50|doiboost____::58e6df3250ada7006fdcfd5687f51505   \n",
       "7042   50|doiboost____::58e6df3250ada7006fdcfd5687f51505   \n",
       "6551   50|dedup_wf_001::2f5230708a1f33604175514a3f28f023   \n",
       "22932  50|dedup_wf_001::2f5230708a1f33604175514a3f28f023   \n",
       "...                                                  ...   \n",
       "3693   50|doiboost____::29f0237f080f89bd290566a880c1377c   \n",
       "27613  50|doiboost____::29f0237f080f89bd290566a880c1377c   \n",
       "393    50|doiboost____::29f0237f080f89bd290566a880c1377c   \n",
       "33096  50|doiboost____::29f0237f080f89bd290566a880c1377c   \n",
       "7210   50|doiboost____::29f0237f080f89bd290566a880c1377c   \n",
       "\n",
       "                 nearest_neighbour_rp_keyword_main_title  \\\n",
       "1655     5. From Correlates to Theories of Consciousness   \n",
       "33922  Accurate detection of dysmorphic nuclei in neu...   \n",
       "7042   Accurate detection of dysmorphic nuclei in neu...   \n",
       "6551     5. From Correlates to Theories of Consciousness   \n",
       "22932    5. From Correlates to Theories of Consciousness   \n",
       "...                                                  ...   \n",
       "3693   Applications of multiscale segmentation and cl...   \n",
       "27613  Applications of multiscale segmentation and cl...   \n",
       "393    Applications of multiscale segmentation and cl...   \n",
       "33096  Applications of multiscale segmentation and cl...   \n",
       "7210   Applications of multiscale segmentation and cl...   \n",
       "\n",
       "       distance_to_nearest_neighbour_rp_keyword  \n",
       "1655                                        0.0  \n",
       "33922                                       0.0  \n",
       "7042                                        0.0  \n",
       "6551                                        0.0  \n",
       "22932                                       0.0  \n",
       "...                                         ...  \n",
       "3693                                        1.0  \n",
       "27613                                       1.0  \n",
       "393                                         1.0  \n",
       "33096                                       1.0  \n",
       "7210                                        1.0  \n",
       "\n",
       "[34312 rows x 14 columns]"
      ],
      "text/html": "<div>\n<style scoped>\n    .dataframe tbody tr th:only-of-type {\n        vertical-align: middle;\n    }\n\n    .dataframe tbody tr th {\n        vertical-align: top;\n    }\n\n    .dataframe thead th {\n        text-align: right;\n    }\n</style>\n<table border=\"1\" class=\"dataframe\">\n  <thead>\n    <tr style=\"text-align: right;\">\n      <th></th>\n      <th>n.id</th>\n      <th>n.main_title</th>\n      <th>n.__fastrp_embedding</th>\n      <th>n.__fastrp_resources_and_keyword</th>\n      <th>n.r_embeddings</th>\n      <th>nearest_neighbour_re</th>\n      <th>distance_to_nearest_neighbour_re</th>\n      <th>nearest_neighbour_re_main_title</th>\n      <th>nearest_neighbour_rp_a</th>\n      <th>nearest_neighbour_rp_a_main_title</th>\n      <th>distance_to_nearest_neighbour_rp_a</th>\n      <th>nearest_neighbour_rp_keyword</th>\n      <th>nearest_neighbour_rp_keyword_main_title</th>\n      <th>distance_to_nearest_neighbour_rp_keyword</th>\n    </tr>\n  </thead>\n  <tbody>\n    <tr>\n      <th>1655</th>\n      <td>50|dedup_wf_001::373f6f113e02d1d3749e4cfa174f7c6a</td>\n      <td>11. Machine Consciousness</td>\n      <td>[0.46713292598724365, 1.3510477542877197, 0.93...</td>\n      <td>[0.0, 0.10127393156290054, -0.0506369657814502...</td>\n      <td>[0.15762940049171448, -0.04268881306052208, -0...</td>\n      <td>50|dedup_wf_001::304a8e4179dbb520a571331c37d2b936</td>\n      <td>0.914100</td>\n      <td>Characterization of A11 Neurons Projecting to ...</td>\n      <td>50|dedup_wf_001::1d6e29c516c426097505f2594da0ce16</td>\n      <td>10. Modification and Enhancement of Consciousness</td>\n      <td>0.034696</td>\n      <td>50|dedup_wf_001::2f5230708a1f33604175514a3f28f023</td>\n      <td>5. From Correlates to Theories of Consciousness</td>\n      <td>0.0</td>\n    </tr>\n    <tr>\n      <th>33922</th>\n      <td>50|doiboost____::afaba98ddd8df05df622113e3460248d</td>\n      <td>Image segmentation based on Frequency domain o...</td>\n      <td>[-0.651212215423584, -2.0908501148223877, -0.6...</td>\n      <td>[0.0, 0.0, 0.0, 0.0, 0.0, 0.0, 0.0, 0.0, 0.0, ...</td>\n      <td>[1.133258581161499, -0.3103930354118347, -0.22...</td>\n      <td>50|dedup_wf_001::558c4a58a2a47524db9569eef5994db2</td>\n      <td>0.786584</td>\n      <td>Comparison and Evaluation of Retrospective Int...</td>\n      <td>50|doiboost____::e29443e0cf7d7ad41dead03b741c16e0</td>\n      <td>Classification of Cells Based on Scale-space M...</td>\n      <td>0.053737</td>\n      <td>50|doiboost____::58e6df3250ada7006fdcfd5687f51505</td>\n      <td>Accurate detection of dysmorphic nuclei in neu...</td>\n      <td>0.0</td>\n    </tr>\n    <tr>\n      <th>7042</th>\n      <td>50|doiboost____::29f0237f080f89bd290566a880c1377c</td>\n      <td>Applications of multiscale segmentation and cl...</td>\n      <td>[-0.7148295044898987, -2.153642416000366, -0.7...</td>\n      <td>[0.0, 0.0, 0.0, 0.0, 0.0, 0.0, 0.0, 0.0, 0.0, ...</td>\n      <td>[0.8204248547554016, -0.9004565477371216, 0.24...</td>\n      <td>50|doiboost____::a62f3885332127b2dddcdd2e6f02df76</td>\n      <td>0.803135</td>\n      <td>Back-Projection Cortical Potential Imaging Usi...</td>\n      <td>50|doiboost____::3e20075c2d870a91e8a376d711c3d95e</td>\n      <td>Scale-space based segmentation of cells in fun...</td>\n      <td>0.052096</td>\n      <td>50|doiboost____::58e6df3250ada7006fdcfd5687f51505</td>\n      <td>Accurate detection of dysmorphic nuclei in neu...</td>\n      <td>0.0</td>\n    </tr>\n    <tr>\n      <th>6551</th>\n      <td>50|dedup_wf_001::9ee88460b95f7faf614a1dbed0ca3ec7</td>\n      <td>7. Information Theories of Consciousness</td>\n      <td>[0.46717774868011475, 1.3511306047439575, 0.97...</td>\n      <td>[0.0, 0.10127393156290054, -0.0506369657814502...</td>\n      <td>[-0.12249121069908142, -0.37973785400390625, 0...</td>\n      <td>50|dedup_wf_001::4accfaa9095fc6c8bbcd70653b84b7ca</td>\n      <td>0.773848</td>\n      <td>Prestimulus Oscillatory Phase at 7 Hz Gates Co...</td>\n      <td>50|dedup_wf_001::1d6e29c516c426097505f2594da0ce16</td>\n      <td>10. Modification and Enhancement of Consciousness</td>\n      <td>0.034438</td>\n      <td>50|dedup_wf_001::2f5230708a1f33604175514a3f28f023</td>\n      <td>5. From Correlates to Theories of Consciousness</td>\n      <td>0.0</td>\n    </tr>\n    <tr>\n      <th>22932</th>\n      <td>50|dedup_wf_001::1ce25fec8783a3bc13c979fb715a80d6</td>\n      <td>4. The Measurement of Consciousness</td>\n      <td>[0.4691685438156128, 1.355076551437378, 0.9819...</td>\n      <td>[0.0, 0.10127393156290054, -0.0506369657814502...</td>\n      <td>[0.3090241551399231, 0.2599884271621704, 0.767...</td>\n      <td>50|doiboost____::01b3c1647a242535fe482968e1e7a1dc</td>\n      <td>0.857560</td>\n      <td>Calculations of consciousness</td>\n      <td>50|dedup_wf_001::9232911fb4ccc1e460a645c95bf7b67d</td>\n      <td>Human and Machine Consciousness</td>\n      <td>0.035988</td>\n      <td>50|dedup_wf_001::2f5230708a1f33604175514a3f28f023</td>\n      <td>5. From Correlates to Theories of Consciousness</td>\n      <td>0.0</td>\n    </tr>\n    <tr>\n      <th>...</th>\n      <td>...</td>\n      <td>...</td>\n      <td>...</td>\n      <td>...</td>\n      <td>...</td>\n      <td>...</td>\n      <td>...</td>\n      <td>...</td>\n      <td>...</td>\n      <td>...</td>\n      <td>...</td>\n      <td>...</td>\n      <td>...</td>\n      <td>...</td>\n    </tr>\n    <tr>\n      <th>3693</th>\n      <td>50|dedup_wf_001::37f7c97d283afe26e6d529ab2ba9f10a</td>\n      <td>When family looks strange and strangers look n...</td>\n      <td>[-0.2911837100982666, 0.11807271838188171, -0....</td>\n      <td>[-0.15321284532546997, -0.09192771464586258, 0...</td>\n      <td>[-0.022974306717514992, -0.25471898913383484, ...</td>\n      <td>50|dedup_wf_001::5a24a85c39210ab754cb2072ded03669</td>\n      <td>0.889139</td>\n      <td>Event-related potential (ERP) correlates of fa...</td>\n      <td>50|dedup_wf_001::ffd01c8514f98f3594e35ceedf94678c</td>\n      <td>The Thatcher illusion reveals orientation depe...</td>\n      <td>0.028754</td>\n      <td>50|doiboost____::29f0237f080f89bd290566a880c1377c</td>\n      <td>Applications of multiscale segmentation and cl...</td>\n      <td>1.0</td>\n    </tr>\n    <tr>\n      <th>27613</th>\n      <td>50|dedup_wf_001::e7e4643d7896701958a06ac5f512bc91</td>\n      <td>Uniformity, specificity and variability of cor...</td>\n      <td>[0.9031261801719666, -0.773048460483551, 1.088...</td>\n      <td>[-0.0855921059846878, 0.042796049267053604, 0....</td>\n      <td>[0.8312994837760925, -0.5692006349563599, 0.43...</td>\n      <td>50|doiboost____::f76f8a3408a3ec4cf44258e8f83b9909</td>\n      <td>0.678657</td>\n      <td>Modulation of corticomuscular coherence by per...</td>\n      <td>50|doiboost____::fcf76fe716aac8ce83451de71b24310c</td>\n      <td>The PUPS-MOSIX Environment: A Homeostatic Envi...</td>\n      <td>0.025613</td>\n      <td>50|doiboost____::29f0237f080f89bd290566a880c1377c</td>\n      <td>Applications of multiscale segmentation and cl...</td>\n      <td>1.0</td>\n    </tr>\n    <tr>\n      <th>393</th>\n      <td>50|dedup_wf_001::49ebd76ebf4813f4a83b0481ef58ab97</td>\n      <td>The BBSome Controls Energy Homeostasis by Medi...</td>\n      <td>[0.0, 0.0, 0.0, 0.0, 0.0, 0.0, 0.0, 0.0, 0.0, ...</td>\n      <td>[-0.19129681587219238, -0.13664059340953827, -...</td>\n      <td>[-0.2960711419582367, 0.3843090236186981, 0.08...</td>\n      <td>50|dedup_wf_001::767b8713548854d534495e030ad0c0d5</td>\n      <td>0.772233</td>\n      <td>Automated Protein Localization of Blood Brain ...</td>\n      <td>50|dedup_wf_001::1e9fe1b7eea6b50785e6ec61b91fa29f</td>\n      <td>White-matter structure in the right hemisphere...</td>\n      <td>0.000000</td>\n      <td>50|doiboost____::29f0237f080f89bd290566a880c1377c</td>\n      <td>Applications of multiscale segmentation and cl...</td>\n      <td>1.0</td>\n    </tr>\n    <tr>\n      <th>33096</th>\n      <td>50|dedup_wf_001::b63a8519c331096899c9c1369028c6a4</td>\n      <td>Scale-Free Brain Functional Networks</td>\n      <td>[-0.5553407669067383, -0.00024266322725452483,...</td>\n      <td>[0.0708436369895935, -0.03542181849479675, 0.1...</td>\n      <td>[-0.024111540988087654, -0.5054394602775574, -...</td>\n      <td>50|dedup_wf_001::267e20137420bb8a731a84da7186769f</td>\n      <td>0.684575</td>\n      <td>Scale-free brain activity: past, present, and ...</td>\n      <td>50|dedup_wf_001::a2aacba033d97ee3b560dad5adcbb55f</td>\n      <td>Ising-like dynamics in large-scale functional ...</td>\n      <td>0.027545</td>\n      <td>50|doiboost____::29f0237f080f89bd290566a880c1377c</td>\n      <td>Applications of multiscale segmentation and cl...</td>\n      <td>1.0</td>\n    </tr>\n    <tr>\n      <th>7210</th>\n      <td>50|dedup_wf_001::010c732d1c6c758f64718bb18a237dee</td>\n      <td>DOPA decarboxylase.</td>\n      <td>[-0.8803684115409851, 0.96663498878479, -0.240...</td>\n      <td>[0.055470019578933716, 0.055470019578933716, -...</td>\n      <td>[-0.16159504652023315, 0.30189433693885803, 0....</td>\n      <td>50|dedup_wf_001::5f2ccb80dc49d8698c67a0a13fd32588</td>\n      <td>0.783635</td>\n      <td>Delayed O-methylation of L-DOPA in MB-COMT-def...</td>\n      <td>50|dedup_wf_001::6f694f5ad4a235ac9c4fc70632cb8149</td>\n      <td>Imaging biomarkers in Parkinson's disease</td>\n      <td>0.014543</td>\n      <td>50|doiboost____::29f0237f080f89bd290566a880c1377c</td>\n      <td>Applications of multiscale segmentation and cl...</td>\n      <td>1.0</td>\n    </tr>\n  </tbody>\n</table>\n<p>34312 rows × 14 columns</p>\n</div>"
     },
     "metadata": {},
     "execution_count": 25
    }
   ],
   "source": [
    "resources.sort_values(by=['distance_to_nearest_neighbour_rp_keyword'], ascending=True) # i primi titoli sono comunque simili"
   ]
  },
  {
   "cell_type": "code",
   "execution_count": 26,
   "metadata": {},
   "outputs": [],
   "source": [
    "resources['combined_distance'] = resources['distance_to_nearest_neighbour_re'] + resources['distance_to_nearest_neighbour_rp_a'] + resources['distance_to_nearest_neighbour_rp_keyword']"
   ]
  },
  {
   "cell_type": "code",
   "execution_count": 27,
   "metadata": {},
   "outputs": [
    {
     "output_type": "execute_result",
     "data": {
      "text/plain": [
       "                                                    n.id  \\\n",
       "8569   50|doiboost____::dd70a3bccb243d9298cfeca323f8ab16   \n",
       "9428   50|doiboost____::81a857f0f402530093c9e7a6d419148f   \n",
       "17010  50|doiboost____::a0be171fd857a4f9bb6d476a953768d6   \n",
       "17350  50|doiboost____::2e9b05720375a4fb67bb490f9f399e8a   \n",
       "12551  50|doiboost____::1fd4a6cdf8d1f93f91669986da6f00c1   \n",
       "...                                                  ...   \n",
       "12121  50|dedup_wf_001::90161836ce116af83341770f4c70d6e4   \n",
       "25831  50|dedup_wf_001::140f9a8e2eeac3877cae567af21c1b02   \n",
       "4401   50|dedup_wf_001::1bf03096711a6d7ee5779aee970006cb   \n",
       "26510  50|dedup_wf_001::066ff09e16f41d80992dc9ce8ee1acb4   \n",
       "3577   50|dedup_wf_001::9e47d5d800da59487f658729ec9e1a4b   \n",
       "\n",
       "                                            n.main_title  \\\n",
       "8569   The role of placental growth factor in regulat...   \n",
       "9428   The role of placental growth factor in regulat...   \n",
       "17010  Functional Connectivity of Resting State as a ...   \n",
       "17350  The Neuroscience Information Framework (NIF): ...   \n",
       "12551                              Neonatal Neuroimaging   \n",
       "...                                                  ...   \n",
       "12121   Toward discovery science of human brain function   \n",
       "25831  Children can implicitly, but not voluntarily, ...   \n",
       "4401   The dopaminergic reward system underpins gende...   \n",
       "26510              Personal Reflections on James S. Hyde   \n",
       "3577   The canadian dementia imaging protocol : harmo...   \n",
       "\n",
       "                                    n.__fastrp_embedding  \\\n",
       "8569   [0.8333333730697632, 0.0, 0.8333333730697632, ...   \n",
       "9428   [0.8333333730697632, 0.0, 0.8333333730697632, ...   \n",
       "17010  [0.0, 0.0, 0.0, -0.8111070990562439, -0.811107...   \n",
       "17350  [-1.4971646070480347, 0.1738317310810089, -0.5...   \n",
       "12551  [-0.5997130870819092, 0.8413398861885071, -0.1...   \n",
       "...                                                  ...   \n",
       "12121  [0.5331141352653503, -0.8062261343002319, 1.11...   \n",
       "25831  [-0.07994960248470306, 0.6832262277603149, -1....   \n",
       "4401   [0.7894926071166992, -0.32077810168266296, 1.4...   \n",
       "26510  [1.3078356981277466, 0.795092761516571, 0.7788...   \n",
       "3577   [0.5274421572685242, 0.6008679270744324, -1.68...   \n",
       "\n",
       "                        n.__fastrp_resources_and_keyword  \\\n",
       "8569   [-0.05564148724079132, -0.05564148724079132, 0...   \n",
       "9428   [-0.05564148724079132, -0.05564148724079132, 0...   \n",
       "17010  [0.0, 0.0, 0.0, 0.0, 0.0, 0.0, 0.0, 0.0, 0.0, ...   \n",
       "17350  [0.0, 0.0, 0.0, 0.0, 0.0, 0.0, 0.0, 0.0, 0.0, ...   \n",
       "12551  [0.07647190988063812, -0.15294381976127625, 0....   \n",
       "...                                                  ...   \n",
       "12121  [0.03874921426177025, -0.0774984285235405, 0.1...   \n",
       "25831  [-0.12451456487178802, -0.09338591992855072, 0...   \n",
       "4401   [0.035691529512405396, -0.035691529512405396, ...   \n",
       "26510  [0.0, 0.12194215506315231, 0.06097107753157616...   \n",
       "3577   [0.12567684054374695, -0.12567684054374695, 0....   \n",
       "\n",
       "                                          n.r_embeddings  \\\n",
       "8569   [0.08699651062488556, -0.1518295854330063, 0.5...   \n",
       "9428   [0.08699651062488556, -0.1518295854330063, 0.5...   \n",
       "17010  [0.25695669651031494, -0.0634072944521904, 0.4...   \n",
       "17350  [0.31248366832733154, -0.3532136082649231, -0....   \n",
       "12551  [0.568478524684906, -0.07862906157970428, 0.72...   \n",
       "...                                                  ...   \n",
       "12121  [0.2769312262535095, 0.14422354102134705, 0.32...   \n",
       "25831  [-0.7888246774673462, -0.5435617566108704, -0....   \n",
       "4401   [0.0968027263879776, 0.2506863474845886, 0.632...   \n",
       "26510  [1.1492505073547363, 0.03476341813802719, 0.22...   \n",
       "3577   [-0.1648918092250824, 0.5899480581283569, 0.45...   \n",
       "\n",
       "                                    nearest_neighbour_re  \\\n",
       "8569   50|doiboost____::81a857f0f402530093c9e7a6d419148f   \n",
       "9428   50|doiboost____::81a857f0f402530093c9e7a6d419148f   \n",
       "17010  50|doiboost____::0ef4c17bc43087471b973c2d6ad3457c   \n",
       "17350  50|doiboost____::ceefa59cafb16c4a0ac40ec2160c8585   \n",
       "12551  50|doiboost____::1fd4a6cdf8d1f93f91669986da6f00c1   \n",
       "...                                                  ...   \n",
       "12121  50|dedup_wf_001::488ec5aeeec65b48ef0bf4be0a6b4544   \n",
       "25831  50|dedup_wf_001::90465d301ab97c71cde4a2467c3b3bed   \n",
       "4401   50|doiboost____::5b6857fa5395be0c4c4694e1ccf489bc   \n",
       "26510  50|dedup_wf_001::5216ff08653220d6c39c33a13f546f4b   \n",
       "3577   50|doiboost____::0755d583eaf38676406a94649e7bdfe2   \n",
       "\n",
       "       distance_to_nearest_neighbour_re  \\\n",
       "8569                       0.000000e+00   \n",
       "9428                       0.000000e+00   \n",
       "17010                      2.980232e-08   \n",
       "17350                      0.000000e+00   \n",
       "12551                      0.000000e+00   \n",
       "...                                 ...   \n",
       "12121                      7.279696e-01   \n",
       "25831                      8.599042e-01   \n",
       "4401                       8.444976e-01   \n",
       "26510                      9.638719e-01   \n",
       "3577                       8.725771e-01   \n",
       "\n",
       "                         nearest_neighbour_re_main_title  \\\n",
       "8569   The role of placental growth factor in regulat...   \n",
       "9428   The role of placental growth factor in regulat...   \n",
       "17010  Functional Connectivity of Resting State as a ...   \n",
       "17350  The Neuroscience Information Framework (NIF): ...   \n",
       "12551                              Neonatal Neuroimaging   \n",
       "...                                                  ...   \n",
       "12121  Cognitive neuroscience 2.0: building a cumulat...   \n",
       "25831  Connectivity supporting attention in children ...   \n",
       "4401   Frequency-spatial organization of brain electr...   \n",
       "26510  Neural Correlates of Reflection on Present and...   \n",
       "3577   Operationalizing Neuroimaging for Disorders of...   \n",
       "\n",
       "                                  nearest_neighbour_rp_a  \\\n",
       "8569   50|doiboost____::81a857f0f402530093c9e7a6d419148f   \n",
       "9428   50|doiboost____::81a857f0f402530093c9e7a6d419148f   \n",
       "17010  50|doiboost____::0ef4c17bc43087471b973c2d6ad3457c   \n",
       "17350  50|doiboost____::ceefa59cafb16c4a0ac40ec2160c8585   \n",
       "12551  50|doiboost____::d5d77ff2b14ec97668176717f465a1b5   \n",
       "...                                                  ...   \n",
       "12121  50|dedup_wf_001::af0c1bf885ee42361d792f3ca7f0ba66   \n",
       "25831  50|dedup_wf_001::eff24f276804841331d50a3c0ae15232   \n",
       "4401   50|dedup_wf_001::6680e2159d67b20ff898cecd723c02d5   \n",
       "26510  50|dedup_wf_001::804fd6afcc8f6b6a01b708fe1e042ed7   \n",
       "3577   50|dedup_wf_001::6c719abee9d6e12b44d57c634b815751   \n",
       "\n",
       "                       nearest_neighbour_rp_a_main_title  \\\n",
       "8569   The role of placental growth factor in regulat...   \n",
       "9428   The role of placental growth factor in regulat...   \n",
       "17010  Functional Connectivity of Resting State as a ...   \n",
       "17350  The Neuroscience Information Framework (NIF): ...   \n",
       "12551     CT versus MR in neonatal brain imaging at term   \n",
       "...                                                  ...   \n",
       "12121  MVPA to enhance the study of rare cognitive ev...   \n",
       "25831  The Supplementary Motor Area in motor and perc...   \n",
       "4401   Clinical and molecular phenotype of Aicardi-Go...   \n",
       "26510  Mapping cortical representations of the rodent...   \n",
       "3577   An Automated, Adaptive Framework for Optimizin...   \n",
       "\n",
       "       distance_to_nearest_neighbour_rp_a  \\\n",
       "8569                         0.000000e+00   \n",
       "9428                         0.000000e+00   \n",
       "17010                        2.107342e-08   \n",
       "17350                        2.240835e-02   \n",
       "12551                        4.261900e-02   \n",
       "...                                   ...   \n",
       "12121                        7.831409e-01   \n",
       "25831                        5.580953e-01   \n",
       "4401                         5.880277e-01   \n",
       "26510                        4.870534e-01   \n",
       "3577                         6.750990e-01   \n",
       "\n",
       "                            nearest_neighbour_rp_keyword  \\\n",
       "8569   50|doiboost____::81a857f0f402530093c9e7a6d419148f   \n",
       "9428   50|doiboost____::81a857f0f402530093c9e7a6d419148f   \n",
       "17010  50|doiboost____::58e6df3250ada7006fdcfd5687f51505   \n",
       "17350  50|doiboost____::58e6df3250ada7006fdcfd5687f51505   \n",
       "12551  50|dedup_wf_001::d55e654f5a6d41a99f88c712c696f62a   \n",
       "...                                                  ...   \n",
       "12121  50|dedup_wf_001::fd963875b2df1de23b2f0dfca36bdfdb   \n",
       "25831  50|doiboost____::29f0237f080f89bd290566a880c1377c   \n",
       "4401   50|doiboost____::29f0237f080f89bd290566a880c1377c   \n",
       "26510  50|doiboost____::29f0237f080f89bd290566a880c1377c   \n",
       "3577   50|doiboost____::c1690544a0a2dcf6e9babfb2362cf3e4   \n",
       "\n",
       "                 nearest_neighbour_rp_keyword_main_title  \\\n",
       "8569   The role of placental growth factor in regulat...   \n",
       "9428   The role of placental growth factor in regulat...   \n",
       "17010  Accurate detection of dysmorphic nuclei in neu...   \n",
       "17350  Accurate detection of dysmorphic nuclei in neu...   \n",
       "12551                              Neonatal Neuroimaging   \n",
       "...                                                  ...   \n",
       "12121  Investigating the electrophysiological basis o...   \n",
       "25831  Applications of multiscale segmentation and cl...   \n",
       "4401   Applications of multiscale segmentation and cl...   \n",
       "26510  Applications of multiscale segmentation and cl...   \n",
       "3577   Super-resolution track-density imaging studies...   \n",
       "\n",
       "       distance_to_nearest_neighbour_rp_keyword  combined_distance  \n",
       "8569                               0.000000e+00       0.000000e+00  \n",
       "9428                               0.000000e+00       0.000000e+00  \n",
       "17010                              0.000000e+00       5.087575e-08  \n",
       "17350                              0.000000e+00       2.240835e-02  \n",
       "12551                              2.980232e-08       4.261903e-02  \n",
       "...                                         ...                ...  \n",
       "12121                              8.984456e-01       2.409556e+00  \n",
       "25831                              1.000000e+00       2.418000e+00  \n",
       "4401                               1.000000e+00       2.432525e+00  \n",
       "26510                              1.000000e+00       2.450925e+00  \n",
       "3577                               9.860046e-01       2.533681e+00  \n",
       "\n",
       "[34312 rows x 15 columns]"
      ],
      "text/html": "<div>\n<style scoped>\n    .dataframe tbody tr th:only-of-type {\n        vertical-align: middle;\n    }\n\n    .dataframe tbody tr th {\n        vertical-align: top;\n    }\n\n    .dataframe thead th {\n        text-align: right;\n    }\n</style>\n<table border=\"1\" class=\"dataframe\">\n  <thead>\n    <tr style=\"text-align: right;\">\n      <th></th>\n      <th>n.id</th>\n      <th>n.main_title</th>\n      <th>n.__fastrp_embedding</th>\n      <th>n.__fastrp_resources_and_keyword</th>\n      <th>n.r_embeddings</th>\n      <th>nearest_neighbour_re</th>\n      <th>distance_to_nearest_neighbour_re</th>\n      <th>nearest_neighbour_re_main_title</th>\n      <th>nearest_neighbour_rp_a</th>\n      <th>nearest_neighbour_rp_a_main_title</th>\n      <th>distance_to_nearest_neighbour_rp_a</th>\n      <th>nearest_neighbour_rp_keyword</th>\n      <th>nearest_neighbour_rp_keyword_main_title</th>\n      <th>distance_to_nearest_neighbour_rp_keyword</th>\n      <th>combined_distance</th>\n    </tr>\n  </thead>\n  <tbody>\n    <tr>\n      <th>8569</th>\n      <td>50|doiboost____::dd70a3bccb243d9298cfeca323f8ab16</td>\n      <td>The role of placental growth factor in regulat...</td>\n      <td>[0.8333333730697632, 0.0, 0.8333333730697632, ...</td>\n      <td>[-0.05564148724079132, -0.05564148724079132, 0...</td>\n      <td>[0.08699651062488556, -0.1518295854330063, 0.5...</td>\n      <td>50|doiboost____::81a857f0f402530093c9e7a6d419148f</td>\n      <td>0.000000e+00</td>\n      <td>The role of placental growth factor in regulat...</td>\n      <td>50|doiboost____::81a857f0f402530093c9e7a6d419148f</td>\n      <td>The role of placental growth factor in regulat...</td>\n      <td>0.000000e+00</td>\n      <td>50|doiboost____::81a857f0f402530093c9e7a6d419148f</td>\n      <td>The role of placental growth factor in regulat...</td>\n      <td>0.000000e+00</td>\n      <td>0.000000e+00</td>\n    </tr>\n    <tr>\n      <th>9428</th>\n      <td>50|doiboost____::81a857f0f402530093c9e7a6d419148f</td>\n      <td>The role of placental growth factor in regulat...</td>\n      <td>[0.8333333730697632, 0.0, 0.8333333730697632, ...</td>\n      <td>[-0.05564148724079132, -0.05564148724079132, 0...</td>\n      <td>[0.08699651062488556, -0.1518295854330063, 0.5...</td>\n      <td>50|doiboost____::81a857f0f402530093c9e7a6d419148f</td>\n      <td>0.000000e+00</td>\n      <td>The role of placental growth factor in regulat...</td>\n      <td>50|doiboost____::81a857f0f402530093c9e7a6d419148f</td>\n      <td>The role of placental growth factor in regulat...</td>\n      <td>0.000000e+00</td>\n      <td>50|doiboost____::81a857f0f402530093c9e7a6d419148f</td>\n      <td>The role of placental growth factor in regulat...</td>\n      <td>0.000000e+00</td>\n      <td>0.000000e+00</td>\n    </tr>\n    <tr>\n      <th>17010</th>\n      <td>50|doiboost____::a0be171fd857a4f9bb6d476a953768d6</td>\n      <td>Functional Connectivity of Resting State as a ...</td>\n      <td>[0.0, 0.0, 0.0, -0.8111070990562439, -0.811107...</td>\n      <td>[0.0, 0.0, 0.0, 0.0, 0.0, 0.0, 0.0, 0.0, 0.0, ...</td>\n      <td>[0.25695669651031494, -0.0634072944521904, 0.4...</td>\n      <td>50|doiboost____::0ef4c17bc43087471b973c2d6ad3457c</td>\n      <td>2.980232e-08</td>\n      <td>Functional Connectivity of Resting State as a ...</td>\n      <td>50|doiboost____::0ef4c17bc43087471b973c2d6ad3457c</td>\n      <td>Functional Connectivity of Resting State as a ...</td>\n      <td>2.107342e-08</td>\n      <td>50|doiboost____::58e6df3250ada7006fdcfd5687f51505</td>\n      <td>Accurate detection of dysmorphic nuclei in neu...</td>\n      <td>0.000000e+00</td>\n      <td>5.087575e-08</td>\n    </tr>\n    <tr>\n      <th>17350</th>\n      <td>50|doiboost____::2e9b05720375a4fb67bb490f9f399e8a</td>\n      <td>The Neuroscience Information Framework (NIF): ...</td>\n      <td>[-1.4971646070480347, 0.1738317310810089, -0.5...</td>\n      <td>[0.0, 0.0, 0.0, 0.0, 0.0, 0.0, 0.0, 0.0, 0.0, ...</td>\n      <td>[0.31248366832733154, -0.3532136082649231, -0....</td>\n      <td>50|doiboost____::ceefa59cafb16c4a0ac40ec2160c8585</td>\n      <td>0.000000e+00</td>\n      <td>The Neuroscience Information Framework (NIF): ...</td>\n      <td>50|doiboost____::ceefa59cafb16c4a0ac40ec2160c8585</td>\n      <td>The Neuroscience Information Framework (NIF): ...</td>\n      <td>2.240835e-02</td>\n      <td>50|doiboost____::58e6df3250ada7006fdcfd5687f51505</td>\n      <td>Accurate detection of dysmorphic nuclei in neu...</td>\n      <td>0.000000e+00</td>\n      <td>2.240835e-02</td>\n    </tr>\n    <tr>\n      <th>12551</th>\n      <td>50|doiboost____::1fd4a6cdf8d1f93f91669986da6f00c1</td>\n      <td>Neonatal Neuroimaging</td>\n      <td>[-0.5997130870819092, 0.8413398861885071, -0.1...</td>\n      <td>[0.07647190988063812, -0.15294381976127625, 0....</td>\n      <td>[0.568478524684906, -0.07862906157970428, 0.72...</td>\n      <td>50|doiboost____::1fd4a6cdf8d1f93f91669986da6f00c1</td>\n      <td>0.000000e+00</td>\n      <td>Neonatal Neuroimaging</td>\n      <td>50|doiboost____::d5d77ff2b14ec97668176717f465a1b5</td>\n      <td>CT versus MR in neonatal brain imaging at term</td>\n      <td>4.261900e-02</td>\n      <td>50|dedup_wf_001::d55e654f5a6d41a99f88c712c696f62a</td>\n      <td>Neonatal Neuroimaging</td>\n      <td>2.980232e-08</td>\n      <td>4.261903e-02</td>\n    </tr>\n    <tr>\n      <th>...</th>\n      <td>...</td>\n      <td>...</td>\n      <td>...</td>\n      <td>...</td>\n      <td>...</td>\n      <td>...</td>\n      <td>...</td>\n      <td>...</td>\n      <td>...</td>\n      <td>...</td>\n      <td>...</td>\n      <td>...</td>\n      <td>...</td>\n      <td>...</td>\n      <td>...</td>\n    </tr>\n    <tr>\n      <th>12121</th>\n      <td>50|dedup_wf_001::90161836ce116af83341770f4c70d6e4</td>\n      <td>Toward discovery science of human brain function</td>\n      <td>[0.5331141352653503, -0.8062261343002319, 1.11...</td>\n      <td>[0.03874921426177025, -0.0774984285235405, 0.1...</td>\n      <td>[0.2769312262535095, 0.14422354102134705, 0.32...</td>\n      <td>50|dedup_wf_001::488ec5aeeec65b48ef0bf4be0a6b4544</td>\n      <td>7.279696e-01</td>\n      <td>Cognitive neuroscience 2.0: building a cumulat...</td>\n      <td>50|dedup_wf_001::af0c1bf885ee42361d792f3ca7f0ba66</td>\n      <td>MVPA to enhance the study of rare cognitive ev...</td>\n      <td>7.831409e-01</td>\n      <td>50|dedup_wf_001::fd963875b2df1de23b2f0dfca36bdfdb</td>\n      <td>Investigating the electrophysiological basis o...</td>\n      <td>8.984456e-01</td>\n      <td>2.409556e+00</td>\n    </tr>\n    <tr>\n      <th>25831</th>\n      <td>50|dedup_wf_001::140f9a8e2eeac3877cae567af21c1b02</td>\n      <td>Children can implicitly, but not voluntarily, ...</td>\n      <td>[-0.07994960248470306, 0.6832262277603149, -1....</td>\n      <td>[-0.12451456487178802, -0.09338591992855072, 0...</td>\n      <td>[-0.7888246774673462, -0.5435617566108704, -0....</td>\n      <td>50|dedup_wf_001::90465d301ab97c71cde4a2467c3b3bed</td>\n      <td>8.599042e-01</td>\n      <td>Connectivity supporting attention in children ...</td>\n      <td>50|dedup_wf_001::eff24f276804841331d50a3c0ae15232</td>\n      <td>The Supplementary Motor Area in motor and perc...</td>\n      <td>5.580953e-01</td>\n      <td>50|doiboost____::29f0237f080f89bd290566a880c1377c</td>\n      <td>Applications of multiscale segmentation and cl...</td>\n      <td>1.000000e+00</td>\n      <td>2.418000e+00</td>\n    </tr>\n    <tr>\n      <th>4401</th>\n      <td>50|dedup_wf_001::1bf03096711a6d7ee5779aee970006cb</td>\n      <td>The dopaminergic reward system underpins gende...</td>\n      <td>[0.7894926071166992, -0.32077810168266296, 1.4...</td>\n      <td>[0.035691529512405396, -0.035691529512405396, ...</td>\n      <td>[0.0968027263879776, 0.2506863474845886, 0.632...</td>\n      <td>50|doiboost____::5b6857fa5395be0c4c4694e1ccf489bc</td>\n      <td>8.444976e-01</td>\n      <td>Frequency-spatial organization of brain electr...</td>\n      <td>50|dedup_wf_001::6680e2159d67b20ff898cecd723c02d5</td>\n      <td>Clinical and molecular phenotype of Aicardi-Go...</td>\n      <td>5.880277e-01</td>\n      <td>50|doiboost____::29f0237f080f89bd290566a880c1377c</td>\n      <td>Applications of multiscale segmentation and cl...</td>\n      <td>1.000000e+00</td>\n      <td>2.432525e+00</td>\n    </tr>\n    <tr>\n      <th>26510</th>\n      <td>50|dedup_wf_001::066ff09e16f41d80992dc9ce8ee1acb4</td>\n      <td>Personal Reflections on James S. Hyde</td>\n      <td>[1.3078356981277466, 0.795092761516571, 0.7788...</td>\n      <td>[0.0, 0.12194215506315231, 0.06097107753157616...</td>\n      <td>[1.1492505073547363, 0.03476341813802719, 0.22...</td>\n      <td>50|dedup_wf_001::5216ff08653220d6c39c33a13f546f4b</td>\n      <td>9.638719e-01</td>\n      <td>Neural Correlates of Reflection on Present and...</td>\n      <td>50|dedup_wf_001::804fd6afcc8f6b6a01b708fe1e042ed7</td>\n      <td>Mapping cortical representations of the rodent...</td>\n      <td>4.870534e-01</td>\n      <td>50|doiboost____::29f0237f080f89bd290566a880c1377c</td>\n      <td>Applications of multiscale segmentation and cl...</td>\n      <td>1.000000e+00</td>\n      <td>2.450925e+00</td>\n    </tr>\n    <tr>\n      <th>3577</th>\n      <td>50|dedup_wf_001::9e47d5d800da59487f658729ec9e1a4b</td>\n      <td>The canadian dementia imaging protocol : harmo...</td>\n      <td>[0.5274421572685242, 0.6008679270744324, -1.68...</td>\n      <td>[0.12567684054374695, -0.12567684054374695, 0....</td>\n      <td>[-0.1648918092250824, 0.5899480581283569, 0.45...</td>\n      <td>50|doiboost____::0755d583eaf38676406a94649e7bdfe2</td>\n      <td>8.725771e-01</td>\n      <td>Operationalizing Neuroimaging for Disorders of...</td>\n      <td>50|dedup_wf_001::6c719abee9d6e12b44d57c634b815751</td>\n      <td>An Automated, Adaptive Framework for Optimizin...</td>\n      <td>6.750990e-01</td>\n      <td>50|doiboost____::c1690544a0a2dcf6e9babfb2362cf3e4</td>\n      <td>Super-resolution track-density imaging studies...</td>\n      <td>9.860046e-01</td>\n      <td>2.533681e+00</td>\n    </tr>\n  </tbody>\n</table>\n<p>34312 rows × 15 columns</p>\n</div>"
     },
     "metadata": {},
     "execution_count": 27
    }
   ],
   "source": [
    "resources.sort_values(by=['combined_distance'], ascending=True)"
   ]
  },
  {
   "cell_type": "code",
   "execution_count": 28,
   "metadata": {},
   "outputs": [],
   "source": [
    "resources.sort_values(by=['combined_distance'], ascending=True).to_csv('resource_similarity_combined_distance.csv') # sembrano interessanti queste combined distances"
   ]
  },
  {
   "source": [
    "# TSNE"
   ],
   "cell_type": "markdown",
   "metadata": {}
  },
  {
   "cell_type": "code",
   "execution_count": 6,
   "metadata": {},
   "outputs": [
    {
     "output_type": "error",
     "ename": "NameError",
     "evalue": "name 'cyperQueryToDataFrame' is not defined",
     "traceback": [
      "\u001b[0;31m---------------------------------------------------------------------------\u001b[0m",
      "\u001b[0;31mNameError\u001b[0m                                 Traceback (most recent call last)",
      "\u001b[0;32m<ipython-input-6-c68ce0c1075d>\u001b[0m in \u001b[0;36m<module>\u001b[0;34m\u001b[0m\n\u001b[0;32m----> 1\u001b[0;31m \u001b[0mresources\u001b[0m \u001b[0;34m=\u001b[0m \u001b[0mcyperQueryToDataFrame\u001b[0m\u001b[0;34m(\u001b[0m\u001b[0;34m\"MATCH (n:Resource) RETURN n.id, n.main_title, n.__fastrp_embedding, n.__fastrp_resources_and_keyword, n.r_embeddings \"\u001b[0m\u001b[0;34m)\u001b[0m \u001b[0;31m#\u001b[0m\u001b[0;34m\u001b[0m\u001b[0;34m\u001b[0m\u001b[0m\n\u001b[0m",
      "\u001b[0;31mNameError\u001b[0m: name 'cyperQueryToDataFrame' is not defined"
     ]
    }
   ],
   "source": [
    "resources = cyperQueryToDataFrame(\"MATCH (n:Resource) RETURN n.id, n.main_title, n.__fastrp_embedding, n.__fastrp_resources_and_keyword, n.r_embeddings \") # "
   ]
  },
  {
   "cell_type": "code",
   "execution_count": 45,
   "metadata": {},
   "outputs": [],
   "source": [
    "X = np.array(resources[\"n.__fastrp_embedding\"].to_list()).astype(float)\n",
    "l2_norm = np.sum(np.abs(X)**2,axis=-1)**(1./2)\n",
    "l2_norm[l2_norm == 0] = 1\n",
    "X = X / l2_norm[:, np.newaxis]\n",
    "X_embedded = TSNE(n_components=2).fit_transform(X)"
   ]
  },
  {
   "cell_type": "code",
   "execution_count": 13,
   "metadata": {},
   "outputs": [],
   "source": [
    "with open('tsne_fastrp_embedding_by_author_resource.npy', 'wb') as f:\n",
    "    np.save(f, X_embedded)"
   ]
  },
  {
   "cell_type": "code",
   "execution_count": 2,
   "metadata": {},
   "outputs": [],
   "source": [
    "with open('tsne_fastrp_embedding_by_author_resource.npy', 'rb') as f:\n",
    "    X_imp = np.load(f)"
   ]
  },
  {
   "cell_type": "code",
   "execution_count": 3,
   "metadata": {},
   "outputs": [
    {
     "output_type": "display_data",
     "data": {
      "text/plain": "Canvas(toolbar=Toolbar(toolitems=[('Home', 'Reset original view', 'home', 'home'), ('Back', 'Back to previous …",
      "application/vnd.jupyter.widget-view+json": {
       "version_major": 2,
       "version_minor": 0,
       "model_id": "b67fbefd928c4289a34d1a2e5ce8c231"
      }
     },
     "metadata": {}
    }
   ],
   "source": [
    "import matplotlib.pyplot as plt\n",
    "%matplotlib widget\n",
    "plt.scatter(X_imp[:, 0], X_imp[:, 1], s=0.5)\n",
    "plt.show()"
   ]
  },
  {
   "cell_type": "code",
   "execution_count": 39,
   "metadata": {},
   "outputs": [],
   "source": [
    "a = np.logical_and(X_imp[:, 0] > 1.25, X_imp[:, 0] < 1.5)"
   ]
  },
  {
   "cell_type": "code",
   "execution_count": 43,
   "metadata": {},
   "outputs": [],
   "source": [
    "b = np.logical_and(X_imp[:, 1] > 2, X_imp[:, 1] < 2.2)"
   ]
  },
  {
   "cell_type": "code",
   "execution_count": 46,
   "metadata": {},
   "outputs": [
    {
     "output_type": "execute_result",
     "data": {
      "text/plain": [
       "array([[0., 0., 0., ..., 0., 0., 0.],\n",
       "       [0., 0., 0., ..., 0., 0., 0.],\n",
       "       [0., 0., 0., ..., 0., 0., 0.],\n",
       "       ...,\n",
       "       [0., 0., 0., ..., 0., 0., 0.],\n",
       "       [0., 0., 0., ..., 0., 0., 0.],\n",
       "       [0., 0., 0., ..., 0., 0., 0.]])"
      ]
     },
     "metadata": {},
     "execution_count": 46
    }
   ],
   "source": [
    "X[np.logical_and(a, b)]"
   ]
  },
  {
   "cell_type": "code",
   "execution_count": 48,
   "metadata": {},
   "outputs": [
    {
     "output_type": "execute_result",
     "data": {
      "text/plain": [
       "                                                    n.id  \\\n",
       "18     50|dedup_wf_001::1e9fe1b7eea6b50785e6ec61b91fa29f   \n",
       "24     50|dedup_wf_001::2d42fb543c8b4c0ef6229a0e64c7839f   \n",
       "43     50|dedup_wf_001::57bbb12b9fc101b9b5bb894183de8489   \n",
       "59     50|dedup_wf_001::6b610acd1a3918097f845a792bc31798   \n",
       "60     50|dedup_wf_001::6d0efcd327660ca150fcd00c7eccfe78   \n",
       "...                                                  ...   \n",
       "34251  50|dedup_wf_001::eb17f393e6c1d6de6c37d5ed8ee9371b   \n",
       "34258  50|dedup_wf_001::f7a4a8cb0a85789dc68887e476bb962c   \n",
       "34300  50|doiboost____::e34db052cc539fc6c1b33e4329ee1c8a   \n",
       "34301  50|doiboost____::e7bc63098f8b6e6c9f6d09c6f697f526   \n",
       "34308  50|dedup_wf_001::0959c90c111fffc2c021a2c97189cfa7   \n",
       "\n",
       "                                            n.main_title  \\\n",
       "18     White-matter structure in the right hemisphere...   \n",
       "24         Neuropathogenic human coronaviruses: A review   \n",
       "43     The imitation game: Effects of social cues on ...   \n",
       "59     In Vivo MRI of Functionalized Iron Oxide Nanop...   \n",
       "60     Isometric Exercise Training for Managing Vascu...   \n",
       "...                                                  ...   \n",
       "34251  Human 3D Cellular Model of Hypoxic Brain Injur...   \n",
       "34258  The Brazilian Zika virus strain causes birth d...   \n",
       "34300  Microelectrode array electrical impedance tomo...   \n",
       "34301  Aberrant Dynamical Connectivity in Autism Spec...   \n",
       "34308  Air Pollution, Stress, and Allostatic Load: Li...   \n",
       "\n",
       "                                    n.__fastrp_embedding  \\\n",
       "18     [0.0, 0.0, 0.0, 0.0, 0.0, 0.0, 0.0, 0.0, 0.0, ...   \n",
       "24     [0.0, 0.0, 0.0, 0.0, 0.0, 0.0, 0.0, 0.0, 0.0, ...   \n",
       "43     [0.0, 0.0, 0.0, 0.0, 0.0, 0.0, 0.0, 0.0, 0.0, ...   \n",
       "59     [0.0, 0.0, 0.0, 0.0, 0.0, 0.0, 0.0, 0.0, 0.0, ...   \n",
       "60     [0.0, 0.0, 0.0, 0.0, 0.0, 0.0, 0.0, 0.0, 0.0, ...   \n",
       "...                                                  ...   \n",
       "34251  [0.0, 0.0, 0.0, 0.0, 0.0, 0.0, 0.0, 0.0, 0.0, ...   \n",
       "34258  [0.0, 0.0, 0.0, 0.0, 0.0, 0.0, 0.0, 0.0, 0.0, ...   \n",
       "34300  [0.0, 0.0, 0.0, 0.0, 0.0, 0.0, 0.0, 0.0, 0.0, ...   \n",
       "34301  [0.0, 0.0, 0.0, 0.0, 0.0, 0.0, 0.0, 0.0, 0.0, ...   \n",
       "34308  [0.0, 0.0, 0.0, 0.0, 0.0, 0.0, 0.0, 0.0, 0.0, ...   \n",
       "\n",
       "                        n.__fastrp_resources_and_keyword  \\\n",
       "18     [0.029148206114768982, -0.029148206114768982, ...   \n",
       "24     [0.05763904005289078, -0.11527808010578156, 0....   \n",
       "43     [0.06526753306388855, -0.09790130704641342, 0....   \n",
       "59     [-0.09415023028850555, 0.07061267644166946, -0...   \n",
       "60     [-0.06482037156820297, -0.06482037901878357, 0...   \n",
       "...                                                  ...   \n",
       "34251  [-0.10540925711393356, 0.02635231986641884, -0...   \n",
       "34258  [-0.02579411305487156, 0.0, -0.128970533609390...   \n",
       "34300  [0.1671023815870285, 0.041775595396757126, 0.0...   \n",
       "34301  [0.0, 0.0, 0.0, 0.0, 0.0, 0.0, 0.0, 0.0, 0.0, ...   \n",
       "34308  [-0.1429738998413086, -0.08578433841466904, 0....   \n",
       "\n",
       "                                          n.r_embeddings  \n",
       "18     [-0.5000877380371094, -0.11486520618200302, 0....  \n",
       "24     [-0.06657435745000839, -0.07711543887853622, 0...  \n",
       "43     [-0.009520758874714375, -0.18153658509254456, ...  \n",
       "59     [0.13570387661457062, -0.06682687997817993, 0....  \n",
       "60     [-0.8796325325965881, 0.4016982913017273, 0.26...  \n",
       "...                                                  ...  \n",
       "34251  [-0.8065544962882996, -0.044503044337034225, 0...  \n",
       "34258  [0.34966498613357544, -0.24529807269573212, -0...  \n",
       "34300  [0.21709617972373962, -0.11356403678655624, -0...  \n",
       "34301  [-0.1393282264471054, -0.15116360783576965, -0...  \n",
       "34308  [-0.5428369641304016, 0.1673957109451294, 0.19...  \n",
       "\n",
       "[258 rows x 5 columns]"
      ],
      "text/html": "<div>\n<style scoped>\n    .dataframe tbody tr th:only-of-type {\n        vertical-align: middle;\n    }\n\n    .dataframe tbody tr th {\n        vertical-align: top;\n    }\n\n    .dataframe thead th {\n        text-align: right;\n    }\n</style>\n<table border=\"1\" class=\"dataframe\">\n  <thead>\n    <tr style=\"text-align: right;\">\n      <th></th>\n      <th>n.id</th>\n      <th>n.main_title</th>\n      <th>n.__fastrp_embedding</th>\n      <th>n.__fastrp_resources_and_keyword</th>\n      <th>n.r_embeddings</th>\n    </tr>\n  </thead>\n  <tbody>\n    <tr>\n      <th>18</th>\n      <td>50|dedup_wf_001::1e9fe1b7eea6b50785e6ec61b91fa29f</td>\n      <td>White-matter structure in the right hemisphere...</td>\n      <td>[0.0, 0.0, 0.0, 0.0, 0.0, 0.0, 0.0, 0.0, 0.0, ...</td>\n      <td>[0.029148206114768982, -0.029148206114768982, ...</td>\n      <td>[-0.5000877380371094, -0.11486520618200302, 0....</td>\n    </tr>\n    <tr>\n      <th>24</th>\n      <td>50|dedup_wf_001::2d42fb543c8b4c0ef6229a0e64c7839f</td>\n      <td>Neuropathogenic human coronaviruses: A review</td>\n      <td>[0.0, 0.0, 0.0, 0.0, 0.0, 0.0, 0.0, 0.0, 0.0, ...</td>\n      <td>[0.05763904005289078, -0.11527808010578156, 0....</td>\n      <td>[-0.06657435745000839, -0.07711543887853622, 0...</td>\n    </tr>\n    <tr>\n      <th>43</th>\n      <td>50|dedup_wf_001::57bbb12b9fc101b9b5bb894183de8489</td>\n      <td>The imitation game: Effects of social cues on ...</td>\n      <td>[0.0, 0.0, 0.0, 0.0, 0.0, 0.0, 0.0, 0.0, 0.0, ...</td>\n      <td>[0.06526753306388855, -0.09790130704641342, 0....</td>\n      <td>[-0.009520758874714375, -0.18153658509254456, ...</td>\n    </tr>\n    <tr>\n      <th>59</th>\n      <td>50|dedup_wf_001::6b610acd1a3918097f845a792bc31798</td>\n      <td>In Vivo MRI of Functionalized Iron Oxide Nanop...</td>\n      <td>[0.0, 0.0, 0.0, 0.0, 0.0, 0.0, 0.0, 0.0, 0.0, ...</td>\n      <td>[-0.09415023028850555, 0.07061267644166946, -0...</td>\n      <td>[0.13570387661457062, -0.06682687997817993, 0....</td>\n    </tr>\n    <tr>\n      <th>60</th>\n      <td>50|dedup_wf_001::6d0efcd327660ca150fcd00c7eccfe78</td>\n      <td>Isometric Exercise Training for Managing Vascu...</td>\n      <td>[0.0, 0.0, 0.0, 0.0, 0.0, 0.0, 0.0, 0.0, 0.0, ...</td>\n      <td>[-0.06482037156820297, -0.06482037901878357, 0...</td>\n      <td>[-0.8796325325965881, 0.4016982913017273, 0.26...</td>\n    </tr>\n    <tr>\n      <th>...</th>\n      <td>...</td>\n      <td>...</td>\n      <td>...</td>\n      <td>...</td>\n      <td>...</td>\n    </tr>\n    <tr>\n      <th>34251</th>\n      <td>50|dedup_wf_001::eb17f393e6c1d6de6c37d5ed8ee9371b</td>\n      <td>Human 3D Cellular Model of Hypoxic Brain Injur...</td>\n      <td>[0.0, 0.0, 0.0, 0.0, 0.0, 0.0, 0.0, 0.0, 0.0, ...</td>\n      <td>[-0.10540925711393356, 0.02635231986641884, -0...</td>\n      <td>[-0.8065544962882996, -0.044503044337034225, 0...</td>\n    </tr>\n    <tr>\n      <th>34258</th>\n      <td>50|dedup_wf_001::f7a4a8cb0a85789dc68887e476bb962c</td>\n      <td>The Brazilian Zika virus strain causes birth d...</td>\n      <td>[0.0, 0.0, 0.0, 0.0, 0.0, 0.0, 0.0, 0.0, 0.0, ...</td>\n      <td>[-0.02579411305487156, 0.0, -0.128970533609390...</td>\n      <td>[0.34966498613357544, -0.24529807269573212, -0...</td>\n    </tr>\n    <tr>\n      <th>34300</th>\n      <td>50|doiboost____::e34db052cc539fc6c1b33e4329ee1c8a</td>\n      <td>Microelectrode array electrical impedance tomo...</td>\n      <td>[0.0, 0.0, 0.0, 0.0, 0.0, 0.0, 0.0, 0.0, 0.0, ...</td>\n      <td>[0.1671023815870285, 0.041775595396757126, 0.0...</td>\n      <td>[0.21709617972373962, -0.11356403678655624, -0...</td>\n    </tr>\n    <tr>\n      <th>34301</th>\n      <td>50|doiboost____::e7bc63098f8b6e6c9f6d09c6f697f526</td>\n      <td>Aberrant Dynamical Connectivity in Autism Spec...</td>\n      <td>[0.0, 0.0, 0.0, 0.0, 0.0, 0.0, 0.0, 0.0, 0.0, ...</td>\n      <td>[0.0, 0.0, 0.0, 0.0, 0.0, 0.0, 0.0, 0.0, 0.0, ...</td>\n      <td>[-0.1393282264471054, -0.15116360783576965, -0...</td>\n    </tr>\n    <tr>\n      <th>34308</th>\n      <td>50|dedup_wf_001::0959c90c111fffc2c021a2c97189cfa7</td>\n      <td>Air Pollution, Stress, and Allostatic Load: Li...</td>\n      <td>[0.0, 0.0, 0.0, 0.0, 0.0, 0.0, 0.0, 0.0, 0.0, ...</td>\n      <td>[-0.1429738998413086, -0.08578433841466904, 0....</td>\n      <td>[-0.5428369641304016, 0.1673957109451294, 0.19...</td>\n    </tr>\n  </tbody>\n</table>\n<p>258 rows × 5 columns</p>\n</div>"
     },
     "metadata": {},
     "execution_count": 48
    }
   ],
   "source": [
    "resources[np.logical_and(a, b)]"
   ]
  },
  {
   "cell_type": "code",
   "execution_count": 4,
   "metadata": {},
   "outputs": [],
   "source": [
    "a = np.logical_and(X_imp[:, 0] > -1.6, X_imp[:, 0] < -1.5)\n",
    "b = np.logical_and(X_imp[:, 1] > 3.4, X_imp[:, 1] < 3.5)"
   ]
  },
  {
   "cell_type": "code",
   "execution_count": 5,
   "metadata": {},
   "outputs": [
    {
     "output_type": "error",
     "ename": "NameError",
     "evalue": "name 'X' is not defined",
     "traceback": [
      "\u001b[0;31m---------------------------------------------------------------------------\u001b[0m",
      "\u001b[0;31mNameError\u001b[0m                                 Traceback (most recent call last)",
      "\u001b[0;32m<ipython-input-5-1c5b882144f3>\u001b[0m in \u001b[0;36m<module>\u001b[0;34m\u001b[0m\n\u001b[0;32m----> 1\u001b[0;31m \u001b[0mX\u001b[0m\u001b[0;34m[\u001b[0m\u001b[0mnp\u001b[0m\u001b[0;34m.\u001b[0m\u001b[0mlogical_and\u001b[0m\u001b[0;34m(\u001b[0m\u001b[0ma\u001b[0m\u001b[0;34m,\u001b[0m \u001b[0mb\u001b[0m\u001b[0;34m)\u001b[0m\u001b[0;34m]\u001b[0m\u001b[0;34m\u001b[0m\u001b[0;34m\u001b[0m\u001b[0m\n\u001b[0m",
      "\u001b[0;31mNameError\u001b[0m: name 'X' is not defined"
     ]
    }
   ],
   "source": [
    "X[np.logical_and(a, b)]"
   ]
  },
  {
   "cell_type": "code",
   "execution_count": 16,
   "metadata": {},
   "outputs": [],
   "source": [
    "plt.close('all')\n",
    "X = np.array(resources[\"n.__fastrp_resources_and_keyword\"].to_list()).astype(float)\n",
    "l2_norm = np.sum(np.abs(X)**2,axis=-1)**(1./2)\n",
    "l2_norm[l2_norm == 0] = 1\n",
    "X = X / l2_norm[:, np.newaxis]\n",
    "X_embedded = TSNE(n_components=2).fit_transform(X)\n",
    "with open('tsne_fastrp_embedding_by_keyword_resource.npy', 'wb') as f:\n",
    "    np.save(f, X_embedded)"
   ]
  },
  {
   "cell_type": "code",
   "execution_count": 23,
   "metadata": {},
   "outputs": [
    {
     "output_type": "display_data",
     "data": {
      "text/plain": "Canvas(toolbar=Toolbar(toolitems=[('Home', 'Reset original view', 'home', 'home'), ('Back', 'Back to previous …",
      "application/vnd.jupyter.widget-view+json": {
       "version_major": 2,
       "version_minor": 0,
       "model_id": "9d209c1ef563471f8a94ff0369916e67"
      }
     },
     "metadata": {}
    }
   ],
   "source": [
    "plt.close('all')\n",
    "with open('tsne_fastrp_embedding_by_keyword_resource.npy', 'rb') as f:\n",
    "    X_imp = np.load(f)\n",
    "plt.scatter(X_imp[:, 0], X_imp[:, 1], s=0.5)\n",
    "plt.show()"
   ]
  },
  {
   "cell_type": "code",
   "execution_count": 18,
   "metadata": {},
   "outputs": [],
   "source": [
    "plt.close('all')\n",
    "X = np.array(resources[\"n.r_embeddings\"].to_list()).astype(float)\n",
    "l2_norm = np.sum(np.abs(X)**2,axis=-1)**(1./2)\n",
    "l2_norm[l2_norm == 0] = 1\n",
    "X = X / l2_norm[:, np.newaxis]\n",
    "X_embedded = TSNE(n_components=2).fit_transform(X)\n",
    "with open('tsne_bert_embedding_resource.npy', 'wb') as f:\n",
    "    np.save(f, X_embedded)"
   ]
  },
  {
   "cell_type": "code",
   "execution_count": 24,
   "metadata": {},
   "outputs": [
    {
     "output_type": "display_data",
     "data": {
      "text/plain": "Canvas(toolbar=Toolbar(toolitems=[('Home', 'Reset original view', 'home', 'home'), ('Back', 'Back to previous …",
      "application/vnd.jupyter.widget-view+json": {
       "version_major": 2,
       "version_minor": 0,
       "model_id": "9cd153ce10854ec7a1debf997f010426"
      }
     },
     "metadata": {}
    }
   ],
   "source": [
    "plt.close('all')\n",
    "with open('tsne_bert_embedding_resource.npy', 'wb') as f:\n",
    "    np.save(f, X_embedded)\n",
    "plt.scatter(X_embedded[:, 0], X_embedded[:, 1], s=0.5)\n",
    "plt.show()"
   ]
  },
  {
   "cell_type": "code",
   "execution_count": null,
   "metadata": {},
   "outputs": [],
   "source": []
  }
 ]
}